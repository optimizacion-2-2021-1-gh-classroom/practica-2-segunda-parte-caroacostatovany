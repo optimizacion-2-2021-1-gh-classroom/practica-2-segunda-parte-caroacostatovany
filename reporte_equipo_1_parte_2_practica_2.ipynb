{
 "cells": [
  {
   "cell_type": "markdown",
   "metadata": {},
   "source": [
    "# **Método símplex:**\n",
    "## **Perfilamiento y compilación a C**"
   ]
  },
  {
   "cell_type": "markdown",
   "metadata": {},
   "source": [
    "## 1.  Introducción"
   ]
  },
  {
   "cell_type": "markdown",
   "metadata": {},
   "source": [
    "En esta parte 2 de la práctica 2, realizamos perfilamiento al código de nuestro paquete `mex` para volverlo más eficiente y reducir tiempos de ejecución.  En específico, utilizamos compilación a C para volver más eficiente nuestro paquete."
   ]
  },
  {
   "cell_type": "markdown",
   "metadata": {},
   "source": [
    "Estaremos utilizando un ejemplo de mediana escala con las siguientes definiciones:"
   ]
  },
  {
   "cell_type": "code",
   "execution_count": 17,
   "metadata": {},
   "outputs": [],
   "source": [
    "import os\n",
    "import time\n",
    "import line_profiler\n",
    "from scipy.optimize import linprog\n",
    "from mex.simplex.maximizer_class import Maximizer"
   ]
  },
  {
   "cell_type": "code",
   "execution_count": 18,
   "metadata": {},
   "outputs": [],
   "source": [
    "c_max_obj = [-52.16, -45.51, -69.09, -84.88, -38.73,\n",
    "              -84.47, -97.50, -61.32, -16.27, -36.42,\n",
    "              -77.24, -36.91, -62.85, -50.77, -81.22,\n",
    "              -66.94, -31.10, -45.05, -37.68, -40.76]\n",
    "\n",
    "A_max_obj = [[90.09, 50.61, 45.03, 16.83, 26.92,\n",
    "                36.29, 51.61, 2.450, 25.15, 30.22,\n",
    "                81.78, 2.444, 34.71, 57.17, 41.14,\n",
    "                92.00, 69.17, 26.77, 38.44, 25.35], \n",
    "               \n",
    "               [69.62, 6.235, 18.95, 4.843, 12.34,\n",
    "                82.56, 83.65, 11.18, 29.91, 34.66,\n",
    "                79.32, 64.11, 95.56, 70.83, 69.77,\n",
    "                93.99, 10.83, 17.88, 78.04, 87.34],\n",
    "               \n",
    "               [27.58, 31.56, 72.90, 95.74, 69.19,\n",
    "                84.21, 58.42, 18.88, 72.27, 85.58,\n",
    "                60.66, 51.78, 46.34, 30.96, 5.505,\n",
    "                11.68, 84.84, 81.16, 3.668, 65.52],\n",
    "               \n",
    "               [28.91, 98.28, 80.47, 78.34, 48.34,\n",
    "                40.00, 92.46, 93.44, 93.79, 46.63,\n",
    "                50.50, 30.32, 71.96, 52.57, 46.29,\n",
    "                67.03, 71.13, 82.94, 4.676, 5.110],\n",
    "               \n",
    "               [10.16, 9.828, 11.24, 53.81, 23.53,\n",
    "                16.98, 94.65, 55.01, 96.43, 5.556,\n",
    "                54.05, 40.95, 35.37, 14.02, 32.04,\n",
    "                71.37, 29.52, 24.35, 71.32, 46.73],\n",
    "               \n",
    "               [70.56, 93.54, 27.93, 95.94, 91.23,\n",
    "                8.491, 78.54, 7.435, 85.27, 32.27,\n",
    "                97.65, 34.44, 97.45, 77.70, 86.22,\n",
    "                3.460, 52.49, 59.86, 6.446, 20.77],\n",
    "               \n",
    "               [30.93, 40.11, 9.917, 22.34, 2.947,\n",
    "                8.553, 85.74, 31.01, 4.919, 12.60,\n",
    "                3.358, 89.39, 50.05, 25.59, 13.33,\n",
    "                75.14, 57.81, 14.29, 88.59, 24.34],\n",
    "               \n",
    "               [7.511, 72.81, 19.49, 55.05, 86.04,\n",
    "                36.84, 7.233, 67.59, 92.62, 24.06,\n",
    "                15.87, 45.52, 75.98, 71.86, 64.45,\n",
    "                15.81, 57.22, 84.86, 28.66, 7.867],\n",
    "               \n",
    "               [62.27, 38.88, 82.58, 84.71, 68.00,\n",
    "                97.57, 36.58, 11.57, 73.91, 75.40,\n",
    "                65.75, 7.540, 52.08, 96.61, 9.278,\n",
    "                60.24, 59.22, 6.214, 63.88, 68.99],\n",
    "               \n",
    "               [73.05, 10.49, 93.23, 91.39, 63.19,\n",
    "                47.53, 20.71, 14.26, 51.71, 71.02,\n",
    "                11.87, 61.36, 97.72, 70.67, 28.40,\n",
    "                73.55, 33.02, 81.46, 67.22, 85.30],\n",
    "               \n",
    "               [93.49, 28.98, 23.75, 48.18, 73.61,\n",
    "                18.85, 15.89, 90.90, 71.75, 80.48,\n",
    "                97.08, 88.23, 86.15, 57.57, 78.16,\n",
    "                40.38, 19.41, 75.39, 54.97, 38.35],\n",
    "               \n",
    "               [84.61, 42.17, 56.76, 23.61, 66.47,\n",
    "                13.86, 36.55, 37.61, 39.77, 2.123,\n",
    "                92.07, 21.21, 85.36, 27.84, 81.87,\n",
    "                34.29, 55.51, 71.08, 81.14, 41.18], \n",
    "               \n",
    "               [66.07, 71.30, 29.57, 3.874, 45.04,\n",
    "                98.19, 92.92, 18.87, 44.20, 17.36,\n",
    "                36.33, 45.50, 17.97, 67.95, 62.03,\n",
    "                32.55, 50.91, 47.08, 85.63, 36.12], \n",
    "               \n",
    "               [63.66, 7.173, 29.93, 31.48, 64.60,\n",
    "                72.68, 2.754, 16.71, 79.55, 4.050,\n",
    "                95.43, 31.18, 61.87, 68.41, 3.567,\n",
    "                21.61, 45.96, 3.881, 40.50, 91.86], \n",
    "               \n",
    "               [67.60, 7.276, 78.37, 96.71, 79.11,\n",
    "                21.35, 78.86, 23.26, 63.76, 43.93,\n",
    "                59.46, 78.19, 70.34, 92.42, 58.98,\n",
    "                95.50, 84.86, 76.11, 13.00, 60.67],\n",
    "               \n",
    "               [12.17, 45.38, 51.97, 93.29, 97.74,\n",
    "                58.34, 71.99, 26.91, 26.85, 74.88,\n",
    "                69.95, 43.51, 8.723, 38.97, 74.16,\n",
    "                81.20, 77.52, 20.84, 46.12, 16.24],\n",
    "               \n",
    "               [85.82, 3.365, 53.87, 41.57, 37.04,\n",
    "                97.64, 16.76, 90.16, 50.49, 76.92,\n",
    "                85.17, 57.76, 29.29, 12.79, 93.86,\n",
    "                59.50, 84.81, 43.91, 6.931, 14.25],\n",
    "               \n",
    "               [72.94, 37.67, 28.00, 33.56, 71.22,\n",
    "                73.32, 33.33, 27.54, 71.75, 61.17,\n",
    "                39.68, 38.85, 79.89, 92.34, 31.80,\n",
    "                10.18, 78.30, 6.469, 41.89, 50.98],\n",
    "               \n",
    "               [80.03, 67.82, 37.00, 51.50, 17.85,\n",
    "                10.91, 26.95, 65.79, 18.51, 84.34,\n",
    "                3.196, 72.33, 48.76, 8.459, 53.13,\n",
    "                18.23, 9.679, 2.543, 48.12, 52.09],\n",
    "               \n",
    "               [28.10, 98.61, 1.938, 94.54, 98.78,\n",
    "                18.29, 26.88, 91.15, 9.967, 5.279,\n",
    "                99.44, 79.94, 82.80, 30.05, 85.13,\n",
    "                8.410, 83.47, 15.45, 46.43, 56.54],\n",
    "               \n",
    "               [92.44, 92.82, 95.87, 78.14, 93.72,\n",
    "                55.82, 92.28, 64.95, 94.39, 91.63,\n",
    "                20.11, 32.16, 10.08, 23.98, 9.257,\n",
    "                71.39, 48.74, 60.76, 96.93, 56.57],\n",
    "               \n",
    "               [22.14, 72.51, 48.51, 98.13, 90.25,\n",
    "                85.24, 1.804, 28.47, 45.93, 36.05,\n",
    "                35.43, 7.104, 70.67, 97.69, 74.87,\n",
    "                39.72, 13.98, 58.00, 2.024, 85.30],\n",
    "               \n",
    "               [72.16, 93.13, 45.85, 76.06, 22.53,\n",
    "                36.16, 81.15, 92.51, 97.12, 67.37,\n",
    "                37.37, 69.21, 72.32, 63.23, 92.90,\n",
    "                61.86, 11.42, 34.15, 49.78, 6.688],\n",
    "               \n",
    "               [58.39, 34.12, 77.96, 5.433, 83.02,\n",
    "                84.14, 59.82, 22.39, 70.75, 19.67,\n",
    "                24.53, 41.00, 56.24, 89.32, 14.63,\n",
    "                77.15, 34.12, 34.28, 55.17, 31.45],\n",
    "               \n",
    "               [20.15, 1.416, 74.34, 23.20, 8.632,\n",
    "                71.47, 32.10, 59.23, 91.44, 37.58,\n",
    "                23.29, 39.11, 19.54, 3.000, 2.319,\n",
    "                43.50, 35.17, 66.78, 40.41, 50.82],\n",
    "               \n",
    "               [54.65, 70.46, 46.30, 66.92, 27.45,\n",
    "                25.48, 81.67, 96.67, 42.57, 43.22,\n",
    "                43.29, 60.58, 19.07, 27.73, 92.63,\n",
    "                60.94, 84.33, 8.800, 78.62, 17.94],\n",
    "               \n",
    "               [83.10, 98.45, 22.09, 36.01, 39.99,\n",
    "                6.380, 28.27, 10.69, 57.29, 63.19,\n",
    "                44.42, 51.00, 15.57, 11.27, 63.56,\n",
    "                17.54, 40.71, 47.53, 27.81, 27.66],\n",
    "               \n",
    "               [22.20, 29.98, 87.02, 25.26, 47.23,\n",
    "                55.22, 83.70, 88.56, 67.82, 6.36,\n",
    "                66.62, 3.853, 47.37, 97.22, 83.37,\n",
    "                89.41, 61.79, 96.26, 91.11, 79.89],\n",
    "               \n",
    "               [6.828, 84.55, 80.55, 86.10, 54.30,\n",
    "                18.86, 80.63, 54.07, 63.94, 89.28,\n",
    "                64.89, 87.44, 13.06, 31.29, 63.10,\n",
    "                75.33, 21.06, 61.33, 1.093, 91.08],\n",
    "               \n",
    "               [85.33, 57.98, 42.51, 53.95, 10.49,  \n",
    "                32.74, 43.28, 51.52, 89.99, 43.97,\n",
    "                46.69, 44.05, 85.91, 19.12, 23.85,\n",
    "                58.82, 71.23, 8.885, 18.81, 87.44]]\n",
    "\n",
    "b_max_obj = [79.72, 68.64, 1.240, 34.53, 43.64, 3.692, 44.21, 94.85, 39.16, 38.43,\n",
    "               57.08, 19.63, 70.07, 32.45, 15.32, 49.46, 54.54, 24.96, 11.98, 1.772,\n",
    "               50.61, 94.20, 97.49, 34.16, 6.26, 70.31, 79.18, 44.51, 53.22, 50.65]"
   ]
  },
  {
   "cell_type": "code",
   "execution_count": 19,
   "metadata": {},
   "outputs": [],
   "source": [
    "max_obj = -1*linprog(c_max_obj, A_ub=A_max_obj, b_ub=b_max_obj).fun"
   ]
  },
  {
   "cell_type": "code",
   "execution_count": 20,
   "metadata": {},
   "outputs": [],
   "source": [
    "coeff_obj = linprog(c_max_obj, A_ub=A_max_obj, b_ub=b_max_obj).x"
   ]
  },
  {
   "cell_type": "markdown",
   "metadata": {},
   "source": [
    "## Con nuestro paquete"
   ]
  },
  {
   "cell_type": "code",
   "execution_count": 21,
   "metadata": {},
   "outputs": [
    {
     "name": "stdout",
     "output_type": "stream",
     "text": [
      "Todo el proceso tomó 0.1473379135131836 segundos\n"
     ]
    }
   ],
   "source": [
    "start_time = time.time()\n",
    "\n",
    "n_var_approx = 20\n",
    "n_cons_approx = 30\n",
    "\n",
    "maxim = Maximizer(n_var_approx, n_cons_approx)\n",
    "\n",
    "#Restricciones 1-5:\n",
    "maxim.add_constraint('90.09,50.61,45.03,16.83,26.92,36.29,51.61,2.450,25.15,30.22,81.78,2.444,34.71,57.17,41.14,92.00,69.17,26.77,38.44,25.35,L,79.72')\n",
    "maxim.add_constraint('69.62,6.235,18.95,4.843,12.34,82.56,83.65,11.18,29.91,34.66,79.32,64.11,95.56,70.83,69.77,93.99,10.83,17.88,78.04,87.34,L,68.64')\n",
    "maxim.add_constraint('27.58,31.56,72.90,95.74,69.19,84.21,58.42,18.88,72.27,85.58,60.66,51.78,46.34,30.96,5.505,11.68,84.84,81.16,3.668,65.52,L,1.240')\n",
    "maxim.add_constraint('28.91,98.28,80.47,78.34,48.34,40.00,92.46,93.44,93.79,46.63,50.50,30.32,71.96,52.57,46.29,67.03,71.13,82.94,4.676,5.110,L,34.53')\n",
    "maxim.add_constraint('10.16,9.828,11.24,53.81,23.53,16.98,94.65,55.01,96.43,5.556,54.05,40.95,35.37,14.02,32.04,71.37,29.52,24.35,71.32,46.73,L,43.64')\n",
    "#Restricciones 6-10:\n",
    "maxim.add_constraint('70.56,93.54,27.93,95.94,91.23,8.491,78.54,7.435,85.27,32.27,97.65,34.44,97.45,77.70,86.22,3.460,52.49,59.86,6.446,20.77,L,3.692')\n",
    "maxim.add_constraint('30.93,40.11,9.917,22.34,2.947,8.553,85.74,31.01,4.919,12.60,3.358,89.39,50.05,25.59,13.33,75.14,57.81,14.29,88.59,24.34,L,44.21')\n",
    "maxim.add_constraint('7.511,72.81,19.49,55.05,86.04,36.84,7.233,67.59,92.62,24.06,15.87,45.52,75.98,71.86,64.45,15.81,57.22,84.86,28.66,7.867,L,94.85')\n",
    "maxim.add_constraint('62.27,38.88,82.58,84.71,68.00,97.57,36.58,11.57,73.91,75.40,65.75,7.540,52.08,96.61,9.278,60.24,59.22,6.214,63.88,68.99,L,39.16')\n",
    "maxim.add_constraint('73.05,10.49,93.23,91.39,63.19,47.53,20.71,14.26,51.71,71.02,11.87,61.36,97.72,70.67,28.40,73.55,33.02,81.46,67.22,85.30,L,38.43')\n",
    "#Restricciones 11-15:\n",
    "maxim.add_constraint('93.49,28.98,23.75,48.18,73.61,18.85,15.89,90.90,71.75,80.48,97.08,88.23,86.15,57.57,78.16,40.38,19.41,75.39,54.97,38.35,L,57.08')\n",
    "maxim.add_constraint('84.61,42.17,56.76,23.61,66.47,13.86,36.55,37.61,39.77,2.123,92.07,21.21,85.36,27.84,81.87,34.29,55.51,71.08,81.14,41.18,L,19.63')\n",
    "maxim.add_constraint('66.07,71.30,29.57,3.874,45.04,98.19,92.92,18.87,44.20,17.36,36.33,45.50,17.97,67.95,62.03,32.55,50.91,47.08,85.63,36.12,L,70.07')\n",
    "maxim.add_constraint('63.66,7.173,29.93,31.48,64.60,72.68,2.754,16.71,79.55,4.050,95.43,31.18,61.87,68.41,3.567,21.61,45.96,3.881,40.50,91.86,L,32.45')\n",
    "maxim.add_constraint('67.60,7.276,78.37,96.71,79.11,21.35,78.86,23.26,63.76,43.93,59.46,78.19,70.34,92.42,58.98,95.50,84.86,76.11,13.00,60.67,L,15.32')\n",
    "#Restricciones 16-20:\n",
    "maxim.add_constraint('12.17,45.38,51.97,93.29,97.74,58.34,71.99,26.91,26.85,74.88,69.95,43.51,8.723,38.97,74.16,81.20,77.52,20.84,46.12,16.24,L,49.46')\n",
    "maxim.add_constraint('85.82,3.365,53.87,41.57,37.04,97.64,16.76,90.16,50.49,76.92,85.17,57.76,29.29,12.79,93.86,59.50,84.81,43.91,6.931,14.25,L,54.54')\n",
    "maxim.add_constraint('72.94,37.67,28.00,33.56,71.22,73.32,33.33,27.54,71.75,61.17,39.68,38.85,79.89,92.34,31.80,10.18,78.30,6.469,41.89,50.98,L,24.96')\n",
    "maxim.add_constraint('80.03,67.82,37.00,51.50,17.85,10.91,26.95,65.79,18.51,84.34,3.196,72.33,48.76,8.459,53.13,18.23,9.679,2.543,48.12,52.09,L,11.98')\n",
    "maxim.add_constraint('28.10,98.61,1.938,94.54,98.78,18.29,26.88,91.15,9.967,5.279,99.44,79.94,82.80,30.05,85.13,8.410,83.47,15.45,46.43,56.54,L,1.772')\n",
    "#Restricciones 21-25:\n",
    "maxim.add_constraint('92.44,92.82,95.87,78.14,93.72,55.82,92.28,64.95,94.39,91.63,20.11,32.16,10.08,23.98,9.257,71.39,48.74,60.76,96.93,56.57,L,50.61')\n",
    "maxim.add_constraint('22.14,72.51,48.51,98.13,90.25,85.24,1.804,28.47,45.93,36.05,35.43,7.104,70.67,97.69,74.87,39.72,13.98,58.00,2.024,85.30,L,94.20')\n",
    "maxim.add_constraint('72.16,93.13,45.85,76.06,22.53,36.16,81.15,92.51,97.12,67.37,37.37,69.21,72.32,63.23,92.90,61.86,11.42,34.15,49.78,6.688,L,97.49')\n",
    "maxim.add_constraint('58.39,34.12,77.96,5.433,83.02,84.14,59.82,22.39,70.75,19.67,24.53,41.00,56.24,89.32,14.63,77.15,34.12,34.28,55.17,31.45,L,34.16')\n",
    "maxim.add_constraint('20.15,1.416,74.34,23.20,8.632,71.47,32.10,59.23,91.44,37.58,23.29,39.11,19.54,3.000,2.319,43.50,35.17,66.78,40.41,50.82,L,6.26')\n",
    "#Restricciones 26-30:\n",
    "maxim.add_constraint('54.65,70.46,46.30,66.92,27.45,25.48,81.67,96.67,42.57,43.22,43.29,60.58,19.07,27.73,92.63,60.94,84.33,8.800,78.62,17.94,L,70.31')\n",
    "maxim.add_constraint('83.10,98.45,22.09,36.01,39.99,6.380,28.27,10.69,57.29,63.19,44.42,51.00,15.57,11.27,63.56,17.54,40.71,47.53,27.81,27.66,L,79.18')\n",
    "maxim.add_constraint('22.20,29.98,87.02,25.26,47.23,55.22,83.70,88.56,67.82,6.36,66.62,3.853,47.37,97.22,83.37,89.41,61.79,96.26,91.11,79.89,L,44.51')\n",
    "maxim.add_constraint('6.828,84.55,80.55,86.10,54.30,18.86,80.63,54.07,63.94,89.28,64.89,87.44,13.06,31.29,63.10,75.33,21.06,61.33,1.093,91.08,L,53.22')\n",
    "maxim.add_constraint('85.33,57.98,42.51,53.95,10.49,32.74,43.28,51.52,89.99,43.97,46.69,44.05,85.91,19.12,23.85,58.82,71.23,8.885,18.81,87.44,L,50.65')\n",
    "\n",
    "# Función objetivo\n",
    "maxim.add_objective('52.16,45.51,69.09,84.88,38.73,84.47,97.50,61.32,16.27,36.42,77.24,36.91,62.85,50.77,81.22,66.94,31.10,45.05,37.68,40.76,0')\n",
    "\n",
    "# Solve\n",
    "maxim.solve()\n",
    "\n",
    "max_approx = maxim.get_max()\n",
    "coeff_approx = maxim.get_coeff()\n",
    "end_time = time.time()\n",
    "secs_0_med = end_time-start_time\n",
    "print(\"Todo el proceso tomó\",secs_0_med,\"segundos\" )"
   ]
  },
  {
   "cell_type": "markdown",
   "metadata": {},
   "source": [
    "## 2.  Perfilamiento"
   ]
  },
  {
   "cell_type": "markdown",
   "metadata": {},
   "source": [
    "### Medición de tiempos"
   ]
  },
  {
   "cell_type": "markdown",
   "metadata": {},
   "source": [
    "Para el perfilamiento del código, utilizamos una instancia `m5.2xlarge` que entra en el programa de AWS Educate, y que hemos ocupado en prácticas anteriores.  Esta instancia tiene las siguientes características:"
   ]
  },
  {
   "cell_type": "code",
   "execution_count": 26,
   "metadata": {},
   "outputs": [],
   "source": [
    "current_path = os.getcwd()\n",
    "path = os.path.join(current_path,'src','profiling','tiempo','max_class_profiling.py')"
   ]
  },
  {
   "cell_type": "code",
   "execution_count": 27,
   "metadata": {},
   "outputs": [
    {
     "name": "stdout",
     "output_type": "stream",
     "text": [
      "Wrote profile results to max_class_profiling.py.lprof\n",
      "Timer unit: 1e-06 s\n",
      "\n"
     ]
    }
   ],
   "source": [
    "%%bash -s $path\n",
    "kernprof -l -v \"$1\""
   ]
  },
  {
   "cell_type": "code",
   "execution_count": null,
   "metadata": {},
   "outputs": [],
   "source": []
  },
  {
   "cell_type": "code",
   "execution_count": null,
   "metadata": {},
   "outputs": [],
   "source": []
  },
  {
   "cell_type": "markdown",
   "metadata": {},
   "source": [
    "### Medición de uso de memoria y CPU"
   ]
  },
  {
   "cell_type": "code",
   "execution_count": null,
   "metadata": {},
   "outputs": [],
   "source": []
  },
  {
   "cell_type": "code",
   "execution_count": null,
   "metadata": {},
   "outputs": [],
   "source": []
  },
  {
   "cell_type": "code",
   "execution_count": null,
   "metadata": {},
   "outputs": [],
   "source": []
  },
  {
   "cell_type": "markdown",
   "metadata": {},
   "source": [
    "## 3. Compilación a C"
   ]
  },
  {
   "cell_type": "markdown",
   "metadata": {},
   "source": [
    "Utilizamos el paquete `Cython` para compilar a C nuestro paquete, y así aprovechar las características de la compilación *Ahead of Time (AOT)* que ofrece el lenguaje de C, de esta forma logramos reducir los tiempos de ejecución de nuestro paquete.  \n",
    "\n",
    "Comparamos los tiempos de ejecución de nuestro paquete utilizando un dataset pequeño (el ejemplo prototipo del Libro de Optimización), y posteriormente con un dataset más grande, generado a través del siguiente [generador de problemas de programación lineal](http://web.tecnico.ulisboa.pt/~mcasquilho/compute/or/Fx-LP-generator.php)."
   ]
  },
  {
   "cell_type": "markdown",
   "metadata": {},
   "source": [
    "### Comparación de tiempos de ejecución con problema de pequeña escala:"
   ]
  },
  {
   "cell_type": "code",
   "execution_count": null,
   "metadata": {},
   "outputs": [],
   "source": []
  },
  {
   "cell_type": "markdown",
   "metadata": {},
   "source": []
  },
  {
   "cell_type": "code",
   "execution_count": null,
   "metadata": {},
   "outputs": [],
   "source": []
  },
  {
   "cell_type": "markdown",
   "metadata": {},
   "source": [
    "### Comparación de tiempos de ejecución con problema de mediana escala:"
   ]
  },
  {
   "cell_type": "code",
   "execution_count": null,
   "metadata": {},
   "outputs": [],
   "source": []
  },
  {
   "cell_type": "code",
   "execution_count": null,
   "metadata": {},
   "outputs": [],
   "source": []
  },
  {
   "cell_type": "code",
   "execution_count": null,
   "metadata": {},
   "outputs": [],
   "source": []
  },
  {
   "cell_type": "markdown",
   "metadata": {},
   "source": [
    "## 4.  Referencias"
   ]
  },
  {
   "cell_type": "markdown",
   "metadata": {},
   "source": [
    "- [Cython](https://cython.org/)\n",
    "- Clavius, Cristopher & Stefan Josef. LP random problem generator. [LP random problem generator](http://web.tecnico.ulisboa.pt/~mcasquilho/compute/or/Fx-LP-generator.php)\n",
    "- Palacios M., Erick. (2021). Libro de Optimización 2021. [5.2 Herramientas de lenguajes de programación y del sistema operativo para perfilamiento e implementaciones de BLAS](https://itam-ds.github.io/analisis-numerico-computo-cientifico/V.optimizacion_de_codigo/5.2/Herramientas_de_lenguajes_y_del_SO_para_perfilamiento_e_implementaciones_de_BLAS.html) \n",
    "- Palacios M., Erick. (2021). Libro de Optimización 2021. [5.3 Compilación a C](https://itam-ds.github.io/analisis-numerico-computo-cientifico/V.optimizacion_de_codigo/5.3/Compilacion_a_C.html)\n",
    "- [Paquete Mex](https://github.com/optimizacion-2-2021-1-gh-classroom/practica-1-segunda-parte-caroacostatovany)"
   ]
  },
  {
   "cell_type": "code",
   "execution_count": null,
   "metadata": {},
   "outputs": [],
   "source": []
  }
 ],
 "metadata": {
  "kernelspec": {
   "display_name": "Python 3",
   "language": "python",
   "name": "python3"
  },
  "language_info": {
   "codemirror_mode": {
    "name": "ipython",
    "version": 3
   },
   "file_extension": ".py",
   "mimetype": "text/x-python",
   "name": "python",
   "nbconvert_exporter": "python",
   "pygments_lexer": "ipython3",
   "version": "3.8.5"
  }
 },
 "nbformat": 4,
 "nbformat_minor": 4
}
