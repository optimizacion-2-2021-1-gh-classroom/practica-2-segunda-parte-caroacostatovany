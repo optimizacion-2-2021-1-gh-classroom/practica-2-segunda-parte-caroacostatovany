{
 "cells": [
  {
   "cell_type": "markdown",
   "id": "cfa45c24",
   "metadata": {},
   "source": [
    "# Perfilamiento de memoria"
   ]
  },
  {
   "cell_type": "code",
   "execution_count": 1,
   "id": "5151fba9",
   "metadata": {},
   "outputs": [],
   "source": [
    "from memory_profiler import memory_usage\n",
    "import time"
   ]
  },
  {
   "cell_type": "code",
   "execution_count": 2,
   "id": "14f0b8e6",
   "metadata": {},
   "outputs": [],
   "source": [
    "!pip install --quiet \"git+https://github.com/optimizacion-2-2021-1-gh-classroom/practica-1-segunda-parte-caroacostatovany.git#egg=mex&subdirectory=src\""
   ]
  },
  {
   "cell_type": "code",
   "execution_count": 3,
   "id": "a64f53a6",
   "metadata": {},
   "outputs": [],
   "source": [
    "#!pip uninstall mex -y"
   ]
  },
  {
   "cell_type": "code",
   "execution_count": 4,
   "id": "33bc3d55",
   "metadata": {},
   "outputs": [],
   "source": [
    "import copy\n",
    "import matplotlib.pyplot as plt\n",
    "import networkx as nx\n",
    "import numpy as np\n",
    "import os\n",
    "import pprint\n",
    "from scipy.optimize import linprog\n",
    "from pytest import approx\n",
    "\n",
    "from mex.simplex.simplex_networks import create_matrix, pivots_col, pivots_row, find_negative_col, find_negative_row, find_pivot_col, find_pivot_row, pivot\n",
    "from mex.simplex.problem_definition import add_cons, constrain, add_obj, obj, maxz, minz"
   ]
  },
  {
   "cell_type": "markdown",
   "id": "d14d2a6d",
   "metadata": {},
   "source": [
    "## Objetivo"
   ]
  },
  {
   "cell_type": "code",
   "execution_count": 5,
   "id": "cb701285",
   "metadata": {},
   "outputs": [],
   "source": [
    "c_max_obj_1 = [-3, -5]\n",
    "A_max_obj_1 = [[1, 0], [0, 2], [3, 2]]\n",
    "b_max_obj_1 = [4, 12, 18]"
   ]
  },
  {
   "cell_type": "code",
   "execution_count": 6,
   "id": "db4e926e",
   "metadata": {},
   "outputs": [],
   "source": [
    "max_obj_1 = -1*linprog(c_max_obj_1, A_ub=A_max_obj_1, b_ub=b_max_obj_1).fun"
   ]
  },
  {
   "cell_type": "code",
   "execution_count": 7,
   "id": "a8f79c09",
   "metadata": {},
   "outputs": [],
   "source": [
    "coeff_obj_1 = linprog(c_max_obj_1, A_ub=A_max_obj_1, b_ub=b_max_obj_1).x"
   ]
  },
  {
   "cell_type": "markdown",
   "id": "b2afb057",
   "metadata": {},
   "source": [
    "## Aproximación"
   ]
  },
  {
   "cell_type": "code",
   "execution_count": 8,
   "id": "bf05ae4f",
   "metadata": {},
   "outputs": [],
   "source": [
    "n_var_approx_1 = 2\n",
    "n_cons_approx_1 = 3"
   ]
  },
  {
   "cell_type": "code",
   "execution_count": 9,
   "id": "a8c1da01",
   "metadata": {},
   "outputs": [
    {
     "name": "stdout",
     "output_type": "stream",
     "text": [
      "start mem 94.48046875\n",
      "max mem 94.69140625\n",
      "used mem 0.2109375\n",
      "fun output [[0. 0. 0. 0. 0. 0. 0.]\n",
      " [0. 0. 0. 0. 0. 0. 0.]\n",
      " [0. 0. 0. 0. 0. 0. 0.]\n",
      " [0. 0. 0. 0. 0. 0. 0.]]\n"
     ]
    }
   ],
   "source": [
    "matrix_max_approx_1 = create_matrix(n_var_approx_1,n_cons_approx_1)\n",
    "t = (create_matrix, (n_var_approx_1,n_cons_approx_1))\n",
    "start_mem = memory_usage(max_usage=True)\n",
    "res = memory_usage(t, max_usage=True, retval=True)\n",
    "print('start mem', start_mem)\n",
    "print('max mem', res[0])\n",
    "print('used mem', res[0]-start_mem)\n",
    "print('fun output', res[1])"
   ]
  },
  {
   "cell_type": "code",
   "execution_count": 10,
   "id": "3acdcbc7",
   "metadata": {},
   "outputs": [
    {
     "name": "stdout",
     "output_type": "stream",
     "text": [
      "start mem 94.75390625\n",
      "max mem 94.76171875\n",
      "used mem 0.0078125\n",
      "fun output [[1. 0. 1. 0. 0. 0. 4.]\n",
      " [1. 0. 0. 1. 0. 0. 4.]\n",
      " [1. 0. 0. 0. 1. 0. 4.]\n",
      " [0. 0. 0. 0. 0. 0. 0.]]\n"
     ]
    }
   ],
   "source": [
    "matrix_max_approx_1 = create_matrix(n_var_approx_1,n_cons_approx_1)\n",
    "t = (constrain, (matrix_max_approx_1, '1,0,L,4', True))\n",
    "start_mem = memory_usage(max_usage=True)\n",
    "res = memory_usage(t, max_usage=True, retval=True)\n",
    "print('start mem', start_mem)\n",
    "print('max mem', res[0])\n",
    "print('used mem', res[0]-start_mem)\n",
    "print('fun output', res[1])"
   ]
  },
  {
   "cell_type": "code",
   "execution_count": 11,
   "id": "992fa690",
   "metadata": {},
   "outputs": [
    {
     "name": "stdout",
     "output_type": "stream",
     "text": [
      "start mem 94.80859375\n",
      "max mem 94.8125\n",
      "used mem 0.00390625\n",
      "fun output [[ 1.  0.  1.  0.  0.  0.  4.]\n",
      " [ 0.  2.  0.  1.  0.  0. 12.]\n",
      " [ 3.  2.  0.  0.  1.  0. 18.]\n",
      " [ 0.  0.  0.  0.  0.  0.  0.]]\n"
     ]
    }
   ],
   "source": [
    "matrix_max_approx_1 = create_matrix(n_var_approx_1,n_cons_approx_1)\n",
    "constrain(matrix_max_approx_1,'1,0,L,4')\n",
    "constrain(matrix_max_approx_1,'0,2,L,12')\n",
    "constrain(matrix_max_approx_1,'3,2,L,18')\n",
    "t = (constrain, (matrix_max_approx_1, '3,2,L,18', True))\n",
    "start_mem = memory_usage(max_usage=True)\n",
    "res = memory_usage(t, max_usage=True, retval=True)\n",
    "print('start mem', start_mem)\n",
    "print('max mem', res[0])\n",
    "print('used mem', res[0]-start_mem)\n",
    "print('fun output', res[1])"
   ]
  },
  {
   "cell_type": "code",
   "execution_count": 12,
   "id": "f40884a2",
   "metadata": {},
   "outputs": [
    {
     "name": "stdout",
     "output_type": "stream",
     "text": [
      "start mem 94.82421875\n",
      "max mem 94.82421875\n",
      "used mem 0.0\n",
      "fun output None\n"
     ]
    }
   ],
   "source": [
    "t = (obj, (matrix_max_approx_1, '3,5,0'))\n",
    "start_mem = memory_usage(max_usage=True)\n",
    "res = memory_usage(t, max_usage=True, retval=True)\n",
    "print('start mem', start_mem)\n",
    "print('max mem', res[0])\n",
    "print('used mem', res[0]-start_mem)\n",
    "print('fun output', res[1])"
   ]
  },
  {
   "cell_type": "code",
   "execution_count": 13,
   "id": "f1662501",
   "metadata": {},
   "outputs": [
    {
     "name": "stdout",
     "output_type": "stream",
     "text": [
      "start mem 94.8359375\n",
      "max mem 94.83984375\n",
      "used mem 0.00390625\n",
      "fun output {'x1': 2.0, 'x2': 6.0, 'max': 36.0}\n"
     ]
    }
   ],
   "source": [
    "t = (maxz, (matrix_max_approx_1,True))\n",
    "start_mem = memory_usage(max_usage=True)\n",
    "res = memory_usage(t, max_usage=True, retval=True)\n",
    "print('start mem', start_mem)\n",
    "print('max mem', res[0])\n",
    "print('used mem', res[0]-start_mem)\n",
    "print('fun output', res[1])"
   ]
  },
  {
   "cell_type": "code",
   "execution_count": 14,
   "id": "dirty-granny",
   "metadata": {},
   "outputs": [],
   "source": [
    "def profiling_memory_example(matrix, aux=True):\n",
    "    \"\"\"\n",
    "    Realizar todo el proceso del problema a resolver de optimización con el método Simplex\n",
    "    \"\"\"\n",
    "    constrain(matrix,'1,0,L,4')\n",
    "    constrain(matrix,'0,2,L,12')\n",
    "    constrain(matrix,'3,2,L,18')\n",
    "    obj(matrix,'3,5,0')\n",
    "    problem_approx_1 = maxz(matrix)\n",
    "    max_approx_1 = problem_approx_1['max']\n",
    "    problem_approx_1.pop('max')\n",
    "    coeff_approx_1 = np.array(list(problem_approx_1.values()))\n",
    "    \n",
    "    return max_approx_1, coeff_approx_1"
   ]
  },
  {
   "cell_type": "code",
   "execution_count": 15,
   "id": "valuable-movie",
   "metadata": {},
   "outputs": [
    {
     "name": "stdout",
     "output_type": "stream",
     "text": [
      "start mem 94.89453125\n",
      "max mem 94.90625\n",
      "used mem 0.01171875\n",
      "fun output (36.0, array([2., 6.]))\n"
     ]
    }
   ],
   "source": [
    "# Todo junto\n",
    "matrix_max_approx_1 = create_matrix(n_var_approx_1,n_cons_approx_1)\n",
    "t = (profiling_memory_example, (matrix_max_approx_1,True))\n",
    "start_mem = memory_usage(max_usage=True)\n",
    "res = memory_usage(t, max_usage=True, retval=True)\n",
    "print('start mem', start_mem)\n",
    "print('max mem', res[0])\n",
    "print('used mem', res[0]-start_mem)\n",
    "print('fun output', res[1])"
   ]
  },
  {
   "cell_type": "code",
   "execution_count": 16,
   "id": "313f5617",
   "metadata": {},
   "outputs": [],
   "source": [
    "# Guardar variables para comprobación\n",
    "matrix_max_approx_1 = create_matrix(n_var_approx_1,n_cons_approx_1)\n",
    "constrain(matrix_max_approx_1,'1,0,L,4')\n",
    "constrain(matrix_max_approx_1,'0,2,L,12')\n",
    "constrain(matrix_max_approx_1,'3,2,L,18')\n",
    "obj(matrix_max_approx_1,'3,5,0')\n",
    "problem_approx_1 = maxz(matrix_max_approx_1)\n",
    "max_approx_1 = problem_approx_1['max']\n",
    "problem_approx_1.pop('max')\n",
    "coeff_approx_1 = np.array(list(problem_approx_1.values()))"
   ]
  },
  {
   "cell_type": "markdown",
   "id": "a226357d",
   "metadata": {},
   "source": [
    "## Comprobación"
   ]
  },
  {
   "cell_type": "code",
   "execution_count": 17,
   "id": "a03ef683",
   "metadata": {},
   "outputs": [
    {
     "name": "stdout",
     "output_type": "stream",
     "text": [
      "El valor objetivo obtenido con scipy es:  35.999999978433735\n",
      "El valor aproximado obtenido con mex es:  36.0\n",
      "Los coeficientes objetivos obtenidos con scipy son:  [2. 6.]\n",
      "Los coeficientes aproximados obtenidos con mex son:  [2. 6.]\n"
     ]
    }
   ],
   "source": [
    "assert max_obj_1 == approx(max_approx_1), \"El valor aproximado es incorrecto\"\n",
    "assert coeff_obj_1 == approx(coeff_approx_1), \"El valor de los coeficientes aproximados es incorrecto\"\n",
    "\n",
    "print(\"El valor objetivo obtenido con scipy es: \", max_obj_1)\n",
    "print(\"El valor aproximado obtenido con mex es: \", max_approx_1)\n",
    "print(\"Los coeficientes objetivos obtenidos con scipy son: \", coeff_obj_1)\n",
    "print(\"Los coeficientes aproximados obtenidos con mex son: \", coeff_approx_1)"
   ]
  },
  {
   "cell_type": "markdown",
   "id": "b144fca2",
   "metadata": {},
   "source": [
    "# Con `%memit`"
   ]
  },
  {
   "cell_type": "code",
   "execution_count": 18,
   "id": "intellectual-tomorrow",
   "metadata": {},
   "outputs": [],
   "source": [
    "%load_ext memory_profiler"
   ]
  },
  {
   "cell_type": "code",
   "execution_count": 19,
   "id": "stylish-substitute",
   "metadata": {},
   "outputs": [
    {
     "name": "stdout",
     "output_type": "stream",
     "text": [
      "peak memory: 94.68 MiB, increment: -0.31 MiB\n"
     ]
    }
   ],
   "source": [
    "%memit"
   ]
  },
  {
   "cell_type": "code",
   "execution_count": 20,
   "id": "basic-disorder",
   "metadata": {},
   "outputs": [
    {
     "name": "stdout",
     "output_type": "stream",
     "text": [
      "peak memory: 100.21 MiB, increment: 5.53 MiB\n"
     ]
    }
   ],
   "source": [
    "%memit -c profiling_memory_example(create_matrix(n_var_approx_1,n_cons_approx_1), True)"
   ]
  },
  {
   "cell_type": "markdown",
   "id": "standard-rouge",
   "metadata": {},
   "source": [
    "# Con `%mprun`"
   ]
  },
  {
   "cell_type": "code",
   "execution_count": 33,
   "id": "documentary-advertiser",
   "metadata": {},
   "outputs": [],
   "source": [
    "from src.profiling.memoria.maxz_memory_profiler import profiling_memory_example"
   ]
  },
  {
   "cell_type": "code",
   "execution_count": 34,
   "id": "brown-account",
   "metadata": {},
   "outputs": [],
   "source": [
    "matrix_max_approx_1 = create_matrix(n_var_approx_1, n_cons_approx_1)"
   ]
  },
  {
   "cell_type": "code",
   "execution_count": 35,
   "id": "advance-throat",
   "metadata": {},
   "outputs": [
    {
     "name": "stdout",
     "output_type": "stream",
     "text": [
      "Filename: /Users/eduardomorenoortiz/Desktop/MaestriaCD/Semestres/Semestre2/optimizacion_avanzada/practicas/practica_2/practica-2-segunda-parte-caroacostatovany/src/profiling/memoria/maxz_memory_profiler.py\n",
      "\n",
      "Line #    Mem usage    Increment  Occurences   Line Contents\n",
      "============================================================\n",
      "     9    115.6 MiB    115.6 MiB           1   @profile\n",
      "    10                                         def profiling_memory_example(matrix, aux=True):\n",
      "    11                                             \"\"\"\n",
      "    12                                             Problema a resolver de optimización con el método Simplex\n",
      "    13                                             \"\"\"\n",
      "    14    115.7 MiB      0.0 MiB           1       constrain(matrix, '1,0,L,4')\n",
      "    15    115.7 MiB      0.0 MiB           1       constrain(matrix, '0,2,L,12')\n",
      "    16    115.7 MiB      0.0 MiB           1       constrain(matrix, '3,2,L,18')\n",
      "    17    115.7 MiB      0.0 MiB           1       obj(matrix, '3,5,0')\n",
      "    18    115.7 MiB      0.0 MiB           1       problem_approx_1 = maxz(matrix)\n",
      "    19    115.7 MiB      0.0 MiB           1       max_approx_1 = problem_approx_1['max']\n",
      "    20    115.7 MiB      0.0 MiB           1       problem_approx_1.pop('max')\n",
      "    21    115.7 MiB      0.0 MiB           1       coeff_approx_1 = np.array(list(problem_approx_1.values()))\n",
      "    22                                         \n",
      "    23    115.7 MiB      0.0 MiB           1       return max_approx_1, coeff_approx_1\n",
      "\n",
      "\n",
      "\n"
     ]
    }
   ],
   "source": [
    "%mprun -f profiling_memory_example profiling_memory_example(matrix_max_approx_1)"
   ]
  },
  {
   "cell_type": "markdown",
   "id": "dramatic-childhood",
   "metadata": {},
   "source": [
    "Problema de mediana escala"
   ]
  },
  {
   "cell_type": "code",
   "execution_count": 36,
   "id": "expensive-context",
   "metadata": {},
   "outputs": [],
   "source": [
    "from src.profiling.memoria.maxz_memory_profiler import profiling_memory_example"
   ]
  },
  {
   "cell_type": "code",
   "execution_count": 37,
   "id": "danish-division",
   "metadata": {},
   "outputs": [],
   "source": [
    "matrix_max_approx_1 = create_matrix(20, 30)"
   ]
  },
  {
   "cell_type": "code",
   "execution_count": 38,
   "id": "mineral-revision",
   "metadata": {},
   "outputs": [
    {
     "name": "stdout",
     "output_type": "stream",
     "text": [
      "Filename: /Users/eduardomorenoortiz/Desktop/MaestriaCD/Semestres/Semestre2/optimizacion_avanzada/practicas/practica_2/practica-2-segunda-parte-caroacostatovany/src/profiling/memoria/maxz_memory_profiler.py\n",
      "\n",
      "Line #    Mem usage    Increment  Occurences   Line Contents\n",
      "============================================================\n",
      "     9    115.7 MiB    115.7 MiB           1   @profile\n",
      "    10                                         def profiling_memory_example(matrix, aux=True):\n",
      "    11                                             \"\"\"\n",
      "    12                                             Problema a resolver de optimización con el método Simplex\n",
      "    13                                             \"\"\"\n",
      "    14    115.7 MiB      0.0 MiB           1       constrain(matrix, '1,0,L,4')\n",
      "    15    115.7 MiB      0.0 MiB           1       constrain(matrix, '0,2,L,12')\n",
      "    16    115.7 MiB      0.0 MiB           1       constrain(matrix, '3,2,L,18')\n",
      "    17    115.7 MiB      0.0 MiB           1       obj(matrix, '3,5,0')\n",
      "    18    115.7 MiB      0.0 MiB           1       problem_approx_1 = maxz(matrix)\n",
      "    19    115.7 MiB      0.0 MiB           1       max_approx_1 = problem_approx_1['max']\n",
      "    20    115.7 MiB      0.0 MiB           1       problem_approx_1.pop('max')\n",
      "    21    115.7 MiB      0.0 MiB           1       coeff_approx_1 = np.array(list(problem_approx_1.values()))\n",
      "    22                                         \n",
      "    23    115.7 MiB      0.0 MiB           1       return max_approx_1, coeff_approx_1\n",
      "\n",
      "\n",
      "\n"
     ]
    }
   ],
   "source": [
    "%mprun -f profiling_memory_example profiling_memory_example(matrix_max_approx_1)"
   ]
  },
  {
   "cell_type": "markdown",
   "id": "romance-routine",
   "metadata": {},
   "source": [
    "# Con `heapy`"
   ]
  },
  {
   "cell_type": "markdown",
   "id": "applied-magnitude",
   "metadata": {},
   "source": [
    "Ejercicio a pequeña escala"
   ]
  },
  {
   "cell_type": "code",
   "execution_count": 24,
   "id": "intimate-subject",
   "metadata": {},
   "outputs": [
    {
     "name": "stdout",
     "output_type": "stream",
     "text": [
      "Partition of a set of 6 objects. Total size = 1088 bytes.\n",
      " Index  Count   %     Size   % Cumulative  % Kind (class / dict of class)\n",
      "     0      1  17      416  38       416  38 types.FrameType\n",
      "     1      1  17      336  31       752  69 numpy.ndarray\n",
      "     2      1  17      240  22       992  91 dict (no owner)\n",
      "     3      3  50       96   9      1088 100 numpy.float64\n"
     ]
    }
   ],
   "source": [
    "%run -i ../src/profiling/memoria/maxz_memory_profile_heapy.py"
   ]
  },
  {
   "cell_type": "markdown",
   "id": "afraid-marks",
   "metadata": {},
   "source": [
    "Ejercicio a mediana escala"
   ]
  },
  {
   "cell_type": "code",
   "execution_count": 41,
   "id": "adjacent-insulin",
   "metadata": {},
   "outputs": [
    {
     "name": "stdout",
     "output_type": "stream",
     "text": [
      "Partition of a set of 9 objects. Total size = 14312 bytes.\n",
      " Index  Count   %     Size   % Cumulative  % Kind (class / dict of class)\n",
      "     0      1  11    13008  91     13008  91 numpy.ndarray\n",
      "     1      1  11      648   5     13656  95 dict (no owner)\n",
      "     2      1  11      416   3     14072  98 types.FrameType\n",
      "     3      3  33       96   1     14168  99 numpy.float64\n",
      "     4      1  11       80   1     14248 100 builtins.weakref\n",
      "     5      2  22       64   0     14312 100 int\n"
     ]
    }
   ],
   "source": [
    "%run -i ../src/profiling/memoria/maxz_memory_profile_heapy_medium_size.py"
   ]
  },
  {
   "cell_type": "markdown",
   "id": "ce7fe682",
   "metadata": {},
   "source": [
    "# Para minz"
   ]
  },
  {
   "cell_type": "code",
   "execution_count": 25,
   "id": "fleet-conviction",
   "metadata": {},
   "outputs": [
    {
     "name": "stdout",
     "output_type": "stream",
     "text": [
      "Partition of a set of 10 objects. Total size = 1296 bytes.\n",
      " Index  Count   %     Size   % Cumulative  % Kind (class / dict of class)\n",
      "     0      1  10      416  32       416  32 types.FrameType\n",
      "     1      1  10      256  20       672  52 numpy.ndarray\n",
      "     2      1  10      240  19       912  70 dict (no owner)\n",
      "     3      1  10      144  11      1056  81 _io.StringIO\n",
      "     4      3  30       96   7      1152  89 numpy.float64\n",
      "     5      1  10       80   6      1232  95 builtins.weakref\n",
      "     6      2  20       64   5      1296 100 int\n"
     ]
    }
   ],
   "source": [
    "%run -i ../src/profiling/memoria/minz_memory_profile_heapy.py"
   ]
  },
  {
   "cell_type": "markdown",
   "id": "interested-bristol",
   "metadata": {},
   "source": [
    "# Para net"
   ]
  },
  {
   "cell_type": "code",
   "execution_count": 26,
   "id": "bridal-scoop",
   "metadata": {},
   "outputs": [
    {
     "name": "stdout",
     "output_type": "stream",
     "text": [
      "Partition of a set of 13 objects. Total size = 2400 bytes.\n",
      " Index  Count   %     Size   % Cumulative  % Kind (class / dict of class)\n",
      "     0      1   8     1136  47      1136  47 numpy.ndarray\n",
      "     1      1   8      416  17      1552  65 types.FrameType\n",
      "     2      1   8      368  15      1920  80 dict (no owner)\n",
      "     3      6  46      192   8      2112  88 numpy.float64\n",
      "     4      1   8      144   6      2256  94 _io.StringIO\n",
      "     5      1   8       80   3      2336  97 builtins.weakref\n",
      "     6      2  15       64   3      2400 100 int\n"
     ]
    }
   ],
   "source": [
    "%run -i ../src/profiling/memoria/net_memory_profile_heapy.py"
   ]
  }
 ],
 "metadata": {
  "kernelspec": {
   "display_name": "Python 3",
   "language": "python",
   "name": "python3"
  },
  "language_info": {
   "codemirror_mode": {
    "name": "ipython",
    "version": 3
   },
   "file_extension": ".py",
   "mimetype": "text/x-python",
   "name": "python",
   "nbconvert_exporter": "python",
   "pygments_lexer": "ipython3",
   "version": "3.7.3"
  }
 },
 "nbformat": 4,
 "nbformat_minor": 5
}
