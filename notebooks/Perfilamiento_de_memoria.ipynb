{
 "cells": [
  {
   "cell_type": "markdown",
   "id": "b2b35aed",
   "metadata": {},
   "source": [
    "# Perfilamiento de memoria"
   ]
  },
  {
   "cell_type": "code",
   "execution_count": 1,
   "id": "eaa5e370",
   "metadata": {},
   "outputs": [],
   "source": [
    "from memory_profiler import memory_usage\n",
    "import time"
   ]
  },
  {
   "cell_type": "code",
   "execution_count": 2,
   "id": "db99aca0",
   "metadata": {},
   "outputs": [],
   "source": [
    "!pip install --quiet \"git+https://github.com/optimizacion-2-2021-1-gh-classroom/practica-1-segunda-parte-caroacostatovany.git#egg=mex&subdirectory=src\""
   ]
  },
  {
   "cell_type": "code",
   "execution_count": 3,
   "id": "8a86bf05",
   "metadata": {},
   "outputs": [],
   "source": [
    "#!pip uninstall mex -y"
   ]
  },
  {
   "cell_type": "code",
   "execution_count": 4,
   "id": "e214669e",
   "metadata": {},
   "outputs": [],
   "source": [
    "import copy\n",
    "import matplotlib.pyplot as plt\n",
    "import networkx as nx\n",
    "import numpy as np\n",
    "import os\n",
    "import pprint\n",
    "from scipy.optimize import linprog\n",
    "from pytest import approx\n",
    "\n",
    "from mex.simplex.simplex_networks import create_matrix, pivots_col, pivots_row, find_negative_col, find_negative_row, find_pivot_col, find_pivot_row, pivot\n",
    "from mex.simplex.problem_definition import add_cons, constrain, add_obj, obj, maxz, minz"
   ]
  },
  {
   "cell_type": "markdown",
   "id": "5aab9c92",
   "metadata": {},
   "source": [
    "## Objetivo"
   ]
  },
  {
   "cell_type": "code",
   "execution_count": 5,
   "id": "ae580caf",
   "metadata": {},
   "outputs": [],
   "source": [
    "c_max_obj_1 = [-3, -5]\n",
    "A_max_obj_1 = [[1, 0], [0, 2], [3, 2]]\n",
    "b_max_obj_1 = [4, 12, 18]"
   ]
  },
  {
   "cell_type": "code",
   "execution_count": 6,
   "id": "a671e15a",
   "metadata": {},
   "outputs": [],
   "source": [
    "max_obj_1 = -1*linprog(c_max_obj_1, A_ub=A_max_obj_1, b_ub=b_max_obj_1).fun"
   ]
  },
  {
   "cell_type": "code",
   "execution_count": 7,
   "id": "d7718389",
   "metadata": {},
   "outputs": [],
   "source": [
    "coeff_obj_1 = linprog(c_max_obj_1, A_ub=A_max_obj_1, b_ub=b_max_obj_1).x"
   ]
  },
  {
   "cell_type": "markdown",
   "id": "ab2b8cbb",
   "metadata": {},
   "source": [
    "## Aproximación"
   ]
  },
  {
   "cell_type": "code",
   "execution_count": 8,
   "id": "218667b9",
   "metadata": {},
   "outputs": [],
   "source": [
    "n_var_approx_1 = 2\n",
    "n_cons_approx_1 = 3"
   ]
  },
  {
   "cell_type": "code",
   "execution_count": 9,
   "id": "3a928190",
   "metadata": {},
   "outputs": [
    {
     "name": "stdout",
     "output_type": "stream",
     "text": [
      "start mem 106.1015625\n",
      "max mem 106.296875\n",
      "used mem 0.1953125\n",
      "fun output [[0. 0. 0. 0. 0. 0. 0.]\n",
      " [0. 0. 0. 0. 0. 0. 0.]\n",
      " [0. 0. 0. 0. 0. 0. 0.]\n",
      " [0. 0. 0. 0. 0. 0. 0.]]\n"
     ]
    }
   ],
   "source": [
    "matrix_max_approx_1 = create_matrix(n_var_approx_1,n_cons_approx_1)\n",
    "t = (create_matrix, (n_var_approx_1,n_cons_approx_1))\n",
    "start_mem = memory_usage(max_usage=True)\n",
    "res = memory_usage(t, max_usage=True, retval=True)\n",
    "print('start mem', start_mem)\n",
    "print('max mem', res[0])\n",
    "print('used mem', res[0]-start_mem)\n",
    "print('fun output', res[1])"
   ]
  },
  {
   "cell_type": "code",
   "execution_count": 10,
   "id": "db0919f3",
   "metadata": {},
   "outputs": [
    {
     "name": "stdout",
     "output_type": "stream",
     "text": [
      "start mem 106.53515625\n",
      "max mem 106.5859375\n",
      "used mem 0.05078125\n",
      "fun output [[1. 0. 1. 0. 0. 0. 4.]\n",
      " [1. 0. 0. 1. 0. 0. 4.]\n",
      " [1. 0. 0. 0. 1. 0. 4.]\n",
      " [0. 0. 0. 0. 0. 0. 0.]]\n"
     ]
    }
   ],
   "source": [
    "matrix_max_approx_1 = create_matrix(n_var_approx_1,n_cons_approx_1)\n",
    "t = (constrain, (matrix_max_approx_1, '1,0,L,4', True))\n",
    "start_mem = memory_usage(max_usage=True)\n",
    "res = memory_usage(t, max_usage=True, retval=True)\n",
    "print('start mem', start_mem)\n",
    "print('max mem', res[0])\n",
    "print('used mem', res[0]-start_mem)\n",
    "print('fun output', res[1])"
   ]
  },
  {
   "cell_type": "code",
   "execution_count": 11,
   "id": "988ee014",
   "metadata": {},
   "outputs": [
    {
     "name": "stdout",
     "output_type": "stream",
     "text": [
      "start mem 106.64453125\n",
      "max mem 106.66796875\n",
      "used mem 0.0234375\n",
      "fun output [[ 1.  0.  1.  0.  0.  0.  4.]\n",
      " [ 0.  2.  0.  1.  0.  0. 12.]\n",
      " [ 3.  2.  0.  0.  1.  0. 18.]\n",
      " [ 0.  0.  0.  0.  0.  0.  0.]]\n"
     ]
    }
   ],
   "source": [
    "matrix_max_approx_1 = create_matrix(n_var_approx_1,n_cons_approx_1)\n",
    "constrain(matrix_max_approx_1,'1,0,L,4')\n",
    "constrain(matrix_max_approx_1,'0,2,L,12')\n",
    "constrain(matrix_max_approx_1,'3,2,L,18')\n",
    "t = (constrain, (matrix_max_approx_1, '3,2,L,18', True))\n",
    "start_mem = memory_usage(max_usage=True)\n",
    "res = memory_usage(t, max_usage=True, retval=True)\n",
    "print('start mem', start_mem)\n",
    "print('max mem', res[0])\n",
    "print('used mem', res[0]-start_mem)\n",
    "print('fun output', res[1])"
   ]
  },
  {
   "cell_type": "code",
   "execution_count": 12,
   "id": "48679ab0",
   "metadata": {},
   "outputs": [
    {
     "name": "stdout",
     "output_type": "stream",
     "text": [
      "start mem 106.671875\n",
      "max mem 106.671875\n",
      "used mem 0.0\n",
      "fun output None\n"
     ]
    }
   ],
   "source": [
    "t = (obj, (matrix_max_approx_1, '3,5,0'))\n",
    "start_mem = memory_usage(max_usage=True)\n",
    "res = memory_usage(t, max_usage=True, retval=True)\n",
    "print('start mem', start_mem)\n",
    "print('max mem', res[0])\n",
    "print('used mem', res[0]-start_mem)\n",
    "print('fun output', res[1])"
   ]
  },
  {
   "cell_type": "code",
   "execution_count": 13,
   "id": "2ef902e2",
   "metadata": {},
   "outputs": [
    {
     "name": "stdout",
     "output_type": "stream",
     "text": [
      "start mem 106.671875\n",
      "max mem 106.6875\n",
      "used mem 0.015625\n",
      "fun output {'x1': 2.0, 'x2': 6.0, 'max': 36.0}\n"
     ]
    }
   ],
   "source": [
    "t = (maxz, (matrix_max_approx_1,True))\n",
    "start_mem = memory_usage(max_usage=True)\n",
    "res = memory_usage(t, max_usage=True, retval=True)\n",
    "print('start mem', start_mem)\n",
    "print('max mem', res[0])\n",
    "print('used mem', res[0]-start_mem)\n",
    "print('fun output', res[1])"
   ]
  },
  {
   "cell_type": "code",
   "execution_count": 14,
   "id": "44671d55",
   "metadata": {},
   "outputs": [],
   "source": [
    "def profiling_memory_example(matrix, aux=True):\n",
    "    \"\"\"\n",
    "    Realizar todo el proceso del problema a resolver de optimización con el método Simplex\n",
    "    \"\"\"\n",
    "    constrain(matrix,'1,0,L,4')\n",
    "    constrain(matrix,'0,2,L,12')\n",
    "    constrain(matrix,'3,2,L,18')\n",
    "    obj(matrix,'3,5,0')\n",
    "    problem_approx_1 = maxz(matrix)\n",
    "    max_approx_1 = problem_approx_1['max']\n",
    "    problem_approx_1.pop('max')\n",
    "    coeff_approx_1 = np.array(list(problem_approx_1.values()))\n",
    "    \n",
    "    return max_approx_1, coeff_approx_1"
   ]
  },
  {
   "cell_type": "code",
   "execution_count": 15,
   "id": "4248e384",
   "metadata": {},
   "outputs": [
    {
     "name": "stdout",
     "output_type": "stream",
     "text": [
      "start mem 106.7421875\n",
      "max mem 106.7421875\n",
      "used mem 0.0\n",
      "fun output (36.0, array([2., 6.]))\n"
     ]
    }
   ],
   "source": [
    "# Todo junto\n",
    "matrix_max_approx_1 = create_matrix(n_var_approx_1,n_cons_approx_1)\n",
    "t = (profiling_memory_example, (matrix_max_approx_1,True))\n",
    "start_mem = memory_usage(max_usage=True)\n",
    "res = memory_usage(t, max_usage=True, retval=True)\n",
    "print('start mem', start_mem)\n",
    "print('max mem', res[0])\n",
    "print('used mem', res[0]-start_mem)\n",
    "print('fun output', res[1])"
   ]
  },
  {
   "cell_type": "code",
   "execution_count": 16,
   "id": "d13e9c15",
   "metadata": {},
   "outputs": [],
   "source": [
    "# Guardar variables para comprobación\n",
    "matrix_max_approx_1 = create_matrix(n_var_approx_1,n_cons_approx_1)\n",
    "constrain(matrix_max_approx_1,'1,0,L,4')\n",
    "constrain(matrix_max_approx_1,'0,2,L,12')\n",
    "constrain(matrix_max_approx_1,'3,2,L,18')\n",
    "obj(matrix_max_approx_1,'3,5,0')\n",
    "problem_approx_1 = maxz(matrix_max_approx_1)\n",
    "max_approx_1 = problem_approx_1['max']\n",
    "problem_approx_1.pop('max')\n",
    "coeff_approx_1 = np.array(list(problem_approx_1.values()))"
   ]
  },
  {
   "cell_type": "markdown",
   "id": "b3170740",
   "metadata": {},
   "source": [
    "## Comprobación"
   ]
  },
  {
   "cell_type": "code",
   "execution_count": 17,
   "id": "74aa3a67",
   "metadata": {},
   "outputs": [
    {
     "name": "stdout",
     "output_type": "stream",
     "text": [
      "El valor objetivo obtenido con scipy es:  35.99999997843401\n",
      "El valor aproximado obtenido con mex es:  36.0\n",
      "Los coeficientes objetivos obtenidos con scipy son:  [2. 6.]\n",
      "Los coeficientes aproximados obtenidos con mex son:  [2. 6.]\n"
     ]
    }
   ],
   "source": [
    "assert max_obj_1 == approx(max_approx_1), \"El valor aproximado es incorrecto\"\n",
    "assert coeff_obj_1 == approx(coeff_approx_1), \"El valor de los coeficientes aproximados es incorrecto\"\n",
    "\n",
    "print(\"El valor objetivo obtenido con scipy es: \", max_obj_1)\n",
    "print(\"El valor aproximado obtenido con mex es: \", max_approx_1)\n",
    "print(\"Los coeficientes objetivos obtenidos con scipy son: \", coeff_obj_1)\n",
    "print(\"Los coeficientes aproximados obtenidos con mex son: \", coeff_approx_1)"
   ]
  },
  {
   "cell_type": "markdown",
   "id": "d9060e21",
   "metadata": {},
   "source": [
    "# Con `%memit`"
   ]
  },
  {
   "cell_type": "code",
   "execution_count": 18,
   "id": "459d5db4",
   "metadata": {},
   "outputs": [],
   "source": [
    "%load_ext memory_profiler"
   ]
  },
  {
   "cell_type": "code",
   "execution_count": 19,
   "id": "065eb216",
   "metadata": {},
   "outputs": [
    {
     "name": "stdout",
     "output_type": "stream",
     "text": [
      "peak memory: 106.82 MiB, increment: 0.00 MiB\n"
     ]
    }
   ],
   "source": [
    "%memit"
   ]
  },
  {
   "cell_type": "code",
   "execution_count": 20,
   "id": "2878fcf7",
   "metadata": {},
   "outputs": [
    {
     "name": "stdout",
     "output_type": "stream",
     "text": [
      "peak memory: 188.91 MiB, increment: 82.10 MiB\n"
     ]
    }
   ],
   "source": [
    "%memit -c profiling_memory_example(create_matrix(n_var_approx_1,n_cons_approx_1), True)"
   ]
  },
  {
   "cell_type": "markdown",
   "id": "dfea77a1",
   "metadata": {},
   "source": [
    "# Con `%mprun`"
   ]
  },
  {
   "cell_type": "code",
   "execution_count": 21,
   "id": "02ee9792",
   "metadata": {},
   "outputs": [],
   "source": [
    "os.chdir('/home/ubuntu/practica-2-segunda-parte-caroacostatovany')"
   ]
  },
  {
   "cell_type": "code",
   "execution_count": 22,
   "id": "5a01fc1b",
   "metadata": {},
   "outputs": [],
   "source": [
    "from src.profiling.memoria.maxz_memory_profiler import profiling_memory_example"
   ]
  },
  {
   "cell_type": "code",
   "execution_count": 23,
   "id": "ca531b00",
   "metadata": {},
   "outputs": [],
   "source": [
    "matrix_max_approx_1 = create_matrix(n_var_approx_1, n_cons_approx_1)"
   ]
  },
  {
   "cell_type": "code",
   "execution_count": 24,
   "id": "ab5bd4af",
   "metadata": {},
   "outputs": [
    {
     "name": "stdout",
     "output_type": "stream",
     "text": [
      "Filename: /home/ubuntu/practica-2-segunda-parte-caroacostatovany/src/profiling/memoria/maxz_memory_profiler.py\n",
      "\n",
      "Line #    Mem usage    Increment  Occurences   Line Contents\n",
      "============================================================\n",
      "     9    107.4 MiB    107.4 MiB           1   @profile\n",
      "    10                                         def profiling_memory_example(matrix, aux=True):\n",
      "    11                                             \"\"\"\n",
      "    12                                             Problema a resolver de optimización con el método Simplex\n",
      "    13                                             \"\"\"\n",
      "    14    107.4 MiB      0.0 MiB           1       constrain(matrix, '1,0,L,4')\n",
      "    15    107.4 MiB      0.0 MiB           1       constrain(matrix, '0,2,L,12')\n",
      "    16    107.4 MiB      0.0 MiB           1       constrain(matrix, '3,2,L,18')\n",
      "    17    107.4 MiB      0.0 MiB           1       obj(matrix, '3,5,0')\n",
      "    18    107.4 MiB      0.0 MiB           1       problem_approx_1 = maxz(matrix)\n",
      "    19    107.4 MiB      0.0 MiB           1       max_approx_1 = problem_approx_1['max']\n",
      "    20    107.4 MiB      0.0 MiB           1       problem_approx_1.pop('max')\n",
      "    21    107.4 MiB      0.0 MiB           1       coeff_approx_1 = np.array(list(problem_approx_1.values()))\n",
      "    22                                         \n",
      "    23    107.4 MiB      0.0 MiB           1       return max_approx_1, coeff_approx_1\n",
      "\n",
      "\n",
      "\n"
     ]
    },
    {
     "data": {
      "text/plain": [
       "Filename: /home/ubuntu/.local/lib/python3.8/site-packages/memory_profiler.py\n",
       "\n",
       "Line #    Mem usage    Increment  Occurences   Line Contents\n",
       "============================================================\n",
       "  1140    107.4 MiB    107.4 MiB           1               def wrapper(*args, **kwargs):\n",
       "  1141    107.4 MiB      0.0 MiB           1                   prof = get_prof()\n",
       "  1142    107.4 MiB      0.0 MiB           1                   val = prof(func)(*args, **kwargs)\n",
       "  1143    107.4 MiB      0.0 MiB           1                   show_results_bound(prof)\n",
       "  1144    107.4 MiB      0.0 MiB           1                   return val"
      ]
     },
     "metadata": {},
     "output_type": "display_data"
    }
   ],
   "source": [
    "%mprun -f profiling_memory_example profiling_memory_example(matrix_max_approx_1)"
   ]
  },
  {
   "cell_type": "markdown",
   "id": "04aba9c6",
   "metadata": {},
   "source": [
    "Problema de mediana escala"
   ]
  },
  {
   "cell_type": "code",
   "execution_count": 25,
   "id": "710d8f37",
   "metadata": {},
   "outputs": [],
   "source": [
    "from src.profiling.memoria.maxz_memory_profiler_medium_size import profiling_memory_example"
   ]
  },
  {
   "cell_type": "code",
   "execution_count": 26,
   "id": "c68d3526",
   "metadata": {},
   "outputs": [],
   "source": [
    "matrix_max_approx_1 = create_matrix(20, 30)"
   ]
  },
  {
   "cell_type": "code",
   "execution_count": 27,
   "id": "714f00fd",
   "metadata": {},
   "outputs": [
    {
     "name": "stdout",
     "output_type": "stream",
     "text": [
      "Filename: /home/ubuntu/practica-2-segunda-parte-caroacostatovany/src/profiling/memoria/maxz_memory_profiler_medium_size.py\n",
      "\n",
      "Line #    Mem usage    Increment  Occurences   Line Contents\n",
      "============================================================\n",
      "     9    107.8 MiB    107.8 MiB           1   @profile\n",
      "    10                                         def profiling_memory_example(matrix, aux=True):\n",
      "    11                                             \"\"\"\n",
      "    12                                             Problema a resolver de optimización con el método Simplex\n",
      "    13                                             \"\"\"\n",
      "    14                                             \n",
      "    15                                             #Restricciones 1-5:\n",
      "    16    107.8 MiB      0.0 MiB           1       matrix=constrain(matrix,'90.09,50.61,45.03,16.83,26.92,36.29,51.61,2.450,25.15,30.22,81.78,2.444,34.71,57.17,41.14,92.00,69.17,26.77,38.44,25.35,L,79.72',True)\n",
      "    17    107.8 MiB      0.0 MiB           1       matrix=constrain(matrix,'69.62,6.235,18.95,4.843,12.34,82.56,83.65,11.18,29.91,34.66,79.32,64.11,95.56,70.83,69.77,93.99,10.83,17.88,78.04,87.34,L,68.64',True)\n",
      "    18    107.8 MiB      0.0 MiB           1       matrix=constrain(matrix,'27.58,31.56,72.90,95.74,69.19,84.21,58.42,18.88,72.27,85.58,60.66,51.78,46.34,30.96,5.505,11.68,84.84,81.16,3.668,65.52,L,1.240',True)\n",
      "    19    107.8 MiB      0.0 MiB           1       matrix=constrain(matrix,'28.91,98.28,80.47,78.34,48.34,40.00,92.46,93.44,93.79,46.63,50.50,30.32,71.96,52.57,46.29,67.03,71.13,82.94,4.676,5.110,L,34.53',True)\n",
      "    20    107.8 MiB      0.0 MiB           1       matrix=constrain(matrix,'10.16,9.828,11.24,53.81,23.53,16.98,94.65,55.01,96.43,5.556,54.05,40.95,35.37,14.02,32.04,71.37,29.52,24.35,71.32,46.73,L,43.64',True)\n",
      "    21                                             \n",
      "    22                                             #Restricciones 6-10:\n",
      "    23    107.8 MiB      0.0 MiB           1       matrix=constrain(matrix,'70.56,93.54,27.93,95.94,91.23,8.491,78.54,7.435,85.27,32.27,97.65,34.44,97.45,77.70,86.22,3.460,52.49,59.86,6.446,20.77,L,3.692',True)\n",
      "    24    107.8 MiB      0.0 MiB           1       matrix=constrain(matrix,'30.93,40.11,9.917,22.34,2.947,8.553,85.74,31.01,4.919,12.60,3.358,89.39,50.05,25.59,13.33,75.14,57.81,14.29,88.59,24.34,L,44.21',True)\n",
      "    25    107.8 MiB      0.0 MiB           1       matrix=constrain(matrix,'7.511,72.81,19.49,55.05,86.04,36.84,7.233,67.59,92.62,24.06,15.87,45.52,75.98,71.86,64.45,15.81,57.22,84.86,28.66,7.867,L,94.85',True)\n",
      "    26    107.8 MiB      0.0 MiB           1       matrix=constrain(matrix,'62.27,38.88,82.58,84.71,68.00,97.57,36.58,11.57,73.91,75.40,65.75,7.540,52.08,96.61,9.278,60.24,59.22,6.214,63.88,68.99,L,39.16',True)\n",
      "    27    107.8 MiB      0.0 MiB           1       matrix=constrain(matrix,'73.05,10.49,93.23,91.39,63.19,47.53,20.71,14.26,51.71,71.02,11.87,61.36,97.72,70.67,28.40,73.55,33.02,81.46,67.22,85.30,L,38.43',True)\n",
      "    28                                             \n",
      "    29                                             #Restricciones 11-15:\n",
      "    30    107.8 MiB      0.0 MiB           1       matrix=constrain(matrix,'93.49,28.98,23.75,48.18,73.61,18.85,15.89,90.90,71.75,80.48,97.08,88.23,86.15,57.57,78.16,40.38,19.41,75.39,54.97,38.35,L,57.08',True)\n",
      "    31    107.8 MiB      0.0 MiB           1       matrix=constrain(matrix,'84.61,42.17,56.76,23.61,66.47,13.86,36.55,37.61,39.77,2.123,92.07,21.21,85.36,27.84,81.87,34.29,55.51,71.08,81.14,41.18,L,19.63',True)\n",
      "    32    107.8 MiB      0.0 MiB           1       matrix=constrain(matrix,'66.07,71.30,29.57,3.874,45.04,98.19,92.92,18.87,44.20,17.36,36.33,45.50,17.97,67.95,62.03,32.55,50.91,47.08,85.63,36.12,L,70.07',True)\n",
      "    33    107.8 MiB      0.0 MiB           1       matrix=constrain(matrix,'63.66,7.173,29.93,31.48,64.60,72.68,2.754,16.71,79.55,4.050,95.43,31.18,61.87,68.41,3.567,21.61,45.96,3.881,40.50,91.86,L,32.45',True)\n",
      "    34    107.8 MiB      0.0 MiB           1       matrix=constrain(matrix,'67.60,7.276,78.37,96.71,79.11,21.35,78.86,23.26,63.76,43.93,59.46,78.19,70.34,92.42,58.98,95.50,84.86,76.11,13.00,60.67,L,15.32',True)\n",
      "    35                                             \n",
      "    36                                             #Restricciones 16-20:\n",
      "    37    107.8 MiB      0.0 MiB           1       matrix=constrain(matrix,'12.17,45.38,51.97,93.29,97.74,58.34,71.99,26.91,26.85,74.88,69.95,43.51,8.723,38.97,74.16,81.20,77.52,20.84,46.12,16.24,L,49.46',True)\n",
      "    38    107.8 MiB      0.0 MiB           1       matrix=constrain(matrix,'85.82,3.365,53.87,41.57,37.04,97.64,16.76,90.16,50.49,76.92,85.17,57.76,29.29,12.79,93.86,59.50,84.81,43.91,6.931,14.25,L,54.54',True)\n",
      "    39    107.8 MiB      0.0 MiB           1       matrix=constrain(matrix,'72.94,37.67,28.00,33.56,71.22,73.32,33.33,27.54,71.75,61.17,39.68,38.85,79.89,92.34,31.80,10.18,78.30,6.469,41.89,50.98,L,24.96',True)\n",
      "    40    107.8 MiB      0.0 MiB           1       matrix=constrain(matrix,'80.03,67.82,37.00,51.50,17.85,10.91,26.95,65.79,18.51,84.34,3.196,72.33,48.76,8.459,53.13,18.23,9.679,2.543,48.12,52.09,L,11.98',True)\n",
      "    41    107.8 MiB      0.0 MiB           1       matrix=constrain(matrix,'28.10,98.61,1.938,94.54,98.78,18.29,26.88,91.15,9.967,5.279,99.44,79.94,82.80,30.05,85.13,8.410,83.47,15.45,46.43,56.54,L,1.772',True)\n",
      "    42                                             \n",
      "    43                                             #Restricciones 21-25:\n",
      "    44    107.8 MiB      0.0 MiB           1       matrix=constrain(matrix,'92.44,92.82,95.87,78.14,93.72,55.82,92.28,64.95,94.39,91.63,20.11,32.16,10.08,23.98,9.257,71.39,48.74,60.76,96.93,56.57,L,50.61',True)\n",
      "    45    107.8 MiB      0.0 MiB           1       matrix=constrain(matrix,'22.14,72.51,48.51,98.13,90.25,85.24,1.804,28.47,45.93,36.05,35.43,7.104,70.67,97.69,74.87,39.72,13.98,58.00,2.024,85.30,L,94.20',True)\n",
      "    46    107.8 MiB      0.0 MiB           1       matrix=constrain(matrix,'72.16,93.13,45.85,76.06,22.53,36.16,81.15,92.51,97.12,67.37,37.37,69.21,72.32,63.23,92.90,61.86,11.42,34.15,49.78,6.688,L,97.49',True)\n",
      "    47    107.8 MiB      0.0 MiB           1       matrix=constrain(matrix,'58.39,34.12,77.96,5.433,83.02,84.14,59.82,22.39,70.75,19.67,24.53,41.00,56.24,89.32,14.63,77.15,34.12,34.28,55.17,31.45,L,34.16',True)\n",
      "    48    107.8 MiB      0.0 MiB           1       matrix=constrain(matrix,'20.15,1.416,74.34,23.20,8.632,71.47,32.10,59.23,91.44,37.58,23.29,39.11,19.54,3.000,2.319,43.50,35.17,66.78,40.41,50.82,L,6.26',True)\n",
      "    49                                             \n",
      "    50                                             #Restricciones 26-30:\n",
      "    51    107.8 MiB      0.0 MiB           1       matrix=constrain(matrix,'54.65,70.46,46.30,66.92,27.45,25.48,81.67,96.67,42.57,43.22,43.29,60.58,19.07,27.73,92.63,60.94,84.33,8.800,78.62,17.94,L,70.31',True)\n",
      "    52    107.8 MiB      0.0 MiB           1       matrix=constrain(matrix,'83.10,98.45,22.09,36.01,39.99,6.380,28.27,10.69,57.29,63.19,44.42,51.00,15.57,11.27,63.56,17.54,40.71,47.53,27.81,27.66,L,79.18',True)\n",
      "    53    107.8 MiB      0.0 MiB           1       matrix=constrain(matrix,'22.20,29.98,87.02,25.26,47.23,55.22,83.70,88.56,67.82,6.36,66.62,3.853,47.37,97.22,83.37,89.41,61.79,96.26,91.11,79.89,L,44.51',True)\n",
      "    54    107.8 MiB      0.0 MiB           1       matrix=constrain(matrix,'6.828,84.55,80.55,86.10,54.30,18.86,80.63,54.07,63.94,89.28,64.89,87.44,13.06,31.29,63.10,75.33,21.06,61.33,1.093,91.08,L,53.22',True)\n",
      "    55    107.8 MiB      0.0 MiB           1       matrix=constrain(matrix,'85.33,57.98,42.51,53.95,10.49,32.74,43.28,51.52,89.99,43.97,46.69,44.05,85.91,19.12,23.85,58.82,71.23,8.885,18.81,87.44,L,50.65',True)\n",
      "    56                                             \n",
      "    57                                             #Función objetivo:\n",
      "    58    107.8 MiB      0.0 MiB           1       matrix=obj(matrix,'52.16,45.51,69.09,84.88,38.73,84.47,97.50,61.32,16.27,36.42,77.24,36.91,62.85,50.77,81.22,66.94,31.10,45.05,37.68,40.76,0',True)\n",
      "    59                                         \n",
      "    60                                             \n",
      "    61    107.8 MiB      0.0 MiB           1       problem_approx_1 = maxz(matrix)\n",
      "    62    107.8 MiB      0.0 MiB           1       max_approx_1 = problem_approx_1['max']\n",
      "    63    107.8 MiB      0.0 MiB           1       problem_approx_1.pop('max')\n",
      "    64    107.8 MiB      0.0 MiB           1       coeff_approx_1 = np.array(list(problem_approx_1.values()))\n",
      "    65                                         \n",
      "    66    107.8 MiB      0.0 MiB           1       return max_approx_1, coeff_approx_1\n",
      "\n",
      "\n",
      "\n"
     ]
    },
    {
     "data": {
      "text/plain": [
       "Filename: /home/ubuntu/.local/lib/python3.8/site-packages/memory_profiler.py\n",
       "\n",
       "Line #    Mem usage    Increment  Occurences   Line Contents\n",
       "============================================================\n",
       "  1140    107.8 MiB    107.8 MiB           1               def wrapper(*args, **kwargs):\n",
       "  1141    107.8 MiB      0.0 MiB           1                   prof = get_prof()\n",
       "  1142    107.8 MiB      0.0 MiB           1                   val = prof(func)(*args, **kwargs)\n",
       "  1143    107.8 MiB      0.0 MiB           1                   show_results_bound(prof)\n",
       "  1144    107.8 MiB      0.0 MiB           1                   return val"
      ]
     },
     "metadata": {},
     "output_type": "display_data"
    }
   ],
   "source": [
    "%mprun -f profiling_memory_example profiling_memory_example(matrix_max_approx_1)"
   ]
  },
  {
   "cell_type": "markdown",
   "id": "667b463a",
   "metadata": {},
   "source": [
    "# Con `heapy`"
   ]
  },
  {
   "cell_type": "markdown",
   "id": "d7f5f552",
   "metadata": {},
   "source": [
    "Ejercicio a pequeña escala"
   ]
  },
  {
   "cell_type": "code",
   "execution_count": 28,
   "id": "d23ea83a",
   "metadata": {},
   "outputs": [
    {
     "name": "stderr",
     "output_type": "stream",
     "text": [
      "/usr/lib/python3/dist-packages/requests/__init__.py:89: RequestsDependencyWarning: urllib3 (1.25.8) or chardet (4.0.0) doesn't match a supported version!\n",
      "  warnings.warn(\"urllib3 ({}) or chardet ({}) doesn't match a supported \"\n"
     ]
    },
    {
     "name": "stdout",
     "output_type": "stream",
     "text": [
      "Partition of a set of 6 objects. Total size = 1080 bytes.\n",
      " Index  Count   %     Size   % Cumulative  % Kind (class / dict of class)\n",
      "     0      1  17      408  38       408  38 types.FrameType\n",
      "     1      1  17      344  32       752  70 numpy.ndarray\n",
      "     2      1  17      232  21       984  91 dict (no owner)\n",
      "     3      3  50       96   9      1080 100 numpy.float64\n"
     ]
    }
   ],
   "source": [
    "%run -i src/profiling/memoria/maxz_memory_profile_heapy.py"
   ]
  },
  {
   "cell_type": "markdown",
   "id": "1640412e",
   "metadata": {},
   "source": [
    "Ejercicio a mediana escala"
   ]
  },
  {
   "cell_type": "code",
   "execution_count": 29,
   "id": "36e5a378",
   "metadata": {},
   "outputs": [
    {
     "name": "stdout",
     "output_type": "stream",
     "text": [
      "Partition of a set of 13 objects. Total size = 14576 bytes.\n",
      " Index  Count   %     Size   % Cumulative  % Kind (class / dict of class)\n",
      "     0      1   8    13016  89     13016  89 numpy.ndarray\n",
      "     1      1   8      640   4     13656  94 dict (no owner)\n",
      "     2      1   8      408   3     14064  96 types.FrameType\n",
      "     3      1   8      136   1     14200  97 _io.StringIO\n",
      "     4      2  15      112   1     14312  98 list\n",
      "     5      3  23       96   1     14408  99 numpy.float64\n",
      "     6      1   8       72   0     14480  99 builtins.weakref\n",
      "     7      2  15       56   0     14536 100 int\n",
      "     8      1   8       40   0     14576 100 _thread.lock\n"
     ]
    }
   ],
   "source": [
    "%run -i src/profiling/memoria/maxz_memory_profile_heapy_medium_size.py"
   ]
  },
  {
   "cell_type": "markdown",
   "id": "ca84897c",
   "metadata": {},
   "source": [
    "# Para minz"
   ]
  },
  {
   "cell_type": "code",
   "execution_count": 30,
   "id": "9dcc2806",
   "metadata": {},
   "outputs": [
    {
     "name": "stdout",
     "output_type": "stream",
     "text": [
      "Partition of a set of 10 objects. Total size = 1264 bytes.\n",
      " Index  Count   %     Size   % Cumulative  % Kind (class / dict of class)\n",
      "     0      1  10      408  32       408  32 types.FrameType\n",
      "     1      1  10      264  21       672  53 numpy.ndarray\n",
      "     2      1  10      232  18       904  72 dict (no owner)\n",
      "     3      1  10      136  11      1040  82 _io.StringIO\n",
      "     4      3  30       96   8      1136  90 numpy.float64\n",
      "     5      1  10       72   6      1208  96 builtins.weakref\n",
      "     6      2  20       56   4      1264 100 int\n"
     ]
    }
   ],
   "source": [
    "%run -i src/profiling/memoria/minz_memory_profile_heapy.py"
   ]
  },
  {
   "cell_type": "markdown",
   "id": "a6124b4e",
   "metadata": {},
   "source": [
    "# Para net"
   ]
  },
  {
   "cell_type": "code",
   "execution_count": 31,
   "id": "ef0011d3",
   "metadata": {},
   "outputs": [
    {
     "name": "stdout",
     "output_type": "stream",
     "text": [
      "Partition of a set of 13 objects. Total size = 2368 bytes.\n",
      " Index  Count   %     Size   % Cumulative  % Kind (class / dict of class)\n",
      "     0      1   8     1144  48      1144  48 numpy.ndarray\n",
      "     1      1   8      408  17      1552  66 types.FrameType\n",
      "     2      1   8      360  15      1912  81 dict (no owner)\n",
      "     3      6  46      192   8      2104  89 numpy.float64\n",
      "     4      1   8      136   6      2240  95 _io.StringIO\n",
      "     5      1   8       72   3      2312  98 builtins.weakref\n",
      "     6      2  15       56   2      2368 100 int\n"
     ]
    }
   ],
   "source": [
    "%run -i src/profiling/memoria/net_memory_profile_heapy.py"
   ]
  },
  {
   "cell_type": "code",
   "execution_count": null,
   "id": "4c660acc",
   "metadata": {},
   "outputs": [],
   "source": []
  }
 ],
 "metadata": {
  "kernelspec": {
   "display_name": "Python 3",
   "language": "python",
   "name": "python3"
  },
  "language_info": {
   "codemirror_mode": {
    "name": "ipython",
    "version": 3
   },
   "file_extension": ".py",
   "mimetype": "text/x-python",
   "name": "python",
   "nbconvert_exporter": "python",
   "pygments_lexer": "ipython3",
   "version": "3.8.5"
  }
 },
 "nbformat": 4,
 "nbformat_minor": 5
}
