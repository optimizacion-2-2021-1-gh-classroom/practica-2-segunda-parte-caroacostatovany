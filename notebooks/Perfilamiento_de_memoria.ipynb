{
 "cells": [
  {
   "cell_type": "markdown",
   "id": "cfa45c24",
   "metadata": {},
   "source": [
    "# Perfilamiento de memoria"
   ]
  },
  {
   "cell_type": "code",
   "execution_count": 1,
   "id": "5151fba9",
   "metadata": {},
   "outputs": [],
   "source": [
    "from memory_profiler import memory_usage\n",
    "import time"
   ]
  },
  {
   "cell_type": "code",
   "execution_count": 2,
   "id": "14f0b8e6",
   "metadata": {},
   "outputs": [],
   "source": [
    "!pip install --quiet \"git+https://github.com/optimizacion-2-2021-1-gh-classroom/practica-1-segunda-parte-caroacostatovany.git#egg=mex&subdirectory=src\""
   ]
  },
  {
   "cell_type": "code",
   "execution_count": 3,
   "id": "a64f53a6",
   "metadata": {},
   "outputs": [],
   "source": [
    "#!pip uninstall mex -y"
   ]
  },
  {
   "cell_type": "code",
   "execution_count": 4,
   "id": "33bc3d55",
   "metadata": {},
   "outputs": [],
   "source": [
    "import copy\n",
    "import matplotlib.pyplot as plt\n",
    "import networkx as nx\n",
    "import numpy as np\n",
    "import os\n",
    "import pprint\n",
    "from scipy.optimize import linprog\n",
    "from pytest import approx\n",
    "\n",
    "from mex.simplex.simplex_networks import create_matrix, pivots_col, pivots_row, find_negative_col, find_negative_row, find_pivot_col, find_pivot_row, pivot\n",
    "from mex.simplex.problem_definition import add_cons, constrain, add_obj, obj, maxz, minz"
   ]
  },
  {
   "cell_type": "markdown",
   "id": "d14d2a6d",
   "metadata": {},
   "source": [
    "## Objetivo"
   ]
  },
  {
   "cell_type": "code",
   "execution_count": 5,
   "id": "cb701285",
   "metadata": {},
   "outputs": [],
   "source": [
    "c_max_obj_1 = [-3, -5]\n",
    "A_max_obj_1 = [[1, 0], [0, 2], [3, 2]]\n",
    "b_max_obj_1 = [4, 12, 18]"
   ]
  },
  {
   "cell_type": "code",
   "execution_count": 6,
   "id": "db4e926e",
   "metadata": {},
   "outputs": [],
   "source": [
    "max_obj_1 = -1*linprog(c_max_obj_1, A_ub=A_max_obj_1, b_ub=b_max_obj_1).fun"
   ]
  },
  {
   "cell_type": "code",
   "execution_count": 7,
   "id": "a8f79c09",
   "metadata": {},
   "outputs": [],
   "source": [
    "coeff_obj_1 = linprog(c_max_obj_1, A_ub=A_max_obj_1, b_ub=b_max_obj_1).x"
   ]
  },
  {
   "cell_type": "markdown",
   "id": "b2afb057",
   "metadata": {},
   "source": [
    "## Aproximación"
   ]
  },
  {
   "cell_type": "code",
   "execution_count": 8,
   "id": "bf05ae4f",
   "metadata": {},
   "outputs": [],
   "source": [
    "n_var_approx_1 = 2\n",
    "n_cons_approx_1 = 3"
   ]
  },
  {
   "cell_type": "code",
   "execution_count": 9,
   "id": "a8c1da01",
   "metadata": {},
   "outputs": [
    {
     "name": "stdout",
     "output_type": "stream",
     "text": [
      "start mem 94.1875\n",
      "max mem 94.3984375\n",
      "used mem 0.2109375\n",
      "fun output [[0. 0. 0. 0. 0. 0. 0.]\n",
      " [0. 0. 0. 0. 0. 0. 0.]\n",
      " [0. 0. 0. 0. 0. 0. 0.]\n",
      " [0. 0. 0. 0. 0. 0. 0.]]\n"
     ]
    }
   ],
   "source": [
    "matrix_max_approx_1 = create_matrix(n_var_approx_1,n_cons_approx_1)\n",
    "t = (create_matrix, (n_var_approx_1,n_cons_approx_1))\n",
    "start_mem = memory_usage(max_usage=True)\n",
    "res = memory_usage(t, max_usage=True, retval=True)\n",
    "print('start mem', start_mem)\n",
    "print('max mem', res[0])\n",
    "print('used mem', res[0]-start_mem)\n",
    "print('fun output', res[1])"
   ]
  },
  {
   "cell_type": "code",
   "execution_count": 10,
   "id": "3acdcbc7",
   "metadata": {},
   "outputs": [
    {
     "name": "stdout",
     "output_type": "stream",
     "text": [
      "start mem 94.4765625\n",
      "max mem 94.4921875\n",
      "used mem 0.015625\n",
      "fun output [[1. 0. 1. 0. 0. 0. 4.]\n",
      " [1. 0. 0. 1. 0. 0. 4.]\n",
      " [1. 0. 0. 0. 1. 0. 4.]\n",
      " [0. 0. 0. 0. 0. 0. 0.]]\n"
     ]
    }
   ],
   "source": [
    "matrix_max_approx_1 = create_matrix(n_var_approx_1,n_cons_approx_1)\n",
    "t = (constrain, (matrix_max_approx_1, '1,0,L,4', True))\n",
    "start_mem = memory_usage(max_usage=True)\n",
    "res = memory_usage(t, max_usage=True, retval=True)\n",
    "print('start mem', start_mem)\n",
    "print('max mem', res[0])\n",
    "print('used mem', res[0]-start_mem)\n",
    "print('fun output', res[1])"
   ]
  },
  {
   "cell_type": "code",
   "execution_count": 11,
   "id": "992fa690",
   "metadata": {},
   "outputs": [
    {
     "name": "stdout",
     "output_type": "stream",
     "text": [
      "start mem 94.51953125\n",
      "max mem 94.51953125\n",
      "used mem 0.0\n",
      "fun output [[ 1.  0.  1.  0.  0.  0.  4.]\n",
      " [ 0.  2.  0.  1.  0.  0. 12.]\n",
      " [ 3.  2.  0.  0.  1.  0. 18.]\n",
      " [ 0.  0.  0.  0.  0.  0.  0.]]\n"
     ]
    }
   ],
   "source": [
    "matrix_max_approx_1 = create_matrix(n_var_approx_1,n_cons_approx_1)\n",
    "constrain(matrix_max_approx_1,'1,0,L,4')\n",
    "constrain(matrix_max_approx_1,'0,2,L,12')\n",
    "constrain(matrix_max_approx_1,'3,2,L,18')\n",
    "t = (constrain, (matrix_max_approx_1, '3,2,L,18', True))\n",
    "start_mem = memory_usage(max_usage=True)\n",
    "res = memory_usage(t, max_usage=True, retval=True)\n",
    "print('start mem', start_mem)\n",
    "print('max mem', res[0])\n",
    "print('used mem', res[0]-start_mem)\n",
    "print('fun output', res[1])"
   ]
  },
  {
   "cell_type": "code",
   "execution_count": 12,
   "id": "f40884a2",
   "metadata": {},
   "outputs": [
    {
     "name": "stdout",
     "output_type": "stream",
     "text": [
      "start mem 94.52734375\n",
      "max mem 94.52734375\n",
      "used mem 0.0\n",
      "fun output None\n"
     ]
    }
   ],
   "source": [
    "t = (obj, (matrix_max_approx_1, '3,5,0'))\n",
    "start_mem = memory_usage(max_usage=True)\n",
    "res = memory_usage(t, max_usage=True, retval=True)\n",
    "print('start mem', start_mem)\n",
    "print('max mem', res[0])\n",
    "print('used mem', res[0]-start_mem)\n",
    "print('fun output', res[1])"
   ]
  },
  {
   "cell_type": "code",
   "execution_count": 13,
   "id": "f1662501",
   "metadata": {},
   "outputs": [
    {
     "name": "stdout",
     "output_type": "stream",
     "text": [
      "start mem 94.5546875\n",
      "max mem 94.5234375\n",
      "used mem -0.03125\n",
      "fun output {'x1': 2.0, 'x2': 6.0, 'max': 36.0}\n"
     ]
    }
   ],
   "source": [
    "t = (maxz, (matrix_max_approx_1,True))\n",
    "start_mem = memory_usage(max_usage=True)\n",
    "res = memory_usage(t, max_usage=True, retval=True)\n",
    "print('start mem', start_mem)\n",
    "print('max mem', res[0])\n",
    "print('used mem', res[0]-start_mem)\n",
    "print('fun output', res[1])"
   ]
  },
  {
   "cell_type": "code",
   "execution_count": 14,
   "id": "dirty-granny",
   "metadata": {},
   "outputs": [],
   "source": [
    "def profiling_memory_example(matrix, aux=True):\n",
    "    \"\"\"\n",
    "    Realizar todo el proceso del problema a resolver de optimización con el método Simplex\n",
    "    \"\"\"\n",
    "    constrain(matrix,'1,0,L,4')\n",
    "    constrain(matrix,'0,2,L,12')\n",
    "    constrain(matrix,'3,2,L,18')\n",
    "    obj(matrix,'3,5,0')\n",
    "    problem_approx_1 = maxz(matrix)\n",
    "    max_approx_1 = problem_approx_1['max']\n",
    "    problem_approx_1.pop('max')\n",
    "    coeff_approx_1 = np.array(list(problem_approx_1.values()))\n",
    "    \n",
    "    return max_approx_1, coeff_approx_1"
   ]
  },
  {
   "cell_type": "code",
   "execution_count": 15,
   "id": "valuable-movie",
   "metadata": {},
   "outputs": [
    {
     "name": "stdout",
     "output_type": "stream",
     "text": [
      "start mem 94.57421875\n",
      "max mem 89.43359375\n",
      "used mem -5.140625\n",
      "fun output (36.0, array([2., 6.]))\n"
     ]
    }
   ],
   "source": [
    "# Todo junto\n",
    "matrix_max_approx_1 = create_matrix(n_var_approx_1,n_cons_approx_1)\n",
    "t = (profiling_memory_example, (matrix_max_approx_1,True))\n",
    "start_mem = memory_usage(max_usage=True)\n",
    "res = memory_usage(t, max_usage=True, retval=True)\n",
    "print('start mem', start_mem)\n",
    "print('max mem', res[0])\n",
    "print('used mem', res[0]-start_mem)\n",
    "print('fun output', res[1])"
   ]
  },
  {
   "cell_type": "code",
   "execution_count": 16,
   "id": "313f5617",
   "metadata": {},
   "outputs": [],
   "source": [
    "# Guardar variables para comprobación\n",
    "matrix_max_approx_1 = create_matrix(n_var_approx_1,n_cons_approx_1)\n",
    "constrain(matrix_max_approx_1,'1,0,L,4')\n",
    "constrain(matrix_max_approx_1,'0,2,L,12')\n",
    "constrain(matrix_max_approx_1,'3,2,L,18')\n",
    "obj(matrix_max_approx_1,'3,5,0')\n",
    "problem_approx_1 = maxz(matrix_max_approx_1)\n",
    "max_approx_1 = problem_approx_1['max']\n",
    "problem_approx_1.pop('max')\n",
    "coeff_approx_1 = np.array(list(problem_approx_1.values()))"
   ]
  },
  {
   "cell_type": "markdown",
   "id": "a226357d",
   "metadata": {},
   "source": [
    "## Comprobación"
   ]
  },
  {
   "cell_type": "code",
   "execution_count": 17,
   "id": "a03ef683",
   "metadata": {},
   "outputs": [
    {
     "name": "stdout",
     "output_type": "stream",
     "text": [
      "El valor objetivo obtenido con scipy es:  35.999999978433735\n",
      "El valor aproximado obtenido con mex es:  36.0\n",
      "Los coeficientes objetivos obtenidos con scipy son:  [2. 6.]\n",
      "Los coeficientes aproximados obtenidos con mex son:  [2. 6.]\n"
     ]
    }
   ],
   "source": [
    "assert max_obj_1 == approx(max_approx_1), \"El valor aproximado es incorrecto\"\n",
    "assert coeff_obj_1 == approx(coeff_approx_1), \"El valor de los coeficientes aproximados es incorrecto\"\n",
    "\n",
    "print(\"El valor objetivo obtenido con scipy es: \", max_obj_1)\n",
    "print(\"El valor aproximado obtenido con mex es: \", max_approx_1)\n",
    "print(\"Los coeficientes objetivos obtenidos con scipy son: \", coeff_obj_1)\n",
    "print(\"Los coeficientes aproximados obtenidos con mex son: \", coeff_approx_1)"
   ]
  },
  {
   "cell_type": "markdown",
   "id": "b144fca2",
   "metadata": {},
   "source": [
    "# Con `%memit`"
   ]
  },
  {
   "cell_type": "code",
   "execution_count": 18,
   "id": "intellectual-tomorrow",
   "metadata": {},
   "outputs": [],
   "source": [
    "%load_ext memory_profiler"
   ]
  },
  {
   "cell_type": "code",
   "execution_count": 19,
   "id": "stylish-substitute",
   "metadata": {},
   "outputs": [
    {
     "name": "stdout",
     "output_type": "stream",
     "text": [
      "peak memory: 92.77 MiB, increment: -0.30 MiB\n"
     ]
    }
   ],
   "source": [
    "%memit"
   ]
  },
  {
   "cell_type": "code",
   "execution_count": 20,
   "id": "basic-disorder",
   "metadata": {},
   "outputs": [
    {
     "name": "stdout",
     "output_type": "stream",
     "text": [
      "peak memory: 98.41 MiB, increment: 5.63 MiB\n"
     ]
    }
   ],
   "source": [
    "%memit -c profiling_memory_example(create_matrix(n_var_approx_1,n_cons_approx_1), True)"
   ]
  },
  {
   "cell_type": "markdown",
   "id": "standard-rouge",
   "metadata": {},
   "source": [
    "# Con `%mprun`"
   ]
  },
  {
   "cell_type": "code",
   "execution_count": 21,
   "id": "documentary-advertiser",
   "metadata": {},
   "outputs": [],
   "source": [
    "from src.profiling.memoria.maxz_memory_profiler import profiling_memory_example"
   ]
  },
  {
   "cell_type": "code",
   "execution_count": 22,
   "id": "brown-account",
   "metadata": {},
   "outputs": [],
   "source": [
    "matrix_max_approx_1 = create_matrix(n_var_approx_1,n_cons_approx_1)"
   ]
  },
  {
   "cell_type": "code",
   "execution_count": 23,
   "id": "advance-throat",
   "metadata": {},
   "outputs": [
    {
     "name": "stdout",
     "output_type": "stream",
     "text": [
      "Filename: /Users/eduardomorenoortiz/Desktop/MaestriaCD/Semestres/Semestre2/optimizacion_avanzada/practicas/practica_2/practica-2-segunda-parte-caroacostatovany/src/profiling/memoria/maxz_memory_profiler.py\n",
      "\n",
      "Line #    Mem usage    Increment  Occurences   Line Contents\n",
      "============================================================\n",
      "     9     93.5 MiB     93.5 MiB           1   @profile\n",
      "    10                                         def profiling_memory_example(matrix, aux=True):\n",
      "    11                                             \"\"\"\n",
      "    12                                             Problema a resolver de optimización con el método Simplex\n",
      "    13                                             \"\"\"\n",
      "    14     93.5 MiB      0.0 MiB           1       constrain(matrix, '1,0,L,4')\n",
      "    15     93.5 MiB      0.0 MiB           1       constrain(matrix, '0,2,L,12')\n",
      "    16     93.5 MiB      0.0 MiB           1       constrain(matrix, '3,2,L,18')\n",
      "    17     93.5 MiB      0.0 MiB           1       obj(matrix, '3,5,0')\n",
      "    18     93.5 MiB      0.0 MiB           1       problem_approx_1 = maxz(matrix)\n",
      "    19     93.5 MiB      0.0 MiB           1       max_approx_1 = problem_approx_1['max']\n",
      "    20     93.5 MiB      0.0 MiB           1       problem_approx_1.pop('max')\n",
      "    21     93.5 MiB      0.0 MiB           1       coeff_approx_1 = np.array(list(problem_approx_1.values()))\n",
      "    22                                         \n",
      "    23     93.5 MiB      0.0 MiB           1       return max_approx_1, coeff_approx_1\n",
      "\n",
      "\n",
      "\n"
     ]
    }
   ],
   "source": [
    "%mprun -f profiling_memory_example profiling_memory_example(matrix_max_approx_1)"
   ]
  },
  {
   "cell_type": "markdown",
   "id": "romance-routine",
   "metadata": {},
   "source": [
    "# Con `heapy`"
   ]
  },
  {
   "cell_type": "code",
   "execution_count": 7,
   "id": "intimate-subject",
   "metadata": {},
   "outputs": [
    {
     "name": "stdout",
     "output_type": "stream",
     "text": [
      "Partition of a set of 12 objects. Total size = 1400 bytes.\n",
      " Index  Count   %     Size   % Cumulative  % Kind (class / dict of class)\n",
      "     0      1   8      416  30       416  30 types.FrameType\n",
      "     1      1   8      336  24       752  54 numpy.ndarray\n",
      "     2      1   8      240  17       992  71 dict (no owner)\n",
      "     3      2  17      128   9      1120  80 list\n",
      "     4      3  25       96   7      1216  87 numpy.float64\n",
      "     5      1   8       80   6      1296  93 builtins.weakref\n",
      "     6      2  17       64   5      1360  97 int\n",
      "     7      1   8       40   3      1400 100 _thread.lock\n"
     ]
    }
   ],
   "source": [
    "%run -i ../src/profiling/memoria/maxz_memory_profile_heapy.py"
   ]
  },
  {
   "cell_type": "markdown",
   "id": "ce7fe682",
   "metadata": {},
   "source": [
    "# Para minz"
   ]
  },
  {
   "cell_type": "code",
   "execution_count": 8,
   "id": "fleet-conviction",
   "metadata": {},
   "outputs": [
    {
     "name": "stdout",
     "output_type": "stream",
     "text": [
      "Partition of a set of 12 objects. Total size = 1320 bytes.\n",
      " Index  Count   %     Size   % Cumulative  % Kind (class / dict of class)\n",
      "     0      1   8      416  32       416  32 types.FrameType\n",
      "     1      1   8      256  19       672  51 numpy.ndarray\n",
      "     2      1   8      240  18       912  69 dict (no owner)\n",
      "     3      2  17      128  10      1040  79 list\n",
      "     4      3  25       96   7      1136  86 numpy.float64\n",
      "     5      1   8       80   6      1216  92 builtins.weakref\n",
      "     6      2  17       64   5      1280  97 int\n",
      "     7      1   8       40   3      1320 100 _thread.lock\n"
     ]
    }
   ],
   "source": [
    "%run -i ../src/profiling/memoria/minz_memory_profile_heapy.py"
   ]
  },
  {
   "cell_type": "markdown",
   "id": "interested-bristol",
   "metadata": {},
   "source": [
    "# Para net"
   ]
  },
  {
   "cell_type": "code",
   "execution_count": 9,
   "id": "bridal-scoop",
   "metadata": {},
   "outputs": [
    {
     "name": "stdout",
     "output_type": "stream",
     "text": [
      "Partition of a set of 12 objects. Total size = 2256 bytes.\n",
      " Index  Count   %     Size   % Cumulative  % Kind (class / dict of class)\n",
      "     0      1   8     1136  50      1136  50 numpy.ndarray\n",
      "     1      1   8      416  18      1552  69 types.FrameType\n",
      "     2      1   8      368  16      1920  85 dict (no owner)\n",
      "     3      6  50      192   9      2112  94 numpy.float64\n",
      "     4      1   8       80   4      2192  97 builtins.weakref\n",
      "     5      2  17       64   3      2256 100 int\n"
     ]
    }
   ],
   "source": [
    "%run -i ../src/profiling/memoria/net_memory_profile_heapy.py"
   ]
  }
 ],
 "metadata": {
  "kernelspec": {
   "display_name": "Python 3",
   "language": "python",
   "name": "python3"
  },
  "language_info": {
   "codemirror_mode": {
    "name": "ipython",
    "version": 3
   },
   "file_extension": ".py",
   "mimetype": "text/x-python",
   "name": "python",
   "nbconvert_exporter": "python",
   "pygments_lexer": "ipython3",
   "version": "3.7.3"
  }
 },
 "nbformat": 4,
 "nbformat_minor": 5
}
