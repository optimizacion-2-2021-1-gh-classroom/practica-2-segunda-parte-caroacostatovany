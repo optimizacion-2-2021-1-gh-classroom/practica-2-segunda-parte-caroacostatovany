{
 "cells": [
  {
   "cell_type": "markdown",
   "id": "smooth-header",
   "metadata": {},
   "source": [
    "# Perfilamiento con time"
   ]
  },
  {
   "cell_type": "code",
   "execution_count": 2,
   "id": "listed-referral",
   "metadata": {},
   "outputs": [],
   "source": [
    "import time"
   ]
  },
  {
   "cell_type": "code",
   "execution_count": 13,
   "id": "entertaining-bennett",
   "metadata": {},
   "outputs": [
    {
     "name": "stdout",
     "output_type": "stream",
     "text": [
      "\u001b[33mYou are using pip version 19.0.3, however version 21.1.1 is available.\r\n",
      "You should consider upgrading via the 'pip install --upgrade pip' command.\u001b[0m\r\n"
     ]
    }
   ],
   "source": [
    "!pip install --quiet pip install \"git+https://github.com/optimizacion-2-2021-1-gh-classroom/practica-1-segunda-parte-caroacostatovany.git#egg=mex&subdirectory=src\""
   ]
  },
  {
   "cell_type": "code",
   "execution_count": 15,
   "id": "attempted-advocate",
   "metadata": {},
   "outputs": [],
   "source": [
    "import copy\n",
    "import matplotlib.pyplot as plt\n",
    "import networkx as nx\n",
    "import numpy as np\n",
    "import os\n",
    "import pprint\n",
    "from scipy.optimize import linprog\n",
    "from pytest import approx\n",
    "\n",
    "from mex.simplex.simplex_networks import create_matrix, pivots_col, pivots_row, find_negative_col, find_negative_row, find_pivot_col, find_pivot_row, pivot\n",
    "from mex.simplex.problem_definition import add_cons, constrain, add_obj, obj, maxz, minz"
   ]
  },
  {
   "cell_type": "markdown",
   "id": "fundamental-roads",
   "metadata": {},
   "source": [
    "## Objetivo"
   ]
  },
  {
   "cell_type": "code",
   "execution_count": 16,
   "id": "after-picking",
   "metadata": {},
   "outputs": [],
   "source": [
    "c_max_obj_1 = [-3, -5]\n",
    "A_max_obj_1 = [[1, 0], [0, 2], [3, 2]]\n",
    "b_max_obj_1 = [4, 12, 18]"
   ]
  },
  {
   "cell_type": "code",
   "execution_count": 17,
   "id": "cardiovascular-providence",
   "metadata": {},
   "outputs": [],
   "source": [
    "max_obj_1 = -1*linprog(c_max_obj_1, A_ub=A_max_obj_1, b_ub=b_max_obj_1).fun"
   ]
  },
  {
   "cell_type": "code",
   "execution_count": 18,
   "id": "final-small",
   "metadata": {},
   "outputs": [],
   "source": [
    "coeff_obj_1 = linprog(c_max_obj_1, A_ub=A_max_obj_1, b_ub=b_max_obj_1).x"
   ]
  },
  {
   "cell_type": "markdown",
   "id": "informal-associate",
   "metadata": {},
   "source": [
    "## Aproximación"
   ]
  },
  {
   "cell_type": "code",
   "execution_count": 19,
   "id": "architectural-passion",
   "metadata": {},
   "outputs": [],
   "source": [
    "n_var_approx_1 = 2\n",
    "n_cons_approx_1 = 3"
   ]
  },
  {
   "cell_type": "code",
   "execution_count": 20,
   "id": "according-occasion",
   "metadata": {},
   "outputs": [
    {
     "name": "stdout",
     "output_type": "stream",
     "text": [
      "create_matrix tomó 0.0002834796905517578 segundos\n"
     ]
    }
   ],
   "source": [
    "start_time = time.time()\n",
    "matrix_max_approx_1 = create_matrix(n_var_approx_1,n_cons_approx_1)\n",
    "end_time = time.time()\n",
    "secs = end_time-start_time\n",
    "print(\"create_matrix tomó\",secs,\"segundos\" )"
   ]
  },
  {
   "cell_type": "code",
   "execution_count": 21,
   "id": "owned-therapist",
   "metadata": {},
   "outputs": [
    {
     "name": "stdout",
     "output_type": "stream",
     "text": [
      "constrain tomó 0.0005183219909667969 segundos\n"
     ]
    }
   ],
   "source": [
    "start_time = time.time()\n",
    "constrain(matrix_max_approx_1,'1,0,L,4')\n",
    "end_time = time.time()\n",
    "secs = end_time-start_time\n",
    "print(\"constrain tomó\",secs,\"segundos\" )\n",
    "\n",
    "constrain(matrix_max_approx_1,'0,2,L,12')\n",
    "constrain(matrix_max_approx_1,'3,2,L,18')"
   ]
  },
  {
   "cell_type": "code",
   "execution_count": 22,
   "id": "shaped-stocks",
   "metadata": {},
   "outputs": [
    {
     "name": "stdout",
     "output_type": "stream",
     "text": [
      "obj tomó 0.0004169940948486328 segundos\n"
     ]
    }
   ],
   "source": [
    "start_time = time.time()\n",
    "obj(matrix_max_approx_1,'3,5,0')\n",
    "end_time = time.time()\n",
    "secs = end_time-start_time\n",
    "print(\"obj tomó\",secs,\"segundos\" )"
   ]
  },
  {
   "cell_type": "code",
   "execution_count": 28,
   "id": "apart-twelve",
   "metadata": {},
   "outputs": [
    {
     "name": "stdout",
     "output_type": "stream",
     "text": [
      "maxz tomó 0.001978158950805664 segundos\n"
     ]
    }
   ],
   "source": [
    "start_time = time.time()\n",
    "problem_approx_1 = maxz(matrix_max_approx_1)\n",
    "end_time = time.time()\n",
    "secs = end_time-start_time\n",
    "print(\"maxz tomó\",secs,\"segundos\" )"
   ]
  },
  {
   "cell_type": "code",
   "execution_count": 30,
   "id": "described-permit",
   "metadata": {},
   "outputs": [],
   "source": [
    "max_approx_1 = problem_approx_1['max']\n",
    "problem_approx_1.pop('max')\n",
    "coeff_approx_1 = np.array(list(problem_approx_1.values()))"
   ]
  },
  {
   "cell_type": "code",
   "execution_count": 34,
   "id": "japanese-ceremony",
   "metadata": {},
   "outputs": [
    {
     "name": "stdout",
     "output_type": "stream",
     "text": [
      "Todo el proceso tomó 0.003371000289916992 segundos\n"
     ]
    }
   ],
   "source": [
    "# Todo junto\n",
    "start_time = time.time()\n",
    "matrix_max_approx_1 = create_matrix(n_var_approx_1,n_cons_approx_1)\n",
    "constrain(matrix_max_approx_1,'1,0,L,4')\n",
    "constrain(matrix_max_approx_1,'0,2,L,12')\n",
    "constrain(matrix_max_approx_1,'3,2,L,18')\n",
    "obj(matrix_max_approx_1,'3,5,0')\n",
    "problem_approx_1 = maxz(matrix_max_approx_1)\n",
    "max_approx_1 = problem_approx_1['max']\n",
    "problem_approx_1.pop('max')\n",
    "coeff_approx_1 = np.array(list(problem_approx_1.values()))\n",
    "end_time = time.time()\n",
    "secs = end_time-start_time\n",
    "print(\"Todo el proceso tomó\",secs,\"segundos\" )"
   ]
  },
  {
   "cell_type": "markdown",
   "id": "approximate-framing",
   "metadata": {},
   "source": [
    "## Comprobación"
   ]
  },
  {
   "cell_type": "code",
   "execution_count": 31,
   "id": "loose-charter",
   "metadata": {},
   "outputs": [
    {
     "name": "stdout",
     "output_type": "stream",
     "text": [
      "El valor objetivo obtenido con scipy es:  35.999999978433735\n",
      "El valor aproximado obtenido con mex es:  36.0\n",
      "Los coeficientes objetivos obtenidos con scipy son:  [2. 6.]\n",
      "Los coeficientes aproximados obtenidos con mex son:  [2. 6.]\n"
     ]
    }
   ],
   "source": [
    "assert max_obj_1 == approx(max_approx_1), \"El valor aproximado es incorrecto\"\n",
    "assert coeff_obj_1 == approx(coeff_approx_1), \"El valor de los coeficientes aproximados es incorrecto\"\n",
    "\n",
    "print(\"El valor objetivo obtenido con scipy es: \", max_obj_1)\n",
    "print(\"El valor aproximado obtenido con mex es: \", max_approx_1)\n",
    "print(\"Los coeficientes objetivos obtenidos con scipy son: \", coeff_obj_1)\n",
    "print(\"Los coeficientes aproximados obtenidos con mex son: \", coeff_approx_1)"
   ]
  },
  {
   "cell_type": "markdown",
   "id": "generic-liberal",
   "metadata": {},
   "source": [
    "# Con comandos magic"
   ]
  },
  {
   "cell_type": "markdown",
   "id": "corrected-radius",
   "metadata": {},
   "source": [
    "Sólo probaremos con maxz que es la función que más se tardó en el proceso anterior"
   ]
  },
  {
   "cell_type": "code",
   "execution_count": 36,
   "id": "atlantic-viewer",
   "metadata": {},
   "outputs": [
    {
     "name": "stdout",
     "output_type": "stream",
     "text": [
      "CPU times: user 653 µs, sys: 222 µs, total: 875 µs\n",
      "Wall time: 888 µs\n"
     ]
    },
    {
     "data": {
      "text/plain": [
       "{'x1': 2.0, 'x2': 6.0, 'max': 36.0}"
      ]
     },
     "execution_count": 36,
     "metadata": {},
     "output_type": "execute_result"
    }
   ],
   "source": [
    "%time maxz(matrix_max_approx_1)"
   ]
  },
  {
   "cell_type": "code",
   "execution_count": 35,
   "id": "arranged-machine",
   "metadata": {},
   "outputs": [
    {
     "name": "stdout",
     "output_type": "stream",
     "text": [
      "181 µs ± 54.3 µs per loop (mean ± std. dev. of 10 runs, 5 loops each)\n"
     ]
    }
   ],
   "source": [
    "%timeit -n 5 -r 10 maxz(matrix_max_approx_1)"
   ]
  },
  {
   "cell_type": "markdown",
   "id": "korean-stanford",
   "metadata": {},
   "source": [
    "# Con cProfile"
   ]
  },
  {
   "cell_type": "code",
   "execution_count": 1,
   "id": "protecting-occupation",
   "metadata": {},
   "outputs": [],
   "source": [
    "import cProfile"
   ]
  },
  {
   "cell_type": "code",
   "execution_count": 37,
   "id": "surface-telephone",
   "metadata": {},
   "outputs": [
    {
     "name": "stdout",
     "output_type": "stream",
     "text": [
      "         151 function calls in 0.001 seconds\n",
      "\n",
      "   Ordered by: cumulative time\n",
      "\n",
      "   ncalls  tottime  percall  cumtime  percall filename:lineno(function)\n",
      "        2    0.000    0.000    0.000    0.000 interactiveshell.py:3386(run_code)\n",
      "        2    0.000    0.000    0.000    0.000 {built-in method builtins.exec}\n",
      "        1    0.000    0.000    0.000    0.000 <ipython-input-37-4199b605bc38>:3(<module>)\n",
      "        1    0.000    0.000    0.000    0.000 problem_definition.py:178(maxz)\n",
      "        4    0.000    0.000    0.000    0.000 simplex_networks.py:146(find_pivot_row)\n",
      "        2    0.000    0.000    0.000    0.000 simplex_networks.py:174(pivot)\n",
      "        4    0.000    0.000    0.000    0.000 simplex_networks.py:92(find_negative_row)\n",
      "        2    0.000    0.000    0.000    0.000 codeop.py:132(__call__)\n",
      "        2    0.000    0.000    0.000    0.000 {built-in method builtins.compile}\n",
      "        7    0.000    0.000    0.000    0.000 simplex_networks.py:47(pivots_row)\n",
      "       16    0.000    0.000    0.000    0.000 {built-in method builtins.min}\n",
      "        6    0.000    0.000    0.000    0.000 <__array_function__ internals>:2(where)\n",
      "        1    0.000    0.000    0.000    0.000 simplex_networks.py:26(pivots_col)\n",
      "        6    0.000    0.000    0.000    0.000 {built-in method numpy.core._multiarray_umath.implement_array_function}\n",
      "        2    0.000    0.000    0.000    0.000 general.py:21(gen_var)\n",
      "        2    0.000    0.000    0.000    0.000 contextlib.py:237(helper)\n",
      "        2    0.000    0.000    0.000    0.000 contextlib.py:116(__exit__)\n",
      "        2    0.000    0.000    0.000    0.000 contextlib.py:107(__enter__)\n",
      "        4    0.000    0.000    0.000    0.000 {built-in method builtins.next}\n",
      "        2    0.000    0.000    0.000    0.000 contextlib.py:81(__init__)\n",
      "        2    0.000    0.000    0.000    0.000 {built-in method builtins.sum}\n",
      "        4    0.000    0.000    0.000    0.000 compilerop.py:138(extra_flags)\n",
      "        2    0.000    0.000    0.000    0.000 traitlets.py:564(__get__)\n",
      "        2    0.000    0.000    0.000    0.000 {built-in method builtins.max}\n",
      "        4    0.000    0.000    0.000    0.000 {method 'index' of 'list' objects}\n",
      "        4    0.000    0.000    0.000    0.000 {built-in method builtins.getattr}\n",
      "        1    0.000    0.000    0.000    0.000 <ipython-input-37-4199b605bc38>:4(<module>)\n",
      "        2    0.000    0.000    0.000    0.000 {built-in method numpy.zeros}\n",
      "       23    0.000    0.000    0.000    0.000 {built-in method builtins.len}\n",
      "        2    0.000    0.000    0.000    0.000 hooks.py:103(__call__)\n",
      "        2    0.000    0.000    0.000    0.000 interactiveshell.py:117(<lambda>)\n",
      "        6    0.000    0.000    0.000    0.000 multiarray.py:321(where)\n",
      "        2    0.000    0.000    0.000    0.000 ipstruct.py:125(__getattr__)\n",
      "        2    0.000    0.000    0.000    0.000 traitlets.py:533(get)\n",
      "       16    0.000    0.000    0.000    0.000 {method 'append' of 'list' objects}\n",
      "        1    0.000    0.000    0.000    0.000 {method 'disable' of '_lsprof.Profiler' objects}\n",
      "        2    0.000    0.000    0.000    0.000 interactiveshell.py:1277(user_global_ns)\n",
      "        2    0.000    0.000    0.000    0.000 interactiveshell.py:3328(compare)\n",
      "        2    0.000    0.000    0.000    0.000 hooks.py:168(pre_run_code_hook)\n",
      "\n",
      "\n"
     ]
    }
   ],
   "source": [
    "cprof = cProfile.Profile()\n",
    "cprof.enable()\n",
    "problem_approx_1 = maxz(matrix_max_approx_1)\n",
    "cprof.disable()\n",
    "cprof.print_stats(sort='cumtime')"
   ]
  },
  {
   "cell_type": "markdown",
   "id": "approximate-acting",
   "metadata": {},
   "source": [
    "## con comando magic"
   ]
  },
  {
   "cell_type": "code",
   "execution_count": 38,
   "id": "surprised-saver",
   "metadata": {},
   "outputs": [
    {
     "name": "stdout",
     "output_type": "stream",
     "text": [
      " "
     ]
    }
   ],
   "source": [
    " %prun -s cumulative problem_approx_1 = maxz(matrix_max_approx_1)"
   ]
  },
  {
   "cell_type": "code",
   "execution_count": 41,
   "id": "musical-geometry",
   "metadata": {},
   "outputs": [],
   "source": [
    "cprof.dump_stats(\"maxz_stats\")"
   ]
  },
  {
   "cell_type": "code",
   "execution_count": 42,
   "id": "scenic-transition",
   "metadata": {},
   "outputs": [],
   "source": [
    "import pstats"
   ]
  },
  {
   "cell_type": "code",
   "execution_count": 43,
   "id": "precise-violation",
   "metadata": {},
   "outputs": [
    {
     "name": "stdout",
     "output_type": "stream",
     "text": [
      "Wed May  5 18:15:34 2021    maxz_stats\n",
      "\n",
      "         151 function calls in 0.001 seconds\n",
      "\n",
      "   Ordered by: cumulative time\n",
      "   List reduced from 39 to 10 due to restriction <10>\n",
      "\n",
      "   ncalls  tottime  percall  cumtime  percall filename:lineno(function)\n",
      "        2    0.000    0.000    0.000    0.000 /home/user/.pyenv/versions/3.7.4/envs/optimizacion/lib/python3.7/site-packages/IPython/core/interactiveshell.py:3386(run_code)\n",
      "        2    0.000    0.000    0.000    0.000 {built-in method builtins.exec}\n",
      "        1    0.000    0.000    0.000    0.000 <ipython-input-37-4199b605bc38>:3(<module>)\n",
      "        1    0.000    0.000    0.000    0.000 /home/user/.pyenv/versions/3.7.4/envs/optimizacion/lib/python3.7/site-packages/mex/simplex/problem_definition.py:178(maxz)\n",
      "        4    0.000    0.000    0.000    0.000 /home/user/.pyenv/versions/3.7.4/envs/optimizacion/lib/python3.7/site-packages/mex/simplex/simplex_networks.py:146(find_pivot_row)\n",
      "        2    0.000    0.000    0.000    0.000 /home/user/.pyenv/versions/3.7.4/envs/optimizacion/lib/python3.7/site-packages/mex/simplex/simplex_networks.py:174(pivot)\n",
      "        4    0.000    0.000    0.000    0.000 /home/user/.pyenv/versions/3.7.4/envs/optimizacion/lib/python3.7/site-packages/mex/simplex/simplex_networks.py:92(find_negative_row)\n",
      "        2    0.000    0.000    0.000    0.000 /home/user/.pyenv/versions/3.7.4/lib/python3.7/codeop.py:132(__call__)\n",
      "        2    0.000    0.000    0.000    0.000 {built-in method builtins.compile}\n",
      "        7    0.000    0.000    0.000    0.000 /home/user/.pyenv/versions/3.7.4/envs/optimizacion/lib/python3.7/site-packages/mex/simplex/simplex_networks.py:47(pivots_row)\n",
      "\n",
      "\n",
      "<pstats.Stats object at 0x7ff08badebd0>\n"
     ]
    }
   ],
   "source": [
    "p_max_stats = pstats.Stats(\"maxz_stats\")\n",
    "print(p_max_stats.sort_stats(\"cumulative\").print_stats(10))"
   ]
  },
  {
   "cell_type": "code",
   "execution_count": 55,
   "id": "spanish-transportation",
   "metadata": {},
   "outputs": [
    {
     "name": "stdout",
     "output_type": "stream",
     "text": [
      "Wed May  5 18:15:34 2021    maxz_stats\n",
      "\n",
      "         151 function calls in 0.001 seconds\n",
      "\n",
      "   Ordered by: cumulative time\n",
      "   List reduced from 39 to 7 due to restriction <'simplex|lambda|maxz'>\n",
      "\n",
      "   ncalls  tottime  percall  cumtime  percall filename:lineno(function)\n",
      "        1    0.000    0.000    0.000    0.000 problem_definition.py:178(maxz)\n",
      "        4    0.000    0.000    0.000    0.000 simplex_networks.py:146(find_pivot_row)\n",
      "        2    0.000    0.000    0.000    0.000 simplex_networks.py:174(pivot)\n",
      "        4    0.000    0.000    0.000    0.000 simplex_networks.py:92(find_negative_row)\n",
      "        7    0.000    0.000    0.000    0.000 simplex_networks.py:47(pivots_row)\n",
      "        1    0.000    0.000    0.000    0.000 simplex_networks.py:26(pivots_col)\n",
      "        2    0.000    0.000    0.000    0.000 interactiveshell.py:117(<lambda>)\n",
      "\n",
      "\n",
      "<pstats.Stats object at 0x7ff08badebd0>\n"
     ]
    }
   ],
   "source": [
    "print(p_max_stats.sort_stats(\"cumulative\").print_stats(\"simplex|lambda|maxz\"))"
   ]
  },
  {
   "cell_type": "code",
   "execution_count": 54,
   "id": "daily-annual",
   "metadata": {},
   "outputs": [
    {
     "name": "stdout",
     "output_type": "stream",
     "text": [
      "Wed May  5 18:15:34 2021    maxz_stats\n",
      "\n",
      "         151 function calls in 0.001 seconds\n",
      "\n",
      "   Ordered by: cumulative time\n",
      "   List reduced from 39 to 7 due to restriction <'lambda|simplex|maxz'>\n",
      "\n",
      "   ncalls  tottime  percall  cumtime  percall filename:lineno(function)\n",
      "        1    0.000    0.000    0.000    0.000 problem_definition.py:178(maxz)\n",
      "        4    0.000    0.000    0.000    0.000 simplex_networks.py:146(find_pivot_row)\n",
      "        2    0.000    0.000    0.000    0.000 simplex_networks.py:174(pivot)\n",
      "        4    0.000    0.000    0.000    0.000 simplex_networks.py:92(find_negative_row)\n",
      "        7    0.000    0.000    0.000    0.000 simplex_networks.py:47(pivots_row)\n",
      "        1    0.000    0.000    0.000    0.000 simplex_networks.py:26(pivots_col)\n",
      "        2    0.000    0.000    0.000    0.000 interactiveshell.py:117(<lambda>)\n",
      "\n",
      "\n",
      "<pstats.Stats object at 0x7ff08badebd0>\n"
     ]
    }
   ],
   "source": [
    "print(p_max_stats.strip_dirs().sort_stats(\"cumulative\").print_stats(\"lambda|simplex|maxz\"))"
   ]
  },
  {
   "cell_type": "code",
   "execution_count": 48,
   "id": "verbal-ozone",
   "metadata": {},
   "outputs": [
    {
     "name": "stdout",
     "output_type": "stream",
     "text": [
      "151\n"
     ]
    }
   ],
   "source": [
    "# El número de veces que se llamaron a funciones primitivas o built in: \n",
    "print(p_max_stats.prim_calls)"
   ]
  },
  {
   "cell_type": "code",
   "execution_count": 50,
   "id": "defined-freedom",
   "metadata": {},
   "outputs": [
    {
     "name": "stdout",
     "output_type": "stream",
     "text": [
      "   Ordered by: cumulative time\n",
      "\n",
      "Function                                                                 was called by...\n",
      "                                                                             ncalls  tottime  cumtime\n",
      "interactiveshell.py:3386(run_code)                                       <- \n",
      "{built-in method builtins.exec}                                          <-       2    0.000    0.000  interactiveshell.py:3386(run_code)\n",
      "<ipython-input-37-4199b605bc38>:3(<module>)                              <-       1    0.000    0.000  {built-in method builtins.exec}\n",
      "problem_definition.py:178(maxz)                                          <-       1    0.000    0.000  <ipython-input-37-4199b605bc38>:3(<module>)\n",
      "simplex_networks.py:146(find_pivot_row)                                  <-       4    0.000    0.000  problem_definition.py:178(maxz)\n",
      "simplex_networks.py:174(pivot)                                           <-       2    0.000    0.000  problem_definition.py:178(maxz)\n",
      "simplex_networks.py:92(find_negative_row)                                <-       4    0.000    0.000  simplex_networks.py:146(find_pivot_row)\n",
      "codeop.py:132(__call__)                                                  <- \n",
      "{built-in method builtins.compile}                                       <-       2    0.000    0.000  codeop.py:132(__call__)\n",
      "simplex_networks.py:47(pivots_row)                                       <-       3    0.000    0.000  problem_definition.py:178(maxz)\n",
      "                                                                                  4    0.000    0.000  simplex_networks.py:146(find_pivot_row)\n",
      "{built-in method builtins.min}                                           <-       1    0.000    0.000  simplex_networks.py:26(pivots_col)\n",
      "                                                                                  7    0.000    0.000  simplex_networks.py:47(pivots_row)\n",
      "                                                                                  4    0.000    0.000  simplex_networks.py:92(find_negative_row)\n",
      "                                                                                  4    0.000    0.000  simplex_networks.py:146(find_pivot_row)\n",
      "<__array_function__ internals>:2(where)                                  <-       2    0.000    0.000  problem_definition.py:178(maxz)\n",
      "                                                                                  4    0.000    0.000  simplex_networks.py:92(find_negative_row)\n",
      "simplex_networks.py:26(pivots_col)                                       <-       1    0.000    0.000  problem_definition.py:178(maxz)\n",
      "{built-in method numpy.core._multiarray_umath.implement_array_function}  <-       6    0.000    0.000  <__array_function__ internals>:2(where)\n",
      "general.py:21(gen_var)                                                   <-       2    0.000    0.000  problem_definition.py:178(maxz)\n",
      "contextlib.py:237(helper)                                                <- \n",
      "contextlib.py:116(__exit__)                                              <- \n",
      "contextlib.py:107(__enter__)                                             <- \n",
      "{built-in method builtins.next}                                          <-       2    0.000    0.000  contextlib.py:107(__enter__)\n",
      "                                                                                  2    0.000    0.000  contextlib.py:116(__exit__)\n",
      "contextlib.py:81(__init__)                                               <-       2    0.000    0.000  contextlib.py:237(helper)\n",
      "{built-in method builtins.sum}                                           <-       2    0.000    0.000  problem_definition.py:178(maxz)\n",
      "compilerop.py:138(extra_flags)                                           <-       4    0.000    0.000  {built-in method builtins.next}\n",
      "traitlets.py:564(__get__)                                                <- \n",
      "{built-in method builtins.max}                                           <-       2    0.000    0.000  problem_definition.py:178(maxz)\n",
      "{method 'index' of 'list' objects}                                       <-       4    0.000    0.000  simplex_networks.py:146(find_pivot_row)\n",
      "{built-in method builtins.getattr}                                       <-       2    0.000    0.000  contextlib.py:81(__init__)\n",
      "<ipython-input-37-4199b605bc38>:4(<module>)                              <-       1    0.000    0.000  {built-in method builtins.exec}\n",
      "{built-in method numpy.zeros}                                            <-       2    0.000    0.000  simplex_networks.py:174(pivot)\n",
      "{built-in method builtins.len}                                           <-       4    0.000    0.000  general.py:21(gen_var)\n",
      "                                                                                  2    0.000    0.000  problem_definition.py:178(maxz)\n",
      "                                                                                  7    0.000    0.000  simplex_networks.py:47(pivots_row)\n",
      "                                                                                  4    0.000    0.000  simplex_networks.py:92(find_negative_row)\n",
      "                                                                                  6    0.000    0.000  simplex_networks.py:174(pivot)\n",
      "hooks.py:103(__call__)                                                   <-       2    0.000    0.000  interactiveshell.py:3386(run_code)\n",
      "interactiveshell.py:117(<lambda>)                                        <- \n",
      "multiarray.py:321(where)                                                 <-       6    0.000    0.000  <__array_function__ internals>:2(where)\n",
      "ipstruct.py:125(__getattr__)                                             <-       2    0.000    0.000  interactiveshell.py:3386(run_code)\n",
      "traitlets.py:533(get)                                                    <-       2    0.000    0.000  traitlets.py:564(__get__)\n",
      "{method 'append' of 'list' objects}                                      <-       4    0.000    0.000  general.py:21(gen_var)\n",
      "                                                                                 12    0.000    0.000  simplex_networks.py:146(find_pivot_row)\n",
      "{method 'disable' of '_lsprof.Profiler' objects}                         <-       1    0.000    0.000  <ipython-input-37-4199b605bc38>:4(<module>)\n",
      "interactiveshell.py:1277(user_global_ns)                                 <-       2    0.000    0.000  interactiveshell.py:3386(run_code)\n",
      "interactiveshell.py:3328(compare)                                        <- \n",
      "hooks.py:168(pre_run_code_hook)                                          <-       2    0.000    0.000  hooks.py:103(__call__)\n",
      "\n",
      "\n"
     ]
    },
    {
     "data": {
      "text/plain": [
       "<pstats.Stats at 0x7ff08badebd0>"
      ]
     },
     "execution_count": 50,
     "metadata": {},
     "output_type": "execute_result"
    }
   ],
   "source": [
    "# qué funciones llaman a otras\n",
    "p_max_stats.strip_dirs().sort_stats(\"cumulative\").print_callers()"
   ]
  },
  {
   "cell_type": "code",
   "execution_count": 51,
   "id": "hairy-terminal",
   "metadata": {},
   "outputs": [
    {
     "name": "stdout",
     "output_type": "stream",
     "text": [
      "   Ordered by: cumulative time\n",
      "\n",
      "Function                                                                 was called by...\n",
      "                                                                             ncalls  tottime  cumtime\n",
      "interactiveshell.py:3386(run_code)                                       <- \n",
      "{built-in method builtins.exec}                                          <-       2    0.000    0.000  interactiveshell.py:3386(run_code)\n",
      "<ipython-input-37-4199b605bc38>:3(<module>)                              <-       1    0.000    0.000  {built-in method builtins.exec}\n",
      "problem_definition.py:178(maxz)                                          <-       1    0.000    0.000  <ipython-input-37-4199b605bc38>:3(<module>)\n",
      "simplex_networks.py:146(find_pivot_row)                                  <-       4    0.000    0.000  problem_definition.py:178(maxz)\n",
      "simplex_networks.py:174(pivot)                                           <-       2    0.000    0.000  problem_definition.py:178(maxz)\n",
      "simplex_networks.py:92(find_negative_row)                                <-       4    0.000    0.000  simplex_networks.py:146(find_pivot_row)\n",
      "codeop.py:132(__call__)                                                  <- \n",
      "{built-in method builtins.compile}                                       <-       2    0.000    0.000  codeop.py:132(__call__)\n",
      "simplex_networks.py:47(pivots_row)                                       <-       3    0.000    0.000  problem_definition.py:178(maxz)\n",
      "                                                                                  4    0.000    0.000  simplex_networks.py:146(find_pivot_row)\n",
      "{built-in method builtins.min}                                           <-       1    0.000    0.000  simplex_networks.py:26(pivots_col)\n",
      "                                                                                  7    0.000    0.000  simplex_networks.py:47(pivots_row)\n",
      "                                                                                  4    0.000    0.000  simplex_networks.py:92(find_negative_row)\n",
      "                                                                                  4    0.000    0.000  simplex_networks.py:146(find_pivot_row)\n",
      "<__array_function__ internals>:2(where)                                  <-       2    0.000    0.000  problem_definition.py:178(maxz)\n",
      "                                                                                  4    0.000    0.000  simplex_networks.py:92(find_negative_row)\n",
      "simplex_networks.py:26(pivots_col)                                       <-       1    0.000    0.000  problem_definition.py:178(maxz)\n",
      "{built-in method numpy.core._multiarray_umath.implement_array_function}  <-       6    0.000    0.000  <__array_function__ internals>:2(where)\n",
      "general.py:21(gen_var)                                                   <-       2    0.000    0.000  problem_definition.py:178(maxz)\n",
      "contextlib.py:237(helper)                                                <- \n",
      "contextlib.py:116(__exit__)                                              <- \n",
      "contextlib.py:107(__enter__)                                             <- \n",
      "{built-in method builtins.next}                                          <-       2    0.000    0.000  contextlib.py:107(__enter__)\n",
      "                                                                                  2    0.000    0.000  contextlib.py:116(__exit__)\n",
      "contextlib.py:81(__init__)                                               <-       2    0.000    0.000  contextlib.py:237(helper)\n",
      "{built-in method builtins.sum}                                           <-       2    0.000    0.000  problem_definition.py:178(maxz)\n",
      "compilerop.py:138(extra_flags)                                           <-       4    0.000    0.000  {built-in method builtins.next}\n",
      "traitlets.py:564(__get__)                                                <- \n",
      "{built-in method builtins.max}                                           <-       2    0.000    0.000  problem_definition.py:178(maxz)\n",
      "{method 'index' of 'list' objects}                                       <-       4    0.000    0.000  simplex_networks.py:146(find_pivot_row)\n",
      "{built-in method builtins.getattr}                                       <-       2    0.000    0.000  contextlib.py:81(__init__)\n",
      "<ipython-input-37-4199b605bc38>:4(<module>)                              <-       1    0.000    0.000  {built-in method builtins.exec}\n",
      "{built-in method numpy.zeros}                                            <-       2    0.000    0.000  simplex_networks.py:174(pivot)\n",
      "{built-in method builtins.len}                                           <-       4    0.000    0.000  general.py:21(gen_var)\n",
      "                                                                                  2    0.000    0.000  problem_definition.py:178(maxz)\n",
      "                                                                                  7    0.000    0.000  simplex_networks.py:47(pivots_row)\n",
      "                                                                                  4    0.000    0.000  simplex_networks.py:92(find_negative_row)\n",
      "                                                                                  6    0.000    0.000  simplex_networks.py:174(pivot)\n",
      "hooks.py:103(__call__)                                                   <-       2    0.000    0.000  interactiveshell.py:3386(run_code)\n",
      "interactiveshell.py:117(<lambda>)                                        <- \n",
      "multiarray.py:321(where)                                                 <-       6    0.000    0.000  <__array_function__ internals>:2(where)\n",
      "ipstruct.py:125(__getattr__)                                             <-       2    0.000    0.000  interactiveshell.py:3386(run_code)\n",
      "traitlets.py:533(get)                                                    <-       2    0.000    0.000  traitlets.py:564(__get__)\n",
      "{method 'append' of 'list' objects}                                      <-       4    0.000    0.000  general.py:21(gen_var)\n",
      "                                                                                 12    0.000    0.000  simplex_networks.py:146(find_pivot_row)\n",
      "{method 'disable' of '_lsprof.Profiler' objects}                         <-       1    0.000    0.000  <ipython-input-37-4199b605bc38>:4(<module>)\n",
      "interactiveshell.py:1277(user_global_ns)                                 <-       2    0.000    0.000  interactiveshell.py:3386(run_code)\n",
      "interactiveshell.py:3328(compare)                                        <- \n",
      "hooks.py:168(pre_run_code_hook)                                          <-       2    0.000    0.000  hooks.py:103(__call__)\n",
      "\n",
      "\n"
     ]
    },
    {
     "data": {
      "text/plain": [
       "<pstats.Stats at 0x7ff08badebd0>"
      ]
     },
     "execution_count": 51,
     "metadata": {},
     "output_type": "execute_result"
    }
   ],
   "source": [
    "p_max_stats.strip_dirs().sort_stats(\"cumulative\").print_callers()"
   ]
  },
  {
   "cell_type": "code",
   "execution_count": 52,
   "id": "relevant-protection",
   "metadata": {},
   "outputs": [
    {
     "name": "stdout",
     "output_type": "stream",
     "text": [
      "   Ordered by: cumulative time\n",
      "   List reduced from 39 to 10 due to restriction <10>\n",
      "\n",
      "Function                                     was called by...\n",
      "                                                 ncalls  tottime  cumtime\n",
      "interactiveshell.py:3386(run_code)           <- \n",
      "{built-in method builtins.exec}              <-       2    0.000    0.000  interactiveshell.py:3386(run_code)\n",
      "<ipython-input-37-4199b605bc38>:3(<module>)  <-       1    0.000    0.000  {built-in method builtins.exec}\n",
      "problem_definition.py:178(maxz)              <-       1    0.000    0.000  <ipython-input-37-4199b605bc38>:3(<module>)\n",
      "simplex_networks.py:146(find_pivot_row)      <-       4    0.000    0.000  problem_definition.py:178(maxz)\n",
      "simplex_networks.py:174(pivot)               <-       2    0.000    0.000  problem_definition.py:178(maxz)\n",
      "simplex_networks.py:92(find_negative_row)    <-       4    0.000    0.000  simplex_networks.py:146(find_pivot_row)\n",
      "codeop.py:132(__call__)                      <- \n",
      "{built-in method builtins.compile}           <-       2    0.000    0.000  codeop.py:132(__call__)\n",
      "simplex_networks.py:47(pivots_row)           <-       3    0.000    0.000  problem_definition.py:178(maxz)\n",
      "                                                      4    0.000    0.000  simplex_networks.py:146(find_pivot_row)\n",
      "\n",
      "\n"
     ]
    },
    {
     "data": {
      "text/plain": [
       "<pstats.Stats at 0x7ff08badebd0>"
      ]
     },
     "execution_count": 52,
     "metadata": {},
     "output_type": "execute_result"
    }
   ],
   "source": [
    "# Análogamente podemos establecer los filtros usados en print_stats\n",
    "p_max_stats.strip_dirs().sort_stats(\"cumulative\").print_callers(10)"
   ]
  },
  {
   "cell_type": "code",
   "execution_count": 53,
   "id": "sublime-marine",
   "metadata": {},
   "outputs": [
    {
     "name": "stdout",
     "output_type": "stream",
     "text": [
      "   Ordered by: cumulative time\n",
      "   List reduced from 39 to 2 due to restriction <'maxz|lambda'>\n",
      "\n",
      "Function                           called...\n",
      "                                       ncalls  tottime  cumtime\n",
      "problem_definition.py:178(maxz)    ->       2    0.000    0.000  <__array_function__ internals>:2(where)\n",
      "                                            2    0.000    0.000  general.py:21(gen_var)\n",
      "                                            1    0.000    0.000  simplex_networks.py:26(pivots_col)\n",
      "                                            3    0.000    0.000  simplex_networks.py:47(pivots_row)\n",
      "                                            4    0.000    0.000  simplex_networks.py:146(find_pivot_row)\n",
      "                                            2    0.000    0.000  simplex_networks.py:174(pivot)\n",
      "                                            2    0.000    0.000  {built-in method builtins.len}\n",
      "                                            2    0.000    0.000  {built-in method builtins.max}\n",
      "                                            2    0.000    0.000  {built-in method builtins.sum}\n",
      "interactiveshell.py:117(<lambda>)  -> \n",
      "\n",
      "\n"
     ]
    },
    {
     "data": {
      "text/plain": [
       "<pstats.Stats at 0x7ff08badebd0>"
      ]
     },
     "execution_count": 53,
     "metadata": {},
     "output_type": "execute_result"
    }
   ],
   "source": [
    "p_max_stats.strip_dirs().sort_stats(\"cumulative\").print_callees(\"maxz|lambda\")"
   ]
  },
  {
   "cell_type": "markdown",
   "id": "peaceful-drain",
   "metadata": {},
   "source": [
    "# Con line profiler"
   ]
  },
  {
   "cell_type": "code",
   "execution_count": 59,
   "id": "grateful-tracy",
   "metadata": {},
   "outputs": [
    {
     "name": "stdout",
     "output_type": "stream",
     "text": [
      "\u001b[33mYou are using pip version 19.0.3, however version 21.1.1 is available.\r\n",
      "You should consider upgrading via the 'pip install --upgrade pip' command.\u001b[0m\r\n"
     ]
    }
   ],
   "source": [
    "!pip install line_profiler --quiet"
   ]
  },
  {
   "cell_type": "code",
   "execution_count": 60,
   "id": "cubic-federal",
   "metadata": {},
   "outputs": [],
   "source": [
    "import line_profiler"
   ]
  },
  {
   "cell_type": "code",
   "execution_count": 61,
   "id": "communist-governor",
   "metadata": {},
   "outputs": [
    {
     "name": "stdout",
     "output_type": "stream",
     "text": [
      "{'x1': 2.0, 'x2': 6.0, 'max': 36.0}\n"
     ]
    }
   ],
   "source": [
    "line_prof = line_profiler.LineProfiler()\n",
    "\n",
    "print(line_prof(maxz)(matrix_max_approx_1))"
   ]
  },
  {
   "cell_type": "code",
   "execution_count": 62,
   "id": "subject-preview",
   "metadata": {},
   "outputs": [
    {
     "name": "stdout",
     "output_type": "stream",
     "text": [
      "Timer unit: 1e-06 s\n",
      "\n",
      "Total time: 0.001312 s\n",
      "File: /home/user/.pyenv/versions/3.7.4/envs/optimizacion/lib/python3.7/site-packages/mex/simplex/problem_definition.py\n",
      "Function: maxz at line 178\n",
      "\n",
      "Line #      Hits         Time  Per Hit   % Time  Line Contents\n",
      "==============================================================\n",
      "   178                                           def maxz(matrix):\n",
      "   179                                               \"\"\"\n",
      "   180                                               Creates maximization function. Determines if 1 extra pivot is required, locates the pivot element,\n",
      "   181                                               pivots about it and continues the process until all negative elements have been removed from\n",
      "   182                                               the last column and row.\n",
      "   183                                               \n",
      "   184                                               Args:\n",
      "   185                                               \n",
      "   186                                                   matrix (numpy array): problem matrix with constraints and objective function added.\n",
      "   187                                               \n",
      "   188                                               Returns:\n",
      "   189                                               \n",
      "   190                                                   *(dict)* A dictionary with Max and variables.\n",
      "   191                                                   \n",
      "   192                                               >>> problem_matrix = create_matrix(2,3)   # 2 variables and 3 constraints\n",
      "   193                                               >>> constrain(problem_matrix,'1,L,4')     # x_1 <= 4\n",
      "   194                                               >>> constrain(problem_matrix,'0,2,L,12')  # 2x_2 <= 12\n",
      "   195                                               >>> constrain(problem_matrix,'4,2,G,18')  # 4x_1 + 2x_2 >= 18\n",
      "   196                                               >>> obj(problem_matrix,'3,5,0')           # 3x_1 + 5x_2\n",
      "   197                                               >>> maxz(problem_matrix)\n",
      "   198                                               {'x1': 4.0, 'x2': 6.0, 'max': 42.0}\n",
      "   199                                               \"\"\"\n",
      "   200                                               \n",
      "   201         1        106.0    106.0      8.1      while pivots_col(matrix):\n",
      "   202                                                   matrix = pivot(find_pivot_col(matrix)[0], find_pivot_col(matrix)[1], matrix)\n",
      "   203         3         76.0     25.3      5.8      while pivots_row(matrix):\n",
      "   204         2        939.0    469.5     71.6          matrix = pivot(find_pivot_row(matrix)[0], find_pivot_row(matrix)[1], matrix)\n",
      "   205                                               \n",
      "   206         1          4.0      4.0      0.3      lc = len(matrix[0, :])\n",
      "   207         1          3.0      3.0      0.2      lr = len(matrix[:, 0])\n",
      "   208         1          3.0      3.0      0.2      var = lc - lr - 1\n",
      "   209         1          2.0      2.0      0.2      i = 0\n",
      "   210         1          2.0      2.0      0.2      val = {}\n",
      "   211                                               \n",
      "   212         3          8.0      2.7      0.6      for i in range(var):\n",
      "   213         2          8.0      4.0      0.6          col = matrix[:, i]\n",
      "   214         2         21.0     10.5      1.6          s = sum(col)\n",
      "   215         2         16.0      8.0      1.2          m = max(col)\n",
      "   216         2         10.0      5.0      0.8          if float(s) == float(m):\n",
      "   217         2         52.0     26.0      4.0              loc = np.where(col == m)[0][0]\n",
      "   218         2         56.0     28.0      4.3              val[gen_var(matrix)[i]] = matrix[loc, -1]\n",
      "   219                                                   else:\n",
      "   220                                                       val[gen_var(matrix)[i]] = 0\n",
      "   221         1          4.0      4.0      0.3      val['max'] = matrix[-1, -1]\n",
      "   222                                               \n",
      "   223         1          2.0      2.0      0.2      return val\n",
      "\n",
      "None\n"
     ]
    }
   ],
   "source": [
    "print(line_prof.print_stats())"
   ]
  },
  {
   "cell_type": "markdown",
   "id": "mobile-share",
   "metadata": {},
   "source": [
    "## Podemos agregar todas las funciones en el lineprofiler"
   ]
  },
  {
   "cell_type": "code",
   "execution_count": 69,
   "id": "satisfactory-italian",
   "metadata": {},
   "outputs": [],
   "source": [
    "# Todo junto\n",
    "line_prof_all = line_profiler.LineProfiler()\n",
    "\n",
    "line_prof_all.add_function(create_matrix)\n",
    "matrix_max_approx_1 = line_prof_all(create_matrix)(n_var_approx_1,n_cons_approx_1)\n",
    "line_prof_all.add_function(constrain)\n",
    "line_prof_all(constrain)(matrix_max_approx_1,'1,0,L,4')\n",
    "line_prof_all(constrain)(matrix_max_approx_1,'0,2,L,12')\n",
    "line_prof_all(constrain)(matrix_max_approx_1,'3,2,L,18')\n",
    "line_prof_all.add_function(obj)\n",
    "line_prof_all(obj)(matrix_max_approx_1,'3,5,0')\n",
    "line_prof_all.add_function(maxz)          \n",
    "problem_approx_1 = line_prof_all(maxz)(matrix_max_approx_1)"
   ]
  },
  {
   "cell_type": "code",
   "execution_count": 70,
   "id": "selected-cookbook",
   "metadata": {
    "scrolled": false
   },
   "outputs": [
    {
     "name": "stdout",
     "output_type": "stream",
     "text": [
      "Timer unit: 1e-06 s\n",
      "\n",
      "Total time: 0.001405 s\n",
      "File: /home/user/.pyenv/versions/3.7.4/envs/optimizacion/lib/python3.7/site-packages/mex/simplex/problem_definition.py\n",
      "Function: constrain at line 38\n",
      "\n",
      "Line #      Hits         Time  Per Hit   % Time  Line Contents\n",
      "==============================================================\n",
      "    38                                           def constrain(matrix, eq):\n",
      "    39                                               \"\"\"\n",
      "    40                                               Adds constraints to the problem.\n",
      "    41                                               \n",
      "    42                                               Args:\n",
      "    43                                               \n",
      "    44                                                   matrix (numpy array): matrix defined with :mod:`create_matrix`.\n",
      "    45                                                   \n",
      "    46                                                   eq (string): coefficients of constraints expressions. Use **L** for *less than*, **G** for *greater than*, **E** for *equal to*.\n",
      "    47                                               \n",
      "    48                                               >>> problem_matrix = create_matrix(2,3)   # 2 variables and 3 constraints\n",
      "    49                                               >>> constrain(problem_matrix,'1,L,4')     # x_1 <= 4\n",
      "    50                                               >>> constrain(problem_matrix,'0,2,L,12')  # 2x_2 <= 12\n",
      "    51                                               >>> constrain(problem_matrix,'3,2,G,18')  # 3x_1 + 2x_2 >= 18\n",
      "    52                                               \"\"\"\n",
      "    53                                           \n",
      "    54         3         18.0      6.0      1.3      if 'E' in eq:\n",
      "    55                                                   if add_cons(matrix):\n",
      "    56                                                       lc = len(matrix[0, :])\n",
      "    57                                                       lr = len(matrix[:, 0])\n",
      "    58                                                       var = lc - lr - 1\n",
      "    59                                                       j = 0\n",
      "    60                                           \n",
      "    61                                                       while j < lr:\n",
      "    62                                                           row_check = matrix[j,:]\n",
      "    63                                                           total = 0\n",
      "    64                                                           for i in row_check:\n",
      "    65                                                               total += float(i**2)\n",
      "    66                                                           if total == 0:\n",
      "    67                                                               row = row_check\n",
      "    68                                                               break\n",
      "    69                                                           j += 1\n",
      "    70                                                           \n",
      "    71                                                       eq = convert(eq)\n",
      "    72                                                       i = 0\n",
      "    73                                                       \n",
      "    74                                                       while i<len(eq)-1:\n",
      "    75                                                           row[i] = eq[i]\n",
      "    76                                                           i += 1\n",
      "    77                                                       \n",
      "    78                                                       row[-1] = eq[-1]\n",
      "    79                                                       #row[var+j] = 1\n",
      "    80                                                   \n",
      "    81                                                   else:\n",
      "    82                                                       logging.info('Cannot add another constraint.')\n",
      "    83                                                   \n",
      "    84                                               else:\n",
      "    85         3        574.0    191.3     40.9          if add_cons(matrix):\n",
      "    86         3         21.0      7.0      1.5              lc = len(matrix[0, :])\n",
      "    87         3         17.0      5.7      1.2              lr = len(matrix[:, 0])\n",
      "    88         3          8.0      2.7      0.6              var = lc - lr -1\n",
      "    89         3          6.0      2.0      0.4              j = 0\n",
      "    90                                                       \n",
      "    91         6         14.0      2.3      1.0              while j < lr:\n",
      "    92         6         21.0      3.5      1.5                  row_check = matrix[j, :]\n",
      "    93         6         11.0      1.8      0.8                  total = 0\n",
      "    94        48        122.0      2.5      8.7                  for i in row_check:\n",
      "    95        42        145.0      3.5     10.3                      total += float(i**2)\n",
      "    96         6         13.0      2.2      0.9                  if total == 0:\n",
      "    97         3          5.0      1.7      0.4                      row = row_check\n",
      "    98         3          7.0      2.3      0.5                      break\n",
      "    99         3          5.0      1.7      0.4                  j +=1\n",
      "   100                                                           \n",
      "   101         3        323.0    107.7     23.0              eq = convert(eq)\n",
      "   102         3          7.0      2.3      0.5              i = 0\n",
      "   103                                                       \n",
      "   104         9         28.0      3.1      2.0              while i<len(eq)-1:\n",
      "   105         6         27.0      4.5      1.9                  row[i] = eq[i]\n",
      "   106         6         13.0      2.2      0.9                  i += 1\n",
      "   107                                                       \n",
      "   108         3          8.0      2.7      0.6              row[-1] = eq[-1]\n",
      "   109         3         12.0      4.0      0.9              row[var+j] = 1\n",
      "   110                                                       \n",
      "   111                                                   else:\n",
      "   112                                                       logging.info('Cannot add another constraint.')\n",
      "\n",
      "Total time: 0.000149 s\n",
      "File: /home/user/.pyenv/versions/3.7.4/envs/optimizacion/lib/python3.7/site-packages/mex/simplex/problem_definition.py\n",
      "Function: obj at line 144\n",
      "\n",
      "Line #      Hits         Time  Per Hit   % Time  Line Contents\n",
      "==============================================================\n",
      "   144                                           def obj(matrix,eq):\n",
      "   145                                               \"\"\"\n",
      "   146                                               Adds the objective function to the problem matrix.\n",
      "   147                                               \n",
      "   148                                               .. note::\n",
      "   149                                                   Objective function must be added **after** constraints have been input.\n",
      "   150                                               \n",
      "   151                                               Args:\n",
      "   152                                               \n",
      "   153                                                   matrix (numpy array): matrix defined with :mod:`create_matrix`.\n",
      "   154                                                   \n",
      "   155                                                   eq (string): coefficients of objective function.\n",
      "   156                                               \n",
      "   157                                               >>> problem_matrix = create_matrix(2,3)   # 2 variables and 3 constraints\n",
      "   158                                               >>> constrain(problem_matrix,'1,L,4')     # x_1 <= 4\n",
      "   159                                               >>> constrain(problem_matrix,'0,2,L,12')  # 2x_2 <= 12\n",
      "   160                                               >>> constrain(problem_matrix,'4,2,G,18')  # 4x_1 + 2x_2 >= 18\n",
      "   161                                               >>> obj(problem_matrix,'3,5,0')           # 3x_1 + 5x_2\n",
      "   162                                               \"\"\"\n",
      "   163                                               \n",
      "   164         1         97.0     97.0     65.1      if add_obj(matrix):\n",
      "   165         1         13.0     13.0      8.7          eq = [float(i) for i in eq.split(',')]\n",
      "   166         1          4.0      4.0      2.7          lr = len(matrix[:,0])\n",
      "   167         1          4.0      4.0      2.7          row = matrix[lr-1,:]\n",
      "   168         1          2.0      2.0      1.3          i = 0\n",
      "   169         3         10.0      3.3      6.7          while i<len(eq)-1:\n",
      "   170         2         10.0      5.0      6.7              row[i] = eq[i]*-1\n",
      "   171         2          5.0      2.5      3.4              i +=1\n",
      "   172         1          2.0      2.0      1.3          row[-2] = 1\n",
      "   173         1          2.0      2.0      1.3          row[-1] = eq[-1]\n",
      "   174                                               else:\n",
      "   175                                                   logging.info('You must finish adding constraints before the objective function can be added.')\n",
      "\n",
      "Total time: 0.001185 s\n",
      "File: /home/user/.pyenv/versions/3.7.4/envs/optimizacion/lib/python3.7/site-packages/mex/simplex/problem_definition.py\n",
      "Function: maxz at line 178\n",
      "\n",
      "Line #      Hits         Time  Per Hit   % Time  Line Contents\n",
      "==============================================================\n",
      "   178                                           def maxz(matrix):\n",
      "   179                                               \"\"\"\n",
      "   180                                               Creates maximization function. Determines if 1 extra pivot is required, locates the pivot element,\n",
      "   181                                               pivots about it and continues the process until all negative elements have been removed from\n",
      "   182                                               the last column and row.\n",
      "   183                                               \n",
      "   184                                               Args:\n",
      "   185                                               \n",
      "   186                                                   matrix (numpy array): problem matrix with constraints and objective function added.\n",
      "   187                                               \n",
      "   188                                               Returns:\n",
      "   189                                               \n",
      "   190                                                   *(dict)* A dictionary with Max and variables.\n",
      "   191                                                   \n",
      "   192                                               >>> problem_matrix = create_matrix(2,3)   # 2 variables and 3 constraints\n",
      "   193                                               >>> constrain(problem_matrix,'1,L,4')     # x_1 <= 4\n",
      "   194                                               >>> constrain(problem_matrix,'0,2,L,12')  # 2x_2 <= 12\n",
      "   195                                               >>> constrain(problem_matrix,'4,2,G,18')  # 4x_1 + 2x_2 >= 18\n",
      "   196                                               >>> obj(problem_matrix,'3,5,0')           # 3x_1 + 5x_2\n",
      "   197                                               >>> maxz(problem_matrix)\n",
      "   198                                               {'x1': 4.0, 'x2': 6.0, 'max': 42.0}\n",
      "   199                                               \"\"\"\n",
      "   200                                               \n",
      "   201         1         36.0     36.0      3.0      while pivots_col(matrix):\n",
      "   202                                                   matrix = pivot(find_pivot_col(matrix)[0], find_pivot_col(matrix)[1], matrix)\n",
      "   203         3         69.0     23.0      5.8      while pivots_row(matrix):\n",
      "   204         2        845.0    422.5     71.3          matrix = pivot(find_pivot_row(matrix)[0], find_pivot_row(matrix)[1], matrix)\n",
      "   205                                               \n",
      "   206         1          5.0      5.0      0.4      lc = len(matrix[0, :])\n",
      "   207         1          4.0      4.0      0.3      lr = len(matrix[:, 0])\n",
      "   208         1          3.0      3.0      0.3      var = lc - lr - 1\n",
      "   209         1          2.0      2.0      0.2      i = 0\n",
      "   210         1          3.0      3.0      0.3      val = {}\n",
      "   211                                               \n",
      "   212         3         10.0      3.3      0.8      for i in range(var):\n",
      "   213         2          7.0      3.5      0.6          col = matrix[:, i]\n",
      "   214         2         27.0     13.5      2.3          s = sum(col)\n",
      "   215         2         17.0      8.5      1.4          m = max(col)\n",
      "   216         2         11.0      5.5      0.9          if float(s) == float(m):\n",
      "   217         2         70.0     35.0      5.9              loc = np.where(col == m)[0][0]\n",
      "   218         2         70.0     35.0      5.9              val[gen_var(matrix)[i]] = matrix[loc, -1]\n",
      "   219                                                   else:\n",
      "   220                                                       val[gen_var(matrix)[i]] = 0\n",
      "   221         1          4.0      4.0      0.3      val['max'] = matrix[-1, -1]\n",
      "   222                                               \n",
      "   223         1          2.0      2.0      0.2      return val\n",
      "\n",
      "Total time: 3.7e-05 s\n",
      "File: /home/user/.pyenv/versions/3.7.4/envs/optimizacion/lib/python3.7/site-packages/mex/simplex/simplex_networks.py\n",
      "Function: create_matrix at line 5\n",
      "\n",
      "Line #      Hits         Time  Per Hit   % Time  Line Contents\n",
      "==============================================================\n",
      "     5                                           def create_matrix(variables, constraints):\n",
      "     6                                               \"\"\"\n",
      "     7                                               Creates a matrix with enough rows for each constraint plus the objective function\n",
      "     8                                               and enough columns for all the variables.\n",
      "     9                                               \n",
      "    10                                               Args:\n",
      "    11                                               \n",
      "    12                                                   variables (int): number of variables.\n",
      "    13                                                   \n",
      "    14                                                   constraints (int): number of constraints.\n",
      "    15                                               \n",
      "    16                                               Returns:\n",
      "    17                                               \n",
      "    18                                                   matrix (numpy array): zero matrix.\n",
      "    19                                               \"\"\"\n",
      "    20                                               \n",
      "    21         1         34.0     34.0     91.9      matrix = np.zeros((constraints + 1, variables + constraints + 2))\n",
      "    22                                               \n",
      "    23         1          3.0      3.0      8.1      return matrix\n",
      "\n",
      "None\n"
     ]
    }
   ],
   "source": [
    "print(line_prof_all.print_stats())"
   ]
  },
  {
   "cell_type": "markdown",
   "id": "injured-jacket",
   "metadata": {},
   "source": [
    "# Uso de memoria"
   ]
  },
  {
   "cell_type": "code",
   "execution_count": null,
   "id": "confused-peter",
   "metadata": {},
   "outputs": [],
   "source": []
  }
 ],
 "metadata": {
  "kernelspec": {
   "display_name": "Python 3",
   "language": "python",
   "name": "python3"
  },
  "language_info": {
   "codemirror_mode": {
    "name": "ipython",
    "version": 3
   },
   "file_extension": ".py",
   "mimetype": "text/x-python",
   "name": "python",
   "nbconvert_exporter": "python",
   "pygments_lexer": "ipython3",
   "version": "3.7.4"
  }
 },
 "nbformat": 4,
 "nbformat_minor": 5
}
