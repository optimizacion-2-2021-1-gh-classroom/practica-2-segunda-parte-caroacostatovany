{
 "cells": [
  {
   "cell_type": "markdown",
   "id": "lovely-clause",
   "metadata": {},
   "source": [
    "# Perfilamiento con time"
   ]
  },
  {
   "cell_type": "code",
   "execution_count": 2,
   "id": "inappropriate-leather",
   "metadata": {},
   "outputs": [],
   "source": [
    "import time"
   ]
  },
  {
   "cell_type": "code",
   "execution_count": 13,
   "id": "changing-olympus",
   "metadata": {},
   "outputs": [
    {
     "name": "stdout",
     "output_type": "stream",
     "text": [
      "\u001b[33mYou are using pip version 19.0.3, however version 21.1.1 is available.\r\n",
      "You should consider upgrading via the 'pip install --upgrade pip' command.\u001b[0m\r\n"
     ]
    }
   ],
   "source": [
    "!pip install --quiet \"git+https://github.com/optimizacion-2-2021-1-gh-classroom/practica-1-segunda-parte-caroacostatovany.git#egg=mex&subdirectory=src\""
   ]
  },
  {
   "cell_type": "code",
   "execution_count": 84,
   "id": "applied-citation",
   "metadata": {},
   "outputs": [
    {
     "name": "stdout",
     "output_type": "stream",
     "text": [
      "Uninstalling mex-0.1:\n",
      "  Successfully uninstalled mex-0.1\n"
     ]
    }
   ],
   "source": [
    "#!pip uninstall mex -y"
   ]
  },
  {
   "cell_type": "code",
   "execution_count": 15,
   "id": "outdoor-announcement",
   "metadata": {},
   "outputs": [],
   "source": [
    "import copy\n",
    "import matplotlib.pyplot as plt\n",
    "import networkx as nx\n",
    "import numpy as np\n",
    "import os\n",
    "import pprint\n",
    "from scipy.optimize import linprog\n",
    "from pytest import approx\n",
    "\n",
    "from mex.simplex.simplex_networks import create_matrix, pivots_col, pivots_row, find_negative_col, find_negative_row, find_pivot_col, find_pivot_row, pivot\n",
    "from mex.simplex.problem_definition import add_cons, constrain, add_obj, obj, maxz, minz"
   ]
  },
  {
   "cell_type": "markdown",
   "id": "sunrise-phone",
   "metadata": {},
   "source": [
    "## Objetivo"
   ]
  },
  {
   "cell_type": "code",
   "execution_count": 16,
   "id": "proprietary-occurrence",
   "metadata": {},
   "outputs": [],
   "source": [
    "c_max_obj_1 = [-3, -5]\n",
    "A_max_obj_1 = [[1, 0], [0, 2], [3, 2]]\n",
    "b_max_obj_1 = [4, 12, 18]"
   ]
  },
  {
   "cell_type": "code",
   "execution_count": 17,
   "id": "immune-clark",
   "metadata": {},
   "outputs": [],
   "source": [
    "max_obj_1 = -1*linprog(c_max_obj_1, A_ub=A_max_obj_1, b_ub=b_max_obj_1).fun"
   ]
  },
  {
   "cell_type": "code",
   "execution_count": 18,
   "id": "annual-damage",
   "metadata": {},
   "outputs": [],
   "source": [
    "coeff_obj_1 = linprog(c_max_obj_1, A_ub=A_max_obj_1, b_ub=b_max_obj_1).x"
   ]
  },
  {
   "cell_type": "markdown",
   "id": "complicated-negotiation",
   "metadata": {},
   "source": [
    "## Aproximación"
   ]
  },
  {
   "cell_type": "code",
   "execution_count": 19,
   "id": "creative-jacket",
   "metadata": {},
   "outputs": [],
   "source": [
    "n_var_approx_1 = 2\n",
    "n_cons_approx_1 = 3"
   ]
  },
  {
   "cell_type": "code",
   "execution_count": 20,
   "id": "resident-liechtenstein",
   "metadata": {},
   "outputs": [
    {
     "name": "stdout",
     "output_type": "stream",
     "text": [
      "create_matrix tomó 0.0002834796905517578 segundos\n"
     ]
    }
   ],
   "source": [
    "start_time = time.time()\n",
    "matrix_max_approx_1 = create_matrix(n_var_approx_1,n_cons_approx_1)\n",
    "end_time = time.time()\n",
    "secs = end_time-start_time\n",
    "print(\"create_matrix tomó\",secs,\"segundos\" )"
   ]
  },
  {
   "cell_type": "code",
   "execution_count": 21,
   "id": "modified-newman",
   "metadata": {},
   "outputs": [
    {
     "name": "stdout",
     "output_type": "stream",
     "text": [
      "constrain tomó 0.0005183219909667969 segundos\n"
     ]
    }
   ],
   "source": [
    "start_time = time.time()\n",
    "constrain(matrix_max_approx_1,'1,0,L,4')\n",
    "end_time = time.time()\n",
    "secs = end_time-start_time\n",
    "print(\"constrain tomó\",secs,\"segundos\" )\n",
    "\n",
    "constrain(matrix_max_approx_1,'0,2,L,12')\n",
    "constrain(matrix_max_approx_1,'3,2,L,18')"
   ]
  },
  {
   "cell_type": "code",
   "execution_count": 22,
   "id": "mathematical-chester",
   "metadata": {},
   "outputs": [
    {
     "name": "stdout",
     "output_type": "stream",
     "text": [
      "obj tomó 0.0004169940948486328 segundos\n"
     ]
    }
   ],
   "source": [
    "start_time = time.time()\n",
    "obj(matrix_max_approx_1,'3,5,0')\n",
    "end_time = time.time()\n",
    "secs = end_time-start_time\n",
    "print(\"obj tomó\",secs,\"segundos\" )"
   ]
  },
  {
   "cell_type": "code",
   "execution_count": 28,
   "id": "divine-positive",
   "metadata": {},
   "outputs": [
    {
     "name": "stdout",
     "output_type": "stream",
     "text": [
      "maxz tomó 0.001978158950805664 segundos\n"
     ]
    }
   ],
   "source": [
    "start_time = time.time()\n",
    "problem_approx_1 = maxz(matrix_max_approx_1)\n",
    "end_time = time.time()\n",
    "secs = end_time-start_time\n",
    "print(\"maxz tomó\",secs,\"segundos\" )"
   ]
  },
  {
   "cell_type": "code",
   "execution_count": 30,
   "id": "alternative-judges",
   "metadata": {},
   "outputs": [],
   "source": [
    "max_approx_1 = problem_approx_1['max']\n",
    "problem_approx_1.pop('max')\n",
    "coeff_approx_1 = np.array(list(problem_approx_1.values()))"
   ]
  },
  {
   "cell_type": "code",
   "execution_count": 34,
   "id": "known-measure",
   "metadata": {},
   "outputs": [
    {
     "name": "stdout",
     "output_type": "stream",
     "text": [
      "Todo el proceso tomó 0.003371000289916992 segundos\n"
     ]
    }
   ],
   "source": [
    "# Todo junto\n",
    "start_time = time.time()\n",
    "matrix_max_approx_1 = create_matrix(n_var_approx_1,n_cons_approx_1)\n",
    "constrain(matrix_max_approx_1,'1,0,L,4')\n",
    "constrain(matrix_max_approx_1,'0,2,L,12')\n",
    "constrain(matrix_max_approx_1,'3,2,L,18')\n",
    "obj(matrix_max_approx_1,'3,5,0')\n",
    "problem_approx_1 = maxz(matrix_max_approx_1)\n",
    "max_approx_1 = problem_approx_1['max']\n",
    "problem_approx_1.pop('max')\n",
    "coeff_approx_1 = np.array(list(problem_approx_1.values()))\n",
    "end_time = time.time()\n",
    "secs = end_time-start_time\n",
    "print(\"Todo el proceso tomó\",secs,\"segundos\" )"
   ]
  },
  {
   "cell_type": "markdown",
   "id": "medium-ordinary",
   "metadata": {},
   "source": [
    "## Comprobación"
   ]
  },
  {
   "cell_type": "code",
   "execution_count": 31,
   "id": "impressed-paris",
   "metadata": {},
   "outputs": [
    {
     "name": "stdout",
     "output_type": "stream",
     "text": [
      "El valor objetivo obtenido con scipy es:  35.999999978433735\n",
      "El valor aproximado obtenido con mex es:  36.0\n",
      "Los coeficientes objetivos obtenidos con scipy son:  [2. 6.]\n",
      "Los coeficientes aproximados obtenidos con mex son:  [2. 6.]\n"
     ]
    }
   ],
   "source": [
    "assert max_obj_1 == approx(max_approx_1), \"El valor aproximado es incorrecto\"\n",
    "assert coeff_obj_1 == approx(coeff_approx_1), \"El valor de los coeficientes aproximados es incorrecto\"\n",
    "\n",
    "print(\"El valor objetivo obtenido con scipy es: \", max_obj_1)\n",
    "print(\"El valor aproximado obtenido con mex es: \", max_approx_1)\n",
    "print(\"Los coeficientes objetivos obtenidos con scipy son: \", coeff_obj_1)\n",
    "print(\"Los coeficientes aproximados obtenidos con mex son: \", coeff_approx_1)"
   ]
  },
  {
   "cell_type": "markdown",
   "id": "aggressive-experiment",
   "metadata": {},
   "source": [
    "# Con comandos magic"
   ]
  },
  {
   "cell_type": "markdown",
   "id": "varied-accordance",
   "metadata": {},
   "source": [
    "Sólo probaremos con maxz que es la función que más se tardó en el proceso anterior"
   ]
  },
  {
   "cell_type": "code",
   "execution_count": 36,
   "id": "individual-jones",
   "metadata": {},
   "outputs": [
    {
     "name": "stdout",
     "output_type": "stream",
     "text": [
      "CPU times: user 653 µs, sys: 222 µs, total: 875 µs\n",
      "Wall time: 888 µs\n"
     ]
    },
    {
     "data": {
      "text/plain": [
       "{'x1': 2.0, 'x2': 6.0, 'max': 36.0}"
      ]
     },
     "execution_count": 36,
     "metadata": {},
     "output_type": "execute_result"
    }
   ],
   "source": [
    "%time maxz(matrix_max_approx_1)"
   ]
  },
  {
   "cell_type": "code",
   "execution_count": 35,
   "id": "described-commission",
   "metadata": {},
   "outputs": [
    {
     "name": "stdout",
     "output_type": "stream",
     "text": [
      "181 µs ± 54.3 µs per loop (mean ± std. dev. of 10 runs, 5 loops each)\n"
     ]
    }
   ],
   "source": [
    "%timeit -n 5 -r 10 maxz(matrix_max_approx_1)"
   ]
  },
  {
   "cell_type": "markdown",
   "id": "conceptual-packaging",
   "metadata": {},
   "source": [
    "# Con cProfile"
   ]
  },
  {
   "cell_type": "code",
   "execution_count": 1,
   "id": "vanilla-tobago",
   "metadata": {},
   "outputs": [],
   "source": [
    "import cProfile"
   ]
  },
  {
   "cell_type": "code",
   "execution_count": 37,
   "id": "passing-junction",
   "metadata": {},
   "outputs": [
    {
     "name": "stdout",
     "output_type": "stream",
     "text": [
      "         151 function calls in 0.001 seconds\n",
      "\n",
      "   Ordered by: cumulative time\n",
      "\n",
      "   ncalls  tottime  percall  cumtime  percall filename:lineno(function)\n",
      "        2    0.000    0.000    0.000    0.000 interactiveshell.py:3386(run_code)\n",
      "        2    0.000    0.000    0.000    0.000 {built-in method builtins.exec}\n",
      "        1    0.000    0.000    0.000    0.000 <ipython-input-37-4199b605bc38>:3(<module>)\n",
      "        1    0.000    0.000    0.000    0.000 problem_definition.py:178(maxz)\n",
      "        4    0.000    0.000    0.000    0.000 simplex_networks.py:146(find_pivot_row)\n",
      "        2    0.000    0.000    0.000    0.000 simplex_networks.py:174(pivot)\n",
      "        4    0.000    0.000    0.000    0.000 simplex_networks.py:92(find_negative_row)\n",
      "        2    0.000    0.000    0.000    0.000 codeop.py:132(__call__)\n",
      "        2    0.000    0.000    0.000    0.000 {built-in method builtins.compile}\n",
      "        7    0.000    0.000    0.000    0.000 simplex_networks.py:47(pivots_row)\n",
      "       16    0.000    0.000    0.000    0.000 {built-in method builtins.min}\n",
      "        6    0.000    0.000    0.000    0.000 <__array_function__ internals>:2(where)\n",
      "        1    0.000    0.000    0.000    0.000 simplex_networks.py:26(pivots_col)\n",
      "        6    0.000    0.000    0.000    0.000 {built-in method numpy.core._multiarray_umath.implement_array_function}\n",
      "        2    0.000    0.000    0.000    0.000 general.py:21(gen_var)\n",
      "        2    0.000    0.000    0.000    0.000 contextlib.py:237(helper)\n",
      "        2    0.000    0.000    0.000    0.000 contextlib.py:116(__exit__)\n",
      "        2    0.000    0.000    0.000    0.000 contextlib.py:107(__enter__)\n",
      "        4    0.000    0.000    0.000    0.000 {built-in method builtins.next}\n",
      "        2    0.000    0.000    0.000    0.000 contextlib.py:81(__init__)\n",
      "        2    0.000    0.000    0.000    0.000 {built-in method builtins.sum}\n",
      "        4    0.000    0.000    0.000    0.000 compilerop.py:138(extra_flags)\n",
      "        2    0.000    0.000    0.000    0.000 traitlets.py:564(__get__)\n",
      "        2    0.000    0.000    0.000    0.000 {built-in method builtins.max}\n",
      "        4    0.000    0.000    0.000    0.000 {method 'index' of 'list' objects}\n",
      "        4    0.000    0.000    0.000    0.000 {built-in method builtins.getattr}\n",
      "        1    0.000    0.000    0.000    0.000 <ipython-input-37-4199b605bc38>:4(<module>)\n",
      "        2    0.000    0.000    0.000    0.000 {built-in method numpy.zeros}\n",
      "       23    0.000    0.000    0.000    0.000 {built-in method builtins.len}\n",
      "        2    0.000    0.000    0.000    0.000 hooks.py:103(__call__)\n",
      "        2    0.000    0.000    0.000    0.000 interactiveshell.py:117(<lambda>)\n",
      "        6    0.000    0.000    0.000    0.000 multiarray.py:321(where)\n",
      "        2    0.000    0.000    0.000    0.000 ipstruct.py:125(__getattr__)\n",
      "        2    0.000    0.000    0.000    0.000 traitlets.py:533(get)\n",
      "       16    0.000    0.000    0.000    0.000 {method 'append' of 'list' objects}\n",
      "        1    0.000    0.000    0.000    0.000 {method 'disable' of '_lsprof.Profiler' objects}\n",
      "        2    0.000    0.000    0.000    0.000 interactiveshell.py:1277(user_global_ns)\n",
      "        2    0.000    0.000    0.000    0.000 interactiveshell.py:3328(compare)\n",
      "        2    0.000    0.000    0.000    0.000 hooks.py:168(pre_run_code_hook)\n",
      "\n",
      "\n"
     ]
    }
   ],
   "source": [
    "cprof = cProfile.Profile()\n",
    "cprof.enable()\n",
    "problem_approx_1 = maxz(matrix_max_approx_1)\n",
    "cprof.disable()\n",
    "cprof.print_stats(sort='cumtime')"
   ]
  },
  {
   "cell_type": "markdown",
   "id": "colonial-utilization",
   "metadata": {},
   "source": [
    "## con comando magic"
   ]
  },
  {
   "cell_type": "code",
   "execution_count": 38,
   "id": "organic-georgia",
   "metadata": {},
   "outputs": [
    {
     "name": "stdout",
     "output_type": "stream",
     "text": [
      " "
     ]
    }
   ],
   "source": [
    " %prun -s cumulative problem_approx_1 = maxz(matrix_max_approx_1)"
   ]
  },
  {
   "cell_type": "code",
   "execution_count": 41,
   "id": "prompt-sellers",
   "metadata": {},
   "outputs": [],
   "source": [
    "cprof.dump_stats(\"maxz_stats\")"
   ]
  },
  {
   "cell_type": "code",
   "execution_count": 42,
   "id": "informational-settlement",
   "metadata": {},
   "outputs": [],
   "source": [
    "import pstats"
   ]
  },
  {
   "cell_type": "code",
   "execution_count": 43,
   "id": "understanding-language",
   "metadata": {},
   "outputs": [
    {
     "name": "stdout",
     "output_type": "stream",
     "text": [
      "Wed May  5 18:15:34 2021    maxz_stats\n",
      "\n",
      "         151 function calls in 0.001 seconds\n",
      "\n",
      "   Ordered by: cumulative time\n",
      "   List reduced from 39 to 10 due to restriction <10>\n",
      "\n",
      "   ncalls  tottime  percall  cumtime  percall filename:lineno(function)\n",
      "        2    0.000    0.000    0.000    0.000 /home/user/.pyenv/versions/3.7.4/envs/optimizacion/lib/python3.7/site-packages/IPython/core/interactiveshell.py:3386(run_code)\n",
      "        2    0.000    0.000    0.000    0.000 {built-in method builtins.exec}\n",
      "        1    0.000    0.000    0.000    0.000 <ipython-input-37-4199b605bc38>:3(<module>)\n",
      "        1    0.000    0.000    0.000    0.000 /home/user/.pyenv/versions/3.7.4/envs/optimizacion/lib/python3.7/site-packages/mex/simplex/problem_definition.py:178(maxz)\n",
      "        4    0.000    0.000    0.000    0.000 /home/user/.pyenv/versions/3.7.4/envs/optimizacion/lib/python3.7/site-packages/mex/simplex/simplex_networks.py:146(find_pivot_row)\n",
      "        2    0.000    0.000    0.000    0.000 /home/user/.pyenv/versions/3.7.4/envs/optimizacion/lib/python3.7/site-packages/mex/simplex/simplex_networks.py:174(pivot)\n",
      "        4    0.000    0.000    0.000    0.000 /home/user/.pyenv/versions/3.7.4/envs/optimizacion/lib/python3.7/site-packages/mex/simplex/simplex_networks.py:92(find_negative_row)\n",
      "        2    0.000    0.000    0.000    0.000 /home/user/.pyenv/versions/3.7.4/lib/python3.7/codeop.py:132(__call__)\n",
      "        2    0.000    0.000    0.000    0.000 {built-in method builtins.compile}\n",
      "        7    0.000    0.000    0.000    0.000 /home/user/.pyenv/versions/3.7.4/envs/optimizacion/lib/python3.7/site-packages/mex/simplex/simplex_networks.py:47(pivots_row)\n",
      "\n",
      "\n",
      "<pstats.Stats object at 0x7ff08badebd0>\n"
     ]
    }
   ],
   "source": [
    "p_max_stats = pstats.Stats(\"maxz_stats\")\n",
    "print(p_max_stats.sort_stats(\"cumulative\").print_stats(10))"
   ]
  },
  {
   "cell_type": "code",
   "execution_count": 55,
   "id": "indie-snapshot",
   "metadata": {},
   "outputs": [
    {
     "name": "stdout",
     "output_type": "stream",
     "text": [
      "Wed May  5 18:15:34 2021    maxz_stats\n",
      "\n",
      "         151 function calls in 0.001 seconds\n",
      "\n",
      "   Ordered by: cumulative time\n",
      "   List reduced from 39 to 7 due to restriction <'simplex|lambda|maxz'>\n",
      "\n",
      "   ncalls  tottime  percall  cumtime  percall filename:lineno(function)\n",
      "        1    0.000    0.000    0.000    0.000 problem_definition.py:178(maxz)\n",
      "        4    0.000    0.000    0.000    0.000 simplex_networks.py:146(find_pivot_row)\n",
      "        2    0.000    0.000    0.000    0.000 simplex_networks.py:174(pivot)\n",
      "        4    0.000    0.000    0.000    0.000 simplex_networks.py:92(find_negative_row)\n",
      "        7    0.000    0.000    0.000    0.000 simplex_networks.py:47(pivots_row)\n",
      "        1    0.000    0.000    0.000    0.000 simplex_networks.py:26(pivots_col)\n",
      "        2    0.000    0.000    0.000    0.000 interactiveshell.py:117(<lambda>)\n",
      "\n",
      "\n",
      "<pstats.Stats object at 0x7ff08badebd0>\n"
     ]
    }
   ],
   "source": [
    "print(p_max_stats.sort_stats(\"cumulative\").print_stats(\"simplex|lambda|maxz\"))"
   ]
  },
  {
   "cell_type": "code",
   "execution_count": 54,
   "id": "signed-wilderness",
   "metadata": {},
   "outputs": [
    {
     "name": "stdout",
     "output_type": "stream",
     "text": [
      "Wed May  5 18:15:34 2021    maxz_stats\n",
      "\n",
      "         151 function calls in 0.001 seconds\n",
      "\n",
      "   Ordered by: cumulative time\n",
      "   List reduced from 39 to 7 due to restriction <'lambda|simplex|maxz'>\n",
      "\n",
      "   ncalls  tottime  percall  cumtime  percall filename:lineno(function)\n",
      "        1    0.000    0.000    0.000    0.000 problem_definition.py:178(maxz)\n",
      "        4    0.000    0.000    0.000    0.000 simplex_networks.py:146(find_pivot_row)\n",
      "        2    0.000    0.000    0.000    0.000 simplex_networks.py:174(pivot)\n",
      "        4    0.000    0.000    0.000    0.000 simplex_networks.py:92(find_negative_row)\n",
      "        7    0.000    0.000    0.000    0.000 simplex_networks.py:47(pivots_row)\n",
      "        1    0.000    0.000    0.000    0.000 simplex_networks.py:26(pivots_col)\n",
      "        2    0.000    0.000    0.000    0.000 interactiveshell.py:117(<lambda>)\n",
      "\n",
      "\n",
      "<pstats.Stats object at 0x7ff08badebd0>\n"
     ]
    }
   ],
   "source": [
    "print(p_max_stats.strip_dirs().sort_stats(\"cumulative\").print_stats(\"lambda|simplex|maxz\"))"
   ]
  },
  {
   "cell_type": "code",
   "execution_count": 48,
   "id": "cathedral-thompson",
   "metadata": {},
   "outputs": [
    {
     "name": "stdout",
     "output_type": "stream",
     "text": [
      "151\n"
     ]
    }
   ],
   "source": [
    "# El número de veces que se llamaron a funciones primitivas o built in: \n",
    "print(p_max_stats.prim_calls)"
   ]
  },
  {
   "cell_type": "code",
   "execution_count": 50,
   "id": "trying-millennium",
   "metadata": {},
   "outputs": [
    {
     "name": "stdout",
     "output_type": "stream",
     "text": [
      "   Ordered by: cumulative time\n",
      "\n",
      "Function                                                                 was called by...\n",
      "                                                                             ncalls  tottime  cumtime\n",
      "interactiveshell.py:3386(run_code)                                       <- \n",
      "{built-in method builtins.exec}                                          <-       2    0.000    0.000  interactiveshell.py:3386(run_code)\n",
      "<ipython-input-37-4199b605bc38>:3(<module>)                              <-       1    0.000    0.000  {built-in method builtins.exec}\n",
      "problem_definition.py:178(maxz)                                          <-       1    0.000    0.000  <ipython-input-37-4199b605bc38>:3(<module>)\n",
      "simplex_networks.py:146(find_pivot_row)                                  <-       4    0.000    0.000  problem_definition.py:178(maxz)\n",
      "simplex_networks.py:174(pivot)                                           <-       2    0.000    0.000  problem_definition.py:178(maxz)\n",
      "simplex_networks.py:92(find_negative_row)                                <-       4    0.000    0.000  simplex_networks.py:146(find_pivot_row)\n",
      "codeop.py:132(__call__)                                                  <- \n",
      "{built-in method builtins.compile}                                       <-       2    0.000    0.000  codeop.py:132(__call__)\n",
      "simplex_networks.py:47(pivots_row)                                       <-       3    0.000    0.000  problem_definition.py:178(maxz)\n",
      "                                                                                  4    0.000    0.000  simplex_networks.py:146(find_pivot_row)\n",
      "{built-in method builtins.min}                                           <-       1    0.000    0.000  simplex_networks.py:26(pivots_col)\n",
      "                                                                                  7    0.000    0.000  simplex_networks.py:47(pivots_row)\n",
      "                                                                                  4    0.000    0.000  simplex_networks.py:92(find_negative_row)\n",
      "                                                                                  4    0.000    0.000  simplex_networks.py:146(find_pivot_row)\n",
      "<__array_function__ internals>:2(where)                                  <-       2    0.000    0.000  problem_definition.py:178(maxz)\n",
      "                                                                                  4    0.000    0.000  simplex_networks.py:92(find_negative_row)\n",
      "simplex_networks.py:26(pivots_col)                                       <-       1    0.000    0.000  problem_definition.py:178(maxz)\n",
      "{built-in method numpy.core._multiarray_umath.implement_array_function}  <-       6    0.000    0.000  <__array_function__ internals>:2(where)\n",
      "general.py:21(gen_var)                                                   <-       2    0.000    0.000  problem_definition.py:178(maxz)\n",
      "contextlib.py:237(helper)                                                <- \n",
      "contextlib.py:116(__exit__)                                              <- \n",
      "contextlib.py:107(__enter__)                                             <- \n",
      "{built-in method builtins.next}                                          <-       2    0.000    0.000  contextlib.py:107(__enter__)\n",
      "                                                                                  2    0.000    0.000  contextlib.py:116(__exit__)\n",
      "contextlib.py:81(__init__)                                               <-       2    0.000    0.000  contextlib.py:237(helper)\n",
      "{built-in method builtins.sum}                                           <-       2    0.000    0.000  problem_definition.py:178(maxz)\n",
      "compilerop.py:138(extra_flags)                                           <-       4    0.000    0.000  {built-in method builtins.next}\n",
      "traitlets.py:564(__get__)                                                <- \n",
      "{built-in method builtins.max}                                           <-       2    0.000    0.000  problem_definition.py:178(maxz)\n",
      "{method 'index' of 'list' objects}                                       <-       4    0.000    0.000  simplex_networks.py:146(find_pivot_row)\n",
      "{built-in method builtins.getattr}                                       <-       2    0.000    0.000  contextlib.py:81(__init__)\n",
      "<ipython-input-37-4199b605bc38>:4(<module>)                              <-       1    0.000    0.000  {built-in method builtins.exec}\n",
      "{built-in method numpy.zeros}                                            <-       2    0.000    0.000  simplex_networks.py:174(pivot)\n",
      "{built-in method builtins.len}                                           <-       4    0.000    0.000  general.py:21(gen_var)\n",
      "                                                                                  2    0.000    0.000  problem_definition.py:178(maxz)\n",
      "                                                                                  7    0.000    0.000  simplex_networks.py:47(pivots_row)\n",
      "                                                                                  4    0.000    0.000  simplex_networks.py:92(find_negative_row)\n",
      "                                                                                  6    0.000    0.000  simplex_networks.py:174(pivot)\n",
      "hooks.py:103(__call__)                                                   <-       2    0.000    0.000  interactiveshell.py:3386(run_code)\n",
      "interactiveshell.py:117(<lambda>)                                        <- \n",
      "multiarray.py:321(where)                                                 <-       6    0.000    0.000  <__array_function__ internals>:2(where)\n",
      "ipstruct.py:125(__getattr__)                                             <-       2    0.000    0.000  interactiveshell.py:3386(run_code)\n",
      "traitlets.py:533(get)                                                    <-       2    0.000    0.000  traitlets.py:564(__get__)\n",
      "{method 'append' of 'list' objects}                                      <-       4    0.000    0.000  general.py:21(gen_var)\n",
      "                                                                                 12    0.000    0.000  simplex_networks.py:146(find_pivot_row)\n",
      "{method 'disable' of '_lsprof.Profiler' objects}                         <-       1    0.000    0.000  <ipython-input-37-4199b605bc38>:4(<module>)\n",
      "interactiveshell.py:1277(user_global_ns)                                 <-       2    0.000    0.000  interactiveshell.py:3386(run_code)\n",
      "interactiveshell.py:3328(compare)                                        <- \n",
      "hooks.py:168(pre_run_code_hook)                                          <-       2    0.000    0.000  hooks.py:103(__call__)\n",
      "\n",
      "\n"
     ]
    },
    {
     "data": {
      "text/plain": [
       "<pstats.Stats at 0x7ff08badebd0>"
      ]
     },
     "execution_count": 50,
     "metadata": {},
     "output_type": "execute_result"
    }
   ],
   "source": [
    "# qué funciones llaman a otras\n",
    "p_max_stats.strip_dirs().sort_stats(\"cumulative\").print_callers()"
   ]
  },
  {
   "cell_type": "code",
   "execution_count": 51,
   "id": "french-mustang",
   "metadata": {},
   "outputs": [
    {
     "name": "stdout",
     "output_type": "stream",
     "text": [
      "   Ordered by: cumulative time\n",
      "\n",
      "Function                                                                 was called by...\n",
      "                                                                             ncalls  tottime  cumtime\n",
      "interactiveshell.py:3386(run_code)                                       <- \n",
      "{built-in method builtins.exec}                                          <-       2    0.000    0.000  interactiveshell.py:3386(run_code)\n",
      "<ipython-input-37-4199b605bc38>:3(<module>)                              <-       1    0.000    0.000  {built-in method builtins.exec}\n",
      "problem_definition.py:178(maxz)                                          <-       1    0.000    0.000  <ipython-input-37-4199b605bc38>:3(<module>)\n",
      "simplex_networks.py:146(find_pivot_row)                                  <-       4    0.000    0.000  problem_definition.py:178(maxz)\n",
      "simplex_networks.py:174(pivot)                                           <-       2    0.000    0.000  problem_definition.py:178(maxz)\n",
      "simplex_networks.py:92(find_negative_row)                                <-       4    0.000    0.000  simplex_networks.py:146(find_pivot_row)\n",
      "codeop.py:132(__call__)                                                  <- \n",
      "{built-in method builtins.compile}                                       <-       2    0.000    0.000  codeop.py:132(__call__)\n",
      "simplex_networks.py:47(pivots_row)                                       <-       3    0.000    0.000  problem_definition.py:178(maxz)\n",
      "                                                                                  4    0.000    0.000  simplex_networks.py:146(find_pivot_row)\n",
      "{built-in method builtins.min}                                           <-       1    0.000    0.000  simplex_networks.py:26(pivots_col)\n",
      "                                                                                  7    0.000    0.000  simplex_networks.py:47(pivots_row)\n",
      "                                                                                  4    0.000    0.000  simplex_networks.py:92(find_negative_row)\n",
      "                                                                                  4    0.000    0.000  simplex_networks.py:146(find_pivot_row)\n",
      "<__array_function__ internals>:2(where)                                  <-       2    0.000    0.000  problem_definition.py:178(maxz)\n",
      "                                                                                  4    0.000    0.000  simplex_networks.py:92(find_negative_row)\n",
      "simplex_networks.py:26(pivots_col)                                       <-       1    0.000    0.000  problem_definition.py:178(maxz)\n",
      "{built-in method numpy.core._multiarray_umath.implement_array_function}  <-       6    0.000    0.000  <__array_function__ internals>:2(where)\n",
      "general.py:21(gen_var)                                                   <-       2    0.000    0.000  problem_definition.py:178(maxz)\n",
      "contextlib.py:237(helper)                                                <- \n",
      "contextlib.py:116(__exit__)                                              <- \n",
      "contextlib.py:107(__enter__)                                             <- \n",
      "{built-in method builtins.next}                                          <-       2    0.000    0.000  contextlib.py:107(__enter__)\n",
      "                                                                                  2    0.000    0.000  contextlib.py:116(__exit__)\n",
      "contextlib.py:81(__init__)                                               <-       2    0.000    0.000  contextlib.py:237(helper)\n",
      "{built-in method builtins.sum}                                           <-       2    0.000    0.000  problem_definition.py:178(maxz)\n",
      "compilerop.py:138(extra_flags)                                           <-       4    0.000    0.000  {built-in method builtins.next}\n",
      "traitlets.py:564(__get__)                                                <- \n",
      "{built-in method builtins.max}                                           <-       2    0.000    0.000  problem_definition.py:178(maxz)\n",
      "{method 'index' of 'list' objects}                                       <-       4    0.000    0.000  simplex_networks.py:146(find_pivot_row)\n",
      "{built-in method builtins.getattr}                                       <-       2    0.000    0.000  contextlib.py:81(__init__)\n",
      "<ipython-input-37-4199b605bc38>:4(<module>)                              <-       1    0.000    0.000  {built-in method builtins.exec}\n",
      "{built-in method numpy.zeros}                                            <-       2    0.000    0.000  simplex_networks.py:174(pivot)\n",
      "{built-in method builtins.len}                                           <-       4    0.000    0.000  general.py:21(gen_var)\n",
      "                                                                                  2    0.000    0.000  problem_definition.py:178(maxz)\n",
      "                                                                                  7    0.000    0.000  simplex_networks.py:47(pivots_row)\n",
      "                                                                                  4    0.000    0.000  simplex_networks.py:92(find_negative_row)\n",
      "                                                                                  6    0.000    0.000  simplex_networks.py:174(pivot)\n",
      "hooks.py:103(__call__)                                                   <-       2    0.000    0.000  interactiveshell.py:3386(run_code)\n",
      "interactiveshell.py:117(<lambda>)                                        <- \n",
      "multiarray.py:321(where)                                                 <-       6    0.000    0.000  <__array_function__ internals>:2(where)\n",
      "ipstruct.py:125(__getattr__)                                             <-       2    0.000    0.000  interactiveshell.py:3386(run_code)\n",
      "traitlets.py:533(get)                                                    <-       2    0.000    0.000  traitlets.py:564(__get__)\n",
      "{method 'append' of 'list' objects}                                      <-       4    0.000    0.000  general.py:21(gen_var)\n",
      "                                                                                 12    0.000    0.000  simplex_networks.py:146(find_pivot_row)\n",
      "{method 'disable' of '_lsprof.Profiler' objects}                         <-       1    0.000    0.000  <ipython-input-37-4199b605bc38>:4(<module>)\n",
      "interactiveshell.py:1277(user_global_ns)                                 <-       2    0.000    0.000  interactiveshell.py:3386(run_code)\n",
      "interactiveshell.py:3328(compare)                                        <- \n",
      "hooks.py:168(pre_run_code_hook)                                          <-       2    0.000    0.000  hooks.py:103(__call__)\n",
      "\n",
      "\n"
     ]
    },
    {
     "data": {
      "text/plain": [
       "<pstats.Stats at 0x7ff08badebd0>"
      ]
     },
     "execution_count": 51,
     "metadata": {},
     "output_type": "execute_result"
    }
   ],
   "source": [
    "p_max_stats.strip_dirs().sort_stats(\"cumulative\").print_callers()"
   ]
  },
  {
   "cell_type": "code",
   "execution_count": 52,
   "id": "neural-appendix",
   "metadata": {},
   "outputs": [
    {
     "name": "stdout",
     "output_type": "stream",
     "text": [
      "   Ordered by: cumulative time\n",
      "   List reduced from 39 to 10 due to restriction <10>\n",
      "\n",
      "Function                                     was called by...\n",
      "                                                 ncalls  tottime  cumtime\n",
      "interactiveshell.py:3386(run_code)           <- \n",
      "{built-in method builtins.exec}              <-       2    0.000    0.000  interactiveshell.py:3386(run_code)\n",
      "<ipython-input-37-4199b605bc38>:3(<module>)  <-       1    0.000    0.000  {built-in method builtins.exec}\n",
      "problem_definition.py:178(maxz)              <-       1    0.000    0.000  <ipython-input-37-4199b605bc38>:3(<module>)\n",
      "simplex_networks.py:146(find_pivot_row)      <-       4    0.000    0.000  problem_definition.py:178(maxz)\n",
      "simplex_networks.py:174(pivot)               <-       2    0.000    0.000  problem_definition.py:178(maxz)\n",
      "simplex_networks.py:92(find_negative_row)    <-       4    0.000    0.000  simplex_networks.py:146(find_pivot_row)\n",
      "codeop.py:132(__call__)                      <- \n",
      "{built-in method builtins.compile}           <-       2    0.000    0.000  codeop.py:132(__call__)\n",
      "simplex_networks.py:47(pivots_row)           <-       3    0.000    0.000  problem_definition.py:178(maxz)\n",
      "                                                      4    0.000    0.000  simplex_networks.py:146(find_pivot_row)\n",
      "\n",
      "\n"
     ]
    },
    {
     "data": {
      "text/plain": [
       "<pstats.Stats at 0x7ff08badebd0>"
      ]
     },
     "execution_count": 52,
     "metadata": {},
     "output_type": "execute_result"
    }
   ],
   "source": [
    "# Análogamente podemos establecer los filtros usados en print_stats\n",
    "p_max_stats.strip_dirs().sort_stats(\"cumulative\").print_callers(10)"
   ]
  },
  {
   "cell_type": "code",
   "execution_count": 53,
   "id": "imposed-fence",
   "metadata": {},
   "outputs": [
    {
     "name": "stdout",
     "output_type": "stream",
     "text": [
      "   Ordered by: cumulative time\n",
      "   List reduced from 39 to 2 due to restriction <'maxz|lambda'>\n",
      "\n",
      "Function                           called...\n",
      "                                       ncalls  tottime  cumtime\n",
      "problem_definition.py:178(maxz)    ->       2    0.000    0.000  <__array_function__ internals>:2(where)\n",
      "                                            2    0.000    0.000  general.py:21(gen_var)\n",
      "                                            1    0.000    0.000  simplex_networks.py:26(pivots_col)\n",
      "                                            3    0.000    0.000  simplex_networks.py:47(pivots_row)\n",
      "                                            4    0.000    0.000  simplex_networks.py:146(find_pivot_row)\n",
      "                                            2    0.000    0.000  simplex_networks.py:174(pivot)\n",
      "                                            2    0.000    0.000  {built-in method builtins.len}\n",
      "                                            2    0.000    0.000  {built-in method builtins.max}\n",
      "                                            2    0.000    0.000  {built-in method builtins.sum}\n",
      "interactiveshell.py:117(<lambda>)  -> \n",
      "\n",
      "\n"
     ]
    },
    {
     "data": {
      "text/plain": [
       "<pstats.Stats at 0x7ff08badebd0>"
      ]
     },
     "execution_count": 53,
     "metadata": {},
     "output_type": "execute_result"
    }
   ],
   "source": [
    "p_max_stats.strip_dirs().sort_stats(\"cumulative\").print_callees(\"maxz|lambda\")"
   ]
  },
  {
   "cell_type": "markdown",
   "id": "advised-subsection",
   "metadata": {},
   "source": [
    "# Con line profiler"
   ]
  },
  {
   "cell_type": "code",
   "execution_count": 59,
   "id": "ongoing-section",
   "metadata": {},
   "outputs": [
    {
     "name": "stdout",
     "output_type": "stream",
     "text": [
      "\u001b[33mYou are using pip version 19.0.3, however version 21.1.1 is available.\r\n",
      "You should consider upgrading via the 'pip install --upgrade pip' command.\u001b[0m\r\n"
     ]
    }
   ],
   "source": [
    "!pip install line_profiler --quiet"
   ]
  },
  {
   "cell_type": "code",
   "execution_count": 60,
   "id": "accredited-somewhere",
   "metadata": {},
   "outputs": [],
   "source": [
    "import line_profiler"
   ]
  },
  {
   "cell_type": "code",
   "execution_count": 61,
   "id": "satisfactory-italic",
   "metadata": {},
   "outputs": [
    {
     "name": "stdout",
     "output_type": "stream",
     "text": [
      "{'x1': 2.0, 'x2': 6.0, 'max': 36.0}\n"
     ]
    }
   ],
   "source": [
    "line_prof = line_profiler.LineProfiler()\n",
    "\n",
    "print(line_prof(maxz)(matrix_max_approx_1))"
   ]
  },
  {
   "cell_type": "code",
   "execution_count": 62,
   "id": "crude-steam",
   "metadata": {},
   "outputs": [
    {
     "name": "stdout",
     "output_type": "stream",
     "text": [
      "Timer unit: 1e-06 s\n",
      "\n",
      "Total time: 0.001312 s\n",
      "File: /home/user/.pyenv/versions/3.7.4/envs/optimizacion/lib/python3.7/site-packages/mex/simplex/problem_definition.py\n",
      "Function: maxz at line 178\n",
      "\n",
      "Line #      Hits         Time  Per Hit   % Time  Line Contents\n",
      "==============================================================\n",
      "   178                                           def maxz(matrix):\n",
      "   179                                               \"\"\"\n",
      "   180                                               Creates maximization function. Determines if 1 extra pivot is required, locates the pivot element,\n",
      "   181                                               pivots about it and continues the process until all negative elements have been removed from\n",
      "   182                                               the last column and row.\n",
      "   183                                               \n",
      "   184                                               Args:\n",
      "   185                                               \n",
      "   186                                                   matrix (numpy array): problem matrix with constraints and objective function added.\n",
      "   187                                               \n",
      "   188                                               Returns:\n",
      "   189                                               \n",
      "   190                                                   *(dict)* A dictionary with Max and variables.\n",
      "   191                                                   \n",
      "   192                                               >>> problem_matrix = create_matrix(2,3)   # 2 variables and 3 constraints\n",
      "   193                                               >>> constrain(problem_matrix,'1,L,4')     # x_1 <= 4\n",
      "   194                                               >>> constrain(problem_matrix,'0,2,L,12')  # 2x_2 <= 12\n",
      "   195                                               >>> constrain(problem_matrix,'4,2,G,18')  # 4x_1 + 2x_2 >= 18\n",
      "   196                                               >>> obj(problem_matrix,'3,5,0')           # 3x_1 + 5x_2\n",
      "   197                                               >>> maxz(problem_matrix)\n",
      "   198                                               {'x1': 4.0, 'x2': 6.0, 'max': 42.0}\n",
      "   199                                               \"\"\"\n",
      "   200                                               \n",
      "   201         1        106.0    106.0      8.1      while pivots_col(matrix):\n",
      "   202                                                   matrix = pivot(find_pivot_col(matrix)[0], find_pivot_col(matrix)[1], matrix)\n",
      "   203         3         76.0     25.3      5.8      while pivots_row(matrix):\n",
      "   204         2        939.0    469.5     71.6          matrix = pivot(find_pivot_row(matrix)[0], find_pivot_row(matrix)[1], matrix)\n",
      "   205                                               \n",
      "   206         1          4.0      4.0      0.3      lc = len(matrix[0, :])\n",
      "   207         1          3.0      3.0      0.2      lr = len(matrix[:, 0])\n",
      "   208         1          3.0      3.0      0.2      var = lc - lr - 1\n",
      "   209         1          2.0      2.0      0.2      i = 0\n",
      "   210         1          2.0      2.0      0.2      val = {}\n",
      "   211                                               \n",
      "   212         3          8.0      2.7      0.6      for i in range(var):\n",
      "   213         2          8.0      4.0      0.6          col = matrix[:, i]\n",
      "   214         2         21.0     10.5      1.6          s = sum(col)\n",
      "   215         2         16.0      8.0      1.2          m = max(col)\n",
      "   216         2         10.0      5.0      0.8          if float(s) == float(m):\n",
      "   217         2         52.0     26.0      4.0              loc = np.where(col == m)[0][0]\n",
      "   218         2         56.0     28.0      4.3              val[gen_var(matrix)[i]] = matrix[loc, -1]\n",
      "   219                                                   else:\n",
      "   220                                                       val[gen_var(matrix)[i]] = 0\n",
      "   221         1          4.0      4.0      0.3      val['max'] = matrix[-1, -1]\n",
      "   222                                               \n",
      "   223         1          2.0      2.0      0.2      return val\n",
      "\n",
      "None\n"
     ]
    }
   ],
   "source": [
    "print(line_prof.print_stats())"
   ]
  },
  {
   "cell_type": "markdown",
   "id": "based-strap",
   "metadata": {},
   "source": [
    "## Podemos agregar todas las funciones en el lineprofiler"
   ]
  },
  {
   "cell_type": "code",
   "execution_count": 69,
   "id": "optimum-score",
   "metadata": {},
   "outputs": [],
   "source": [
    "# Todo junto\n",
    "line_prof_all = line_profiler.LineProfiler()\n",
    "\n",
    "line_prof_all.add_function(create_matrix)\n",
    "matrix_max_approx_1 = line_prof_all(create_matrix)(n_var_approx_1,n_cons_approx_1)\n",
    "line_prof_all.add_function(constrain)\n",
    "line_prof_all(constrain)(matrix_max_approx_1,'1,0,L,4')\n",
    "line_prof_all(constrain)(matrix_max_approx_1,'0,2,L,12')\n",
    "line_prof_all(constrain)(matrix_max_approx_1,'3,2,L,18')\n",
    "line_prof_all.add_function(obj)\n",
    "line_prof_all(obj)(matrix_max_approx_1,'3,5,0')\n",
    "line_prof_all.add_function(maxz)          \n",
    "problem_approx_1 = line_prof_all(maxz)(matrix_max_approx_1)"
   ]
  },
  {
   "cell_type": "code",
   "execution_count": 70,
   "id": "foreign-milwaukee",
   "metadata": {
    "scrolled": true
   },
   "outputs": [
    {
     "name": "stdout",
     "output_type": "stream",
     "text": [
      "Timer unit: 1e-06 s\n",
      "\n",
      "Total time: 0.001405 s\n",
      "File: /home/user/.pyenv/versions/3.7.4/envs/optimizacion/lib/python3.7/site-packages/mex/simplex/problem_definition.py\n",
      "Function: constrain at line 38\n",
      "\n",
      "Line #      Hits         Time  Per Hit   % Time  Line Contents\n",
      "==============================================================\n",
      "    38                                           def constrain(matrix, eq):\n",
      "    39                                               \"\"\"\n",
      "    40                                               Adds constraints to the problem.\n",
      "    41                                               \n",
      "    42                                               Args:\n",
      "    43                                               \n",
      "    44                                                   matrix (numpy array): matrix defined with :mod:`create_matrix`.\n",
      "    45                                                   \n",
      "    46                                                   eq (string): coefficients of constraints expressions. Use **L** for *less than*, **G** for *greater than*, **E** for *equal to*.\n",
      "    47                                               \n",
      "    48                                               >>> problem_matrix = create_matrix(2,3)   # 2 variables and 3 constraints\n",
      "    49                                               >>> constrain(problem_matrix,'1,L,4')     # x_1 <= 4\n",
      "    50                                               >>> constrain(problem_matrix,'0,2,L,12')  # 2x_2 <= 12\n",
      "    51                                               >>> constrain(problem_matrix,'3,2,G,18')  # 3x_1 + 2x_2 >= 18\n",
      "    52                                               \"\"\"\n",
      "    53                                           \n",
      "    54         3         18.0      6.0      1.3      if 'E' in eq:\n",
      "    55                                                   if add_cons(matrix):\n",
      "    56                                                       lc = len(matrix[0, :])\n",
      "    57                                                       lr = len(matrix[:, 0])\n",
      "    58                                                       var = lc - lr - 1\n",
      "    59                                                       j = 0\n",
      "    60                                           \n",
      "    61                                                       while j < lr:\n",
      "    62                                                           row_check = matrix[j,:]\n",
      "    63                                                           total = 0\n",
      "    64                                                           for i in row_check:\n",
      "    65                                                               total += float(i**2)\n",
      "    66                                                           if total == 0:\n",
      "    67                                                               row = row_check\n",
      "    68                                                               break\n",
      "    69                                                           j += 1\n",
      "    70                                                           \n",
      "    71                                                       eq = convert(eq)\n",
      "    72                                                       i = 0\n",
      "    73                                                       \n",
      "    74                                                       while i<len(eq)-1:\n",
      "    75                                                           row[i] = eq[i]\n",
      "    76                                                           i += 1\n",
      "    77                                                       \n",
      "    78                                                       row[-1] = eq[-1]\n",
      "    79                                                       #row[var+j] = 1\n",
      "    80                                                   \n",
      "    81                                                   else:\n",
      "    82                                                       logging.info('Cannot add another constraint.')\n",
      "    83                                                   \n",
      "    84                                               else:\n",
      "    85         3        574.0    191.3     40.9          if add_cons(matrix):\n",
      "    86         3         21.0      7.0      1.5              lc = len(matrix[0, :])\n",
      "    87         3         17.0      5.7      1.2              lr = len(matrix[:, 0])\n",
      "    88         3          8.0      2.7      0.6              var = lc - lr -1\n",
      "    89         3          6.0      2.0      0.4              j = 0\n",
      "    90                                                       \n",
      "    91         6         14.0      2.3      1.0              while j < lr:\n",
      "    92         6         21.0      3.5      1.5                  row_check = matrix[j, :]\n",
      "    93         6         11.0      1.8      0.8                  total = 0\n",
      "    94        48        122.0      2.5      8.7                  for i in row_check:\n",
      "    95        42        145.0      3.5     10.3                      total += float(i**2)\n",
      "    96         6         13.0      2.2      0.9                  if total == 0:\n",
      "    97         3          5.0      1.7      0.4                      row = row_check\n",
      "    98         3          7.0      2.3      0.5                      break\n",
      "    99         3          5.0      1.7      0.4                  j +=1\n",
      "   100                                                           \n",
      "   101         3        323.0    107.7     23.0              eq = convert(eq)\n",
      "   102         3          7.0      2.3      0.5              i = 0\n",
      "   103                                                       \n",
      "   104         9         28.0      3.1      2.0              while i<len(eq)-1:\n",
      "   105         6         27.0      4.5      1.9                  row[i] = eq[i]\n",
      "   106         6         13.0      2.2      0.9                  i += 1\n",
      "   107                                                       \n",
      "   108         3          8.0      2.7      0.6              row[-1] = eq[-1]\n",
      "   109         3         12.0      4.0      0.9              row[var+j] = 1\n",
      "   110                                                       \n",
      "   111                                                   else:\n",
      "   112                                                       logging.info('Cannot add another constraint.')\n",
      "\n",
      "Total time: 0.000149 s\n",
      "File: /home/user/.pyenv/versions/3.7.4/envs/optimizacion/lib/python3.7/site-packages/mex/simplex/problem_definition.py\n",
      "Function: obj at line 144\n",
      "\n",
      "Line #      Hits         Time  Per Hit   % Time  Line Contents\n",
      "==============================================================\n",
      "   144                                           def obj(matrix,eq):\n",
      "   145                                               \"\"\"\n",
      "   146                                               Adds the objective function to the problem matrix.\n",
      "   147                                               \n",
      "   148                                               .. note::\n",
      "   149                                                   Objective function must be added **after** constraints have been input.\n",
      "   150                                               \n",
      "   151                                               Args:\n",
      "   152                                               \n",
      "   153                                                   matrix (numpy array): matrix defined with :mod:`create_matrix`.\n",
      "   154                                                   \n",
      "   155                                                   eq (string): coefficients of objective function.\n",
      "   156                                               \n",
      "   157                                               >>> problem_matrix = create_matrix(2,3)   # 2 variables and 3 constraints\n",
      "   158                                               >>> constrain(problem_matrix,'1,L,4')     # x_1 <= 4\n",
      "   159                                               >>> constrain(problem_matrix,'0,2,L,12')  # 2x_2 <= 12\n",
      "   160                                               >>> constrain(problem_matrix,'4,2,G,18')  # 4x_1 + 2x_2 >= 18\n",
      "   161                                               >>> obj(problem_matrix,'3,5,0')           # 3x_1 + 5x_2\n",
      "   162                                               \"\"\"\n",
      "   163                                               \n",
      "   164         1         97.0     97.0     65.1      if add_obj(matrix):\n",
      "   165         1         13.0     13.0      8.7          eq = [float(i) for i in eq.split(',')]\n",
      "   166         1          4.0      4.0      2.7          lr = len(matrix[:,0])\n",
      "   167         1          4.0      4.0      2.7          row = matrix[lr-1,:]\n",
      "   168         1          2.0      2.0      1.3          i = 0\n",
      "   169         3         10.0      3.3      6.7          while i<len(eq)-1:\n",
      "   170         2         10.0      5.0      6.7              row[i] = eq[i]*-1\n",
      "   171         2          5.0      2.5      3.4              i +=1\n",
      "   172         1          2.0      2.0      1.3          row[-2] = 1\n",
      "   173         1          2.0      2.0      1.3          row[-1] = eq[-1]\n",
      "   174                                               else:\n",
      "   175                                                   logging.info('You must finish adding constraints before the objective function can be added.')\n",
      "\n",
      "Total time: 0.001185 s\n",
      "File: /home/user/.pyenv/versions/3.7.4/envs/optimizacion/lib/python3.7/site-packages/mex/simplex/problem_definition.py\n",
      "Function: maxz at line 178\n",
      "\n",
      "Line #      Hits         Time  Per Hit   % Time  Line Contents\n",
      "==============================================================\n",
      "   178                                           def maxz(matrix):\n",
      "   179                                               \"\"\"\n",
      "   180                                               Creates maximization function. Determines if 1 extra pivot is required, locates the pivot element,\n",
      "   181                                               pivots about it and continues the process until all negative elements have been removed from\n",
      "   182                                               the last column and row.\n",
      "   183                                               \n",
      "   184                                               Args:\n",
      "   185                                               \n",
      "   186                                                   matrix (numpy array): problem matrix with constraints and objective function added.\n",
      "   187                                               \n",
      "   188                                               Returns:\n",
      "   189                                               \n",
      "   190                                                   *(dict)* A dictionary with Max and variables.\n",
      "   191                                                   \n",
      "   192                                               >>> problem_matrix = create_matrix(2,3)   # 2 variables and 3 constraints\n",
      "   193                                               >>> constrain(problem_matrix,'1,L,4')     # x_1 <= 4\n",
      "   194                                               >>> constrain(problem_matrix,'0,2,L,12')  # 2x_2 <= 12\n",
      "   195                                               >>> constrain(problem_matrix,'4,2,G,18')  # 4x_1 + 2x_2 >= 18\n",
      "   196                                               >>> obj(problem_matrix,'3,5,0')           # 3x_1 + 5x_2\n",
      "   197                                               >>> maxz(problem_matrix)\n",
      "   198                                               {'x1': 4.0, 'x2': 6.0, 'max': 42.0}\n",
      "   199                                               \"\"\"\n",
      "   200                                               \n",
      "   201         1         36.0     36.0      3.0      while pivots_col(matrix):\n",
      "   202                                                   matrix = pivot(find_pivot_col(matrix)[0], find_pivot_col(matrix)[1], matrix)\n",
      "   203         3         69.0     23.0      5.8      while pivots_row(matrix):\n",
      "   204         2        845.0    422.5     71.3          matrix = pivot(find_pivot_row(matrix)[0], find_pivot_row(matrix)[1], matrix)\n",
      "   205                                               \n",
      "   206         1          5.0      5.0      0.4      lc = len(matrix[0, :])\n",
      "   207         1          4.0      4.0      0.3      lr = len(matrix[:, 0])\n",
      "   208         1          3.0      3.0      0.3      var = lc - lr - 1\n",
      "   209         1          2.0      2.0      0.2      i = 0\n",
      "   210         1          3.0      3.0      0.3      val = {}\n",
      "   211                                               \n",
      "   212         3         10.0      3.3      0.8      for i in range(var):\n",
      "   213         2          7.0      3.5      0.6          col = matrix[:, i]\n",
      "   214         2         27.0     13.5      2.3          s = sum(col)\n",
      "   215         2         17.0      8.5      1.4          m = max(col)\n",
      "   216         2         11.0      5.5      0.9          if float(s) == float(m):\n",
      "   217         2         70.0     35.0      5.9              loc = np.where(col == m)[0][0]\n",
      "   218         2         70.0     35.0      5.9              val[gen_var(matrix)[i]] = matrix[loc, -1]\n",
      "   219                                                   else:\n",
      "   220                                                       val[gen_var(matrix)[i]] = 0\n",
      "   221         1          4.0      4.0      0.3      val['max'] = matrix[-1, -1]\n",
      "   222                                               \n",
      "   223         1          2.0      2.0      0.2      return val\n",
      "\n",
      "Total time: 3.7e-05 s\n",
      "File: /home/user/.pyenv/versions/3.7.4/envs/optimizacion/lib/python3.7/site-packages/mex/simplex/simplex_networks.py\n",
      "Function: create_matrix at line 5\n",
      "\n",
      "Line #      Hits         Time  Per Hit   % Time  Line Contents\n",
      "==============================================================\n",
      "     5                                           def create_matrix(variables, constraints):\n",
      "     6                                               \"\"\"\n",
      "     7                                               Creates a matrix with enough rows for each constraint plus the objective function\n",
      "     8                                               and enough columns for all the variables.\n",
      "     9                                               \n",
      "    10                                               Args:\n",
      "    11                                               \n",
      "    12                                                   variables (int): number of variables.\n",
      "    13                                                   \n",
      "    14                                                   constraints (int): number of constraints.\n",
      "    15                                               \n",
      "    16                                               Returns:\n",
      "    17                                               \n",
      "    18                                                   matrix (numpy array): zero matrix.\n",
      "    19                                               \"\"\"\n",
      "    20                                               \n",
      "    21         1         34.0     34.0     91.9      matrix = np.zeros((constraints + 1, variables + constraints + 2))\n",
      "    22                                               \n",
      "    23         1          3.0      3.0      8.1      return matrix\n",
      "\n",
      "None\n"
     ]
    }
   ],
   "source": [
    "print(line_prof_all.print_stats())"
   ]
  },
  {
   "cell_type": "markdown",
   "id": "simple-george",
   "metadata": {},
   "source": [
    "## Utilizando kernprof"
   ]
  },
  {
   "cell_type": "code",
   "execution_count": null,
   "id": "civilian-reception",
   "metadata": {},
   "outputs": [],
   "source": [
    "!pip uninstall mex -y"
   ]
  },
  {
   "cell_type": "code",
   "execution_count": 85,
   "id": "exclusive-dragon",
   "metadata": {},
   "outputs": [
    {
     "name": "stdout",
     "output_type": "stream",
     "text": [
      "\u001b[33mYou are using pip version 19.0.3, however version 21.1.1 is available.\r\n",
      "You should consider upgrading via the 'pip install --upgrade pip' command.\u001b[0m\r\n"
     ]
    }
   ],
   "source": [
    "!pip install --quiet pip install \"git+https://github.com/optimizacion-2-2021-1-gh-classroom/practica-2-segunda-parte-caroacostatovany.git#egg=mex&subdirectory=src\""
   ]
  },
  {
   "cell_type": "code",
   "execution_count": 86,
   "id": "greater-wound",
   "metadata": {},
   "outputs": [],
   "source": [
    "from mex.simplex.simplex_networks import create_matrix, pivots_col, pivots_row, find_negative_col, find_negative_row, find_pivot_col, find_pivot_row, pivot\n",
    "from mex.simplex.problem_definition import add_cons, constrain, add_obj, obj, maxz, minz"
   ]
  },
  {
   "cell_type": "code",
   "execution_count": 90,
   "id": "mature-signal",
   "metadata": {},
   "outputs": [],
   "source": [
    "import os\n",
    "os.chdir(\"..\")\n",
    "current_path = os.getcwd()"
   ]
  },
  {
   "cell_type": "code",
   "execution_count": 93,
   "id": "removed-accreditation",
   "metadata": {},
   "outputs": [],
   "source": [
    "## Tuve que hacer sudo apt-install python3-line-profiler -y en mi linux (hay que hacerlo en la imagen)"
   ]
  },
  {
   "cell_type": "code",
   "execution_count": 104,
   "id": "polyphonic-castle",
   "metadata": {},
   "outputs": [],
   "source": [
    "path = os.path.join(current_path,'src','profiling','tiempo','max_line_profiler.py')"
   ]
  },
  {
   "cell_type": "code",
   "execution_count": 108,
   "id": "operating-imagination",
   "metadata": {
    "scrolled": true
   },
   "outputs": [
    {
     "name": "stdout",
     "output_type": "stream",
     "text": [
      "Wrote profile results to max_line_profiler.py.lprof\n",
      "Timer unit: 1e-06 s\n",
      "\n",
      "Total time: 0.000184 s\n",
      "File: /home/user/.pyenv/versions/3.7.4/envs/optimizacion/lib/python3.7/site-packages/mex/simplex/problem_definition.py\n",
      "Function: add_cons at line 8\n",
      "\n",
      "Line #      Hits         Time  Per Hit   % Time  Line Contents\n",
      "==============================================================\n",
      "     8                                           @profile\n",
      "     9                                           def add_cons(matrix):\n",
      "    10                                               \"\"\"\n",
      "    11                                               Checks if 1 extra constraint can be added to the matrix, this means that there are at least two rows of all\n",
      "    12                                               0 elements. If this condition is not satisfied, our program will not allow the user to add additional constraints.\n",
      "    13                                               \n",
      "    14                                               Args:\n",
      "    15                                               \n",
      "    16                                                   matrix (numpy array): matrix to be reviewed.\n",
      "    17                                               \n",
      "    18                                               Returns:\n",
      "    19                                               \n",
      "    20                                                   Flag (bool): True or False indicating whether 1+ constraints can be added.\n",
      "    21                                               \"\"\"\n",
      "    22                                           \n",
      "    23         3          4.0      1.3      2.2      lr = len(matrix[:, 0])\n",
      "    24         3          0.0      0.0      0.0      empty = []\n",
      "    25                                           \n",
      "    26        15          7.0      0.5      3.8      for i in range(lr):\n",
      "    27        12          3.0      0.2      1.6          total = 0\n",
      "    28        96         74.0      0.8     40.2          for j in matrix[i, :]:\n",
      "    29        84         61.0      0.7     33.2              total += j**2\n",
      "    30        12          6.0      0.5      3.3          if total == 0:\n",
      "    31         9         26.0      2.9     14.1              empty.append(total)\n",
      "    32                                           \n",
      "    33         3          1.0      0.3      0.5      if len(empty) > 1:\n",
      "    34         3          2.0      0.7      1.1          return True\n",
      "    35                                               else:\n",
      "    36                                                   return False\n",
      "\n",
      "Total time: 0.00051 s\n",
      "File: /home/user/.pyenv/versions/3.7.4/envs/optimizacion/lib/python3.7/site-packages/mex/simplex/problem_definition.py\n",
      "Function: constrain at line 39\n",
      "\n",
      "Line #      Hits         Time  Per Hit   % Time  Line Contents\n",
      "==============================================================\n",
      "    39                                           @profile\n",
      "    40                                           def constrain(matrix, eq):\n",
      "    41                                               \"\"\"\n",
      "    42                                               Adds constraints to the problem.\n",
      "    43                                               \n",
      "    44                                               Args:\n",
      "    45                                               \n",
      "    46                                                   matrix (numpy array): matrix defined with :mod:`create_matrix`.\n",
      "    47                                                   \n",
      "    48                                                   eq (string): coefficients of constraints expressions. Use **L** for *less than*, **G** for *greater than*, **E** for *equal to*.\n",
      "    49                                               \n",
      "    50                                               >>> problem_matrix = create_matrix(2,3)   # 2 variables and 3 constraints\n",
      "    51                                               >>> constrain(problem_matrix,'1,L,4')     # x_1 <= 4\n",
      "    52                                               >>> constrain(problem_matrix,'0,2,L,12')  # 2x_2 <= 12\n",
      "    53                                               >>> constrain(problem_matrix,'3,2,G,18')  # 3x_1 + 2x_2 >= 18\n",
      "    54                                               \"\"\"\n",
      "    55                                           \n",
      "    56         3          3.0      1.0      0.6      if 'E' in eq:\n",
      "    57                                                   if add_cons(matrix):\n",
      "    58                                                       lc = len(matrix[0, :])\n",
      "    59                                                       lr = len(matrix[:, 0])\n",
      "    60                                                       var = lc - lr - 1\n",
      "    61                                                       j = 0\n",
      "    62                                           \n",
      "    63                                                       while j < lr:\n",
      "    64                                                           row_check = matrix[j,:]\n",
      "    65                                                           total = 0\n",
      "    66                                                           for i in row_check:\n",
      "    67                                                               total += float(i**2)\n",
      "    68                                                           if total == 0:\n",
      "    69                                                               row = row_check\n",
      "    70                                                               break\n",
      "    71                                                           j += 1\n",
      "    72                                                           \n",
      "    73                                                       eq = convert(eq)\n",
      "    74                                                       i = 0\n",
      "    75                                                       \n",
      "    76                                                       while i<len(eq)-1:\n",
      "    77                                                           row[i] = eq[i]\n",
      "    78                                                           i += 1\n",
      "    79                                                       \n",
      "    80                                                       row[-1] = eq[-1]\n",
      "    81                                                       #row[var+j] = 1\n",
      "    82                                                   \n",
      "    83                                                   else:\n",
      "    84                                                       logging.info('Cannot add another constraint.')\n",
      "    85                                                   \n",
      "    86                                               else:\n",
      "    87         3        302.0    100.7     59.2          if add_cons(matrix):\n",
      "    88         3          3.0      1.0      0.6              lc = len(matrix[0, :])\n",
      "    89         3          3.0      1.0      0.6              lr = len(matrix[:, 0])\n",
      "    90         3          2.0      0.7      0.4              var = lc - lr -1\n",
      "    91         3          2.0      0.7      0.4              j = 0\n",
      "    92                                                       \n",
      "    93         6          5.0      0.8      1.0              while j < lr:\n",
      "    94         6         10.0      1.7      2.0                  row_check = matrix[j, :]\n",
      "    95         6          3.0      0.5      0.6                  total = 0\n",
      "    96        48         27.0      0.6      5.3                  for i in row_check:\n",
      "    97        42         36.0      0.9      7.1                      total += float(i**2)\n",
      "    98         6          2.0      0.3      0.4                  if total == 0:\n",
      "    99         3          2.0      0.7      0.4                      row = row_check\n",
      "   100         3          2.0      0.7      0.4                      break\n",
      "   101         3          1.0      0.3      0.2                  j +=1\n",
      "   102                                                           \n",
      "   103         3         86.0     28.7     16.9              eq = convert(eq)\n",
      "   104         3          1.0      0.3      0.2              i = 0\n",
      "   105                                                       \n",
      "   106         9          6.0      0.7      1.2              while i<len(eq)-1:\n",
      "   107         6          6.0      1.0      1.2                  row[i] = eq[i]\n",
      "   108         6          3.0      0.5      0.6                  i += 1\n",
      "   109                                                       \n",
      "   110         3          2.0      0.7      0.4              row[-1] = eq[-1]\n",
      "   111         3          3.0      1.0      0.6              row[var+j] = 1\n",
      "   112                                                       \n",
      "   113                                                   else:\n",
      "   114                                                       logging.info('Cannot add another constraint.')\n",
      "\n",
      "Total time: 4.3e-05 s\n",
      "File: /home/user/.pyenv/versions/3.7.4/envs/optimizacion/lib/python3.7/site-packages/mex/simplex/problem_definition.py\n",
      "Function: add_obj at line 117\n",
      "\n",
      "Line #      Hits         Time  Per Hit   % Time  Line Contents\n",
      "==============================================================\n",
      "   117                                           @profile\n",
      "   118                                           def add_obj(matrix):\n",
      "   119                                               \"\"\"\n",
      "   120                                               Verifies if the objective function can be added.\n",
      "   121                                               \n",
      "   122                                               Args:\n",
      "   123                                               \n",
      "   124                                                   matrix (numpy array): matrix to be reviewed.\n",
      "   125                                               \n",
      "   126                                               Returns:\n",
      "   127                                               \n",
      "   128                                                   Flag (bool): True or False indicating whether objective function can be added.\n",
      "   129                                               \"\"\"\n",
      "   130                                               \n",
      "   131         1          1.0      1.0      2.3      lr = len(matrix[:,0])\n",
      "   132         1          0.0      0.0      0.0      empty = []\n",
      "   133                                               \n",
      "   134         5          2.0      0.4      4.7      for i in range(lr):\n",
      "   135         4          3.0      0.8      7.0          total = 0\n",
      "   136        32         17.0      0.5     39.5          for j in matrix[i, :]:\n",
      "   137        28         16.0      0.6     37.2              total += j**2\n",
      "   138         4          3.0      0.8      7.0          if total == 0:\n",
      "   139         1          1.0      1.0      2.3              empty.append(total)\n",
      "   140                                               \n",
      "   141         1          0.0      0.0      0.0      if len(empty) == 1:\n",
      "   142         1          0.0      0.0      0.0          return True\n",
      "   143                                               else:\n",
      "   144                                                   return False\n",
      "\n",
      "Total time: 9.6e-05 s\n",
      "File: /home/user/.pyenv/versions/3.7.4/envs/optimizacion/lib/python3.7/site-packages/mex/simplex/problem_definition.py\n",
      "Function: obj at line 147\n",
      "\n",
      "Line #      Hits         Time  Per Hit   % Time  Line Contents\n",
      "==============================================================\n",
      "   147                                           @profile\n",
      "   148                                           def obj(matrix,eq):\n",
      "   149                                               \"\"\"\n",
      "   150                                               Adds the objective function to the problem matrix.\n",
      "   151                                               \n",
      "   152                                               .. note::\n",
      "   153                                                   Objective function must be added **after** constraints have been input.\n",
      "   154                                               \n",
      "   155                                               Args:\n",
      "   156                                               \n",
      "   157                                                   matrix (numpy array): matrix defined with :mod:`create_matrix`.\n",
      "   158                                                   \n",
      "   159                                                   eq (string): coefficients of objective function.\n",
      "   160                                               \n",
      "   161                                               >>> problem_matrix = create_matrix(2,3)   # 2 variables and 3 constraints\n",
      "   162                                               >>> constrain(problem_matrix,'1,L,4')     # x_1 <= 4\n",
      "   163                                               >>> constrain(problem_matrix,'0,2,L,12')  # 2x_2 <= 12\n",
      "   164                                               >>> constrain(problem_matrix,'4,2,G,18')  # 4x_1 + 2x_2 >= 18\n",
      "   165                                               >>> obj(problem_matrix,'3,5,0')           # 3x_1 + 5x_2\n",
      "   166                                               \"\"\"\n",
      "   167                                               \n",
      "   168         1         83.0     83.0     86.5      if add_obj(matrix):\n",
      "   169         1          3.0      3.0      3.1          eq = [float(i) for i in eq.split(',')]\n",
      "   170         1          1.0      1.0      1.0          lr = len(matrix[:,0])\n",
      "   171         1          1.0      1.0      1.0          row = matrix[lr-1,:]\n",
      "   172         1          0.0      0.0      0.0          i = 0\n",
      "   173         3          2.0      0.7      2.1          while i<len(eq)-1:\n",
      "   174         2          2.0      1.0      2.1              row[i] = eq[i]*-1\n",
      "   175         2          2.0      1.0      2.1              i +=1\n",
      "   176         1          1.0      1.0      1.0          row[-2] = 1\n",
      "   177         1          1.0      1.0      1.0          row[-1] = eq[-1]\n",
      "   178                                               else:\n",
      "   179                                                   logging.info('You must finish adding constraints before the objective function can be added.')\n",
      "\n",
      "Total time: 0.000385 s\n",
      "File: /home/user/.pyenv/versions/3.7.4/envs/optimizacion/lib/python3.7/site-packages/mex/simplex/problem_definition.py\n",
      "Function: maxz at line 182\n",
      "\n",
      "Line #      Hits         Time  Per Hit   % Time  Line Contents\n",
      "==============================================================\n",
      "   182                                           @profile\n",
      "   183                                           def maxz(matrix):\n",
      "   184                                               \"\"\"\n",
      "   185                                               Creates maximization function. Determines if 1 extra pivot is required, locates the pivot element,\n",
      "   186                                               pivots about it and continues the process until all negative elements have been removed from\n",
      "   187                                               the last column and row.\n",
      "   188                                               \n",
      "   189                                               Args:\n",
      "   190                                               \n",
      "   191                                                   matrix (numpy array): problem matrix with constraints and objective function added.\n",
      "   192                                               \n",
      "   193                                               Returns:\n",
      "   194                                               \n",
      "   195                                                   *(dict)* A dictionary with Max and variables.\n",
      "   196                                                   \n",
      "   197                                               >>> problem_matrix = create_matrix(2,3)   # 2 variables and 3 constraints\n",
      "   198                                               >>> constrain(problem_matrix,'1,L,4')     # x_1 <= 4\n",
      "   199                                               >>> constrain(problem_matrix,'0,2,L,12')  # 2x_2 <= 12\n",
      "   200                                               >>> constrain(problem_matrix,'4,2,G,18')  # 4x_1 + 2x_2 >= 18\n",
      "   201                                               >>> obj(problem_matrix,'3,5,0')           # 3x_1 + 5x_2\n",
      "   202                                               >>> maxz(problem_matrix)\n",
      "   203                                               {'x1': 4.0, 'x2': 6.0, 'max': 42.0}\n",
      "   204                                               \"\"\"\n",
      "   205                                               \n",
      "   206         1          8.0      8.0      2.1      while pivots_col(matrix):\n",
      "   207                                                   matrix = pivot(find_pivot_col(matrix)[0], find_pivot_col(matrix)[1], matrix)\n",
      "   208         3         23.0      7.7      6.0      while pivots_row(matrix):\n",
      "   209         2        298.0    149.0     77.4          matrix = pivot(find_pivot_row(matrix)[0], find_pivot_row(matrix)[1], matrix)\n",
      "   210                                               \n",
      "   211         1          1.0      1.0      0.3      lc = len(matrix[0, :])\n",
      "   212         1          1.0      1.0      0.3      lr = len(matrix[:, 0])\n",
      "   213         1          1.0      1.0      0.3      var = lc - lr - 1\n",
      "   214         1          1.0      1.0      0.3      i = 0\n",
      "   215         1          1.0      1.0      0.3      val = {}\n",
      "   216                                               \n",
      "   217         3          1.0      0.3      0.3      for i in range(var):\n",
      "   218         2          2.0      1.0      0.5          col = matrix[:, i]\n",
      "   219         2          6.0      3.0      1.6          s = sum(col)\n",
      "   220         2          3.0      1.5      0.8          m = max(col)\n",
      "   221         2          1.0      0.5      0.3          if float(s) == float(m):\n",
      "   222         2         11.0      5.5      2.9              loc = np.where(col == m)[0][0]\n",
      "   223         2         25.0     12.5      6.5              val[gen_var(matrix)[i]] = matrix[loc, -1]\n",
      "   224                                                   else:\n",
      "   225                                                       val[gen_var(matrix)[i]] = 0\n",
      "   226         1          1.0      1.0      0.3      val['max'] = matrix[-1, -1]\n",
      "   227                                               \n",
      "   228         1          1.0      1.0      0.3      return val\n",
      "\n",
      "Total time: 0 s\n",
      "File: /home/user/.pyenv/versions/3.7.4/envs/optimizacion/lib/python3.7/site-packages/mex/simplex/problem_definition.py\n",
      "Function: minz at line 231\n",
      "\n",
      "Line #      Hits         Time  Per Hit   % Time  Line Contents\n",
      "==============================================================\n",
      "   231                                           @profile\n",
      "   232                                           def minz(matrix):\n",
      "   233                                               \"\"\"\n",
      "   234                                               Creates minimization function. Determines if 1 extra pivot is required, locates the pivot element,\n",
      "   235                                               pivots about it and continues the process until all negative elements have been removed from \n",
      "   236                                               the last column and row.\n",
      "   237                                               \n",
      "   238                                               Args:\n",
      "   239                                               \n",
      "   240                                                   matrix (numpy array): problem matrix with constraints and objective function added.\n",
      "   241                                               \n",
      "   242                                               Returns:\n",
      "   243                                               \n",
      "   244                                                   (dict) A dictionary with Min and variables.\n",
      "   245                                                   \n",
      "   246                                               >>> problem_matrix = create_matrix(2,4)   # 2 variables and 4 constraints\n",
      "   247                                               >>> constrain(problem_matrix,'1,1,L,6')   # x_1 + x_2 <= 6\n",
      "   248                                               >>> constrain(problem_matrix,'-1,2,L,8')  # -x_1 + 2x_2 <= 8\n",
      "   249                                               >>> constrain(problem_matrix,'1,G,0')     # x_1 >= 0\n",
      "   250                                               >>> constrain(problem_matrix,'0,1,G,0')   # x_2 >= 0\n",
      "   251                                               >>> obj(problem_matrix,'-1,-3,0')         # -x_1 - 3x_2\n",
      "   252                                               >>> minz(problem_matrix)\n",
      "   253                                               {'x1': 1.3333333333333333, 'x2': 4.666666666666667}\n",
      "   254                                               \"\"\"\n",
      "   255                                           \n",
      "   256                                               matrix = convert_min(matrix)\n",
      "   257                                               while pivots_col(matrix):\n",
      "   258                                                   matrix = pivot(find_pivot_col(matrix)[0], find_pivot_col(matrix)[1], matrix)\n",
      "   259                                               while pivots_row(matrix):\n",
      "   260                                                   matrix = pivot(find_pivot_row(matrix)[0], find_pivot_row(matrix)[1], matrix)\n",
      "   261                                               \n",
      "   262                                               lc = len(matrix[0, :])\n",
      "   263                                               lr = len(matrix[:, 0])\n",
      "   264                                               var = lc - lr - 1\n",
      "   265                                               i = 0\n",
      "   266                                               val = {}\n",
      "   267                                               \n",
      "   268                                               for i in range(var):\n",
      "   269                                                   col = matrix[:, i]\n",
      "   270                                                   s = sum(col)\n",
      "   271                                                   m = max(col)\n",
      "   272                                                   if float(s) == float(m):\n",
      "   273                                                       loc = np.where(col == m)[0][0]\n",
      "   274                                                       val[gen_var(matrix)[i]] = matrix[loc, -1]\n",
      "   275                                                   else:\n",
      "   276                                                       val[gen_var(matrix)[i]] = 0\n",
      "   277                                               val['min'] = matrix[-1, -1]*-1\n",
      "   278                                               \n",
      "   279                                               return val\n",
      "\n",
      "Total time: 6e-06 s\n",
      "File: /home/user/.pyenv/versions/3.7.4/envs/optimizacion/lib/python3.7/site-packages/mex/simplex/simplex_networks.py\n",
      "Function: create_matrix at line 5\n",
      "\n",
      "Line #      Hits         Time  Per Hit   % Time  Line Contents\n",
      "==============================================================\n",
      "     5                                           @profile\n",
      "     6                                           def create_matrix(variables, constraints):\n",
      "     7                                               \"\"\"\n",
      "     8                                               Creates a matrix with enough rows for each constraint plus the objective function\n",
      "     9                                               and enough columns for all the variables.\n",
      "    10                                               \n",
      "    11                                               Args:\n",
      "    12                                               \n",
      "    13                                                   variables (int): number of variables.\n",
      "    14                                                   \n",
      "    15                                                   constraints (int): number of constraints.\n",
      "    16                                               \n",
      "    17                                               Returns:\n",
      "    18                                               \n",
      "    19                                                   matrix (numpy array): zero matrix.\n",
      "    20                                               \"\"\"\n",
      "    21                                               \n",
      "    22         1          5.0      5.0     83.3      matrix = np.zeros((constraints + 1, variables + constraints + 2))\n",
      "    23                                               \n",
      "    24         1          1.0      1.0     16.7      return matrix\n",
      "\n",
      "Total time: 4e-06 s\n",
      "File: /home/user/.pyenv/versions/3.7.4/envs/optimizacion/lib/python3.7/site-packages/mex/simplex/simplex_networks.py\n",
      "Function: pivots_col at line 27\n",
      "\n",
      "Line #      Hits         Time  Per Hit   % Time  Line Contents\n",
      "==============================================================\n",
      "    27                                           @profile\n",
      "    28                                           def pivots_col(matrix):\n",
      "    29                                               \"\"\"\n",
      "    30                                               Checks to see if pivots are required due to negative values in right column,\n",
      "    31                                               excluding the bottom value.\n",
      "    32                                               \n",
      "    33                                               Args:\n",
      "    34                                               \n",
      "    35                                                   matrix (numpy array): matrix to be reviewed.\n",
      "    36                                                   \n",
      "    37                                               Returns:\n",
      "    38                                               \n",
      "    39                                                   Flag (bool): True or False indicating whether a negative element was found.\n",
      "    40                                               \"\"\"\n",
      "    41                                               \n",
      "    42         1          3.0      3.0     75.0      m = min(matrix[:-1, -1])\n",
      "    43         1          1.0      1.0     25.0      if m >= 0:\n",
      "    44         1          0.0      0.0      0.0          return False\n",
      "    45                                               else:\n",
      "    46                                                   return True\n",
      "\n",
      "Total time: 2.7e-05 s\n",
      "File: /home/user/.pyenv/versions/3.7.4/envs/optimizacion/lib/python3.7/site-packages/mex/simplex/simplex_networks.py\n",
      "Function: pivots_row at line 49\n",
      "\n",
      "Line #      Hits         Time  Per Hit   % Time  Line Contents\n",
      "==============================================================\n",
      "    49                                           @profile\n",
      "    50                                           def pivots_row(matrix):\n",
      "    51                                               \"\"\"\n",
      "    52                                               Checks to see if pivots are required due to negative values in bottom row, \n",
      "    53                                               excluding the final value.\n",
      "    54                                               \n",
      "    55                                               Args:\n",
      "    56                                               \n",
      "    57                                                   matrix (numpy array): matrix to be reviewed.\n",
      "    58                                                   \n",
      "    59                                               Returns:\n",
      "    60                                               \n",
      "    61                                                   Flag (bool): True or False indicating whether a negative element was found.\n",
      "    62                                               \"\"\"\n",
      "    63                                               \n",
      "    64         7          6.0      0.9     22.2      l = len(matrix[:, 0])\n",
      "    65         7         16.0      2.3     59.3      m = min(matrix[l-1, :-1])\n",
      "    66         7          3.0      0.4     11.1      if m >= 0:\n",
      "    67         1          0.0      0.0      0.0          return False\n",
      "    68                                               else:\n",
      "    69         6          2.0      0.3      7.4          return True\n",
      "\n",
      "Total time: 0 s\n",
      "File: /home/user/.pyenv/versions/3.7.4/envs/optimizacion/lib/python3.7/site-packages/mex/simplex/simplex_networks.py\n",
      "Function: find_negative_col at line 72\n",
      "\n",
      "Line #      Hits         Time  Per Hit   % Time  Line Contents\n",
      "==============================================================\n",
      "    72                                           @profile\n",
      "    73                                           def find_negative_col(matrix):\n",
      "    74                                               \"\"\"\n",
      "    75                                               Finds location of negative values in right column.\n",
      "    76                                               \n",
      "    77                                               Args:\n",
      "    78                                                   \n",
      "    79                                                   matrix (numpy array): matrix to be reviewed.\n",
      "    80                                                   \n",
      "    81                                               Returns:\n",
      "    82                                               \n",
      "    83                                                   n (int): index of negative value in right column.\n",
      "    84                                               \"\"\"\n",
      "    85                                               \n",
      "    86                                               l = len(matrix[0, :])\n",
      "    87                                               m = min(matrix[:-1, l-1])\n",
      "    88                                               if m <= 0:\n",
      "    89                                                   n = np.where(matrix[:-1, l-1] == m)[0][0]\n",
      "    90                                               else:\n",
      "    91                                                   n = None\n",
      "    92                                               \n",
      "    93                                               return n\n",
      "\n",
      "Total time: 4.1e-05 s\n",
      "File: /home/user/.pyenv/versions/3.7.4/envs/optimizacion/lib/python3.7/site-packages/mex/simplex/simplex_networks.py\n",
      "Function: find_negative_row at line 96\n",
      "\n",
      "Line #      Hits         Time  Per Hit   % Time  Line Contents\n",
      "==============================================================\n",
      "    96                                           @profile\n",
      "    97                                           def find_negative_row(matrix):\n",
      "    98                                               \"\"\"\n",
      "    99                                               Finds location of negative values in bottom row.\n",
      "   100                                               \n",
      "   101                                               Args:\n",
      "   102                                                   \n",
      "   103                                                   matrix (numpy array): matrix to be reviewed.\n",
      "   104                                                   \n",
      "   105                                               Returns:\n",
      "   106                                               \n",
      "   107                                                   n (int): index of negative value in bottom row.\n",
      "   108                                               \"\"\"\n",
      "   109                                               \n",
      "   110         4          1.0      0.2      2.4      l = len(matrix[:,0])\n",
      "   111         4          8.0      2.0     19.5      m = min(matrix[l-1,:-1])\n",
      "   112         4          3.0      0.8      7.3      if m <= 0:\n",
      "   113         4         28.0      7.0     68.3          n = np.where(matrix[l-1, :-1] == m)[0][0]\n",
      "   114                                               else:\n",
      "   115                                                   n = None\n",
      "   116                                               \n",
      "   117         4          1.0      0.2      2.4      return n\n",
      "\n",
      "Total time: 0 s\n",
      "File: /home/user/.pyenv/versions/3.7.4/envs/optimizacion/lib/python3.7/site-packages/mex/simplex/simplex_networks.py\n",
      "Function: find_pivot_col at line 120\n",
      "\n",
      "Line #      Hits         Time  Per Hit   % Time  Line Contents\n",
      "==============================================================\n",
      "   120                                           @profile\n",
      "   121                                           def find_pivot_col(matrix):\n",
      "   122                                               \"\"\"\n",
      "   123                                               Finds pivot element corresponding to a negative value in right column.\n",
      "   124                                               \n",
      "   125                                               Args:\n",
      "   126                                               \n",
      "   127                                                   matrix (numpy array): matrix to be reviewed.\n",
      "   128                                                   \n",
      "   129                                               Returns:\n",
      "   130                                                   \n",
      "   131                                                   index (int): index of most negative value.\n",
      "   132                                                   \n",
      "   133                                                   c (int): index smallest value on row.\n",
      "   134                                               \"\"\"\n",
      "   135                                               \n",
      "   136                                               total = []\n",
      "   137                                               neg = find_negative_col(matrix)\n",
      "   138                                               row = matrix[neg, :-1]\n",
      "   139                                               m = min(row)\n",
      "   140                                               c = np.where(row == m)[0][0]\n",
      "   141                                               col = matrix[:-1, c]\n",
      "   142                                               for i,j in zip(col, matrix[:-1,-1]):  #i for col with neg, j for right col\n",
      "   143                                                   if i != 0 and j/i > 0:\n",
      "   144                                                       total.append(j/i)\n",
      "   145                                                   else:\n",
      "   146                                                       total.append(10000) #placeholder, might need to update for large scale\n",
      "   147                                               index = total.index(min(total))\n",
      "   148                                               \n",
      "   149                                               return [index,c]\n",
      "\n",
      "Total time: 0.000121 s\n",
      "File: /home/user/.pyenv/versions/3.7.4/envs/optimizacion/lib/python3.7/site-packages/mex/simplex/simplex_networks.py\n",
      "Function: find_pivot_row at line 152\n",
      "\n",
      "Line #      Hits         Time  Per Hit   % Time  Line Contents\n",
      "==============================================================\n",
      "   152                                           @profile\n",
      "   153                                           def find_pivot_row(matrix):\n",
      "   154                                               \"\"\"\n",
      "   155                                               Finds pivot element corresponding to a negative value in bottom row.\n",
      "   156                                               \n",
      "   157                                               Args:\n",
      "   158                                                   \n",
      "   159                                                   matrix (numpy array): matrix to be reviewed.\n",
      "   160                                                   \n",
      "   161                                               Returns:\n",
      "   162                                               \n",
      "   163                                                   index (int): index of most negative value.\n",
      "   164                                                   \n",
      "   165                                                   neg (int): index smallest value.\n",
      "   166                                               \"\"\"\n",
      "   167                                               \n",
      "   168         4         28.0      7.0     23.1      if pivots_row(matrix):\n",
      "   169         4          0.0      0.0      0.0          total = []\n",
      "   170         4         57.0     14.2     47.1          neg = find_negative_row(matrix)\n",
      "   171        16         15.0      0.9     12.4          for i, j in zip(matrix[:-1, neg], matrix[:-1, -1]):\n",
      "   172        12          6.0      0.5      5.0              if i != 0 and j/i > 0:\n",
      "   173         8          2.0      0.2      1.7                  total.append(j/i)\n",
      "   174                                                       else:\n",
      "   175         4          1.0      0.2      0.8                  total.append(10000) #placeholder, might need to update for large scale\n",
      "   176         4          8.0      2.0      6.6          index = total.index(min(total))\n",
      "   177                                                   \n",
      "   178         4          4.0      1.0      3.3          return [index,neg]\n",
      "\n",
      "Total time: 0.000107 s\n",
      "File: /home/user/.pyenv/versions/3.7.4/envs/optimizacion/lib/python3.7/site-packages/mex/simplex/simplex_networks.py\n",
      "Function: pivot at line 181\n",
      "\n",
      "Line #      Hits         Time  Per Hit   % Time  Line Contents\n",
      "==============================================================\n",
      "   181                                           @profile\n",
      "   182                                           def pivot(row,col,matrix):\n",
      "   183                                               \"\"\"\n",
      "   184                                               Pivot about a value to remove negative in final column or row.\n",
      "   185                                               \n",
      "   186                                               Args:\n",
      "   187                                               \n",
      "   188                                                   matrix (numpy array): matrix to be reviewed.\n",
      "   189                                                   \n",
      "   190                                                   row (int): position to pivot.\n",
      "   191                                                   \n",
      "   192                                                   col (int): position to pivot.\n",
      "   193                                                   \n",
      "   194                                               Returns:\n",
      "   195                                               \n",
      "   196                                                   t (numpy array): updated matrix.\n",
      "   197                                               \"\"\"\n",
      "   198                                               \n",
      "   199         2          2.0      1.0      1.9      lr = len(matrix[:, 0])\n",
      "   200         2          1.0      0.5      0.9      lc = len(matrix[0, :])\n",
      "   201         2          6.0      3.0      5.6      t = np.zeros((lr, lc))\n",
      "   202         2          8.0      4.0      7.5      pr = matrix[row, :]\n",
      "   203         2          4.0      2.0      3.7      if matrix[row, col]**2 > 0:\n",
      "   204         2          2.0      1.0      1.9          e = 1/matrix[row, col]\n",
      "   205         2          6.0      3.0      5.6          r = pr*e\n",
      "   206        10          7.0      0.7      6.5          for i in range(len(matrix[:, col])):\n",
      "   207         8          6.0      0.8      5.6              k = matrix[i, :]\n",
      "   208         8          4.0      0.5      3.7              c = matrix[i, col]\n",
      "   209         8         25.0      3.1     23.4              if list(k) == list(pr):\n",
      "   210         2          1.0      0.5      0.9                  continue\n",
      "   211                                                       else:\n",
      "   212         6         30.0      5.0     28.0                  t[i, :] = list(k-r*c)\n",
      "   213         2          4.0      2.0      3.7          t[row,:] = list(r)\n",
      "   214         2          1.0      0.5      0.9          return t\n",
      "   215                                               else:\n",
      "   216                                                   logging.info('Cannot pivot on this element')\n",
      "\n",
      "Total time: 0 s\n",
      "File: /home/user/.pyenv/versions/3.7.4/envs/optimizacion/lib/python3.7/site-packages/mex/utils/general.py\n",
      "Function: convert_min at line 1\n",
      "\n",
      "Line #      Hits         Time  Per Hit   % Time  Line Contents\n",
      "==============================================================\n",
      "     1                                           @profile\n",
      "     2                                           def convert_min(matrix):\n",
      "     3                                               \"\"\"\n",
      "     4                                               This function multiplies by -1 the objective function for maximization problems. This is because\n",
      "     5                                               if the problem to be solved is maximization then it is analogue to solve the problem -minimization.\n",
      "     6                                               \n",
      "     7                                               Args:\n",
      "     8                                               \n",
      "     9                                                   matrix (numpy array): matrix to be updated.\n",
      "    10                                               \n",
      "    11                                               Returns:\n",
      "    12                                               \n",
      "    13                                                   matrix (numpy array): matrix multiplied by -1.\n",
      "    14                                               \"\"\"\n",
      "    15                                               \n",
      "    16                                               matrix[-1, :-2] = [-1*i for i in matrix[-1, :-2]]\n",
      "    17                                               matrix[-1, -1] = -1*matrix[-1, -1]\n",
      "    18                                               \n",
      "    19                                               return matrix\n",
      "\n",
      "Total time: 1.3e-05 s\n",
      "File: /home/user/.pyenv/versions/3.7.4/envs/optimizacion/lib/python3.7/site-packages/mex/utils/general.py\n",
      "Function: gen_var at line 21\n",
      "\n",
      "Line #      Hits         Time  Per Hit   % Time  Line Contents\n",
      "==============================================================\n",
      "    21                                           @profile\n",
      "    22                                           def gen_var(matrix):\n",
      "    23                                               \"\"\"\n",
      "    24                                               Generates the required number of variables. They are defined by the problem.\n",
      "    25                                               \n",
      "    26                                               Args:\n",
      "    27                                               \n",
      "    28                                                   matrix (numpy array): matrix to be updated.\n",
      "    29                                               \n",
      "    30                                               Returns:\n",
      "    31                                               \n",
      "    32                                                   v (list): list with problem variables.\n",
      "    33                                               \"\"\"\n",
      "    34                                               \n",
      "    35         2          2.0      1.0     15.4      lc = len(matrix[0, :])\n",
      "    36         2          1.0      0.5      7.7      lr = len(matrix[:, 0])\n",
      "    37                                               \n",
      "    38         2          1.0      0.5      7.7      var = lc - lr -1\n",
      "    39         2          1.0      0.5      7.7      v = []\n",
      "    40                                               \n",
      "    41         6          3.0      0.5     23.1      for i in range(var):\n",
      "    42         4          4.0      1.0     30.8          v.append('x' + str(i+1))\n",
      "    43                                               \n",
      "    44         2          1.0      0.5      7.7      return v\n",
      "\n",
      "Total time: 4.3e-05 s\n",
      "File: /home/user/.pyenv/versions/3.7.4/envs/optimizacion/lib/python3.7/site-packages/mex/utils/general.py\n",
      "Function: convert at line 46\n",
      "\n",
      "Line #      Hits         Time  Per Hit   % Time  Line Contents\n",
      "==============================================================\n",
      "    46                                           @profile\n",
      "    47                                           def convert(eq):\n",
      "    48                                               \"\"\"\n",
      "    49                                               Converts equation into a list containing the coefficients of the equation.\n",
      "    50                                               \n",
      "    51                                               Args:\n",
      "    52                                               \n",
      "    53                                                   eq (string): equation defined with :func:`constrain`.\n",
      "    54                                               \n",
      "    55                                               Returns:\n",
      "    56                                               \n",
      "    57                                                   eq (list): list with equation coefficients.\n",
      "    58                                               \"\"\"\n",
      "    59                                               \n",
      "    60         3          3.0      1.0      7.0      eq = eq.split(',')\n",
      "    61                                               \n",
      "    62         3          3.0      1.0      7.0      if 'G' in eq:\n",
      "    63                                                   g = eq.index('G')\n",
      "    64                                                   del eq[g]\n",
      "    65                                                   eq = [float(i)*-1 for i in eq]\n",
      "    66                                                   return eq\n",
      "    67                                               \n",
      "    68         3          2.0      0.7      4.7      if 'L' in eq:\n",
      "    69         3         21.0      7.0     48.8          l = eq.index('L')\n",
      "    70         3          2.0      0.7      4.7          del eq[l]\n",
      "    71         3         10.0      3.3     23.3          eq = [float(i) for i in eq]\n",
      "    72         3          2.0      0.7      4.7          return eq\n",
      "    73                                               \n",
      "    74                                               if 'E' in eq:\n",
      "    75                                                   l = eq.index('E')\n",
      "    76                                                   del eq[l]\n",
      "    77                                                   eq = [float(i) for i in eq]\n",
      "    78                                                   return eq\n",
      "\n"
     ]
    }
   ],
   "source": [
    "%%bash -s $path\n",
    "kernprof -l -v \"$1\""
   ]
  }
 ],
 "metadata": {
  "kernelspec": {
   "display_name": "Python 3",
   "language": "python",
   "name": "python3"
  },
  "language_info": {
   "codemirror_mode": {
    "name": "ipython",
    "version": 3
   },
   "file_extension": ".py",
   "mimetype": "text/x-python",
   "name": "python",
   "nbconvert_exporter": "python",
   "pygments_lexer": "ipython3",
   "version": "3.7.4"
  }
 },
 "nbformat": 4,
 "nbformat_minor": 5
}
