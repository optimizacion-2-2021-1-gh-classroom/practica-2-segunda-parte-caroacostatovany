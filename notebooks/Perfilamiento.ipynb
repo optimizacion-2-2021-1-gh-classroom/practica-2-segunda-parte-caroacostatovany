{
 "cells": [
  {
   "cell_type": "markdown",
   "id": "knowing-luxembourg",
   "metadata": {},
   "source": [
    "# Perfilamiento con time"
   ]
  },
  {
   "cell_type": "code",
   "execution_count": 2,
   "id": "every-latex",
   "metadata": {},
   "outputs": [],
   "source": [
    "import time"
   ]
  },
  {
   "cell_type": "code",
   "execution_count": 13,
   "id": "pursuant-rally",
   "metadata": {},
   "outputs": [
    {
     "name": "stdout",
     "output_type": "stream",
     "text": [
      "\u001b[33mYou are using pip version 19.0.3, however version 21.1.1 is available.\r\n",
      "You should consider upgrading via the 'pip install --upgrade pip' command.\u001b[0m\r\n"
     ]
    }
   ],
   "source": [
    "!pip install --quiet pip install \"git+https://github.com/optimizacion-2-2021-1-gh-classroom/practica-1-segunda-parte-caroacostatovany.git#egg=mex&subdirectory=src\""
   ]
  },
  {
   "cell_type": "code",
   "execution_count": 15,
   "id": "finite-support",
   "metadata": {},
   "outputs": [],
   "source": [
    "import copy\n",
    "import matplotlib.pyplot as plt\n",
    "import networkx as nx\n",
    "import numpy as np\n",
    "import os\n",
    "import pprint\n",
    "from scipy.optimize import linprog\n",
    "from pytest import approx\n",
    "\n",
    "from mex.simplex.simplex_networks import create_matrix, pivots_col, pivots_row, find_negative_col, find_negative_row, find_pivot_col, find_pivot_row, pivot\n",
    "from mex.simplex.problem_definition import add_cons, constrain, add_obj, obj, maxz, minz"
   ]
  },
  {
   "cell_type": "markdown",
   "id": "differential-roller",
   "metadata": {},
   "source": [
    "## Objetivo"
   ]
  },
  {
   "cell_type": "code",
   "execution_count": 16,
   "id": "loose-report",
   "metadata": {},
   "outputs": [],
   "source": [
    "c_max_obj_1 = [-3, -5]\n",
    "A_max_obj_1 = [[1, 0], [0, 2], [3, 2]]\n",
    "b_max_obj_1 = [4, 12, 18]"
   ]
  },
  {
   "cell_type": "code",
   "execution_count": 17,
   "id": "smart-combat",
   "metadata": {},
   "outputs": [],
   "source": [
    "max_obj_1 = -1*linprog(c_max_obj_1, A_ub=A_max_obj_1, b_ub=b_max_obj_1).fun"
   ]
  },
  {
   "cell_type": "code",
   "execution_count": 18,
   "id": "prompt-pavilion",
   "metadata": {},
   "outputs": [],
   "source": [
    "coeff_obj_1 = linprog(c_max_obj_1, A_ub=A_max_obj_1, b_ub=b_max_obj_1).x"
   ]
  },
  {
   "cell_type": "markdown",
   "id": "optional-block",
   "metadata": {},
   "source": [
    "## Aproximación"
   ]
  },
  {
   "cell_type": "code",
   "execution_count": 19,
   "id": "competent-invitation",
   "metadata": {},
   "outputs": [],
   "source": [
    "n_var_approx_1 = 2\n",
    "n_cons_approx_1 = 3"
   ]
  },
  {
   "cell_type": "code",
   "execution_count": 20,
   "id": "surface-question",
   "metadata": {},
   "outputs": [
    {
     "name": "stdout",
     "output_type": "stream",
     "text": [
      "create_matrix tomó 0.0002834796905517578 segundos\n"
     ]
    }
   ],
   "source": [
    "start_time = time.time()\n",
    "matrix_max_approx_1 = create_matrix(n_var_approx_1,n_cons_approx_1)\n",
    "end_time = time.time()\n",
    "secs = end_time-start_time\n",
    "print(\"create_matrix tomó\",secs,\"segundos\" )"
   ]
  },
  {
   "cell_type": "code",
   "execution_count": 21,
   "id": "french-detroit",
   "metadata": {},
   "outputs": [
    {
     "name": "stdout",
     "output_type": "stream",
     "text": [
      "constrain tomó 0.0005183219909667969 segundos\n"
     ]
    }
   ],
   "source": [
    "start_time = time.time()\n",
    "constrain(matrix_max_approx_1,'1,0,L,4')\n",
    "end_time = time.time()\n",
    "secs = end_time-start_time\n",
    "print(\"constrain tomó\",secs,\"segundos\" )\n",
    "\n",
    "constrain(matrix_max_approx_1,'0,2,L,12')\n",
    "constrain(matrix_max_approx_1,'3,2,L,18')"
   ]
  },
  {
   "cell_type": "code",
   "execution_count": 22,
   "id": "natural-underground",
   "metadata": {},
   "outputs": [
    {
     "name": "stdout",
     "output_type": "stream",
     "text": [
      "obj tomó 0.0004169940948486328 segundos\n"
     ]
    }
   ],
   "source": [
    "start_time = time.time()\n",
    "obj(matrix_max_approx_1,'3,5,0')\n",
    "end_time = time.time()\n",
    "secs = end_time-start_time\n",
    "print(\"obj tomó\",secs,\"segundos\" )"
   ]
  },
  {
   "cell_type": "code",
   "execution_count": 28,
   "id": "operating-extreme",
   "metadata": {},
   "outputs": [
    {
     "name": "stdout",
     "output_type": "stream",
     "text": [
      "maxz tomó 0.001978158950805664 segundos\n"
     ]
    }
   ],
   "source": [
    "start_time = time.time()\n",
    "problem_approx_1 = maxz(matrix_max_approx_1)\n",
    "end_time = time.time()\n",
    "secs = end_time-start_time\n",
    "print(\"maxz tomó\",secs,\"segundos\" )"
   ]
  },
  {
   "cell_type": "code",
   "execution_count": 30,
   "id": "colored-field",
   "metadata": {},
   "outputs": [],
   "source": [
    "max_approx_1 = problem_approx_1['max']\n",
    "problem_approx_1.pop('max')\n",
    "coeff_approx_1 = np.array(list(problem_approx_1.values()))"
   ]
  },
  {
   "cell_type": "code",
   "execution_count": 34,
   "id": "independent-biotechnology",
   "metadata": {},
   "outputs": [
    {
     "name": "stdout",
     "output_type": "stream",
     "text": [
      "Todo el proceso tomó 0.003371000289916992 segundos\n"
     ]
    }
   ],
   "source": [
    "# Todo junto\n",
    "start_time = time.time()\n",
    "matrix_max_approx_1 = create_matrix(n_var_approx_1,n_cons_approx_1)\n",
    "constrain(matrix_max_approx_1,'1,0,L,4')\n",
    "constrain(matrix_max_approx_1,'0,2,L,12')\n",
    "constrain(matrix_max_approx_1,'3,2,L,18')\n",
    "obj(matrix_max_approx_1,'3,5,0')\n",
    "problem_approx_1 = maxz(matrix_max_approx_1)\n",
    "max_approx_1 = problem_approx_1['max']\n",
    "problem_approx_1.pop('max')\n",
    "coeff_approx_1 = np.array(list(problem_approx_1.values()))\n",
    "end_time = time.time()\n",
    "secs = end_time-start_time\n",
    "print(\"Todo el proceso tomó\",secs,\"segundos\" )"
   ]
  },
  {
   "cell_type": "markdown",
   "id": "owned-format",
   "metadata": {},
   "source": [
    "## Comprobación"
   ]
  },
  {
   "cell_type": "code",
   "execution_count": 31,
   "id": "lesser-yeast",
   "metadata": {},
   "outputs": [
    {
     "name": "stdout",
     "output_type": "stream",
     "text": [
      "El valor objetivo obtenido con scipy es:  35.999999978433735\n",
      "El valor aproximado obtenido con mex es:  36.0\n",
      "Los coeficientes objetivos obtenidos con scipy son:  [2. 6.]\n",
      "Los coeficientes aproximados obtenidos con mex son:  [2. 6.]\n"
     ]
    }
   ],
   "source": [
    "assert max_obj_1 == approx(max_approx_1), \"El valor aproximado es incorrecto\"\n",
    "assert coeff_obj_1 == approx(coeff_approx_1), \"El valor de los coeficientes aproximados es incorrecto\"\n",
    "\n",
    "print(\"El valor objetivo obtenido con scipy es: \", max_obj_1)\n",
    "print(\"El valor aproximado obtenido con mex es: \", max_approx_1)\n",
    "print(\"Los coeficientes objetivos obtenidos con scipy son: \", coeff_obj_1)\n",
    "print(\"Los coeficientes aproximados obtenidos con mex son: \", coeff_approx_1)"
   ]
  },
  {
   "cell_type": "markdown",
   "id": "official-monster",
   "metadata": {},
   "source": [
    "# Con comandos magic"
   ]
  },
  {
   "cell_type": "markdown",
   "id": "coupled-lounge",
   "metadata": {},
   "source": [
    "Sólo probaremos con maxz que es la función que más se tardó en el proceso anterior"
   ]
  },
  {
   "cell_type": "code",
   "execution_count": 36,
   "id": "regulated-concentrate",
   "metadata": {},
   "outputs": [
    {
     "name": "stdout",
     "output_type": "stream",
     "text": [
      "CPU times: user 653 µs, sys: 222 µs, total: 875 µs\n",
      "Wall time: 888 µs\n"
     ]
    },
    {
     "data": {
      "text/plain": [
       "{'x1': 2.0, 'x2': 6.0, 'max': 36.0}"
      ]
     },
     "execution_count": 36,
     "metadata": {},
     "output_type": "execute_result"
    }
   ],
   "source": [
    "%time maxz(matrix_max_approx_1)"
   ]
  },
  {
   "cell_type": "code",
   "execution_count": 35,
   "id": "surrounded-penetration",
   "metadata": {},
   "outputs": [
    {
     "name": "stdout",
     "output_type": "stream",
     "text": [
      "181 µs ± 54.3 µs per loop (mean ± std. dev. of 10 runs, 5 loops each)\n"
     ]
    }
   ],
   "source": [
    "%timeit -n 5 -r 10 maxz(matrix_max_approx_1)"
   ]
  },
  {
   "cell_type": "markdown",
   "id": "devoted-partition",
   "metadata": {},
   "source": [
    "# Con cProfile"
   ]
  },
  {
   "cell_type": "code",
   "execution_count": 1,
   "id": "endangered-negotiation",
   "metadata": {},
   "outputs": [],
   "source": [
    "import cProfile"
   ]
  },
  {
   "cell_type": "code",
   "execution_count": 37,
   "id": "prescription-welcome",
   "metadata": {},
   "outputs": [
    {
     "name": "stdout",
     "output_type": "stream",
     "text": [
      "         151 function calls in 0.001 seconds\n",
      "\n",
      "   Ordered by: cumulative time\n",
      "\n",
      "   ncalls  tottime  percall  cumtime  percall filename:lineno(function)\n",
      "        2    0.000    0.000    0.000    0.000 interactiveshell.py:3386(run_code)\n",
      "        2    0.000    0.000    0.000    0.000 {built-in method builtins.exec}\n",
      "        1    0.000    0.000    0.000    0.000 <ipython-input-37-4199b605bc38>:3(<module>)\n",
      "        1    0.000    0.000    0.000    0.000 problem_definition.py:178(maxz)\n",
      "        4    0.000    0.000    0.000    0.000 simplex_networks.py:146(find_pivot_row)\n",
      "        2    0.000    0.000    0.000    0.000 simplex_networks.py:174(pivot)\n",
      "        4    0.000    0.000    0.000    0.000 simplex_networks.py:92(find_negative_row)\n",
      "        2    0.000    0.000    0.000    0.000 codeop.py:132(__call__)\n",
      "        2    0.000    0.000    0.000    0.000 {built-in method builtins.compile}\n",
      "        7    0.000    0.000    0.000    0.000 simplex_networks.py:47(pivots_row)\n",
      "       16    0.000    0.000    0.000    0.000 {built-in method builtins.min}\n",
      "        6    0.000    0.000    0.000    0.000 <__array_function__ internals>:2(where)\n",
      "        1    0.000    0.000    0.000    0.000 simplex_networks.py:26(pivots_col)\n",
      "        6    0.000    0.000    0.000    0.000 {built-in method numpy.core._multiarray_umath.implement_array_function}\n",
      "        2    0.000    0.000    0.000    0.000 general.py:21(gen_var)\n",
      "        2    0.000    0.000    0.000    0.000 contextlib.py:237(helper)\n",
      "        2    0.000    0.000    0.000    0.000 contextlib.py:116(__exit__)\n",
      "        2    0.000    0.000    0.000    0.000 contextlib.py:107(__enter__)\n",
      "        4    0.000    0.000    0.000    0.000 {built-in method builtins.next}\n",
      "        2    0.000    0.000    0.000    0.000 contextlib.py:81(__init__)\n",
      "        2    0.000    0.000    0.000    0.000 {built-in method builtins.sum}\n",
      "        4    0.000    0.000    0.000    0.000 compilerop.py:138(extra_flags)\n",
      "        2    0.000    0.000    0.000    0.000 traitlets.py:564(__get__)\n",
      "        2    0.000    0.000    0.000    0.000 {built-in method builtins.max}\n",
      "        4    0.000    0.000    0.000    0.000 {method 'index' of 'list' objects}\n",
      "        4    0.000    0.000    0.000    0.000 {built-in method builtins.getattr}\n",
      "        1    0.000    0.000    0.000    0.000 <ipython-input-37-4199b605bc38>:4(<module>)\n",
      "        2    0.000    0.000    0.000    0.000 {built-in method numpy.zeros}\n",
      "       23    0.000    0.000    0.000    0.000 {built-in method builtins.len}\n",
      "        2    0.000    0.000    0.000    0.000 hooks.py:103(__call__)\n",
      "        2    0.000    0.000    0.000    0.000 interactiveshell.py:117(<lambda>)\n",
      "        6    0.000    0.000    0.000    0.000 multiarray.py:321(where)\n",
      "        2    0.000    0.000    0.000    0.000 ipstruct.py:125(__getattr__)\n",
      "        2    0.000    0.000    0.000    0.000 traitlets.py:533(get)\n",
      "       16    0.000    0.000    0.000    0.000 {method 'append' of 'list' objects}\n",
      "        1    0.000    0.000    0.000    0.000 {method 'disable' of '_lsprof.Profiler' objects}\n",
      "        2    0.000    0.000    0.000    0.000 interactiveshell.py:1277(user_global_ns)\n",
      "        2    0.000    0.000    0.000    0.000 interactiveshell.py:3328(compare)\n",
      "        2    0.000    0.000    0.000    0.000 hooks.py:168(pre_run_code_hook)\n",
      "\n",
      "\n"
     ]
    }
   ],
   "source": [
    "cprof = cProfile.Profile()\n",
    "cprof.enable()\n",
    "problem_approx_1 = maxz(matrix_max_approx_1)\n",
    "cprof.disable()\n",
    "cprof.print_stats(sort='cumtime')"
   ]
  },
  {
   "cell_type": "markdown",
   "id": "improved-causing",
   "metadata": {},
   "source": [
    "## con comando magic"
   ]
  },
  {
   "cell_type": "code",
   "execution_count": 38,
   "id": "surgical-maryland",
   "metadata": {},
   "outputs": [
    {
     "name": "stdout",
     "output_type": "stream",
     "text": [
      " "
     ]
    }
   ],
   "source": [
    " %prun -s cumulative problem_approx_1 = maxz(matrix_max_approx_1)"
   ]
  },
  {
   "cell_type": "code",
   "execution_count": 41,
   "id": "inclusive-cancer",
   "metadata": {},
   "outputs": [],
   "source": [
    "cprof.dump_stats(\"maxz_stats\")"
   ]
  },
  {
   "cell_type": "code",
   "execution_count": 42,
   "id": "hungarian-advertising",
   "metadata": {},
   "outputs": [],
   "source": [
    "import pstats"
   ]
  },
  {
   "cell_type": "code",
   "execution_count": 43,
   "id": "changing-terrorist",
   "metadata": {},
   "outputs": [
    {
     "name": "stdout",
     "output_type": "stream",
     "text": [
      "Wed May  5 18:15:34 2021    maxz_stats\n",
      "\n",
      "         151 function calls in 0.001 seconds\n",
      "\n",
      "   Ordered by: cumulative time\n",
      "   List reduced from 39 to 10 due to restriction <10>\n",
      "\n",
      "   ncalls  tottime  percall  cumtime  percall filename:lineno(function)\n",
      "        2    0.000    0.000    0.000    0.000 /home/user/.pyenv/versions/3.7.4/envs/optimizacion/lib/python3.7/site-packages/IPython/core/interactiveshell.py:3386(run_code)\n",
      "        2    0.000    0.000    0.000    0.000 {built-in method builtins.exec}\n",
      "        1    0.000    0.000    0.000    0.000 <ipython-input-37-4199b605bc38>:3(<module>)\n",
      "        1    0.000    0.000    0.000    0.000 /home/user/.pyenv/versions/3.7.4/envs/optimizacion/lib/python3.7/site-packages/mex/simplex/problem_definition.py:178(maxz)\n",
      "        4    0.000    0.000    0.000    0.000 /home/user/.pyenv/versions/3.7.4/envs/optimizacion/lib/python3.7/site-packages/mex/simplex/simplex_networks.py:146(find_pivot_row)\n",
      "        2    0.000    0.000    0.000    0.000 /home/user/.pyenv/versions/3.7.4/envs/optimizacion/lib/python3.7/site-packages/mex/simplex/simplex_networks.py:174(pivot)\n",
      "        4    0.000    0.000    0.000    0.000 /home/user/.pyenv/versions/3.7.4/envs/optimizacion/lib/python3.7/site-packages/mex/simplex/simplex_networks.py:92(find_negative_row)\n",
      "        2    0.000    0.000    0.000    0.000 /home/user/.pyenv/versions/3.7.4/lib/python3.7/codeop.py:132(__call__)\n",
      "        2    0.000    0.000    0.000    0.000 {built-in method builtins.compile}\n",
      "        7    0.000    0.000    0.000    0.000 /home/user/.pyenv/versions/3.7.4/envs/optimizacion/lib/python3.7/site-packages/mex/simplex/simplex_networks.py:47(pivots_row)\n",
      "\n",
      "\n",
      "<pstats.Stats object at 0x7ff08badebd0>\n"
     ]
    }
   ],
   "source": [
    "p_max_stats = pstats.Stats(\"maxz_stats\")\n",
    "print(p_max_stats.sort_stats(\"cumulative\").print_stats(10))"
   ]
  },
  {
   "cell_type": "code",
   "execution_count": 45,
   "id": "negative-clock",
   "metadata": {},
   "outputs": [
    {
     "name": "stdout",
     "output_type": "stream",
     "text": [
      "Wed May  5 18:15:34 2021    maxz_stats\n",
      "\n",
      "         151 function calls in 0.001 seconds\n",
      "\n",
      "   Ordered by: cumulative time\n",
      "   List reduced from 39 to 8 due to restriction <'simplex|lambda|math'>\n",
      "\n",
      "   ncalls  tottime  percall  cumtime  percall filename:lineno(function)\n",
      "        1    0.000    0.000    0.000    0.000 /home/user/.pyenv/versions/3.7.4/envs/optimizacion/lib/python3.7/site-packages/mex/simplex/problem_definition.py:178(maxz)\n",
      "        4    0.000    0.000    0.000    0.000 /home/user/.pyenv/versions/3.7.4/envs/optimizacion/lib/python3.7/site-packages/mex/simplex/simplex_networks.py:146(find_pivot_row)\n",
      "        2    0.000    0.000    0.000    0.000 /home/user/.pyenv/versions/3.7.4/envs/optimizacion/lib/python3.7/site-packages/mex/simplex/simplex_networks.py:174(pivot)\n",
      "        4    0.000    0.000    0.000    0.000 /home/user/.pyenv/versions/3.7.4/envs/optimizacion/lib/python3.7/site-packages/mex/simplex/simplex_networks.py:92(find_negative_row)\n",
      "        7    0.000    0.000    0.000    0.000 /home/user/.pyenv/versions/3.7.4/envs/optimizacion/lib/python3.7/site-packages/mex/simplex/simplex_networks.py:47(pivots_row)\n",
      "        1    0.000    0.000    0.000    0.000 /home/user/.pyenv/versions/3.7.4/envs/optimizacion/lib/python3.7/site-packages/mex/simplex/simplex_networks.py:26(pivots_col)\n",
      "        6    0.000    0.000    0.000    0.000 {built-in method numpy.core._multiarray_umath.implement_array_function}\n",
      "        2    0.000    0.000    0.000    0.000 /home/user/.pyenv/versions/3.7.4/envs/optimizacion/lib/python3.7/site-packages/IPython/core/interactiveshell.py:117(<lambda>)\n",
      "\n",
      "\n",
      "<pstats.Stats object at 0x7ff08badebd0>\n"
     ]
    }
   ],
   "source": [
    "print(p_max_stats.sort_stats(\"cumulative\").print_stats(\"simplex|lambda|math\"))"
   ]
  },
  {
   "cell_type": "code",
   "execution_count": 46,
   "id": "round-circular",
   "metadata": {},
   "outputs": [
    {
     "name": "stdout",
     "output_type": "stream",
     "text": [
      "Wed May  5 18:15:34 2021    maxz_stats\n",
      "\n",
      "         151 function calls in 0.001 seconds\n",
      "\n",
      "   Ordered by: cumulative time\n",
      "   List reduced from 39 to 7 due to restriction <'lambda|simplex|math'>\n",
      "\n",
      "   ncalls  tottime  percall  cumtime  percall filename:lineno(function)\n",
      "        4    0.000    0.000    0.000    0.000 simplex_networks.py:146(find_pivot_row)\n",
      "        2    0.000    0.000    0.000    0.000 simplex_networks.py:174(pivot)\n",
      "        4    0.000    0.000    0.000    0.000 simplex_networks.py:92(find_negative_row)\n",
      "        7    0.000    0.000    0.000    0.000 simplex_networks.py:47(pivots_row)\n",
      "        1    0.000    0.000    0.000    0.000 simplex_networks.py:26(pivots_col)\n",
      "        6    0.000    0.000    0.000    0.000 {built-in method numpy.core._multiarray_umath.implement_array_function}\n",
      "        2    0.000    0.000    0.000    0.000 interactiveshell.py:117(<lambda>)\n",
      "\n",
      "\n",
      "<pstats.Stats object at 0x7ff08badebd0>\n"
     ]
    }
   ],
   "source": [
    "print(p_max_stats.strip_dirs().sort_stats(\"cumulative\").print_stats(\"lambda|simplex|math\"))"
   ]
  },
  {
   "cell_type": "code",
   "execution_count": 48,
   "id": "unavailable-pattern",
   "metadata": {},
   "outputs": [
    {
     "name": "stdout",
     "output_type": "stream",
     "text": [
      "151\n"
     ]
    }
   ],
   "source": [
    "# El número de veces que se llamaron a funciones primitivas o built in: \n",
    "print(p_max_stats.prim_calls)"
   ]
  },
  {
   "cell_type": "code",
   "execution_count": null,
   "id": "together-tongue",
   "metadata": {},
   "outputs": [],
   "source": []
  }
 ],
 "metadata": {
  "kernelspec": {
   "display_name": "Python 3",
   "language": "python",
   "name": "python3"
  },
  "language_info": {
   "codemirror_mode": {
    "name": "ipython",
    "version": 3
   },
   "file_extension": ".py",
   "mimetype": "text/x-python",
   "name": "python",
   "nbconvert_exporter": "python",
   "pygments_lexer": "ipython3",
   "version": "3.7.4"
  }
 },
 "nbformat": 4,
 "nbformat_minor": 5
}
