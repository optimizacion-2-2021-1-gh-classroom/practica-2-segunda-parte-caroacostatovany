{
 "cells": [
  {
   "cell_type": "code",
   "execution_count": 1,
   "metadata": {},
   "outputs": [],
   "source": [
    "import numpy as np\n",
    "import matplotlib.pyplot as plt\n",
    "import networkx as nx\n",
    "import os\n",
    "import copy\n",
    "import time\n",
    "import pprint\n",
    "import shutil\n",
    "from scipy.optimize import linprog\n",
    "from pytest import approx\n",
    "from IPython.display import HTML, display"
   ]
  },
  {
   "cell_type": "markdown",
   "metadata": {},
   "source": [
    "# Descripción de la instancia:"
   ]
  },
  {
   "cell_type": "markdown",
   "metadata": {},
   "source": [
    "Para realizar esta práctica utilizamos una instancia `m5.2xlarge`, que hemos ocupado en prácticas anteriores. Ésta tiene las siguientes características:"
   ]
  },
  {
   "cell_type": "code",
   "execution_count": 2,
   "metadata": {},
   "outputs": [
    {
     "name": "stdout",
     "output_type": "stream",
     "text": [
      "Architecture:                    x86_64\n",
      "CPU op-mode(s):                  32-bit, 64-bit\n",
      "Byte Order:                      Little Endian\n",
      "Address sizes:                   46 bits physical, 48 bits virtual\n",
      "CPU(s):                          8\n",
      "On-line CPU(s) list:             0-7\n",
      "Thread(s) per core:              2\n",
      "Core(s) per socket:              4\n",
      "Socket(s):                       1\n",
      "NUMA node(s):                    1\n",
      "Vendor ID:                       GenuineIntel\n",
      "CPU family:                      6\n",
      "Model:                           85\n",
      "Model name:                      Intel(R) Xeon(R) Platinum 8259CL CPU @ 2.50GHz\n",
      "Stepping:                        7\n",
      "CPU MHz:                         3107.237\n",
      "BogoMIPS:                        4999.99\n",
      "Hypervisor vendor:               KVM\n",
      "Virtualization type:             full\n",
      "L1d cache:                       128 KiB\n",
      "L1i cache:                       128 KiB\n",
      "L2 cache:                        4 MiB\n",
      "L3 cache:                        35.8 MiB\n",
      "NUMA node0 CPU(s):               0-7\n",
      "Vulnerability Itlb multihit:     KVM: Vulnerable\n",
      "Vulnerability L1tf:              Mitigation; PTE Inversion\n",
      "Vulnerability Mds:               Vulnerable: Clear CPU buffers attempted, no microcode; SMT Host state unknown\n",
      "Vulnerability Meltdown:          Mitigation; PTI\n",
      "Vulnerability Spec store bypass: Vulnerable\n",
      "Vulnerability Spectre v1:        Mitigation; usercopy/swapgs barriers and __user pointer sanitization\n",
      "Vulnerability Spectre v2:        Mitigation; Full generic retpoline, STIBP disabled, RSB filling\n",
      "Vulnerability Srbds:             Not affected\n",
      "Vulnerability Tsx async abort:   Not affected\n",
      "Flags:                           fpu vme de pse tsc msr pae mce cx8 apic sep mtrr pge mca cmov pat pse36 clflush mmx fxsr sse sse2 ss ht syscall nx pdpe1gb rdtscp lm constant_tsc rep_good nopl xtopology nonstop_tsc cpuid aperfmperf tsc_known_freq pni pclmulqdq ssse3 fma cx16 pcid sse4_1 sse4_2 x2apic movbe popcnt tsc_deadline_timer aes xsave avx f16c rdrand hypervisor lahf_lm abm 3dnowprefetch invpcid_single pti fsgsbase tsc_adjust bmi1 avx2 smep bmi2 erms invpcid mpx avx512f avx512dq rdseed adx smap clflushopt clwb avx512cd avx512bw avx512vl xsaveopt xsavec xgetbv1 xsaves ida arat pku ospke\n"
     ]
    }
   ],
   "source": [
    "%%bash\n",
    "lscpu"
   ]
  },
  {
   "cell_type": "markdown",
   "metadata": {},
   "source": [
    "# Reimplementación 0"
   ]
  },
  {
   "cell_type": "markdown",
   "metadata": {},
   "source": [
    "## Creamos archivos `.pyx`"
   ]
  },
  {
   "cell_type": "code",
   "execution_count": 2,
   "metadata": {},
   "outputs": [],
   "source": [
    "os.chdir(\"..\")\n",
    "shutil.copyfile('src/mex/simplex/simplex_networks.py','notebooks/reimplementacion_0/simplex_networks_0.pyx')\n",
    "shutil.copyfile('src/mex/simplex/problem_definition.py','notebooks/reimplementacion_0/problem_definition_0.pyx')\n",
    "shutil.copyfile('src/mex/utils/general.py','notebooks/reimplementacion_0/general_0.pyx')\n",
    "os.chdir(\"notebooks\")"
   ]
  },
  {
   "cell_type": "markdown",
   "metadata": {},
   "source": [
    "## Creamos archivos `setup.py`"
   ]
  },
  {
   "cell_type": "code",
   "execution_count": 3,
   "metadata": {},
   "outputs": [
    {
     "name": "stdout",
     "output_type": "stream",
     "text": [
      "Overwriting reimplementacion_0/setup_simplexnetworks_0.py\n"
     ]
    }
   ],
   "source": [
    "%%file reimplementacion_0/setup_simplexnetworks_0.py\n",
    "from distutils.core import setup\n",
    "from Cython.Build import cythonize\n",
    "setup(ext_modules = cythonize(\"reimplementacion_0/simplex_networks_0.pyx\", compiler_directives={'language_level' : 3}))"
   ]
  },
  {
   "cell_type": "code",
   "execution_count": 11,
   "metadata": {},
   "outputs": [
    {
     "name": "stdout",
     "output_type": "stream",
     "text": [
      "Overwriting reimplementacion_0/setup_problemdefinition_0.py\n"
     ]
    }
   ],
   "source": [
    "%%file reimplementacion_0/setup_problemdefinition_0.py\n",
    "from distutils.core import setup\n",
    "from Cython.Build import cythonize\n",
    "setup(ext_modules = cythonize(\"reimplementacion_0/problem_definition_0.pyx\", compiler_directives={'language_level' : 3}))"
   ]
  },
  {
   "cell_type": "code",
   "execution_count": 12,
   "metadata": {},
   "outputs": [
    {
     "name": "stdout",
     "output_type": "stream",
     "text": [
      "Overwriting reimplementacion_0/setup_general_0.py\n"
     ]
    }
   ],
   "source": [
    "%%file reimplementacion_0/setup_general_0.py\n",
    "from distutils.core import setup\n",
    "from Cython.Build import cythonize\n",
    "setup(ext_modules = cythonize(\"reimplementacion_0/general_0.pyx\", compiler_directives={'language_level' : 3}))"
   ]
  },
  {
   "cell_type": "markdown",
   "metadata": {},
   "source": [
    "## Compilando"
   ]
  },
  {
   "cell_type": "code",
   "execution_count": 13,
   "metadata": {},
   "outputs": [
    {
     "name": "stdout",
     "output_type": "stream",
     "text": [
      "running build_ext\n",
      "building 'simplex_networks_0' extension\n",
      "creating build\n",
      "creating build/temp.linux-x86_64-3.8\n",
      "creating build/temp.linux-x86_64-3.8/reimplementacion_0\n",
      "x86_64-linux-gnu-gcc -pthread -Wno-unused-result -Wsign-compare -DNDEBUG -g -fwrapv -O2 -Wall -g -fstack-protector-strong -Wformat -Werror=format-security -g -fwrapv -O2 -g -fstack-protector-strong -Wformat -Werror=format-security -Wdate-time -D_FORTIFY_SOURCE=2 -fPIC -I/usr/include/python3.8 -c reimplementacion_0/simplex_networks_0.c -o build/temp.linux-x86_64-3.8/reimplementacion_0/simplex_networks_0.o\n",
      "x86_64-linux-gnu-gcc -pthread -shared -Wl,-O1 -Wl,-Bsymbolic-functions -Wl,-Bsymbolic-functions -Wl,-z,relro -g -fwrapv -O2 -Wl,-Bsymbolic-functions -Wl,-z,relro -g -fwrapv -O2 -g -fstack-protector-strong -Wformat -Werror=format-security -Wdate-time -D_FORTIFY_SOURCE=2 build/temp.linux-x86_64-3.8/reimplementacion_0/simplex_networks_0.o -o /home/ubuntu/practica-2-segunda-parte-caroacostatovany/notebooks/simplex_networks_0.cpython-38-x86_64-linux-gnu.so\n"
     ]
    }
   ],
   "source": [
    "%%bash\n",
    "python3 reimplementacion_0/setup_simplexnetworks_0.py build_ext --inplace"
   ]
  },
  {
   "cell_type": "code",
   "execution_count": 14,
   "metadata": {},
   "outputs": [
    {
     "name": "stdout",
     "output_type": "stream",
     "text": [
      "running build_ext\n",
      "building 'problem_definition_0' extension\n",
      "x86_64-linux-gnu-gcc -pthread -Wno-unused-result -Wsign-compare -DNDEBUG -g -fwrapv -O2 -Wall -g -fstack-protector-strong -Wformat -Werror=format-security -g -fwrapv -O2 -g -fstack-protector-strong -Wformat -Werror=format-security -Wdate-time -D_FORTIFY_SOURCE=2 -fPIC -I/usr/include/python3.8 -c reimplementacion_0/problem_definition_0.c -o build/temp.linux-x86_64-3.8/reimplementacion_0/problem_definition_0.o\n",
      "x86_64-linux-gnu-gcc -pthread -shared -Wl,-O1 -Wl,-Bsymbolic-functions -Wl,-Bsymbolic-functions -Wl,-z,relro -g -fwrapv -O2 -Wl,-Bsymbolic-functions -Wl,-z,relro -g -fwrapv -O2 -g -fstack-protector-strong -Wformat -Werror=format-security -Wdate-time -D_FORTIFY_SOURCE=2 build/temp.linux-x86_64-3.8/reimplementacion_0/problem_definition_0.o -o /home/ubuntu/practica-2-segunda-parte-caroacostatovany/notebooks/problem_definition_0.cpython-38-x86_64-linux-gnu.so\n"
     ]
    }
   ],
   "source": [
    "%%bash\n",
    "python3 reimplementacion_0/setup_problemdefinition_0.py build_ext --inplace"
   ]
  },
  {
   "cell_type": "code",
   "execution_count": 15,
   "metadata": {},
   "outputs": [
    {
     "name": "stdout",
     "output_type": "stream",
     "text": [
      "running build_ext\n",
      "building 'general_0' extension\n",
      "x86_64-linux-gnu-gcc -pthread -Wno-unused-result -Wsign-compare -DNDEBUG -g -fwrapv -O2 -Wall -g -fstack-protector-strong -Wformat -Werror=format-security -g -fwrapv -O2 -g -fstack-protector-strong -Wformat -Werror=format-security -Wdate-time -D_FORTIFY_SOURCE=2 -fPIC -I/usr/include/python3.8 -c reimplementacion_0/general_0.c -o build/temp.linux-x86_64-3.8/reimplementacion_0/general_0.o\n",
      "x86_64-linux-gnu-gcc -pthread -shared -Wl,-O1 -Wl,-Bsymbolic-functions -Wl,-Bsymbolic-functions -Wl,-z,relro -g -fwrapv -O2 -Wl,-Bsymbolic-functions -Wl,-z,relro -g -fwrapv -O2 -g -fstack-protector-strong -Wformat -Werror=format-security -Wdate-time -D_FORTIFY_SOURCE=2 build/temp.linux-x86_64-3.8/reimplementacion_0/general_0.o -o /home/ubuntu/practica-2-segunda-parte-caroacostatovany/notebooks/general_0.cpython-38-x86_64-linux-gnu.so\n"
     ]
    }
   ],
   "source": [
    "%%bash\n",
    "python3 reimplementacion_0/setup_general_0.py build_ext --inplace"
   ]
  },
  {
   "cell_type": "markdown",
   "metadata": {},
   "source": [
    "### Ejemplo pequeña escala"
   ]
  },
  {
   "cell_type": "markdown",
   "metadata": {},
   "source": [
    "#### Valores Objetivo"
   ]
  },
  {
   "cell_type": "code",
   "execution_count": 4,
   "metadata": {},
   "outputs": [],
   "source": [
    "c_max_obj_small = [-3, -5]\n",
    "A_max_obj_small = [[1, 0], [0, 2], [3, 2]]\n",
    "b_max_obj_small = [4, 12, 18]"
   ]
  },
  {
   "cell_type": "code",
   "execution_count": 5,
   "metadata": {},
   "outputs": [],
   "source": [
    "max_obj_small = -1*linprog(c_max_obj_small, A_ub=A_max_obj_small, b_ub=b_max_obj_small).fun"
   ]
  },
  {
   "cell_type": "code",
   "execution_count": 6,
   "metadata": {},
   "outputs": [],
   "source": [
    "coeff_obj_small = linprog(c_max_obj_small, A_ub=A_max_obj_small, b_ub=b_max_obj_small).x"
   ]
  },
  {
   "cell_type": "markdown",
   "metadata": {},
   "source": [
    "#### Importamos módulos compilados y calculamos valores aproximados"
   ]
  },
  {
   "cell_type": "code",
   "execution_count": 7,
   "metadata": {},
   "outputs": [],
   "source": [
    "import simplex_networks_0 as mex_0_sn\n",
    "import problem_definition_0 as mex_0_pd"
   ]
  },
  {
   "cell_type": "code",
   "execution_count": 8,
   "metadata": {},
   "outputs": [],
   "source": [
    "n_var_approx_small = 2\n",
    "n_cons_approx_small = 3"
   ]
  },
  {
   "cell_type": "code",
   "execution_count": 9,
   "metadata": {},
   "outputs": [
    {
     "name": "stdout",
     "output_type": "stream",
     "text": [
      "Todo el proceso tomó 0.0005669593811035156 segundos\n"
     ]
    }
   ],
   "source": [
    "# Todo junto\n",
    "start_time = time.time()\n",
    "matrix_max_approx_0_small = mex_0_sn.create_matrix(n_var_approx_small,n_cons_approx_small)\n",
    "mex_0_pd.constrain(matrix_max_approx_0_small,'1,0,L,4')\n",
    "mex_0_pd.constrain(matrix_max_approx_0_small,'0,2,L,12')\n",
    "mex_0_pd.constrain(matrix_max_approx_0_small,'3,2,L,18')\n",
    "mex_0_pd.obj(matrix_max_approx_0_small,'3,5,0')\n",
    "problem_approx_0_small = mex_0_pd.maxz(matrix_max_approx_0_small)\n",
    "max_approx_0_small = problem_approx_0_small['max']\n",
    "problem_approx_0_small.pop('max')\n",
    "coeff_approx_0_small = np.array(list(problem_approx_0_small.values()))\n",
    "end_time = time.time()\n",
    "secs_0_small = end_time-start_time\n",
    "print(\"Todo el proceso tomó\",secs_0_small,\"segundos\" )"
   ]
  },
  {
   "cell_type": "markdown",
   "metadata": {},
   "source": [
    "#### Comprobación"
   ]
  },
  {
   "cell_type": "code",
   "execution_count": 10,
   "metadata": {},
   "outputs": [
    {
     "name": "stdout",
     "output_type": "stream",
     "text": [
      "El valor objetivo obtenido con scipy es:  35.99999997843401\n",
      "El valor aproximado obtenido con mex es:  36.0\n",
      "Los coeficientes objetivos obtenidos con scipy son:  [2. 6.]\n",
      "Los coeficientes aproximados obtenidos con mex son:  [2. 6.]\n"
     ]
    }
   ],
   "source": [
    "assert max_obj_small == approx(max_approx_0_small), \"El valor aproximado es incorrecto\"\n",
    "assert coeff_obj_small == approx(coeff_approx_0_small), \"El valor de los coeficientes aproximados es incorrecto\"\n",
    "\n",
    "print(\"El valor objetivo obtenido con scipy es: \", max_obj_small)\n",
    "print(\"El valor aproximado obtenido con mex es: \", max_approx_0_small)\n",
    "print(\"Los coeficientes objetivos obtenidos con scipy son: \", coeff_obj_small)\n",
    "print(\"Los coeficientes aproximados obtenidos con mex son: \", coeff_approx_0_small)"
   ]
  },
  {
   "cell_type": "markdown",
   "metadata": {},
   "source": [
    "### Ejemplo mediana escala"
   ]
  },
  {
   "cell_type": "markdown",
   "metadata": {},
   "source": [
    "#### Valores Objetivo"
   ]
  },
  {
   "cell_type": "code",
   "execution_count": 11,
   "metadata": {},
   "outputs": [],
   "source": [
    "c_max_obj_med = [-52.16, -45.51, -69.09, -84.88, -38.73,\n",
    "              -84.47, -97.50, -61.32, -16.27, -36.42,\n",
    "              -77.24, -36.91, -62.85, -50.77, -81.22,\n",
    "              -66.94, -31.10, -45.05, -37.68, -40.76]\n",
    "\n",
    "A_max_obj_med = [[90.09, 50.61, 45.03, 16.83, 26.92,\n",
    "                36.29, 51.61, 2.450, 25.15, 30.22,\n",
    "                81.78, 2.444, 34.71, 57.17, 41.14,\n",
    "                92.00, 69.17, 26.77, 38.44, 25.35], \n",
    "               \n",
    "               [69.62, 6.235, 18.95, 4.843, 12.34,\n",
    "                82.56, 83.65, 11.18, 29.91, 34.66,\n",
    "                79.32, 64.11, 95.56, 70.83, 69.77,\n",
    "                93.99, 10.83, 17.88, 78.04, 87.34],\n",
    "               \n",
    "               [27.58, 31.56, 72.90, 95.74, 69.19,\n",
    "                84.21, 58.42, 18.88, 72.27, 85.58,\n",
    "                60.66, 51.78, 46.34, 30.96, 5.505,\n",
    "                11.68, 84.84, 81.16, 3.668, 65.52],\n",
    "               \n",
    "               [28.91, 98.28, 80.47, 78.34, 48.34,\n",
    "                40.00, 92.46, 93.44, 93.79, 46.63,\n",
    "                50.50, 30.32, 71.96, 52.57, 46.29,\n",
    "                67.03, 71.13, 82.94, 4.676, 5.110],\n",
    "               \n",
    "               [10.16, 9.828, 11.24, 53.81, 23.53,\n",
    "                16.98, 94.65, 55.01, 96.43, 5.556,\n",
    "                54.05, 40.95, 35.37, 14.02, 32.04,\n",
    "                71.37, 29.52, 24.35, 71.32, 46.73],\n",
    "               \n",
    "               [70.56, 93.54, 27.93, 95.94, 91.23,\n",
    "                8.491, 78.54, 7.435, 85.27, 32.27,\n",
    "                97.65, 34.44, 97.45, 77.70, 86.22,\n",
    "                3.460, 52.49, 59.86, 6.446, 20.77],\n",
    "               \n",
    "               [30.93, 40.11, 9.917, 22.34, 2.947,\n",
    "                8.553, 85.74, 31.01, 4.919, 12.60,\n",
    "                3.358, 89.39, 50.05, 25.59, 13.33,\n",
    "                75.14, 57.81, 14.29, 88.59, 24.34],\n",
    "               \n",
    "               [7.511, 72.81, 19.49, 55.05, 86.04,\n",
    "                36.84, 7.233, 67.59, 92.62, 24.06,\n",
    "                15.87, 45.52, 75.98, 71.86, 64.45,\n",
    "                15.81, 57.22, 84.86, 28.66, 7.867],\n",
    "               \n",
    "               [62.27, 38.88, 82.58, 84.71, 68.00,\n",
    "                97.57, 36.58, 11.57, 73.91, 75.40,\n",
    "                65.75, 7.540, 52.08, 96.61, 9.278,\n",
    "                60.24, 59.22, 6.214, 63.88, 68.99],\n",
    "               \n",
    "               [73.05, 10.49, 93.23, 91.39, 63.19,\n",
    "                47.53, 20.71, 14.26, 51.71, 71.02,\n",
    "                11.87, 61.36, 97.72, 70.67, 28.40,\n",
    "                73.55, 33.02, 81.46, 67.22, 85.30],\n",
    "               \n",
    "               [93.49, 28.98, 23.75, 48.18, 73.61,\n",
    "                18.85, 15.89, 90.90, 71.75, 80.48,\n",
    "                97.08, 88.23, 86.15, 57.57, 78.16,\n",
    "                40.38, 19.41, 75.39, 54.97, 38.35],\n",
    "               \n",
    "               [84.61, 42.17, 56.76, 23.61, 66.47,\n",
    "                13.86, 36.55, 37.61, 39.77, 2.123,\n",
    "                92.07, 21.21, 85.36, 27.84, 81.87,\n",
    "                34.29, 55.51, 71.08, 81.14, 41.18], \n",
    "               \n",
    "               [66.07, 71.30, 29.57, 3.874, 45.04,\n",
    "                98.19, 92.92, 18.87, 44.20, 17.36,\n",
    "                36.33, 45.50, 17.97, 67.95, 62.03,\n",
    "                32.55, 50.91, 47.08, 85.63, 36.12], \n",
    "               \n",
    "               [63.66, 7.173, 29.93, 31.48, 64.60,\n",
    "                72.68, 2.754, 16.71, 79.55, 4.050,\n",
    "                95.43, 31.18, 61.87, 68.41, 3.567,\n",
    "                21.61, 45.96, 3.881, 40.50, 91.86], \n",
    "               \n",
    "               [67.60, 7.276, 78.37, 96.71, 79.11,\n",
    "                21.35, 78.86, 23.26, 63.76, 43.93,\n",
    "                59.46, 78.19, 70.34, 92.42, 58.98,\n",
    "                95.50, 84.86, 76.11, 13.00, 60.67],\n",
    "               \n",
    "               [12.17, 45.38, 51.97, 93.29, 97.74,\n",
    "                58.34, 71.99, 26.91, 26.85, 74.88,\n",
    "                69.95, 43.51, 8.723, 38.97, 74.16,\n",
    "                81.20, 77.52, 20.84, 46.12, 16.24],\n",
    "               \n",
    "               [85.82, 3.365, 53.87, 41.57, 37.04,\n",
    "                97.64, 16.76, 90.16, 50.49, 76.92,\n",
    "                85.17, 57.76, 29.29, 12.79, 93.86,\n",
    "                59.50, 84.81, 43.91, 6.931, 14.25],\n",
    "               \n",
    "               [72.94, 37.67, 28.00, 33.56, 71.22,\n",
    "                73.32, 33.33, 27.54, 71.75, 61.17,\n",
    "                39.68, 38.85, 79.89, 92.34, 31.80,\n",
    "                10.18, 78.30, 6.469, 41.89, 50.98],\n",
    "               \n",
    "               [80.03, 67.82, 37.00, 51.50, 17.85,\n",
    "                10.91, 26.95, 65.79, 18.51, 84.34,\n",
    "                3.196, 72.33, 48.76, 8.459, 53.13,\n",
    "                18.23, 9.679, 2.543, 48.12, 52.09],\n",
    "               \n",
    "               [28.10, 98.61, 1.938, 94.54, 98.78,\n",
    "                18.29, 26.88, 91.15, 9.967, 5.279,\n",
    "                99.44, 79.94, 82.80, 30.05, 85.13,\n",
    "                8.410, 83.47, 15.45, 46.43, 56.54],\n",
    "               \n",
    "               [92.44, 92.82, 95.87, 78.14, 93.72,\n",
    "                55.82, 92.28, 64.95, 94.39, 91.63,\n",
    "                20.11, 32.16, 10.08, 23.98, 9.257,\n",
    "                71.39, 48.74, 60.76, 96.93, 56.57],\n",
    "               \n",
    "               [22.14, 72.51, 48.51, 98.13, 90.25,\n",
    "                85.24, 1.804, 28.47, 45.93, 36.05,\n",
    "                35.43, 7.104, 70.67, 97.69, 74.87,\n",
    "                39.72, 13.98, 58.00, 2.024, 85.30],\n",
    "               \n",
    "               [72.16, 93.13, 45.85, 76.06, 22.53,\n",
    "                36.16, 81.15, 92.51, 97.12, 67.37,\n",
    "                37.37, 69.21, 72.32, 63.23, 92.90,\n",
    "                61.86, 11.42, 34.15, 49.78, 6.688],\n",
    "               \n",
    "               [58.39, 34.12, 77.96, 5.433, 83.02,\n",
    "                84.14, 59.82, 22.39, 70.75, 19.67,\n",
    "                24.53, 41.00, 56.24, 89.32, 14.63,\n",
    "                77.15, 34.12, 34.28, 55.17, 31.45],\n",
    "               \n",
    "               [20.15, 1.416, 74.34, 23.20, 8.632,\n",
    "                71.47, 32.10, 59.23, 91.44, 37.58,\n",
    "                23.29, 39.11, 19.54, 3.000, 2.319,\n",
    "                43.50, 35.17, 66.78, 40.41, 50.82],\n",
    "               \n",
    "               [54.65, 70.46, 46.30, 66.92, 27.45,\n",
    "                25.48, 81.67, 96.67, 42.57, 43.22,\n",
    "                43.29, 60.58, 19.07, 27.73, 92.63,\n",
    "                60.94, 84.33, 8.800, 78.62, 17.94],\n",
    "               \n",
    "               [83.10, 98.45, 22.09, 36.01, 39.99,\n",
    "                6.380, 28.27, 10.69, 57.29, 63.19,\n",
    "                44.42, 51.00, 15.57, 11.27, 63.56,\n",
    "                17.54, 40.71, 47.53, 27.81, 27.66],\n",
    "               \n",
    "               [22.20, 29.98, 87.02, 25.26, 47.23,\n",
    "                55.22, 83.70, 88.56, 67.82, 6.36,\n",
    "                66.62, 3.853, 47.37, 97.22, 83.37,\n",
    "                89.41, 61.79, 96.26, 91.11, 79.89],\n",
    "               \n",
    "               [6.828, 84.55, 80.55, 86.10, 54.30,\n",
    "                18.86, 80.63, 54.07, 63.94, 89.28,\n",
    "                64.89, 87.44, 13.06, 31.29, 63.10,\n",
    "                75.33, 21.06, 61.33, 1.093, 91.08],\n",
    "               \n",
    "               [85.33, 57.98, 42.51, 53.95, 10.49,  \n",
    "                32.74, 43.28, 51.52, 89.99, 43.97,\n",
    "                46.69, 44.05, 85.91, 19.12, 23.85,\n",
    "                58.82, 71.23, 8.885, 18.81, 87.44]]\n",
    "\n",
    "b_max_obj_med = [79.72, 68.64, 1.240, 34.53, 43.64, 3.692, 44.21, 94.85, 39.16, 38.43,\n",
    "               57.08, 19.63, 70.07, 32.45, 15.32, 49.46, 54.54, 24.96, 11.98, 1.772,\n",
    "               50.61, 94.20, 97.49, 34.16, 6.26, 70.31, 79.18, 44.51, 53.22, 50.65]"
   ]
  },
  {
   "cell_type": "code",
   "execution_count": 12,
   "metadata": {},
   "outputs": [],
   "source": [
    "max_obj_med = -1*linprog(c_max_obj_med, A_ub=A_max_obj_med, b_ub=b_max_obj_med).fun"
   ]
  },
  {
   "cell_type": "code",
   "execution_count": 13,
   "metadata": {},
   "outputs": [],
   "source": [
    "coeff_obj_med = linprog(c_max_obj_med, A_ub=A_max_obj_med, b_ub=b_max_obj_med).x"
   ]
  },
  {
   "cell_type": "markdown",
   "metadata": {},
   "source": [
    "#### Calculamos valores aproximados"
   ]
  },
  {
   "cell_type": "code",
   "execution_count": 14,
   "metadata": {},
   "outputs": [],
   "source": [
    "n_var_approx_med = 20\n",
    "n_cons_approx_med = 30"
   ]
  },
  {
   "cell_type": "code",
   "execution_count": 15,
   "metadata": {},
   "outputs": [
    {
     "name": "stdout",
     "output_type": "stream",
     "text": [
      "Todo el proceso tomó 0.024916410446166992 segundos\n"
     ]
    }
   ],
   "source": [
    "# Todo junto\n",
    "start_time = time.time()\n",
    "matrix_max_approx_0_med = mex_0_sn.create_matrix(n_var_approx_med,n_cons_approx_med)\n",
    "#Restricciones 1-5:\n",
    "mex_0_pd.constrain(matrix_max_approx_0_med,'90.09,50.61,45.03,16.83,26.92,36.29,51.61,2.450,25.15,30.22,81.78,2.444,34.71,57.17,41.14,92.00,69.17,26.77,38.44,25.35,L,79.72')\n",
    "mex_0_pd.constrain(matrix_max_approx_0_med,'69.62,6.235,18.95,4.843,12.34,82.56,83.65,11.18,29.91,34.66,79.32,64.11,95.56,70.83,69.77,93.99,10.83,17.88,78.04,87.34,L,68.64')\n",
    "mex_0_pd.constrain(matrix_max_approx_0_med,'27.58,31.56,72.90,95.74,69.19,84.21,58.42,18.88,72.27,85.58,60.66,51.78,46.34,30.96,5.505,11.68,84.84,81.16,3.668,65.52,L,1.240')\n",
    "mex_0_pd.constrain(matrix_max_approx_0_med,'28.91,98.28,80.47,78.34,48.34,40.00,92.46,93.44,93.79,46.63,50.50,30.32,71.96,52.57,46.29,67.03,71.13,82.94,4.676,5.110,L,34.53')\n",
    "mex_0_pd.constrain(matrix_max_approx_0_med,'10.16,9.828,11.24,53.81,23.53,16.98,94.65,55.01,96.43,5.556,54.05,40.95,35.37,14.02,32.04,71.37,29.52,24.35,71.32,46.73,L,43.64')\n",
    "#Restricciones 6-10:\n",
    "mex_0_pd.constrain(matrix_max_approx_0_med,'70.56,93.54,27.93,95.94,91.23,8.491,78.54,7.435,85.27,32.27,97.65,34.44,97.45,77.70,86.22,3.460,52.49,59.86,6.446,20.77,L,3.692')\n",
    "mex_0_pd.constrain(matrix_max_approx_0_med,'30.93,40.11,9.917,22.34,2.947,8.553,85.74,31.01,4.919,12.60,3.358,89.39,50.05,25.59,13.33,75.14,57.81,14.29,88.59,24.34,L,44.21')\n",
    "mex_0_pd.constrain(matrix_max_approx_0_med,'7.511,72.81,19.49,55.05,86.04,36.84,7.233,67.59,92.62,24.06,15.87,45.52,75.98,71.86,64.45,15.81,57.22,84.86,28.66,7.867,L,94.85')\n",
    "mex_0_pd.constrain(matrix_max_approx_0_med,'62.27,38.88,82.58,84.71,68.00,97.57,36.58,11.57,73.91,75.40,65.75,7.540,52.08,96.61,9.278,60.24,59.22,6.214,63.88,68.99,L,39.16')\n",
    "mex_0_pd.constrain(matrix_max_approx_0_med,'73.05,10.49,93.23,91.39,63.19,47.53,20.71,14.26,51.71,71.02,11.87,61.36,97.72,70.67,28.40,73.55,33.02,81.46,67.22,85.30,L,38.43')\n",
    "#Restricciones 11-15:\n",
    "mex_0_pd.constrain(matrix_max_approx_0_med,'93.49,28.98,23.75,48.18,73.61,18.85,15.89,90.90,71.75,80.48,97.08,88.23,86.15,57.57,78.16,40.38,19.41,75.39,54.97,38.35,L,57.08')\n",
    "mex_0_pd.constrain(matrix_max_approx_0_med,'84.61,42.17,56.76,23.61,66.47,13.86,36.55,37.61,39.77,2.123,92.07,21.21,85.36,27.84,81.87,34.29,55.51,71.08,81.14,41.18,L,19.63')\n",
    "mex_0_pd.constrain(matrix_max_approx_0_med,'66.07,71.30,29.57,3.874,45.04,98.19,92.92,18.87,44.20,17.36,36.33,45.50,17.97,67.95,62.03,32.55,50.91,47.08,85.63,36.12,L,70.07')\n",
    "mex_0_pd.constrain(matrix_max_approx_0_med,'63.66,7.173,29.93,31.48,64.60,72.68,2.754,16.71,79.55,4.050,95.43,31.18,61.87,68.41,3.567,21.61,45.96,3.881,40.50,91.86,L,32.45')\n",
    "mex_0_pd.constrain(matrix_max_approx_0_med,'67.60,7.276,78.37,96.71,79.11,21.35,78.86,23.26,63.76,43.93,59.46,78.19,70.34,92.42,58.98,95.50,84.86,76.11,13.00,60.67,L,15.32')\n",
    "#Restricciones 16-20:\n",
    "mex_0_pd.constrain(matrix_max_approx_0_med,'12.17,45.38,51.97,93.29,97.74,58.34,71.99,26.91,26.85,74.88,69.95,43.51,8.723,38.97,74.16,81.20,77.52,20.84,46.12,16.24,L,49.46')\n",
    "mex_0_pd.constrain(matrix_max_approx_0_med,'85.82,3.365,53.87,41.57,37.04,97.64,16.76,90.16,50.49,76.92,85.17,57.76,29.29,12.79,93.86,59.50,84.81,43.91,6.931,14.25,L,54.54')\n",
    "mex_0_pd.constrain(matrix_max_approx_0_med,'72.94,37.67,28.00,33.56,71.22,73.32,33.33,27.54,71.75,61.17,39.68,38.85,79.89,92.34,31.80,10.18,78.30,6.469,41.89,50.98,L,24.96')\n",
    "mex_0_pd.constrain(matrix_max_approx_0_med,'80.03,67.82,37.00,51.50,17.85,10.91,26.95,65.79,18.51,84.34,3.196,72.33,48.76,8.459,53.13,18.23,9.679,2.543,48.12,52.09,L,11.98')\n",
    "mex_0_pd.constrain(matrix_max_approx_0_med,'28.10,98.61,1.938,94.54,98.78,18.29,26.88,91.15,9.967,5.279,99.44,79.94,82.80,30.05,85.13,8.410,83.47,15.45,46.43,56.54,L,1.772')\n",
    "#Restricciones 21-25:\n",
    "mex_0_pd.constrain(matrix_max_approx_0_med,'92.44,92.82,95.87,78.14,93.72,55.82,92.28,64.95,94.39,91.63,20.11,32.16,10.08,23.98,9.257,71.39,48.74,60.76,96.93,56.57,L,50.61')\n",
    "mex_0_pd.constrain(matrix_max_approx_0_med,'22.14,72.51,48.51,98.13,90.25,85.24,1.804,28.47,45.93,36.05,35.43,7.104,70.67,97.69,74.87,39.72,13.98,58.00,2.024,85.30,L,94.20')\n",
    "mex_0_pd.constrain(matrix_max_approx_0_med,'72.16,93.13,45.85,76.06,22.53,36.16,81.15,92.51,97.12,67.37,37.37,69.21,72.32,63.23,92.90,61.86,11.42,34.15,49.78,6.688,L,97.49')\n",
    "mex_0_pd.constrain(matrix_max_approx_0_med,'58.39,34.12,77.96,5.433,83.02,84.14,59.82,22.39,70.75,19.67,24.53,41.00,56.24,89.32,14.63,77.15,34.12,34.28,55.17,31.45,L,34.16')\n",
    "mex_0_pd.constrain(matrix_max_approx_0_med,'20.15,1.416,74.34,23.20,8.632,71.47,32.10,59.23,91.44,37.58,23.29,39.11,19.54,3.000,2.319,43.50,35.17,66.78,40.41,50.82,L,6.26')\n",
    "#Restricciones 26-30:\n",
    "mex_0_pd.constrain(matrix_max_approx_0_med,'54.65,70.46,46.30,66.92,27.45,25.48,81.67,96.67,42.57,43.22,43.29,60.58,19.07,27.73,92.63,60.94,84.33,8.800,78.62,17.94,L,70.31')\n",
    "mex_0_pd.constrain(matrix_max_approx_0_med,'83.10,98.45,22.09,36.01,39.99,6.380,28.27,10.69,57.29,63.19,44.42,51.00,15.57,11.27,63.56,17.54,40.71,47.53,27.81,27.66,L,79.18')\n",
    "mex_0_pd.constrain(matrix_max_approx_0_med,'22.20,29.98,87.02,25.26,47.23,55.22,83.70,88.56,67.82,6.36,66.62,3.853,47.37,97.22,83.37,89.41,61.79,96.26,91.11,79.89,L,44.51')\n",
    "mex_0_pd.constrain(matrix_max_approx_0_med,'6.828,84.55,80.55,86.10,54.30,18.86,80.63,54.07,63.94,89.28,64.89,87.44,13.06,31.29,63.10,75.33,21.06,61.33,1.093,91.08,L,53.22')\n",
    "mex_0_pd.constrain(matrix_max_approx_0_med,'85.33,57.98,42.51,53.95,10.49,32.74,43.28,51.52,89.99,43.97,46.69,44.05,85.91,19.12,23.85,58.82,71.23,8.885,18.81,87.44,L,50.65')\n",
    "#Función objetivo:\n",
    "mex_0_pd.obj(matrix_max_approx_0_med,'52.16,45.51,69.09,84.88,38.73,84.47,97.50,61.32,16.27,36.42,77.24,36.91,62.85,50.77,81.22,66.94,31.10,45.05,37.68,40.76,0')\n",
    "\n",
    "problem_approx_0_med = mex_0_pd.maxz(matrix_max_approx_0_med)\n",
    "max_approx_0_med = problem_approx_0_med['max']\n",
    "problem_approx_0_med.pop('max')\n",
    "coeff_approx_0_med = np.array(list(problem_approx_0_med.values()))\n",
    "end_time = time.time()\n",
    "secs_0_med = end_time-start_time\n",
    "print(\"Todo el proceso tomó\",secs_0_med,\"segundos\" )"
   ]
  },
  {
   "cell_type": "markdown",
   "metadata": {},
   "source": [
    "#### Comprobación"
   ]
  },
  {
   "cell_type": "code",
   "execution_count": 16,
   "metadata": {},
   "outputs": [
    {
     "name": "stdout",
     "output_type": "stream",
     "text": [
      "El valor objetivo obtenido con scipy es:  7.644647466669042\n",
      "El valor aproximado obtenido con mex es:  7.644647288586908\n",
      "Los coeficientes objetivos obtenidos con scipy son:  [1.55767398e-10 2.13986131e-11 6.52653843e-11 2.03972271e-11\n",
      " 2.20073205e-11 2.25421843e-11 2.95498944e-11 8.33451409e-11\n",
      " 2.67709780e-11 2.57420289e-11 3.53108097e-11 2.45435519e-11\n",
      " 3.71518342e-11 2.84650310e-10 1.08315701e-02 1.01059266e-01\n",
      " 9.41232462e-12 3.40871440e-11 3.18768339e-10 2.14072463e-11]\n",
      "Los coeficientes aproximados obtenidos con mex son:  [0.         0.         0.         0.         0.         0.\n",
      " 0.         0.         0.         0.         0.         0.\n",
      " 0.         0.         0.01083157 0.10105926 0.         0.\n",
      " 0.         0.        ]\n"
     ]
    }
   ],
   "source": [
    "assert max_obj_med == approx(max_approx_0_med), \"El valor aproximado es incorrecto\"\n",
    "assert np.round(coeff_obj_med,3) == approx(coeff_approx_0_med, abs=1e-3), \"El valor de los coeficientes aproximados es incorrecto\"\n",
    "\n",
    "print(\"El valor objetivo obtenido con scipy es: \", max_obj_med)\n",
    "print(\"El valor aproximado obtenido con mex es: \", max_approx_0_med)\n",
    "print(\"Los coeficientes objetivos obtenidos con scipy son: \", coeff_obj_med)\n",
    "print(\"Los coeficientes aproximados obtenidos con mex son: \", coeff_approx_0_med)"
   ]
  },
  {
   "cell_type": "markdown",
   "metadata": {},
   "source": [
    "#### Tiempos"
   ]
  },
  {
   "cell_type": "code",
   "execution_count": 17,
   "metadata": {},
   "outputs": [
    {
     "name": "stdout",
     "output_type": "stream",
     "text": [
      "La iteración base a pequeña escala tardó 0.0005669593811035156 segundos\n",
      "La iteración base a mediana escala tardó 0.024916410446166992 segundos\n"
     ]
    }
   ],
   "source": [
    "print(\"La iteración base a pequeña escala tardó\", secs_0_small,\"segundos\")\n",
    "print(\"La iteración base a mediana escala tardó\", secs_0_med,\"segundos\")"
   ]
  },
  {
   "cell_type": "markdown",
   "metadata": {},
   "source": [
    "## Anotaciones para analizar bloques de código"
   ]
  },
  {
   "cell_type": "code",
   "execution_count": 31,
   "metadata": {},
   "outputs": [],
   "source": [
    "%%bash\n",
    "$HOME/.local/bin/cython --force -3 --annotate reimplementacion_0/simplex_networks_0.pyx\n",
    "$HOME/.local/bin/cython --force -3 --annotate reimplementacion_0/problem_definition_0.pyx\n",
    "$HOME/.local/bin/cython --force -3 --annotate reimplementacion_0/general_0.pyx"
   ]
  },
  {
   "cell_type": "markdown",
   "metadata": {},
   "source": [
    "Para una mejor lectura de este notebook decidimos dejar las siguientes líneas de código comentadas. Pero puedes abrir directamente los archivos `.html` creados en la carpeta `reimplementacion_0` o descomentar las líneas y correrlas."
   ]
  },
  {
   "cell_type": "code",
   "execution_count": 22,
   "metadata": {},
   "outputs": [],
   "source": [
    "#display(HTML(\"reimplementacion_0/simplex_networks_0.html\"))"
   ]
  },
  {
   "cell_type": "code",
   "execution_count": 23,
   "metadata": {},
   "outputs": [],
   "source": [
    "#display(HTML(\"reimplementacion_0/problem_definition_0.html\"))"
   ]
  },
  {
   "cell_type": "code",
   "execution_count": 24,
   "metadata": {},
   "outputs": [],
   "source": [
    "#display(HTML(\"reimplementacion_0/general_0.html\"))"
   ]
  },
  {
   "cell_type": "markdown",
   "metadata": {},
   "source": [
    "# Reimplementación 1"
   ]
  },
  {
   "cell_type": "markdown",
   "metadata": {},
   "source": [
    "De acuerdo a lo que podemos observar en las anotaciones previas así como los reportes del profiling, haremos cambios al código y volveremos a hacer la compilación a C."
   ]
  },
  {
   "cell_type": "markdown",
   "metadata": {},
   "source": [
    "## Creamos archivos `.pyx`"
   ]
  },
  {
   "cell_type": "code",
   "execution_count": 35,
   "metadata": {},
   "outputs": [
    {
     "name": "stdout",
     "output_type": "stream",
     "text": [
      "Overwriting reimplementacion_1/general_1.pyx\n"
     ]
    }
   ],
   "source": [
    "%%file reimplementacion_1/general_1.pyx\n",
    "\n",
    "def convert_min(matrix):\n",
    "    \"\"\"\n",
    "    This function multiplies by -1 the objective function for maximization problems. This is because\n",
    "    if the problem to be solved is maximization then it is analogue to solve the problem -minimization.\n",
    "    \n",
    "    Args:\n",
    "    \n",
    "        matrix (numpy array): matrix to be updated.\n",
    "    \n",
    "    Returns:\n",
    "    \n",
    "        matrix (numpy array): matrix multiplied by -1.\n",
    "    \"\"\"\n",
    "    \n",
    "    cdef int i\n",
    "    \n",
    "    matrix[-1, :-2] = [-1*i for i in matrix[-1, :-2]]\n",
    "    matrix[-1, -1] = -1*matrix[-1, -1]\n",
    "    \n",
    "    return matrix\n",
    "\n",
    "\n",
    "def gen_var(matrix):\n",
    "    \"\"\"\n",
    "    Generates the required number of variables. They are defined by the problem.\n",
    "    \n",
    "    Args:\n",
    "    \n",
    "        matrix (numpy array): matrix to be updated.\n",
    "    \n",
    "    Returns:\n",
    "    \n",
    "        v (list): list with problem variables.\n",
    "    \"\"\"\n",
    "    \n",
    "    cdef int i\n",
    "    cdef long lc, lr, var\n",
    "    \n",
    "    lc = len(matrix[0, :])\n",
    "    lr = len(matrix[:, 0])\n",
    "    \n",
    "    var = lc - lr -1\n",
    "    v = []\n",
    "    \n",
    "    for i in range(var):\n",
    "        v.append('x' + str(i+1))\n",
    "    \n",
    "    return v\n",
    "\n",
    "\n",
    "def convert(eq):\n",
    "    \"\"\"\n",
    "    Converts equation into a list containing the coefficients of the equation.\n",
    "    \n",
    "    Args:\n",
    "    \n",
    "        eq (string): equation defined with :func:`constrain`.\n",
    "    \n",
    "    Returns:\n",
    "    \n",
    "        eq (list): list with equation coefficients.\n",
    "    \"\"\"\n",
    "    \n",
    "    eq = eq.split(',')\n",
    "    \n",
    "    if 'G' in eq:\n",
    "        g = eq.index('G')\n",
    "        del eq[g]\n",
    "        eq = [float(i)*-1 for i in eq]\n",
    "        return eq\n",
    "    \n",
    "    if 'L' in eq:\n",
    "        l = eq.index('L')\n",
    "        del eq[l]\n",
    "        eq = [float(i) for i in eq]\n",
    "        return eq\n",
    "    \n",
    "    if 'E' in eq:\n",
    "        l = eq.index('E')\n",
    "        del eq[l]\n",
    "        eq = [float(i) for i in eq]\n",
    "        return eq"
   ]
  },
  {
   "cell_type": "code",
   "execution_count": 36,
   "metadata": {},
   "outputs": [
    {
     "name": "stdout",
     "output_type": "stream",
     "text": [
      "Overwriting reimplementacion_1/simplex_networks_1.pyx\n"
     ]
    }
   ],
   "source": [
    "%%file reimplementacion_1/simplex_networks_1.pyx\n",
    "\n",
    "import numpy as np\n",
    "import logging\n",
    "\n",
    "def create_matrix(unsigned int variables, unsigned int constraints):\n",
    "    \"\"\"\n",
    "    Creates a matrix with enough rows for each constraint plus the objective function\n",
    "    and enough columns for all the variables.\n",
    "    \n",
    "    Args:\n",
    "    \n",
    "        variables (int): number of variables.\n",
    "        \n",
    "        constraints (int): number of constraints.\n",
    "    \n",
    "    Returns:\n",
    "    \n",
    "        matrix (numpy array): zero matrix.\n",
    "    \"\"\"\n",
    "    \n",
    "    matrix = np.zeros((constraints + 1, variables + constraints + 2))\n",
    "    \n",
    "    return matrix\n",
    "\n",
    "\n",
    "def pivots_col(matrix):\n",
    "    \"\"\"\n",
    "    Checks to see if pivots are required due to negative values in right column,\n",
    "    excluding the bottom value.\n",
    "    \n",
    "    Args:\n",
    "    \n",
    "        matrix (numpy array): matrix to be reviewed.\n",
    "        \n",
    "    Returns:\n",
    "    \n",
    "        Flag (bool): True or False indicating whether a negative element was found.\n",
    "    \"\"\"\n",
    "    \n",
    "    cdef double m\n",
    "    \n",
    "    m = min(matrix[:-1, -1])\n",
    "    if m >= 0:\n",
    "        return False\n",
    "    else:\n",
    "        return True\n",
    "\n",
    "\n",
    "def pivots_row(matrix):\n",
    "    \"\"\"\n",
    "    Checks to see if pivots are required due to negative values in bottom row, \n",
    "    excluding the final value.\n",
    "    \n",
    "    Args:\n",
    "    \n",
    "        matrix (numpy array): matrix to be reviewed.\n",
    "        \n",
    "    Returns:\n",
    "    \n",
    "        Flag (bool): True or False indicating whether a negative element was found.\n",
    "    \"\"\"\n",
    "    \n",
    "    cdef int l\n",
    "    cdef double m\n",
    "    \n",
    "    l = len(matrix[:, 0])\n",
    "    m = min(matrix[l-1, :-1])\n",
    "    if m >= 0:\n",
    "        return False\n",
    "    else:\n",
    "        return True\n",
    "\n",
    "\n",
    "def find_negative_col(matrix):\n",
    "    \"\"\"\n",
    "    Finds location of negative values in right column.\n",
    "    \n",
    "    Args:\n",
    "        \n",
    "        matrix (numpy array): matrix to be reviewed.\n",
    "        \n",
    "    Returns:\n",
    "    \n",
    "        n (int): index of negative value in right column.\n",
    "    \"\"\"\n",
    "    \n",
    "    cdef int l\n",
    "    cdef double m\n",
    "    \n",
    "    l = len(matrix[0, :])\n",
    "    m = min(matrix[:-1, l-1])\n",
    "    if m <= 0:\n",
    "        n = np.where(matrix[:-1, l-1] == m)[0][0]\n",
    "    else:\n",
    "        n = None\n",
    "    \n",
    "    return n\n",
    "\n",
    "\n",
    "def find_negative_row(matrix):\n",
    "    \"\"\"\n",
    "    Finds location of negative values in bottom row.\n",
    "    \n",
    "    Args:\n",
    "        \n",
    "        matrix (numpy array): matrix to be reviewed.\n",
    "        \n",
    "    Returns:\n",
    "    \n",
    "        n (int): index of negative value in bottom row.\n",
    "    \"\"\"\n",
    "    \n",
    "    cdef int l\n",
    "    cdef double m\n",
    "    \n",
    "    l = len(matrix[:,0])\n",
    "    m = min(matrix[l-1,:-1])\n",
    "    if m <= 0:\n",
    "        n = np.where(matrix[l-1, :-1] == m)[0][0]\n",
    "    else:\n",
    "        n = None\n",
    "    \n",
    "    return n\n",
    "\n",
    "\n",
    "def find_pivot_col(matrix):\n",
    "    \"\"\"\n",
    "    Finds pivot element corresponding to a negative value in right column.\n",
    "    \n",
    "    Args:\n",
    "    \n",
    "        matrix (numpy array): matrix to be reviewed.\n",
    "        \n",
    "    Returns:\n",
    "        \n",
    "        index (int): index of most negative value.\n",
    "        \n",
    "        c (int): index smallest value on row.\n",
    "    \"\"\"\n",
    "    \n",
    "    cdef int c, index\n",
    "    cdef double m, i, j\n",
    "    \n",
    "    total = []\n",
    "    neg = find_negative_col(matrix)\n",
    "    row = matrix[neg, :-1]\n",
    "    m = min(row)\n",
    "    c = np.where(row == m)[0][0]\n",
    "    col = matrix[:-1, c]\n",
    "    for i,j in zip(col, matrix[:-1,-1]):  #i for col with neg, j for right col\n",
    "        if i != 0 and j/i > 0:\n",
    "            total.append(j/i)\n",
    "        else:\n",
    "            total.append(10000) #placeholder, might need to update for large scale\n",
    "    index = total.index(min(total))\n",
    "    \n",
    "    return [index,c]\n",
    "\n",
    "\n",
    "def find_pivot_row(matrix):\n",
    "    \"\"\"\n",
    "    Finds pivot element corresponding to a negative value in bottom row.\n",
    "    \n",
    "    Args:\n",
    "        \n",
    "        matrix (numpy array): matrix to be reviewed.\n",
    "        \n",
    "    Returns:\n",
    "    \n",
    "        index (int): index of most negative value.\n",
    "        \n",
    "        neg (int): index smallest value.\n",
    "    \"\"\"\n",
    "    \n",
    "    cdef double i, j\n",
    "    cdef int index\n",
    "    \n",
    "    if pivots_row(matrix):\n",
    "        total = []\n",
    "        neg = find_negative_row(matrix)\n",
    "        for i, j in zip(matrix[:-1, neg], matrix[:-1, -1]):\n",
    "            if i != 0 and j/i > 0:\n",
    "                total.append(j/i)\n",
    "            else:\n",
    "                total.append(10000) #placeholder, might need to update for large scale\n",
    "        index = total.index(min(total))\n",
    "        \n",
    "        return [index,neg]\n",
    "\n",
    "\n",
    "def pivot(row,col,matrix):\n",
    "    \"\"\"\n",
    "    Pivot about a value to remove negative in final column or row.\n",
    "    \n",
    "    Args:\n",
    "    \n",
    "        matrix (numpy array): matrix to be reviewed.\n",
    "        \n",
    "        row (int): position to pivot.\n",
    "        \n",
    "        col (int): position to pivot.\n",
    "        \n",
    "    Returns:\n",
    "    \n",
    "        t (numpy array): updated matrix.\n",
    "    \"\"\"\n",
    "    \n",
    "    cdef int i, lr, lc\n",
    "    \n",
    "    lr = len(matrix[:, 0])\n",
    "    lc = len(matrix[0, :])\n",
    "    t = np.zeros((lr, lc))\n",
    "    pr = matrix[row, :]\n",
    "    if matrix[row, col]**2 > 0:\n",
    "        e = 1/matrix[row, col]\n",
    "        r = pr*e\n",
    "        for i in range(len(matrix[:, col])):\n",
    "            k = matrix[i, :]\n",
    "            c = matrix[i, col]\n",
    "            if list(k) == list(pr):\n",
    "                continue\n",
    "            else:\n",
    "                t[i, :] = list(k-r*c)\n",
    "        t[row,:] = list(r)\n",
    "        return t\n",
    "    else:\n",
    "        logging.info('Cannot pivot on this element')"
   ]
  },
  {
   "cell_type": "code",
   "execution_count": 37,
   "metadata": {},
   "outputs": [
    {
     "name": "stdout",
     "output_type": "stream",
     "text": [
      "Overwriting reimplementacion_1/problem_definition_1.pyx\n"
     ]
    }
   ],
   "source": [
    "%%file reimplementacion_1/problem_definition_1.pyx\n",
    "\n",
    "import numpy as np\n",
    "import logging\n",
    "\n",
    "from general_1 import gen_var, convert_min, convert\n",
    "from simplex_networks_1 import pivots_col, find_pivot_col, pivots_row, pivot, find_pivot_row\n",
    "\n",
    "def add_cons(matrix):\n",
    "    \"\"\"\n",
    "    Checks if 1 extra constraint can be added to the matrix, this means that there are at least two rows of all\n",
    "    0 elements. If this condition is not satisfied, our program will not allow the user to add additional constraints.\n",
    "    \n",
    "    Args:\n",
    "    \n",
    "        matrix (numpy array): matrix to be reviewed.\n",
    "    \n",
    "    Returns:\n",
    "    \n",
    "        Flag (bool): True or False indicating whether 1+ constraints can be added.\n",
    "    \"\"\"\n",
    "\n",
    "    cdef int i, j, total\n",
    "    cdef long lr\n",
    "    \n",
    "    lr = len(matrix[:, 0])\n",
    "    empty = []\n",
    "\n",
    "    for i in range(lr):\n",
    "        total = 0\n",
    "        for j in matrix[i, :]:\n",
    "            total += j**2\n",
    "        if total == 0:\n",
    "            empty.append(total)\n",
    "\n",
    "    if len(empty) > 1:\n",
    "        return True\n",
    "    else:\n",
    "        return False\n",
    "\n",
    "\n",
    "def constrain(matrix, eq):\n",
    "    \"\"\"\n",
    "    Adds constraints to the problem.\n",
    "    \n",
    "    Args:\n",
    "    \n",
    "        matrix (numpy array): matrix defined with :mod:`create_matrix`.\n",
    "        \n",
    "        eq (string): coefficients of constraints expressions. Use **L** for *less than*, **G** for *greater than*, **E** for *equal to*.\n",
    "    \n",
    "    >>> problem_matrix = create_matrix(2,3)   # 2 variables and 3 constraints\n",
    "    >>> constrain(problem_matrix,'1,L,4')     # x_1 <= 4\n",
    "    >>> constrain(problem_matrix,'0,2,L,12')  # 2x_2 <= 12\n",
    "    >>> constrain(problem_matrix,'3,2,G,18')  # 3x_1 + 2x_2 >= 18\n",
    "    \"\"\"\n",
    "\n",
    "    cdef int i, j, var, lc, lr\n",
    "    \n",
    "    if 'E' in eq:\n",
    "        if add_cons(matrix):\n",
    "            lc = len(matrix[0, :])\n",
    "            lr = len(matrix[:, 0])\n",
    "            var = lc - lr - 1\n",
    "            j = 0\n",
    "\n",
    "            while j < lr:\n",
    "                row_check = matrix[j,:]\n",
    "                total = 0\n",
    "                for i in row_check:\n",
    "                    total += float(i**2)\n",
    "                if total == 0:\n",
    "                    row = row_check\n",
    "                    break\n",
    "                j += 1\n",
    "                \n",
    "            eq = convert(eq)\n",
    "            i = 0\n",
    "            \n",
    "            while i<len(eq)-1:\n",
    "                row[i] = eq[i]\n",
    "                i += 1\n",
    "            \n",
    "            row[-1] = eq[-1]\n",
    "            #row[var+j] = 1\n",
    "        \n",
    "        else:\n",
    "            logging.info('Cannot add another constraint.')\n",
    "        \n",
    "    else:\n",
    "        if add_cons(matrix):\n",
    "            lc = len(matrix[0, :])\n",
    "            lr = len(matrix[:, 0])\n",
    "            var = lc - lr -1\n",
    "            j = 0\n",
    "            \n",
    "            while j < lr:\n",
    "                row_check = matrix[j, :]\n",
    "                total = 0\n",
    "                for i in row_check:\n",
    "                    total += float(i**2)\n",
    "                if total == 0:\n",
    "                    row = row_check\n",
    "                    break\n",
    "                j +=1\n",
    "                \n",
    "            eq = convert(eq)\n",
    "            i = 0\n",
    "            \n",
    "            while i<len(eq)-1:\n",
    "                row[i] = eq[i]\n",
    "                i += 1\n",
    "            \n",
    "            row[-1] = eq[-1]\n",
    "            row[var+j] = 1\n",
    "            \n",
    "        else:\n",
    "            logging.info('Cannot add another constraint.')\n",
    "\n",
    "\n",
    "def add_obj(matrix):\n",
    "    \"\"\"\n",
    "    Verifies if the objective function can be added.\n",
    "    \n",
    "    Args:\n",
    "    \n",
    "        matrix (numpy array): matrix to be reviewed.\n",
    "    \n",
    "    Returns:\n",
    "    \n",
    "        Flag (bool): True or False indicating whether objective function can be added.\n",
    "    \"\"\"\n",
    "    \n",
    "    cdef int i, j\n",
    "    cdef long lr, total\n",
    "    \n",
    "    lr = len(matrix[:,0])\n",
    "    empty = []\n",
    "    \n",
    "    for i in range(lr):\n",
    "        total = 0\n",
    "        for j in matrix[i, :]:\n",
    "            total += j**2\n",
    "        if total == 0:\n",
    "            empty.append(total)\n",
    "    \n",
    "    if len(empty) == 1:\n",
    "        return True\n",
    "    else:\n",
    "        return False\n",
    "\n",
    "\n",
    "def obj(matrix,eq):\n",
    "    \"\"\"\n",
    "    Adds the objective function to the problem matrix.\n",
    "    \n",
    "    .. note::\n",
    "        Objective function must be added **after** constraints have been input.\n",
    "    \n",
    "    Args:\n",
    "    \n",
    "        matrix (numpy array): matrix defined with :mod:`create_matrix`.\n",
    "        \n",
    "        eq (string): coefficients of objective function.\n",
    "    \n",
    "    >>> problem_matrix = create_matrix(2,3)   # 2 variables and 3 constraints\n",
    "    >>> constrain(problem_matrix,'1,L,4')     # x_1 <= 4\n",
    "    >>> constrain(problem_matrix,'0,2,L,12')  # 2x_2 <= 12\n",
    "    >>> constrain(problem_matrix,'4,2,G,18')  # 4x_1 + 2x_2 >= 18\n",
    "    >>> obj(problem_matrix,'3,5,0')           # 3x_1 + 5x_2\n",
    "    \"\"\"\n",
    "    \n",
    "    cdef long lr\n",
    "    \n",
    "    if add_obj(matrix):\n",
    "        eq = [float(i) for i in eq.split(',')]\n",
    "        lr = len(matrix[:,0])\n",
    "        row = matrix[lr-1,:]\n",
    "        i = 0\n",
    "        while i<len(eq)-1:\n",
    "            row[i] = eq[i]*-1\n",
    "            i +=1\n",
    "        row[-2] = 1\n",
    "        row[-1] = eq[-1]\n",
    "    else:\n",
    "        logging.info('You must finish adding constraints before the objective function can be added.')\n",
    "\n",
    "\n",
    "def maxz(matrix):\n",
    "    \"\"\"\n",
    "    Creates maximization function. Determines if 1 extra pivot is required, locates the pivot element,\n",
    "    pivots about it and continues the process until all negative elements have been removed from\n",
    "    the last column and row.\n",
    "    \n",
    "    Args:\n",
    "    \n",
    "        matrix (numpy array): problem matrix with constraints and objective function added.\n",
    "    \n",
    "    Returns:\n",
    "    \n",
    "        *(dict)* A dictionary with Max and variables.\n",
    "        \n",
    "    >>> problem_matrix = create_matrix(2,3)   # 2 variables and 3 constraints\n",
    "    >>> constrain(problem_matrix,'1,L,4')     # x_1 <= 4\n",
    "    >>> constrain(problem_matrix,'0,2,L,12')  # 2x_2 <= 12\n",
    "    >>> constrain(problem_matrix,'4,2,G,18')  # 4x_1 + 2x_2 >= 18\n",
    "    >>> obj(problem_matrix,'3,5,0')           # 3x_1 + 5x_2\n",
    "    >>> maxz(problem_matrix)\n",
    "    {'x1': 4.0, 'x2': 6.0, 'max': 42.0}\n",
    "    \"\"\"\n",
    "    \n",
    "    cdef int i\n",
    "    cdef float s, m\n",
    "    cdef long lc, lr, var\n",
    "    \n",
    "    while pivots_col(matrix):\n",
    "        matrix = pivot(find_pivot_col(matrix)[0], find_pivot_col(matrix)[1], matrix)\n",
    "    while pivots_row(matrix):\n",
    "        matrix = pivot(find_pivot_row(matrix)[0], find_pivot_row(matrix)[1], matrix)\n",
    "    \n",
    "    lc = len(matrix[0, :])\n",
    "    lr = len(matrix[:, 0])\n",
    "    var = lc - lr - 1\n",
    "    i = 0\n",
    "    val = {}\n",
    "    \n",
    "    for i in range(var):\n",
    "        col = matrix[:, i]\n",
    "        s = sum(col)\n",
    "        m = max(col)\n",
    "        if float(s) == float(m):\n",
    "            loc = np.where(col == m)[0][0]\n",
    "            val[gen_var(matrix)[i]] = matrix[loc, -1]\n",
    "        else:\n",
    "            val[gen_var(matrix)[i]] = 0\n",
    "    val['max'] = matrix[-1, -1]\n",
    "    \n",
    "    return val\n",
    "\n",
    "\n",
    "def minz(matrix):\n",
    "    \"\"\"\n",
    "    Creates minimization function. Determines if 1 extra pivot is required, locates the pivot element,\n",
    "    pivots about it and continues the process until all negative elements have been removed from \n",
    "    the last column and row.\n",
    "    \n",
    "    Args:\n",
    "    \n",
    "        matrix (numpy array): problem matrix with constraints and objective function added.\n",
    "    \n",
    "    Returns:\n",
    "    \n",
    "        (dict) A dictionary with Min and variables.\n",
    "        \n",
    "    >>> problem_matrix = create_matrix(2,4)   # 2 variables and 4 constraints\n",
    "    >>> constrain(problem_matrix,'1,1,L,6')   # x_1 + x_2 <= 6\n",
    "    >>> constrain(problem_matrix,'-1,2,L,8')  # -x_1 + 2x_2 <= 8\n",
    "    >>> constrain(problem_matrix,'1,G,0')     # x_1 >= 0\n",
    "    >>> constrain(problem_matrix,'0,1,G,0')   # x_2 >= 0\n",
    "    >>> obj(problem_matrix,'-1,-3,0')         # -x_1 - 3x_2\n",
    "    >>> minz(problem_matrix)\n",
    "    {'x1': 1.3333333333333333, 'x2': 4.666666666666667}\n",
    "    \"\"\"\n",
    "    \n",
    "    cdef int i\n",
    "    cdef float s, m\n",
    "    cdef long lc, lr, var\n",
    "\n",
    "    matrix = convert_min(matrix)\n",
    "    while pivots_col(matrix):\n",
    "        matrix = pivot(find_pivot_col(matrix)[0], find_pivot_col(matrix)[1], matrix)\n",
    "    while pivots_row(matrix):\n",
    "        matrix = pivot(find_pivot_row(matrix)[0], find_pivot_row(matrix)[1], matrix)\n",
    "    \n",
    "    lc = len(matrix[0, :])\n",
    "    lr = len(matrix[:, 0])\n",
    "    var = lc - lr - 1\n",
    "    i = 0\n",
    "    val = {}\n",
    "    \n",
    "    for i in range(var):\n",
    "        col = matrix[:, i]\n",
    "        s = sum(col)\n",
    "        m = max(col)\n",
    "        if float(s) == float(m):\n",
    "            loc = np.where(col == m)[0][0]\n",
    "            val[gen_var(matrix)[i]] = matrix[loc, -1]\n",
    "        else:\n",
    "            val[gen_var(matrix)[i]] = 0\n",
    "    val['min'] = matrix[-1, -1]*-1\n",
    "    \n",
    "    return val\n"
   ]
  },
  {
   "cell_type": "markdown",
   "metadata": {},
   "source": [
    "## Creamos archivos `setup.py`"
   ]
  },
  {
   "cell_type": "code",
   "execution_count": 38,
   "metadata": {},
   "outputs": [
    {
     "name": "stdout",
     "output_type": "stream",
     "text": [
      "Overwriting reimplementacion_1/setup_simplexnetworks_1.py\n"
     ]
    }
   ],
   "source": [
    "%%file reimplementacion_1/setup_simplexnetworks_1.py\n",
    "from distutils.core import setup\n",
    "from Cython.Build import cythonize\n",
    "setup(ext_modules = cythonize(\"reimplementacion_1/simplex_networks_1.pyx\", compiler_directives={'language_level' : 3}))"
   ]
  },
  {
   "cell_type": "code",
   "execution_count": 39,
   "metadata": {},
   "outputs": [
    {
     "name": "stdout",
     "output_type": "stream",
     "text": [
      "Overwriting reimplementacion_1/setup_problemdefinition_1.py\n"
     ]
    }
   ],
   "source": [
    "%%file reimplementacion_1/setup_problemdefinition_1.py\n",
    "from distutils.core import setup\n",
    "from Cython.Build import cythonize\n",
    "setup(ext_modules = cythonize(\"reimplementacion_1/problem_definition_1.pyx\", compiler_directives={'language_level' : 3}))"
   ]
  },
  {
   "cell_type": "code",
   "execution_count": 40,
   "metadata": {},
   "outputs": [
    {
     "name": "stdout",
     "output_type": "stream",
     "text": [
      "Overwriting reimplementacion_1/setup_general_1.py\n"
     ]
    }
   ],
   "source": [
    "%%file reimplementacion_1/setup_general_1.py\n",
    "from distutils.core import setup\n",
    "from Cython.Build import cythonize\n",
    "setup(ext_modules = cythonize(\"reimplementacion_1/general_1.pyx\", compiler_directives={'language_level' : 3}))"
   ]
  },
  {
   "cell_type": "markdown",
   "metadata": {},
   "source": [
    "## Compilando"
   ]
  },
  {
   "cell_type": "code",
   "execution_count": 41,
   "metadata": {},
   "outputs": [
    {
     "name": "stdout",
     "output_type": "stream",
     "text": [
      "Compiling reimplementacion_1/simplex_networks_1.pyx because it changed.\n",
      "[1/1] Cythonizing reimplementacion_1/simplex_networks_1.pyx\n",
      "running build_ext\n",
      "building 'simplex_networks_1' extension\n",
      "creating build/temp.linux-x86_64-3.8/reimplementacion_1\n",
      "x86_64-linux-gnu-gcc -pthread -Wno-unused-result -Wsign-compare -DNDEBUG -g -fwrapv -O2 -Wall -g -fstack-protector-strong -Wformat -Werror=format-security -g -fwrapv -O2 -g -fstack-protector-strong -Wformat -Werror=format-security -Wdate-time -D_FORTIFY_SOURCE=2 -fPIC -I/usr/include/python3.8 -c reimplementacion_1/simplex_networks_1.c -o build/temp.linux-x86_64-3.8/reimplementacion_1/simplex_networks_1.o\n",
      "x86_64-linux-gnu-gcc -pthread -shared -Wl,-O1 -Wl,-Bsymbolic-functions -Wl,-Bsymbolic-functions -Wl,-z,relro -g -fwrapv -O2 -Wl,-Bsymbolic-functions -Wl,-z,relro -g -fwrapv -O2 -g -fstack-protector-strong -Wformat -Werror=format-security -Wdate-time -D_FORTIFY_SOURCE=2 build/temp.linux-x86_64-3.8/reimplementacion_1/simplex_networks_1.o -o /home/ubuntu/practica-2-segunda-parte-caroacostatovany/notebooks/simplex_networks_1.cpython-38-x86_64-linux-gnu.so\n"
     ]
    }
   ],
   "source": [
    "%%bash\n",
    "python3 reimplementacion_1/setup_simplexnetworks_1.py build_ext --inplace"
   ]
  },
  {
   "cell_type": "code",
   "execution_count": 42,
   "metadata": {},
   "outputs": [
    {
     "name": "stdout",
     "output_type": "stream",
     "text": [
      "Compiling reimplementacion_1/problem_definition_1.pyx because it changed.\n",
      "[1/1] Cythonizing reimplementacion_1/problem_definition_1.pyx\n",
      "running build_ext\n",
      "building 'problem_definition_1' extension\n",
      "x86_64-linux-gnu-gcc -pthread -Wno-unused-result -Wsign-compare -DNDEBUG -g -fwrapv -O2 -Wall -g -fstack-protector-strong -Wformat -Werror=format-security -g -fwrapv -O2 -g -fstack-protector-strong -Wformat -Werror=format-security -Wdate-time -D_FORTIFY_SOURCE=2 -fPIC -I/usr/include/python3.8 -c reimplementacion_1/problem_definition_1.c -o build/temp.linux-x86_64-3.8/reimplementacion_1/problem_definition_1.o\n",
      "x86_64-linux-gnu-gcc -pthread -shared -Wl,-O1 -Wl,-Bsymbolic-functions -Wl,-Bsymbolic-functions -Wl,-z,relro -g -fwrapv -O2 -Wl,-Bsymbolic-functions -Wl,-z,relro -g -fwrapv -O2 -g -fstack-protector-strong -Wformat -Werror=format-security -Wdate-time -D_FORTIFY_SOURCE=2 build/temp.linux-x86_64-3.8/reimplementacion_1/problem_definition_1.o -o /home/ubuntu/practica-2-segunda-parte-caroacostatovany/notebooks/problem_definition_1.cpython-38-x86_64-linux-gnu.so\n"
     ]
    }
   ],
   "source": [
    "%%bash\n",
    "python3 reimplementacion_1/setup_problemdefinition_1.py build_ext --inplace"
   ]
  },
  {
   "cell_type": "code",
   "execution_count": 43,
   "metadata": {},
   "outputs": [
    {
     "name": "stdout",
     "output_type": "stream",
     "text": [
      "Compiling reimplementacion_1/general_1.pyx because it changed.\n",
      "[1/1] Cythonizing reimplementacion_1/general_1.pyx\n",
      "running build_ext\n",
      "building 'general_1' extension\n",
      "x86_64-linux-gnu-gcc -pthread -Wno-unused-result -Wsign-compare -DNDEBUG -g -fwrapv -O2 -Wall -g -fstack-protector-strong -Wformat -Werror=format-security -g -fwrapv -O2 -g -fstack-protector-strong -Wformat -Werror=format-security -Wdate-time -D_FORTIFY_SOURCE=2 -fPIC -I/usr/include/python3.8 -c reimplementacion_1/general_1.c -o build/temp.linux-x86_64-3.8/reimplementacion_1/general_1.o\n",
      "x86_64-linux-gnu-gcc -pthread -shared -Wl,-O1 -Wl,-Bsymbolic-functions -Wl,-Bsymbolic-functions -Wl,-z,relro -g -fwrapv -O2 -Wl,-Bsymbolic-functions -Wl,-z,relro -g -fwrapv -O2 -g -fstack-protector-strong -Wformat -Werror=format-security -Wdate-time -D_FORTIFY_SOURCE=2 build/temp.linux-x86_64-3.8/reimplementacion_1/general_1.o -o /home/ubuntu/practica-2-segunda-parte-caroacostatovany/notebooks/general_1.cpython-38-x86_64-linux-gnu.so\n"
     ]
    }
   ],
   "source": [
    "%%bash\n",
    "python3 reimplementacion_1/setup_general_1.py build_ext --inplace"
   ]
  },
  {
   "cell_type": "markdown",
   "metadata": {},
   "source": [
    "### Ejemplo pequeña escala"
   ]
  },
  {
   "cell_type": "markdown",
   "metadata": {},
   "source": [
    "#### Importamos módulos compilados y calculamos valores aproximados"
   ]
  },
  {
   "cell_type": "code",
   "execution_count": 18,
   "metadata": {},
   "outputs": [],
   "source": [
    "import simplex_networks_1 as mex_1_sn\n",
    "import problem_definition_1 as mex_1_pd"
   ]
  },
  {
   "cell_type": "code",
   "execution_count": 19,
   "metadata": {},
   "outputs": [
    {
     "name": "stdout",
     "output_type": "stream",
     "text": [
      "Todo el proceso tomó 0.0004792213439941406 segundos\n"
     ]
    }
   ],
   "source": [
    "# Todo junto\n",
    "start_time = time.time()\n",
    "matrix_max_approx_1_small = mex_1_sn.create_matrix(n_var_approx_small,n_cons_approx_small)\n",
    "mex_1_pd.constrain(matrix_max_approx_1_small,'1,0,L,4')\n",
    "mex_1_pd.constrain(matrix_max_approx_1_small,'0,2,L,12')\n",
    "mex_1_pd.constrain(matrix_max_approx_1_small,'3,2,L,18')\n",
    "mex_1_pd.obj(matrix_max_approx_1_small,'3,5,0')\n",
    "problem_approx_1_small = mex_1_pd.maxz(matrix_max_approx_1_small)\n",
    "max_approx_1_small = problem_approx_1_small['max']\n",
    "problem_approx_1_small.pop('max')\n",
    "coeff_approx_1_small = np.array(list(problem_approx_1_small.values()))\n",
    "end_time = time.time()\n",
    "secs_1_small = end_time-start_time\n",
    "print(\"Todo el proceso tomó\",secs_1_small,\"segundos\" )"
   ]
  },
  {
   "cell_type": "markdown",
   "metadata": {},
   "source": [
    "#### Comprobación"
   ]
  },
  {
   "cell_type": "code",
   "execution_count": 20,
   "metadata": {},
   "outputs": [
    {
     "name": "stdout",
     "output_type": "stream",
     "text": [
      "El valor objetivo obtenido con scipy es:  35.99999997843401\n",
      "El valor aproximado obtenido con mex es:  36.0\n",
      "Los coeficientes objetivos obtenidos con scipy son:  [2. 6.]\n",
      "Los coeficientes aproximados obtenidos con mex son:  [2. 6.]\n"
     ]
    }
   ],
   "source": [
    "assert max_obj_small == approx(max_approx_1_small), \"El valor aproximado es incorrecto\"\n",
    "assert coeff_obj_small == approx(coeff_approx_1_small), \"El valor de los coeficientes aproximados es incorrecto\"\n",
    "\n",
    "print(\"El valor objetivo obtenido con scipy es: \", max_obj_small)\n",
    "print(\"El valor aproximado obtenido con mex es: \", max_approx_1_small)\n",
    "print(\"Los coeficientes objetivos obtenidos con scipy son: \", coeff_obj_small)\n",
    "print(\"Los coeficientes aproximados obtenidos con mex son: \", coeff_approx_1_small)"
   ]
  },
  {
   "cell_type": "markdown",
   "metadata": {},
   "source": [
    "### Ejemplo mediana escala"
   ]
  },
  {
   "cell_type": "markdown",
   "metadata": {},
   "source": [
    "#### Calculamos valores aproximados"
   ]
  },
  {
   "cell_type": "code",
   "execution_count": 21,
   "metadata": {},
   "outputs": [
    {
     "name": "stdout",
     "output_type": "stream",
     "text": [
      "Todo el proceso tomó 0.009021759033203125 segundos\n"
     ]
    }
   ],
   "source": [
    "# Todo junto\n",
    "start_time = time.time()\n",
    "matrix_max_approx_1_med = mex_1_sn.create_matrix(n_var_approx_med,n_cons_approx_med)\n",
    "#Restricciones 1-5:\n",
    "mex_1_pd.constrain(matrix_max_approx_1_med,'90.09,50.61,45.03,16.83,26.92,36.29,51.61,2.450,25.15,30.22,81.78,2.444,34.71,57.17,41.14,92.00,69.17,26.77,38.44,25.35,L,79.72')\n",
    "mex_1_pd.constrain(matrix_max_approx_1_med,'69.62,6.235,18.95,4.843,12.34,82.56,83.65,11.18,29.91,34.66,79.32,64.11,95.56,70.83,69.77,93.99,10.83,17.88,78.04,87.34,L,68.64')\n",
    "mex_1_pd.constrain(matrix_max_approx_1_med,'27.58,31.56,72.90,95.74,69.19,84.21,58.42,18.88,72.27,85.58,60.66,51.78,46.34,30.96,5.505,11.68,84.84,81.16,3.668,65.52,L,1.240')\n",
    "mex_1_pd.constrain(matrix_max_approx_1_med,'28.91,98.28,80.47,78.34,48.34,40.00,92.46,93.44,93.79,46.63,50.50,30.32,71.96,52.57,46.29,67.03,71.13,82.94,4.676,5.110,L,34.53')\n",
    "mex_1_pd.constrain(matrix_max_approx_1_med,'10.16,9.828,11.24,53.81,23.53,16.98,94.65,55.01,96.43,5.556,54.05,40.95,35.37,14.02,32.04,71.37,29.52,24.35,71.32,46.73,L,43.64')\n",
    "#Restricciones 6-10:\n",
    "mex_1_pd.constrain(matrix_max_approx_1_med,'70.56,93.54,27.93,95.94,91.23,8.491,78.54,7.435,85.27,32.27,97.65,34.44,97.45,77.70,86.22,3.460,52.49,59.86,6.446,20.77,L,3.692')\n",
    "mex_1_pd.constrain(matrix_max_approx_1_med,'30.93,40.11,9.917,22.34,2.947,8.553,85.74,31.01,4.919,12.60,3.358,89.39,50.05,25.59,13.33,75.14,57.81,14.29,88.59,24.34,L,44.21')\n",
    "mex_1_pd.constrain(matrix_max_approx_1_med,'7.511,72.81,19.49,55.05,86.04,36.84,7.233,67.59,92.62,24.06,15.87,45.52,75.98,71.86,64.45,15.81,57.22,84.86,28.66,7.867,L,94.85')\n",
    "mex_1_pd.constrain(matrix_max_approx_1_med,'62.27,38.88,82.58,84.71,68.00,97.57,36.58,11.57,73.91,75.40,65.75,7.540,52.08,96.61,9.278,60.24,59.22,6.214,63.88,68.99,L,39.16')\n",
    "mex_1_pd.constrain(matrix_max_approx_1_med,'73.05,10.49,93.23,91.39,63.19,47.53,20.71,14.26,51.71,71.02,11.87,61.36,97.72,70.67,28.40,73.55,33.02,81.46,67.22,85.30,L,38.43')\n",
    "#Restricciones 11-15:\n",
    "mex_1_pd.constrain(matrix_max_approx_1_med,'93.49,28.98,23.75,48.18,73.61,18.85,15.89,90.90,71.75,80.48,97.08,88.23,86.15,57.57,78.16,40.38,19.41,75.39,54.97,38.35,L,57.08')\n",
    "mex_1_pd.constrain(matrix_max_approx_1_med,'84.61,42.17,56.76,23.61,66.47,13.86,36.55,37.61,39.77,2.123,92.07,21.21,85.36,27.84,81.87,34.29,55.51,71.08,81.14,41.18,L,19.63')\n",
    "mex_1_pd.constrain(matrix_max_approx_1_med,'66.07,71.30,29.57,3.874,45.04,98.19,92.92,18.87,44.20,17.36,36.33,45.50,17.97,67.95,62.03,32.55,50.91,47.08,85.63,36.12,L,70.07')\n",
    "mex_1_pd.constrain(matrix_max_approx_1_med,'63.66,7.173,29.93,31.48,64.60,72.68,2.754,16.71,79.55,4.050,95.43,31.18,61.87,68.41,3.567,21.61,45.96,3.881,40.50,91.86,L,32.45')\n",
    "mex_1_pd.constrain(matrix_max_approx_1_med,'67.60,7.276,78.37,96.71,79.11,21.35,78.86,23.26,63.76,43.93,59.46,78.19,70.34,92.42,58.98,95.50,84.86,76.11,13.00,60.67,L,15.32')\n",
    "#Restricciones 16-20:\n",
    "mex_1_pd.constrain(matrix_max_approx_1_med,'12.17,45.38,51.97,93.29,97.74,58.34,71.99,26.91,26.85,74.88,69.95,43.51,8.723,38.97,74.16,81.20,77.52,20.84,46.12,16.24,L,49.46')\n",
    "mex_1_pd.constrain(matrix_max_approx_1_med,'85.82,3.365,53.87,41.57,37.04,97.64,16.76,90.16,50.49,76.92,85.17,57.76,29.29,12.79,93.86,59.50,84.81,43.91,6.931,14.25,L,54.54')\n",
    "mex_1_pd.constrain(matrix_max_approx_1_med,'72.94,37.67,28.00,33.56,71.22,73.32,33.33,27.54,71.75,61.17,39.68,38.85,79.89,92.34,31.80,10.18,78.30,6.469,41.89,50.98,L,24.96')\n",
    "mex_1_pd.constrain(matrix_max_approx_1_med,'80.03,67.82,37.00,51.50,17.85,10.91,26.95,65.79,18.51,84.34,3.196,72.33,48.76,8.459,53.13,18.23,9.679,2.543,48.12,52.09,L,11.98')\n",
    "mex_1_pd.constrain(matrix_max_approx_1_med,'28.10,98.61,1.938,94.54,98.78,18.29,26.88,91.15,9.967,5.279,99.44,79.94,82.80,30.05,85.13,8.410,83.47,15.45,46.43,56.54,L,1.772')\n",
    "#Restricciones 21-25:\n",
    "mex_1_pd.constrain(matrix_max_approx_1_med,'92.44,92.82,95.87,78.14,93.72,55.82,92.28,64.95,94.39,91.63,20.11,32.16,10.08,23.98,9.257,71.39,48.74,60.76,96.93,56.57,L,50.61')\n",
    "mex_1_pd.constrain(matrix_max_approx_1_med,'22.14,72.51,48.51,98.13,90.25,85.24,1.804,28.47,45.93,36.05,35.43,7.104,70.67,97.69,74.87,39.72,13.98,58.00,2.024,85.30,L,94.20')\n",
    "mex_1_pd.constrain(matrix_max_approx_1_med,'72.16,93.13,45.85,76.06,22.53,36.16,81.15,92.51,97.12,67.37,37.37,69.21,72.32,63.23,92.90,61.86,11.42,34.15,49.78,6.688,L,97.49')\n",
    "mex_1_pd.constrain(matrix_max_approx_1_med,'58.39,34.12,77.96,5.433,83.02,84.14,59.82,22.39,70.75,19.67,24.53,41.00,56.24,89.32,14.63,77.15,34.12,34.28,55.17,31.45,L,34.16')\n",
    "mex_1_pd.constrain(matrix_max_approx_1_med,'20.15,1.416,74.34,23.20,8.632,71.47,32.10,59.23,91.44,37.58,23.29,39.11,19.54,3.000,2.319,43.50,35.17,66.78,40.41,50.82,L,6.26')\n",
    "#Restricciones 26-30:\n",
    "mex_1_pd.constrain(matrix_max_approx_1_med,'54.65,70.46,46.30,66.92,27.45,25.48,81.67,96.67,42.57,43.22,43.29,60.58,19.07,27.73,92.63,60.94,84.33,8.800,78.62,17.94,L,70.31')\n",
    "mex_1_pd.constrain(matrix_max_approx_1_med,'83.10,98.45,22.09,36.01,39.99,6.380,28.27,10.69,57.29,63.19,44.42,51.00,15.57,11.27,63.56,17.54,40.71,47.53,27.81,27.66,L,79.18')\n",
    "mex_1_pd.constrain(matrix_max_approx_1_med,'22.20,29.98,87.02,25.26,47.23,55.22,83.70,88.56,67.82,6.36,66.62,3.853,47.37,97.22,83.37,89.41,61.79,96.26,91.11,79.89,L,44.51')\n",
    "mex_1_pd.constrain(matrix_max_approx_1_med,'6.828,84.55,80.55,86.10,54.30,18.86,80.63,54.07,63.94,89.28,64.89,87.44,13.06,31.29,63.10,75.33,21.06,61.33,1.093,91.08,L,53.22')\n",
    "mex_1_pd.constrain(matrix_max_approx_1_med,'85.33,57.98,42.51,53.95,10.49,32.74,43.28,51.52,89.99,43.97,46.69,44.05,85.91,19.12,23.85,58.82,71.23,8.885,18.81,87.44,L,50.65')\n",
    "#Función objetivo:\n",
    "mex_1_pd.obj(matrix_max_approx_1_med,'52.16,45.51,69.09,84.88,38.73,84.47,97.50,61.32,16.27,36.42,77.24,36.91,62.85,50.77,81.22,66.94,31.10,45.05,37.68,40.76,0')\n",
    "\n",
    "problem_approx_1_med = mex_1_pd.maxz(matrix_max_approx_1_med)\n",
    "max_approx_1_med = problem_approx_1_med['max']\n",
    "problem_approx_1_med.pop('max')\n",
    "coeff_approx_1_med = np.array(list(problem_approx_1_med.values()))\n",
    "end_time = time.time()\n",
    "secs_1_med = end_time-start_time\n",
    "print(\"Todo el proceso tomó\",secs_1_med,\"segundos\" )"
   ]
  },
  {
   "cell_type": "markdown",
   "metadata": {},
   "source": [
    "#### Comprobación"
   ]
  },
  {
   "cell_type": "code",
   "execution_count": 22,
   "metadata": {},
   "outputs": [
    {
     "name": "stdout",
     "output_type": "stream",
     "text": [
      "El valor objetivo obtenido con scipy es:  7.644647466669042\n",
      "El valor aproximado obtenido con mex es:  7.644647288586908\n",
      "Los coeficientes objetivos obtenidos con scipy son:  [1.55767398e-10 2.13986131e-11 6.52653843e-11 2.03972271e-11\n",
      " 2.20073205e-11 2.25421843e-11 2.95498944e-11 8.33451409e-11\n",
      " 2.67709780e-11 2.57420289e-11 3.53108097e-11 2.45435519e-11\n",
      " 3.71518342e-11 2.84650310e-10 1.08315701e-02 1.01059266e-01\n",
      " 9.41232462e-12 3.40871440e-11 3.18768339e-10 2.14072463e-11]\n",
      "Los coeficientes aproximados obtenidos con mex son:  [0.         0.         0.         0.         0.         0.\n",
      " 0.         0.         0.         0.         0.         0.\n",
      " 0.         0.         0.01083157 0.10105926 0.         0.\n",
      " 0.         0.        ]\n"
     ]
    }
   ],
   "source": [
    "assert max_obj_med == approx(max_approx_1_med), \"El valor aproximado es incorrecto\"\n",
    "assert np.round(coeff_obj_med,3) == approx(coeff_approx_1_med, abs=1e-3), \"El valor de los coeficientes aproximados es incorrecto\"\n",
    "\n",
    "print(\"El valor objetivo obtenido con scipy es: \", max_obj_med)\n",
    "print(\"El valor aproximado obtenido con mex es: \", max_approx_1_med)\n",
    "print(\"Los coeficientes objetivos obtenidos con scipy son: \", coeff_obj_med)\n",
    "print(\"Los coeficientes aproximados obtenidos con mex son: \", coeff_approx_1_med)"
   ]
  },
  {
   "cell_type": "markdown",
   "metadata": {},
   "source": [
    "#### Tiempos"
   ]
  },
  {
   "cell_type": "code",
   "execution_count": 23,
   "metadata": {},
   "outputs": [
    {
     "name": "stdout",
     "output_type": "stream",
     "text": [
      "La iteración 1 a pequeña escala tardó 0.0004792213439941406 segundos\n",
      "La iteración 1 a mediana escala tardó 0.009021759033203125 segundos\n"
     ]
    }
   ],
   "source": [
    "print(\"La iteración 1 a pequeña escala tardó\", secs_1_small,\"segundos\")\n",
    "print(\"La iteración 1 a mediana escala tardó\", secs_1_med,\"segundos\")"
   ]
  },
  {
   "cell_type": "code",
   "execution_count": 24,
   "metadata": {},
   "outputs": [
    {
     "name": "stdout",
     "output_type": "stream",
     "text": [
      "De la iteración base a la iteración 1 en pequeña escala se redujeron 8.7738037109375e-05 segundos\n",
      "De la iteración base a la iteración 1 en mediana escala se redujeron 0.015894651412963867 segundos\n"
     ]
    }
   ],
   "source": [
    "print(\"De la iteración base a la iteración 1 en pequeña escala se redujeron\", secs_0_small-secs_1_small,\"segundos\")\n",
    "print(\"De la iteración base a la iteración 1 en mediana escala se redujeron\", secs_0_med-secs_1_med,\"segundos\")"
   ]
  },
  {
   "cell_type": "markdown",
   "metadata": {},
   "source": [
    "## Anotaciones para analizar bloques de código"
   ]
  },
  {
   "cell_type": "code",
   "execution_count": 52,
   "metadata": {},
   "outputs": [],
   "source": [
    "%%bash\n",
    "$HOME/.local/bin/cython --force -3 --annotate reimplementacion_1/simplex_networks_1.pyx\n",
    "$HOME/.local/bin/cython --force -3 --annotate reimplementacion_1/problem_definition_1.pyx\n",
    "$HOME/.local/bin/cython --force -3 --annotate reimplementacion_1/general_1.pyx"
   ]
  },
  {
   "cell_type": "markdown",
   "metadata": {},
   "source": [
    "Para una mejor lectura de este notebook decidimos dejar las siguientes líneas de código comentadas. Pero puedes abrir directamente los archivos `.html` creados en la carpeta `reimplementacion_1` o descomentar las líneas y correrlas."
   ]
  },
  {
   "cell_type": "code",
   "execution_count": 25,
   "metadata": {},
   "outputs": [],
   "source": [
    "#display(HTML(\"reimplementacion_1/simplex_networks_1.html\"))"
   ]
  },
  {
   "cell_type": "code",
   "execution_count": 26,
   "metadata": {},
   "outputs": [],
   "source": [
    "#display(HTML(\"reimplementacion_1/problem_definition_1.html\"))"
   ]
  },
  {
   "cell_type": "code",
   "execution_count": 27,
   "metadata": {},
   "outputs": [],
   "source": [
    "#display(HTML(\"reimplementacion_1/general_1.html\"))"
   ]
  },
  {
   "cell_type": "markdown",
   "metadata": {},
   "source": [
    "# Reimplementación 2"
   ]
  },
  {
   "cell_type": "markdown",
   "metadata": {},
   "source": [
    "Continuamos optimizando algunas líneas de código, se implementarán clases y volveremos a hacer la compilación a C."
   ]
  },
  {
   "cell_type": "markdown",
   "metadata": {},
   "source": [
    "## Creamos archivos `.pyx`"
   ]
  },
  {
   "cell_type": "code",
   "execution_count": 25,
   "metadata": {},
   "outputs": [
    {
     "name": "stdout",
     "output_type": "stream",
     "text": [
      "Overwriting reimplementacion_2/general_2.pyx\n"
     ]
    }
   ],
   "source": [
    "%%file reimplementacion_2/general_2.pyx\n",
    "\n",
    "def convert_min(matrix):\n",
    "    \"\"\"\n",
    "    This function multiplies by -1 the objective function for maximization problems. This is because\n",
    "    if the problem to be solved is maximization then it is analogue to solve the problem -minimization.\n",
    "    \n",
    "    Args:\n",
    "    \n",
    "        matrix (numpy array): matrix to be updated.\n",
    "    \n",
    "    Returns:\n",
    "    \n",
    "        matrix (numpy array): matrix multiplied by -1.\n",
    "    \"\"\"\n",
    "    \n",
    "    cdef int i\n",
    "    \n",
    "    matrix[-1, :-2] = [-1*i for i in matrix[-1, :-2]]\n",
    "    matrix[-1, -1] = -1*matrix[-1, -1]\n",
    "    \n",
    "    return matrix\n",
    "\n",
    "\n",
    "def gen_var(matrix):\n",
    "    \"\"\"\n",
    "    Generates the required number of variables. They are defined by the problem.\n",
    "    \n",
    "    Args:\n",
    "    \n",
    "        matrix (numpy array): matrix to be updated.\n",
    "    \n",
    "    Returns:\n",
    "    \n",
    "        v (list): list with problem variables.\n",
    "    \"\"\"\n",
    "    \n",
    "    cdef int i\n",
    "    cdef long lc, lr, var\n",
    "    \n",
    "    lc = len(matrix[0, :])\n",
    "    lr = len(matrix[:, 0])\n",
    "    \n",
    "    var = lc - lr -1\n",
    "    v = []\n",
    "    \n",
    "    for i in range(var):\n",
    "        v.append('x' + str(i+1))\n",
    "    \n",
    "    return v\n",
    "\n",
    "\n",
    "def convert(eq):\n",
    "    \"\"\"\n",
    "    Converts equation into a list containing the coefficients of the equation.\n",
    "    \n",
    "    Args:\n",
    "    \n",
    "        eq (string): equation defined with :func:`constrain`.\n",
    "    \n",
    "    Returns:\n",
    "    \n",
    "        eq (list): list with equation coefficients.\n",
    "    \"\"\"\n",
    "    \n",
    "    eq = eq.split(',')\n",
    "    \n",
    "    if 'G' in eq:\n",
    "        g = eq.index('G')\n",
    "        del eq[g]\n",
    "        eq = [float(i)*-1 for i in eq]\n",
    "        return eq\n",
    "    \n",
    "    if 'L' in eq:\n",
    "        l = eq.index('L')\n",
    "        del eq[l]\n",
    "        eq = [float(i) for i in eq]\n",
    "        return eq\n",
    "    \n",
    "    if 'E' in eq:\n",
    "        l = eq.index('E')\n",
    "        del eq[l]\n",
    "        eq = [float(i) for i in eq]\n",
    "        return eq"
   ]
  },
  {
   "cell_type": "code",
   "execution_count": 26,
   "metadata": {},
   "outputs": [
    {
     "name": "stdout",
     "output_type": "stream",
     "text": [
      "Overwriting reimplementacion_2/simplex_networks_2.pyx\n"
     ]
    }
   ],
   "source": [
    "%%file reimplementacion_2/simplex_networks_2.pyx\n",
    "\n",
    "import numpy as np\n",
    "import logging\n",
    "\n",
    "def create_matrix(unsigned int variables, unsigned int constraints):\n",
    "    \"\"\"\n",
    "    Creates a matrix with enough rows for each constraint plus the objective function\n",
    "    and enough columns for all the variables.\n",
    "    \n",
    "    Args:\n",
    "    \n",
    "        variables (int): number of variables.\n",
    "        \n",
    "        constraints (int): number of constraints.\n",
    "    \n",
    "    Returns:\n",
    "    \n",
    "        matrix (numpy array): zero matrix.\n",
    "    \"\"\"\n",
    "    \n",
    "    matrix = np.zeros((constraints + 1, variables + constraints + 2))\n",
    "    \n",
    "    return matrix\n",
    "\n",
    "\n",
    "def pivots_col(matrix):\n",
    "    \"\"\"\n",
    "    Checks to see if pivots are required due to negative values in right column,\n",
    "    excluding the bottom value.\n",
    "    \n",
    "    Args:\n",
    "    \n",
    "        matrix (numpy array): matrix to be reviewed.\n",
    "        \n",
    "    Returns:\n",
    "    \n",
    "        Flag (bool): True or False indicating whether a negative element was found.\n",
    "    \"\"\"\n",
    "    \n",
    "    cdef double m\n",
    "    \n",
    "    m = min(matrix[:-1, -1])\n",
    "    if m >= 0:\n",
    "        return False\n",
    "    else:\n",
    "        return True\n",
    "\n",
    "\n",
    "def pivots_row(matrix):\n",
    "    \"\"\"\n",
    "    Checks to see if pivots are required due to negative values in bottom row, \n",
    "    excluding the final value.\n",
    "    \n",
    "    Args:\n",
    "    \n",
    "        matrix (numpy array): matrix to be reviewed.\n",
    "        \n",
    "    Returns:\n",
    "    \n",
    "        Flag (bool): True or False indicating whether a negative element was found.\n",
    "    \"\"\"\n",
    "    \n",
    "    cdef int l\n",
    "    cdef double m\n",
    "    \n",
    "    l = len(matrix[:, 0])\n",
    "    m = min(matrix[l-1, :-1])\n",
    "    if m >= 0:\n",
    "        return False\n",
    "    else:\n",
    "        return True\n",
    "\n",
    "\n",
    "def find_negative_col(matrix):\n",
    "    \"\"\"\n",
    "    Finds location of negative values in right column.\n",
    "    \n",
    "    Args:\n",
    "        \n",
    "        matrix (numpy array): matrix to be reviewed.\n",
    "        \n",
    "    Returns:\n",
    "    \n",
    "        n (int): index of negative value in right column.\n",
    "    \"\"\"\n",
    "    \n",
    "    cdef int l\n",
    "    cdef double m\n",
    "    \n",
    "    l = len(matrix[0, :])\n",
    "    m = min(matrix[:-1, l-1])\n",
    "    if m <= 0:\n",
    "        n = np.where(matrix[:-1, l-1] == m)[0][0]\n",
    "    else:\n",
    "        n = None\n",
    "    \n",
    "    return n\n",
    "\n",
    "\n",
    "def find_negative_row(matrix):\n",
    "    \"\"\"\n",
    "    Finds location of negative values in bottom row.\n",
    "    \n",
    "    Args:\n",
    "        \n",
    "        matrix (numpy array): matrix to be reviewed.\n",
    "        \n",
    "    Returns:\n",
    "    \n",
    "        n (int): index of negative value in bottom row.\n",
    "    \"\"\"\n",
    "    \n",
    "    cdef int l\n",
    "    cdef double m\n",
    "    \n",
    "    l = len(matrix[:,0])\n",
    "    m = min(matrix[l-1,:-1])\n",
    "    if m <= 0:\n",
    "        n = np.where(matrix[l-1, :-1] == m)[0][0]\n",
    "    else:\n",
    "        n = None\n",
    "    \n",
    "    return n\n",
    "\n",
    "\n",
    "def find_pivot_col(matrix):\n",
    "    \"\"\"\n",
    "    Finds pivot element corresponding to a negative value in right column.\n",
    "    \n",
    "    Args:\n",
    "    \n",
    "        matrix (numpy array): matrix to be reviewed.\n",
    "        \n",
    "    Returns:\n",
    "        \n",
    "        index (int): index of most negative value.\n",
    "        \n",
    "        c (int): index smallest value on row.\n",
    "    \"\"\"\n",
    "    \n",
    "    cdef int c, index\n",
    "    cdef double m, i, j\n",
    "    \n",
    "    total = []\n",
    "    neg = find_negative_col(matrix)\n",
    "    row = matrix[neg, :-1]\n",
    "    m = min(row)\n",
    "    c = np.where(row == m)[0][0]\n",
    "    col = matrix[:-1, c]\n",
    "    for i,j in zip(col, matrix[:-1,-1]):  #i for col with neg, j for right col\n",
    "        if i != 0 and j/i > 0:\n",
    "            total.append(j/i)\n",
    "        else:\n",
    "            total.append(10000) #placeholder, might need to update for large scale\n",
    "    index = total.index(min(total))\n",
    "    \n",
    "    return [index,c]\n",
    "\n",
    "\n",
    "def find_pivot_row(matrix):\n",
    "    \"\"\"\n",
    "    Finds pivot element corresponding to a negative value in bottom row.\n",
    "    \n",
    "    Args:\n",
    "        \n",
    "        matrix (numpy array): matrix to be reviewed.\n",
    "        \n",
    "    Returns:\n",
    "    \n",
    "        index (int): index of most negative value.\n",
    "        \n",
    "        neg (int): index smallest value.\n",
    "    \"\"\"\n",
    "    \n",
    "    cdef double i, j\n",
    "    cdef int index\n",
    "    \n",
    "    if pivots_row(matrix):\n",
    "        total = []\n",
    "        neg = find_negative_row(matrix)\n",
    "        for i, j in zip(matrix[:-1, neg], matrix[:-1, -1]):\n",
    "            if i != 0 and j/i > 0:\n",
    "                total.append(j/i)\n",
    "            else:\n",
    "                total.append(10000) #placeholder, might need to update for large scale\n",
    "        index = total.index(min(total))\n",
    "        \n",
    "        return [index,neg]\n",
    "\n",
    "\n",
    "def pivot(row,col,matrix):\n",
    "    \"\"\"\n",
    "    Pivot about a value to remove negative in final column or row.\n",
    "    \n",
    "    Args:\n",
    "    \n",
    "        matrix (numpy array): matrix to be reviewed.\n",
    "        \n",
    "        row (int): position to pivot.\n",
    "        \n",
    "        col (int): position to pivot.\n",
    "        \n",
    "    Returns:\n",
    "    \n",
    "        t (numpy array): updated matrix.\n",
    "    \"\"\"\n",
    "    \n",
    "    cdef int i, lr, lc\n",
    "    \n",
    "    lr = len(matrix[:, 0])\n",
    "    lc = len(matrix[0, :])\n",
    "    t = np.zeros((lr, lc))\n",
    "    pr = matrix[row, :]\n",
    "    if matrix[row, col]**2 > 0:\n",
    "        e = 1/matrix[row, col]\n",
    "        r = pr*e\n",
    "        for i in range(len(matrix[:, col])):\n",
    "            k = matrix[i, :]\n",
    "            c = matrix[i, col]\n",
    "            if list(k) == list(pr):\n",
    "                continue\n",
    "            else:\n",
    "                t[i, :] = list(k-r*c)\n",
    "        t[row,:] = list(r)\n",
    "        return t\n",
    "    else:\n",
    "        logging.info('Cannot pivot on this element')"
   ]
  },
  {
   "cell_type": "code",
   "execution_count": 27,
   "metadata": {},
   "outputs": [
    {
     "name": "stdout",
     "output_type": "stream",
     "text": [
      "Overwriting reimplementacion_2/problem_definition_2.pyx\n"
     ]
    }
   ],
   "source": [
    "%%file reimplementacion_2/problem_definition_2.pyx\n",
    "\n",
    "import numpy as np\n",
    "import logging\n",
    "\n",
    "from general_2 import gen_var, convert_min, convert\n",
    "from simplex_networks_2 import pivots_col, find_pivot_col, pivots_row, pivot, find_pivot_row\n",
    "\n",
    "def add_cons(matrix):\n",
    "    \"\"\"\n",
    "    Checks if 1 extra constraint can be added to the matrix, this means that there are at least two rows of all\n",
    "    0 elements. If this condition is not satisfied, our program will not allow the user to add additional constraints.\n",
    "    \n",
    "    Args:\n",
    "    \n",
    "        matrix (numpy array): matrix to be reviewed.\n",
    "    \n",
    "    Returns:\n",
    "    \n",
    "        Flag (bool): True or False indicating whether 1+ constraints can be added.\n",
    "    \"\"\"\n",
    "\n",
    "    cdef int i, j, total\n",
    "    cdef long lr\n",
    "    \n",
    "    lr = len(matrix[:, 0])\n",
    "    empty = []\n",
    "\n",
    "    for i in range(lr):\n",
    "        total = 0\n",
    "        for j in matrix[i, :]:\n",
    "            total += j**2\n",
    "        if total == 0:\n",
    "            empty.append(total)\n",
    "\n",
    "    if len(empty) > 1:\n",
    "        return True\n",
    "    else:\n",
    "        return False\n",
    "\n",
    "\n",
    "def constrain(matrix, eq):\n",
    "    \"\"\"\n",
    "    Adds constraints to the problem.\n",
    "    \n",
    "    Args:\n",
    "    \n",
    "        matrix (numpy array): matrix defined with :mod:`create_matrix`.\n",
    "        \n",
    "        eq (string): coefficients of constraints expressions. Use **L** for *less than*, **G** for *greater than*, **E** for *equal to*.\n",
    "    \n",
    "    >>> problem_matrix = create_matrix(2,3)   # 2 variables and 3 constraints\n",
    "    >>> constrain(problem_matrix,'1,L,4')     # x_1 <= 4\n",
    "    >>> constrain(problem_matrix,'0,2,L,12')  # 2x_2 <= 12\n",
    "    >>> constrain(problem_matrix,'3,2,G,18')  # 3x_1 + 2x_2 >= 18\n",
    "    \"\"\"\n",
    "\n",
    "    cdef int i, j, var, lc, lr\n",
    "    \n",
    "    if 'E' in eq:\n",
    "        if add_cons(matrix):\n",
    "            lc = len(matrix[0, :])\n",
    "            lr = len(matrix[:, 0])\n",
    "            var = lc - lr - 1\n",
    "            j = 0\n",
    "\n",
    "            while j < lr:\n",
    "                row_check = matrix[j,:]\n",
    "                total = 0\n",
    "                for i in row_check:\n",
    "                    total += float(i**2)\n",
    "                if total == 0:\n",
    "                    row = row_check\n",
    "                    break\n",
    "                j += 1\n",
    "                \n",
    "            eq = convert(eq)\n",
    "            i = 0\n",
    "            \n",
    "            while i<len(eq)-1:\n",
    "                row[i] = eq[i]\n",
    "                i += 1\n",
    "            \n",
    "            row[-1] = eq[-1]\n",
    "            #row[var+j] = 1\n",
    "        \n",
    "        else:\n",
    "            logging.info('Cannot add another constraint.')\n",
    "        \n",
    "    else:\n",
    "        if add_cons(matrix):\n",
    "            lc = len(matrix[0, :])\n",
    "            lr = len(matrix[:, 0])\n",
    "            var = lc - lr -1\n",
    "            j = 0\n",
    "            \n",
    "            while j < lr:\n",
    "                row_check = matrix[j, :]\n",
    "                total = 0\n",
    "                for i in row_check:\n",
    "                    total += float(i**2)\n",
    "                if total == 0:\n",
    "                    row = row_check\n",
    "                    break\n",
    "                j +=1\n",
    "                \n",
    "            eq = convert(eq)\n",
    "            i = 0\n",
    "            \n",
    "            while i<len(eq)-1:\n",
    "                row[i] = eq[i]\n",
    "                i += 1\n",
    "            \n",
    "            row[-1] = eq[-1]\n",
    "            row[var+j] = 1\n",
    "            \n",
    "        else:\n",
    "            logging.info('Cannot add another constraint.')\n",
    "\n",
    "\n",
    "def add_obj(matrix):\n",
    "    \"\"\"\n",
    "    Verifies if the objective function can be added.\n",
    "    \n",
    "    Args:\n",
    "    \n",
    "        matrix (numpy array): matrix to be reviewed.\n",
    "    \n",
    "    Returns:\n",
    "    \n",
    "        Flag (bool): True or False indicating whether objective function can be added.\n",
    "    \"\"\"\n",
    "    \n",
    "    cdef int i, j\n",
    "    cdef long lr, total\n",
    "    \n",
    "    lr = len(matrix[:,0])\n",
    "    empty = []\n",
    "    \n",
    "    for i in range(lr):\n",
    "        total = 0\n",
    "        for j in matrix[i, :]:\n",
    "            total += j**2\n",
    "        if total == 0:\n",
    "            empty.append(total)\n",
    "    \n",
    "    if len(empty) == 1:\n",
    "        return True\n",
    "    else:\n",
    "        return False\n",
    "\n",
    "\n",
    "def obj(matrix,eq):\n",
    "    \"\"\"\n",
    "    Adds the objective function to the problem matrix.\n",
    "    \n",
    "    .. note::\n",
    "        Objective function must be added **after** constraints have been input.\n",
    "    \n",
    "    Args:\n",
    "    \n",
    "        matrix (numpy array): matrix defined with :mod:`create_matrix`.\n",
    "        \n",
    "        eq (string): coefficients of objective function.\n",
    "    \n",
    "    >>> problem_matrix = create_matrix(2,3)   # 2 variables and 3 constraints\n",
    "    >>> constrain(problem_matrix,'1,L,4')     # x_1 <= 4\n",
    "    >>> constrain(problem_matrix,'0,2,L,12')  # 2x_2 <= 12\n",
    "    >>> constrain(problem_matrix,'4,2,G,18')  # 4x_1 + 2x_2 >= 18\n",
    "    >>> obj(problem_matrix,'3,5,0')           # 3x_1 + 5x_2\n",
    "    \"\"\"\n",
    "    \n",
    "    cdef long lr\n",
    "    \n",
    "    if add_obj(matrix):\n",
    "        eq = [float(i) for i in eq.split(',')]\n",
    "        lr = len(matrix[:,0])\n",
    "        row = matrix[lr-1,:]\n",
    "        i = 0\n",
    "        while i<len(eq)-1:\n",
    "            row[i] = eq[i]*-1\n",
    "            i +=1\n",
    "        row[-2] = 1\n",
    "        row[-1] = eq[-1]\n",
    "    else:\n",
    "        logging.info('You must finish adding constraints before the objective function can be added.')\n",
    "\n",
    "\n",
    "def maxz(matrix):\n",
    "    \"\"\"\n",
    "    Creates maximization function. Determines if 1 extra pivot is required, locates the pivot element,\n",
    "    pivots about it and continues the process until all negative elements have been removed from\n",
    "    the last column and row.\n",
    "    \n",
    "    Args:\n",
    "    \n",
    "        matrix (numpy array): problem matrix with constraints and objective function added.\n",
    "    \n",
    "    Returns:\n",
    "    \n",
    "        *(dict)* A dictionary with Max and variables.\n",
    "        \n",
    "    >>> problem_matrix = create_matrix(2,3)   # 2 variables and 3 constraints\n",
    "    >>> constrain(problem_matrix,'1,L,4')     # x_1 <= 4\n",
    "    >>> constrain(problem_matrix,'0,2,L,12')  # 2x_2 <= 12\n",
    "    >>> constrain(problem_matrix,'4,2,G,18')  # 4x_1 + 2x_2 >= 18\n",
    "    >>> obj(problem_matrix,'3,5,0')           # 3x_1 + 5x_2\n",
    "    >>> maxz(problem_matrix)\n",
    "    {'x1': 4.0, 'x2': 6.0, 'max': 42.0}\n",
    "    \"\"\"\n",
    "    \n",
    "    cdef int i\n",
    "    cdef float s, m\n",
    "    cdef long lc, lr, var\n",
    "    \n",
    "    while pivots_col(matrix):\n",
    "        matrix = pivot(find_pivot_col(matrix)[0], find_pivot_col(matrix)[1], matrix)\n",
    "    while pivots_row(matrix):\n",
    "        matrix = pivot(find_pivot_row(matrix)[0], find_pivot_row(matrix)[1], matrix)\n",
    "    \n",
    "    lc = len(matrix[0, :])\n",
    "    lr = len(matrix[:, 0])\n",
    "    var = lc - lr - 1\n",
    "    i = 0\n",
    "    val = {}\n",
    "    \n",
    "    for i in range(var):\n",
    "        col = matrix[:, i]\n",
    "        s = sum(col)\n",
    "        m = max(col)\n",
    "        if float(s) == float(m):\n",
    "            loc = np.where(col == m)[0][0]\n",
    "            val[gen_var(matrix)[i]] = matrix[loc, -1]\n",
    "        else:\n",
    "            val[gen_var(matrix)[i]] = 0\n",
    "    val['max'] = matrix[-1, -1]\n",
    "    \n",
    "    return val\n",
    "\n",
    "\n",
    "def minz(matrix):\n",
    "    \"\"\"\n",
    "    Creates minimization function. Determines if 1 extra pivot is required, locates the pivot element,\n",
    "    pivots about it and continues the process until all negative elements have been removed from \n",
    "    the last column and row.\n",
    "    \n",
    "    Args:\n",
    "    \n",
    "        matrix (numpy array): problem matrix with constraints and objective function added.\n",
    "    \n",
    "    Returns:\n",
    "    \n",
    "        (dict) A dictionary with Min and variables.\n",
    "        \n",
    "    >>> problem_matrix = create_matrix(2,4)   # 2 variables and 4 constraints\n",
    "    >>> constrain(problem_matrix,'1,1,L,6')   # x_1 + x_2 <= 6\n",
    "    >>> constrain(problem_matrix,'-1,2,L,8')  # -x_1 + 2x_2 <= 8\n",
    "    >>> constrain(problem_matrix,'1,G,0')     # x_1 >= 0\n",
    "    >>> constrain(problem_matrix,'0,1,G,0')   # x_2 >= 0\n",
    "    >>> obj(problem_matrix,'-1,-3,0')         # -x_1 - 3x_2\n",
    "    >>> minz(problem_matrix)\n",
    "    {'x1': 1.3333333333333333, 'x2': 4.666666666666667}\n",
    "    \"\"\"\n",
    "    \n",
    "    cdef int i\n",
    "    cdef float s, m\n",
    "    cdef long lc, lr, var\n",
    "\n",
    "    matrix = convert_min(matrix)\n",
    "    while pivots_col(matrix):\n",
    "        matrix = pivot(find_pivot_col(matrix)[0], find_pivot_col(matrix)[1], matrix)\n",
    "    while pivots_row(matrix):\n",
    "        matrix = pivot(find_pivot_row(matrix)[0], find_pivot_row(matrix)[1], matrix)\n",
    "    \n",
    "    lc = len(matrix[0, :])\n",
    "    lr = len(matrix[:, 0])\n",
    "    var = lc - lr - 1\n",
    "    i = 0\n",
    "    val = {}\n",
    "    \n",
    "    for i in range(var):\n",
    "        col = matrix[:, i]\n",
    "        s = sum(col)\n",
    "        m = max(col)\n",
    "        if float(s) == float(m):\n",
    "            loc = np.where(col == m)[0][0]\n",
    "            val[gen_var(matrix)[i]] = matrix[loc, -1]\n",
    "        else:\n",
    "            val[gen_var(matrix)[i]] = 0\n",
    "    val['min'] = matrix[-1, -1]*-1\n",
    "    \n",
    "    return val"
   ]
  },
  {
   "cell_type": "code",
   "execution_count": 28,
   "metadata": {},
   "outputs": [
    {
     "name": "stdout",
     "output_type": "stream",
     "text": [
      "Writing reimplementacion_2/maximizer_class_2.pyx\n"
     ]
    }
   ],
   "source": [
    "%%file reimplementacion_2/maximizer_class_2.pyx\n",
    "\n",
    "import numpy as np\n",
    "from simplex_networks_2 import create_matrix\n",
    "from problem_definition_2 import constrain, obj, maxz\n",
    "\n",
    "class Maximizer():\n",
    "    \"\"\"Maximize the objective function\"\"\"\n",
    "    \n",
    "    def __init__(self, n_variables, n_constraints):\n",
    "        self.n_variables = n_variables\n",
    "        self.n_constraints = n_constraints\n",
    "        self.matrix = create_matrix(self.n_variables, self.n_constraints)\n",
    "        self.max = None\n",
    "        self.coeff = None\n",
    "\n",
    "    def add_constraint(self, constraint):\n",
    "        constrain(self.matrix, constraint)\n",
    "\n",
    "    def add_objective(self, objective):\n",
    "        obj(self.matrix, objective)\n",
    "\n",
    "    def solve(self):\n",
    "        solve = maxz(self.matrix)\n",
    "        self.max = solve['max']\n",
    "        self.coeff = np.array(list(solve.values()))[:-1]\n",
    "\n",
    "    def get_max(self):\n",
    "        return self.max\n",
    "\n",
    "    def get_coeff(self):\n",
    "        return self.coeff"
   ]
  },
  {
   "cell_type": "code",
   "execution_count": 29,
   "metadata": {},
   "outputs": [
    {
     "name": "stdout",
     "output_type": "stream",
     "text": [
      "Writing reimplementacion_2/minimizer_class_2.pyx\n"
     ]
    }
   ],
   "source": [
    "%%file reimplementacion_2/minimizer_class_2.pyx\n",
    "\n",
    "import numpy as np\n",
    "from simplex_networks_2 import create_matrix\n",
    "from problem_definition_2 import constrain, obj, minz\n",
    "\n",
    "class Minimizer():\n",
    "    \"\"\"Minimize the objective function\"\"\"\n",
    "    \n",
    "    def __init__(self, n_variables, n_constraints):\n",
    "        self.n_variables = n_variables\n",
    "        self.n_constraints = n_constraints\n",
    "        self.matrix = create_matrix(self.n_variables, self.n_constraints)\n",
    "        self.min = None\n",
    "        self.coeff = None\n",
    "\n",
    "    def add_constraint(self, constraint):\n",
    "        constrain(self.matrix, constraint)\n",
    "\n",
    "    def add_objective(self, objective):\n",
    "        obj(self.matrix, objective)\n",
    "\n",
    "    def solve(self):\n",
    "        solve = minz(self.matrix)\n",
    "        self.min = solve['min']\n",
    "        self.coeff = np.array(list(solve.values()))[:-1]\n",
    "\n",
    "    def get_min(self):\n",
    "        return self.min\n",
    "\n",
    "    def get_coeff(self):\n",
    "        return self.coeff"
   ]
  },
  {
   "cell_type": "markdown",
   "metadata": {},
   "source": [
    "## Creamos archivos `setup.py`"
   ]
  },
  {
   "cell_type": "code",
   "execution_count": 30,
   "metadata": {},
   "outputs": [
    {
     "name": "stdout",
     "output_type": "stream",
     "text": [
      "Overwriting reimplementacion_2/setup_simplexnetworks_2.py\n"
     ]
    }
   ],
   "source": [
    "%%file reimplementacion_2/setup_simplexnetworks_2.py\n",
    "from distutils.core import setup\n",
    "from Cython.Build import cythonize\n",
    "setup(ext_modules = cythonize(\"reimplementacion_2/simplex_networks_2.pyx\", compiler_directives={'language_level' : 3}))"
   ]
  },
  {
   "cell_type": "code",
   "execution_count": 31,
   "metadata": {},
   "outputs": [
    {
     "name": "stdout",
     "output_type": "stream",
     "text": [
      "Overwriting reimplementacion_2/setup_problemdefinition_2.py\n"
     ]
    }
   ],
   "source": [
    "%%file reimplementacion_2/setup_problemdefinition_2.py\n",
    "from distutils.core import setup\n",
    "from Cython.Build import cythonize\n",
    "setup(ext_modules = cythonize(\"reimplementacion_2/problem_definition_2.pyx\", compiler_directives={'language_level' : 3}))"
   ]
  },
  {
   "cell_type": "code",
   "execution_count": 32,
   "metadata": {},
   "outputs": [
    {
     "name": "stdout",
     "output_type": "stream",
     "text": [
      "Overwriting reimplementacion_2/setup_general_2.py\n"
     ]
    }
   ],
   "source": [
    "%%file reimplementacion_2/setup_general_2.py\n",
    "from distutils.core import setup\n",
    "from Cython.Build import cythonize\n",
    "setup(ext_modules = cythonize(\"reimplementacion_2/general_2.pyx\", compiler_directives={'language_level' : 3}))"
   ]
  },
  {
   "cell_type": "code",
   "execution_count": 33,
   "metadata": {},
   "outputs": [
    {
     "name": "stdout",
     "output_type": "stream",
     "text": [
      "Writing reimplementacion_2/setup_maximizer_2.py\n"
     ]
    }
   ],
   "source": [
    "%%file reimplementacion_2/setup_maximizer_2.py\n",
    "from distutils.core import setup\n",
    "from Cython.Build import cythonize\n",
    "setup(ext_modules = cythonize(\"reimplementacion_2/maximizer_class_2.pyx\", compiler_directives={'language_level' : 3}))"
   ]
  },
  {
   "cell_type": "code",
   "execution_count": 34,
   "metadata": {},
   "outputs": [
    {
     "name": "stdout",
     "output_type": "stream",
     "text": [
      "Writing reimplementacion_2/setup_minimizer_2.py\n"
     ]
    }
   ],
   "source": [
    "%%file reimplementacion_2/setup_minimizer_2.py\n",
    "from distutils.core import setup\n",
    "from Cython.Build import cythonize\n",
    "setup(ext_modules = cythonize(\"reimplementacion_2/minimizer_class_2.pyx\", compiler_directives={'language_level' : 3}))"
   ]
  },
  {
   "cell_type": "markdown",
   "metadata": {},
   "source": [
    "## Compilando"
   ]
  },
  {
   "cell_type": "code",
   "execution_count": 35,
   "metadata": {},
   "outputs": [
    {
     "name": "stdout",
     "output_type": "stream",
     "text": [
      "Compiling reimplementacion_2/simplex_networks_2.pyx because it changed.\n",
      "[1/1] Cythonizing reimplementacion_2/simplex_networks_2.pyx\n",
      "running build_ext\n",
      "building 'simplex_networks_2' extension\n",
      "x86_64-linux-gnu-gcc -pthread -Wno-unused-result -Wsign-compare -DNDEBUG -g -fwrapv -O2 -Wall -g -fstack-protector-strong -Wformat -Werror=format-security -g -fwrapv -O2 -g -fstack-protector-strong -Wformat -Werror=format-security -Wdate-time -D_FORTIFY_SOURCE=2 -fPIC -I/usr/include/python3.8 -c reimplementacion_2/simplex_networks_2.c -o build/temp.linux-x86_64-3.8/reimplementacion_2/simplex_networks_2.o\n",
      "x86_64-linux-gnu-gcc -pthread -shared -Wl,-O1 -Wl,-Bsymbolic-functions -Wl,-Bsymbolic-functions -Wl,-z,relro -g -fwrapv -O2 -Wl,-Bsymbolic-functions -Wl,-z,relro -g -fwrapv -O2 -g -fstack-protector-strong -Wformat -Werror=format-security -Wdate-time -D_FORTIFY_SOURCE=2 build/temp.linux-x86_64-3.8/reimplementacion_2/simplex_networks_2.o -o /home/ubuntu/practica-2-segunda-parte-caroacostatovany/notebooks/simplex_networks_2.cpython-38-x86_64-linux-gnu.so\n"
     ]
    }
   ],
   "source": [
    "%%bash\n",
    "python3 reimplementacion_2/setup_simplexnetworks_2.py build_ext --inplace"
   ]
  },
  {
   "cell_type": "code",
   "execution_count": 36,
   "metadata": {},
   "outputs": [
    {
     "name": "stdout",
     "output_type": "stream",
     "text": [
      "Compiling reimplementacion_2/problem_definition_2.pyx because it changed.\n",
      "[1/1] Cythonizing reimplementacion_2/problem_definition_2.pyx\n",
      "running build_ext\n",
      "building 'problem_definition_2' extension\n",
      "x86_64-linux-gnu-gcc -pthread -Wno-unused-result -Wsign-compare -DNDEBUG -g -fwrapv -O2 -Wall -g -fstack-protector-strong -Wformat -Werror=format-security -g -fwrapv -O2 -g -fstack-protector-strong -Wformat -Werror=format-security -Wdate-time -D_FORTIFY_SOURCE=2 -fPIC -I/usr/include/python3.8 -c reimplementacion_2/problem_definition_2.c -o build/temp.linux-x86_64-3.8/reimplementacion_2/problem_definition_2.o\n",
      "x86_64-linux-gnu-gcc -pthread -shared -Wl,-O1 -Wl,-Bsymbolic-functions -Wl,-Bsymbolic-functions -Wl,-z,relro -g -fwrapv -O2 -Wl,-Bsymbolic-functions -Wl,-z,relro -g -fwrapv -O2 -g -fstack-protector-strong -Wformat -Werror=format-security -Wdate-time -D_FORTIFY_SOURCE=2 build/temp.linux-x86_64-3.8/reimplementacion_2/problem_definition_2.o -o /home/ubuntu/practica-2-segunda-parte-caroacostatovany/notebooks/problem_definition_2.cpython-38-x86_64-linux-gnu.so\n"
     ]
    }
   ],
   "source": [
    "%%bash\n",
    "python3 reimplementacion_2/setup_problemdefinition_2.py build_ext --inplace"
   ]
  },
  {
   "cell_type": "code",
   "execution_count": 37,
   "metadata": {},
   "outputs": [
    {
     "name": "stdout",
     "output_type": "stream",
     "text": [
      "Compiling reimplementacion_2/general_2.pyx because it changed.\n",
      "[1/1] Cythonizing reimplementacion_2/general_2.pyx\n",
      "running build_ext\n",
      "building 'general_2' extension\n",
      "x86_64-linux-gnu-gcc -pthread -Wno-unused-result -Wsign-compare -DNDEBUG -g -fwrapv -O2 -Wall -g -fstack-protector-strong -Wformat -Werror=format-security -g -fwrapv -O2 -g -fstack-protector-strong -Wformat -Werror=format-security -Wdate-time -D_FORTIFY_SOURCE=2 -fPIC -I/usr/include/python3.8 -c reimplementacion_2/general_2.c -o build/temp.linux-x86_64-3.8/reimplementacion_2/general_2.o\n",
      "x86_64-linux-gnu-gcc -pthread -shared -Wl,-O1 -Wl,-Bsymbolic-functions -Wl,-Bsymbolic-functions -Wl,-z,relro -g -fwrapv -O2 -Wl,-Bsymbolic-functions -Wl,-z,relro -g -fwrapv -O2 -g -fstack-protector-strong -Wformat -Werror=format-security -Wdate-time -D_FORTIFY_SOURCE=2 build/temp.linux-x86_64-3.8/reimplementacion_2/general_2.o -o /home/ubuntu/practica-2-segunda-parte-caroacostatovany/notebooks/general_2.cpython-38-x86_64-linux-gnu.so\n"
     ]
    }
   ],
   "source": [
    "%%bash\n",
    "python3 reimplementacion_2/setup_general_2.py build_ext --inplace"
   ]
  },
  {
   "cell_type": "code",
   "execution_count": 38,
   "metadata": {},
   "outputs": [
    {
     "name": "stdout",
     "output_type": "stream",
     "text": [
      "Compiling reimplementacion_2/maximizer_class_2.pyx because it changed.\n",
      "[1/1] Cythonizing reimplementacion_2/maximizer_class_2.pyx\n",
      "running build_ext\n",
      "building 'maximizer_class_2' extension\n",
      "x86_64-linux-gnu-gcc -pthread -Wno-unused-result -Wsign-compare -DNDEBUG -g -fwrapv -O2 -Wall -g -fstack-protector-strong -Wformat -Werror=format-security -g -fwrapv -O2 -g -fstack-protector-strong -Wformat -Werror=format-security -Wdate-time -D_FORTIFY_SOURCE=2 -fPIC -I/usr/include/python3.8 -c reimplementacion_2/maximizer_class_2.c -o build/temp.linux-x86_64-3.8/reimplementacion_2/maximizer_class_2.o\n",
      "x86_64-linux-gnu-gcc -pthread -shared -Wl,-O1 -Wl,-Bsymbolic-functions -Wl,-Bsymbolic-functions -Wl,-z,relro -g -fwrapv -O2 -Wl,-Bsymbolic-functions -Wl,-z,relro -g -fwrapv -O2 -g -fstack-protector-strong -Wformat -Werror=format-security -Wdate-time -D_FORTIFY_SOURCE=2 build/temp.linux-x86_64-3.8/reimplementacion_2/maximizer_class_2.o -o /home/ubuntu/practica-2-segunda-parte-caroacostatovany/notebooks/maximizer_class_2.cpython-38-x86_64-linux-gnu.so\n"
     ]
    }
   ],
   "source": [
    "%%bash\n",
    "python3 reimplementacion_2/setup_maximizer_2.py build_ext --inplace"
   ]
  },
  {
   "cell_type": "code",
   "execution_count": 39,
   "metadata": {},
   "outputs": [
    {
     "name": "stdout",
     "output_type": "stream",
     "text": [
      "Compiling reimplementacion_2/minimizer_class_2.pyx because it changed.\n",
      "[1/1] Cythonizing reimplementacion_2/minimizer_class_2.pyx\n",
      "running build_ext\n",
      "building 'minimizer_class_2' extension\n",
      "x86_64-linux-gnu-gcc -pthread -Wno-unused-result -Wsign-compare -DNDEBUG -g -fwrapv -O2 -Wall -g -fstack-protector-strong -Wformat -Werror=format-security -g -fwrapv -O2 -g -fstack-protector-strong -Wformat -Werror=format-security -Wdate-time -D_FORTIFY_SOURCE=2 -fPIC -I/usr/include/python3.8 -c reimplementacion_2/minimizer_class_2.c -o build/temp.linux-x86_64-3.8/reimplementacion_2/minimizer_class_2.o\n",
      "x86_64-linux-gnu-gcc -pthread -shared -Wl,-O1 -Wl,-Bsymbolic-functions -Wl,-Bsymbolic-functions -Wl,-z,relro -g -fwrapv -O2 -Wl,-Bsymbolic-functions -Wl,-z,relro -g -fwrapv -O2 -g -fstack-protector-strong -Wformat -Werror=format-security -Wdate-time -D_FORTIFY_SOURCE=2 build/temp.linux-x86_64-3.8/reimplementacion_2/minimizer_class_2.o -o /home/ubuntu/practica-2-segunda-parte-caroacostatovany/notebooks/minimizer_class_2.cpython-38-x86_64-linux-gnu.so\n"
     ]
    }
   ],
   "source": [
    "%%bash\n",
    "python3 reimplementacion_2/setup_minimizer_2.py build_ext --inplace"
   ]
  },
  {
   "cell_type": "markdown",
   "metadata": {},
   "source": [
    "### Ejemplo pequeña escala"
   ]
  },
  {
   "cell_type": "markdown",
   "metadata": {},
   "source": [
    "#### Importamos módulos compilados y calculamos valores aproximados"
   ]
  },
  {
   "cell_type": "code",
   "execution_count": 40,
   "metadata": {},
   "outputs": [],
   "source": [
    "import simplex_networks_2 as mex_2_sn\n",
    "import problem_definition_2 as mex_2_pd\n",
    "from maximizer_class_2 import Maximizer\n",
    "from minimizer_class_2 import Minimizer"
   ]
  },
  {
   "cell_type": "code",
   "execution_count": 47,
   "metadata": {},
   "outputs": [
    {
     "name": "stdout",
     "output_type": "stream",
     "text": [
      "Todo el proceso tomó 0.00045609474182128906 segundos\n"
     ]
    }
   ],
   "source": [
    "# Todo junto\n",
    "start_time = time.time()\n",
    "maxim_small = Maximizer(n_var_approx_small,n_cons_approx_small)\n",
    "maxim_small.add_constraint('1,0,L,4')\n",
    "maxim_small.add_constraint('0,2,L,12')\n",
    "maxim_small.add_constraint('3,2,L,18')\n",
    "maxim_small.add_objective('3,5,0')\n",
    "maxim_small.solve()\n",
    "max_approx_2_small = maxim_small.get_max()\n",
    "coeff_approx_2_small = maxim_small.get_coeff()\n",
    "end_time = time.time()\n",
    "secs_2_small = end_time-start_time\n",
    "print(\"Todo el proceso tomó\",secs_2_small,\"segundos\" )"
   ]
  },
  {
   "cell_type": "markdown",
   "metadata": {},
   "source": [
    "#### Comprobación"
   ]
  },
  {
   "cell_type": "code",
   "execution_count": 48,
   "metadata": {},
   "outputs": [
    {
     "name": "stdout",
     "output_type": "stream",
     "text": [
      "El valor objetivo obtenido con scipy es:  35.99999997843401\n",
      "El valor aproximado obtenido con mex es:  36.0\n",
      "Los coeficientes objetivos obtenidos con scipy son:  [2. 6.]\n",
      "Los coeficientes aproximados obtenidos con mex son:  [2. 6.]\n"
     ]
    }
   ],
   "source": [
    "assert max_obj_small == approx(max_approx_2_small), \"El valor aproximado es incorrecto\"\n",
    "assert coeff_obj_small == approx(coeff_approx_2_small), \"El valor de los coeficientes aproximados es incorrecto\"\n",
    "\n",
    "print(\"El valor objetivo obtenido con scipy es: \", max_obj_small)\n",
    "print(\"El valor aproximado obtenido con mex es: \", max_approx_2_small)\n",
    "print(\"Los coeficientes objetivos obtenidos con scipy son: \", coeff_obj_small)\n",
    "print(\"Los coeficientes aproximados obtenidos con mex son: \", coeff_approx_2_small)"
   ]
  },
  {
   "cell_type": "markdown",
   "metadata": {},
   "source": [
    "### Ejemplo mediana escala"
   ]
  },
  {
   "cell_type": "markdown",
   "metadata": {},
   "source": [
    "#### Calculamos valores aproximados"
   ]
  },
  {
   "cell_type": "code",
   "execution_count": 49,
   "metadata": {},
   "outputs": [
    {
     "name": "stdout",
     "output_type": "stream",
     "text": [
      "Todo el proceso tomó 0.008903264999389648 segundos\n"
     ]
    }
   ],
   "source": [
    "# Todo junto\n",
    "start_time = time.time()\n",
    "maxim_med = Maximizer(n_var_approx_med,n_cons_approx_med)\n",
    "#Restricciones 1-5:\n",
    "maxim_med.add_constraint('90.09,50.61,45.03,16.83,26.92,36.29,51.61,2.450,25.15,30.22,81.78,2.444,34.71,57.17,41.14,92.00,69.17,26.77,38.44,25.35,L,79.72')\n",
    "maxim_med.add_constraint('69.62,6.235,18.95,4.843,12.34,82.56,83.65,11.18,29.91,34.66,79.32,64.11,95.56,70.83,69.77,93.99,10.83,17.88,78.04,87.34,L,68.64')\n",
    "maxim_med.add_constraint('27.58,31.56,72.90,95.74,69.19,84.21,58.42,18.88,72.27,85.58,60.66,51.78,46.34,30.96,5.505,11.68,84.84,81.16,3.668,65.52,L,1.240')\n",
    "maxim_med.add_constraint('28.91,98.28,80.47,78.34,48.34,40.00,92.46,93.44,93.79,46.63,50.50,30.32,71.96,52.57,46.29,67.03,71.13,82.94,4.676,5.110,L,34.53')\n",
    "maxim_med.add_constraint('10.16,9.828,11.24,53.81,23.53,16.98,94.65,55.01,96.43,5.556,54.05,40.95,35.37,14.02,32.04,71.37,29.52,24.35,71.32,46.73,L,43.64')\n",
    "#Restricciones 6-10:\n",
    "maxim_med.add_constraint('70.56,93.54,27.93,95.94,91.23,8.491,78.54,7.435,85.27,32.27,97.65,34.44,97.45,77.70,86.22,3.460,52.49,59.86,6.446,20.77,L,3.692')\n",
    "maxim_med.add_constraint('30.93,40.11,9.917,22.34,2.947,8.553,85.74,31.01,4.919,12.60,3.358,89.39,50.05,25.59,13.33,75.14,57.81,14.29,88.59,24.34,L,44.21')\n",
    "maxim_med.add_constraint('7.511,72.81,19.49,55.05,86.04,36.84,7.233,67.59,92.62,24.06,15.87,45.52,75.98,71.86,64.45,15.81,57.22,84.86,28.66,7.867,L,94.85')\n",
    "maxim_med.add_constraint('62.27,38.88,82.58,84.71,68.00,97.57,36.58,11.57,73.91,75.40,65.75,7.540,52.08,96.61,9.278,60.24,59.22,6.214,63.88,68.99,L,39.16')\n",
    "maxim_med.add_constraint('73.05,10.49,93.23,91.39,63.19,47.53,20.71,14.26,51.71,71.02,11.87,61.36,97.72,70.67,28.40,73.55,33.02,81.46,67.22,85.30,L,38.43')\n",
    "#Restricciones 11-15:\n",
    "maxim_med.add_constraint('93.49,28.98,23.75,48.18,73.61,18.85,15.89,90.90,71.75,80.48,97.08,88.23,86.15,57.57,78.16,40.38,19.41,75.39,54.97,38.35,L,57.08')\n",
    "maxim_med.add_constraint('84.61,42.17,56.76,23.61,66.47,13.86,36.55,37.61,39.77,2.123,92.07,21.21,85.36,27.84,81.87,34.29,55.51,71.08,81.14,41.18,L,19.63')\n",
    "maxim_med.add_constraint('66.07,71.30,29.57,3.874,45.04,98.19,92.92,18.87,44.20,17.36,36.33,45.50,17.97,67.95,62.03,32.55,50.91,47.08,85.63,36.12,L,70.07')\n",
    "maxim_med.add_constraint('63.66,7.173,29.93,31.48,64.60,72.68,2.754,16.71,79.55,4.050,95.43,31.18,61.87,68.41,3.567,21.61,45.96,3.881,40.50,91.86,L,32.45')\n",
    "maxim_med.add_constraint('67.60,7.276,78.37,96.71,79.11,21.35,78.86,23.26,63.76,43.93,59.46,78.19,70.34,92.42,58.98,95.50,84.86,76.11,13.00,60.67,L,15.32')\n",
    "#Restricciones 16-20:\n",
    "maxim_med.add_constraint('12.17,45.38,51.97,93.29,97.74,58.34,71.99,26.91,26.85,74.88,69.95,43.51,8.723,38.97,74.16,81.20,77.52,20.84,46.12,16.24,L,49.46')\n",
    "maxim_med.add_constraint('85.82,3.365,53.87,41.57,37.04,97.64,16.76,90.16,50.49,76.92,85.17,57.76,29.29,12.79,93.86,59.50,84.81,43.91,6.931,14.25,L,54.54')\n",
    "maxim_med.add_constraint('72.94,37.67,28.00,33.56,71.22,73.32,33.33,27.54,71.75,61.17,39.68,38.85,79.89,92.34,31.80,10.18,78.30,6.469,41.89,50.98,L,24.96')\n",
    "maxim_med.add_constraint('80.03,67.82,37.00,51.50,17.85,10.91,26.95,65.79,18.51,84.34,3.196,72.33,48.76,8.459,53.13,18.23,9.679,2.543,48.12,52.09,L,11.98')\n",
    "maxim_med.add_constraint('28.10,98.61,1.938,94.54,98.78,18.29,26.88,91.15,9.967,5.279,99.44,79.94,82.80,30.05,85.13,8.410,83.47,15.45,46.43,56.54,L,1.772')\n",
    "#Restricciones 21-25:\n",
    "maxim_med.add_constraint('92.44,92.82,95.87,78.14,93.72,55.82,92.28,64.95,94.39,91.63,20.11,32.16,10.08,23.98,9.257,71.39,48.74,60.76,96.93,56.57,L,50.61')\n",
    "maxim_med.add_constraint('22.14,72.51,48.51,98.13,90.25,85.24,1.804,28.47,45.93,36.05,35.43,7.104,70.67,97.69,74.87,39.72,13.98,58.00,2.024,85.30,L,94.20')\n",
    "maxim_med.add_constraint('72.16,93.13,45.85,76.06,22.53,36.16,81.15,92.51,97.12,67.37,37.37,69.21,72.32,63.23,92.90,61.86,11.42,34.15,49.78,6.688,L,97.49')\n",
    "maxim_med.add_constraint('58.39,34.12,77.96,5.433,83.02,84.14,59.82,22.39,70.75,19.67,24.53,41.00,56.24,89.32,14.63,77.15,34.12,34.28,55.17,31.45,L,34.16')\n",
    "maxim_med.add_constraint('20.15,1.416,74.34,23.20,8.632,71.47,32.10,59.23,91.44,37.58,23.29,39.11,19.54,3.000,2.319,43.50,35.17,66.78,40.41,50.82,L,6.26')\n",
    "#Restricciones 26-30:\n",
    "maxim_med.add_constraint('54.65,70.46,46.30,66.92,27.45,25.48,81.67,96.67,42.57,43.22,43.29,60.58,19.07,27.73,92.63,60.94,84.33,8.800,78.62,17.94,L,70.31')\n",
    "maxim_med.add_constraint('83.10,98.45,22.09,36.01,39.99,6.380,28.27,10.69,57.29,63.19,44.42,51.00,15.57,11.27,63.56,17.54,40.71,47.53,27.81,27.66,L,79.18')\n",
    "maxim_med.add_constraint('22.20,29.98,87.02,25.26,47.23,55.22,83.70,88.56,67.82,6.36,66.62,3.853,47.37,97.22,83.37,89.41,61.79,96.26,91.11,79.89,L,44.51')\n",
    "maxim_med.add_constraint('6.828,84.55,80.55,86.10,54.30,18.86,80.63,54.07,63.94,89.28,64.89,87.44,13.06,31.29,63.10,75.33,21.06,61.33,1.093,91.08,L,53.22')\n",
    "maxim_med.add_constraint('85.33,57.98,42.51,53.95,10.49,32.74,43.28,51.52,89.99,43.97,46.69,44.05,85.91,19.12,23.85,58.82,71.23,8.885,18.81,87.44,L,50.65')\n",
    "#Función objetivo\n",
    "maxim_med.add_objective('52.16,45.51,69.09,84.88,38.73,84.47,97.50,61.32,16.27,36.42,77.24,36.91,62.85,50.77,81.22,66.94,31.10,45.05,37.68,40.76,0')\n",
    "#Solve\n",
    "maxim_med.solve()\n",
    "max_approx_2_med = maxim_med.get_max()\n",
    "coeff_approx_2_med = maxim_med.get_coeff()\n",
    "end_time = time.time()\n",
    "secs_2_med = end_time-start_time\n",
    "print(\"Todo el proceso tomó\",secs_2_med,\"segundos\" )"
   ]
  },
  {
   "cell_type": "markdown",
   "metadata": {},
   "source": [
    "#### Comprobación"
   ]
  },
  {
   "cell_type": "code",
   "execution_count": 50,
   "metadata": {},
   "outputs": [
    {
     "name": "stdout",
     "output_type": "stream",
     "text": [
      "El valor objetivo obtenido con scipy es:  7.644647466669042\n",
      "El valor aproximado obtenido con mex es:  7.644647288586908\n",
      "Los coeficientes objetivos obtenidos con scipy son:  [1.55767398e-10 2.13986131e-11 6.52653843e-11 2.03972271e-11\n",
      " 2.20073205e-11 2.25421843e-11 2.95498944e-11 8.33451409e-11\n",
      " 2.67709780e-11 2.57420289e-11 3.53108097e-11 2.45435519e-11\n",
      " 3.71518342e-11 2.84650310e-10 1.08315701e-02 1.01059266e-01\n",
      " 9.41232462e-12 3.40871440e-11 3.18768339e-10 2.14072463e-11]\n",
      "Los coeficientes aproximados obtenidos con mex son:  [0.         0.         0.         0.         0.         0.\n",
      " 0.         0.         0.         0.         0.         0.\n",
      " 0.         0.         0.01083157 0.10105926 0.         0.\n",
      " 0.         0.        ]\n"
     ]
    }
   ],
   "source": [
    "assert max_obj_med == approx(max_approx_2_med), \"El valor aproximado es incorrecto\"\n",
    "assert np.round(coeff_obj_med,3) == approx(coeff_approx_2_med, abs=1e-3), \"El valor de los coeficientes aproximados es incorrecto\"\n",
    "\n",
    "print(\"El valor objetivo obtenido con scipy es: \", max_obj_med)\n",
    "print(\"El valor aproximado obtenido con mex es: \", max_approx_2_med)\n",
    "print(\"Los coeficientes objetivos obtenidos con scipy son: \", coeff_obj_med)\n",
    "print(\"Los coeficientes aproximados obtenidos con mex son: \", coeff_approx_2_med)"
   ]
  },
  {
   "cell_type": "markdown",
   "metadata": {},
   "source": [
    "#### Tiempos"
   ]
  },
  {
   "cell_type": "code",
   "execution_count": 51,
   "metadata": {},
   "outputs": [
    {
     "name": "stdout",
     "output_type": "stream",
     "text": [
      "La iteración 2 a pequeña escala tardó 0.00045609474182128906 segundos\n",
      "La iteración 2 a mediana escala tardó 0.008903264999389648 segundos\n"
     ]
    }
   ],
   "source": [
    "print(\"La iteración 2 a pequeña escala tardó\", secs_2_small,\"segundos\")\n",
    "print(\"La iteración 2 a mediana escala tardó\", secs_2_med,\"segundos\")"
   ]
  },
  {
   "cell_type": "code",
   "execution_count": 52,
   "metadata": {},
   "outputs": [
    {
     "name": "stdout",
     "output_type": "stream",
     "text": [
      "De la iteración 1 a la iteración 2 en pequeña escala se redujeron 2.3126602172851562e-05 segundos\n",
      "De la iteración 1 a la iteración 2 en mediana escala se redujeron 0.00011849403381347656 segundos\n"
     ]
    }
   ],
   "source": [
    "print(\"De la iteración 1 a la iteración 2 en pequeña escala se redujeron\", secs_1_small-secs_2_small,\"segundos\")\n",
    "print(\"De la iteración 1 a la iteración 2 en mediana escala se redujeron\", secs_1_med-secs_2_med,\"segundos\")"
   ]
  },
  {
   "cell_type": "code",
   "execution_count": 54,
   "metadata": {},
   "outputs": [
    {
     "name": "stdout",
     "output_type": "stream",
     "text": [
      "De la iteración 0 a la iteración 2 en pequeña escala se redujeron 0.00011086463928222656 segundos\n",
      "De la iteración 0 a la iteración 2 en mediana escala se redujeron 0.016013145446777344 segundos\n"
     ]
    }
   ],
   "source": [
    "print(\"De la iteración 0 a la iteración 2 en pequeña escala se redujeron\", secs_0_small-secs_2_small,\"segundos\")\n",
    "print(\"De la iteración 0 a la iteración 2 en mediana escala se redujeron\", secs_0_med-secs_2_med,\"segundos\")"
   ]
  },
  {
   "cell_type": "markdown",
   "metadata": {},
   "source": [
    "## Anotaciones para analizar bloques de código"
   ]
  },
  {
   "cell_type": "code",
   "execution_count": 53,
   "metadata": {},
   "outputs": [],
   "source": [
    "%%bash\n",
    "$HOME/.local/bin/cython --force -3 --annotate reimplementacion_2/simplex_networks_2.pyx\n",
    "$HOME/.local/bin/cython --force -3 --annotate reimplementacion_2/problem_definition_2.pyx\n",
    "$HOME/.local/bin/cython --force -3 --annotate reimplementacion_2/general_2.pyx\n",
    "$HOME/.local/bin/cython --force -3 --annotate reimplementacion_2/maximizer_class_2.pyx\n",
    "$HOME/.local/bin/cython --force -3 --annotate reimplementacion_2/minimizer_class_2.pyx"
   ]
  },
  {
   "cell_type": "markdown",
   "metadata": {},
   "source": [
    "Para una mejor lectura de este notebook decidimos dejar las siguientes líneas de código comentadas. Pero puedes abrir directamente los archivos `.html` creados en la carpeta `reimplementacion_2` o descomentar las líneas y correrlas."
   ]
  },
  {
   "cell_type": "code",
   "execution_count": 90,
   "metadata": {},
   "outputs": [],
   "source": [
    "#display(HTML(\"reimplementacion_2/simplex_networks_2.html\"))"
   ]
  },
  {
   "cell_type": "code",
   "execution_count": 91,
   "metadata": {},
   "outputs": [],
   "source": [
    "#display(HTML(\"reimplementacion_2/problem_definition_2.html\"))"
   ]
  },
  {
   "cell_type": "code",
   "execution_count": 92,
   "metadata": {},
   "outputs": [],
   "source": [
    "#display(HTML(\"reimplementacion_2/general_2.html\"))"
   ]
  },
  {
   "cell_type": "code",
   "execution_count": 93,
   "metadata": {},
   "outputs": [],
   "source": [
    "#display(HTML(\"reimplementacion_2/maximizer_class_2.html\"))"
   ]
  },
  {
   "cell_type": "code",
   "execution_count": 94,
   "metadata": {},
   "outputs": [],
   "source": [
    "#display(HTML(\"reimplementacion_2/minimizer_class_2.html\"))"
   ]
  }
 ],
 "metadata": {
  "kernelspec": {
   "display_name": "Python 3",
   "language": "python",
   "name": "python3"
  },
  "language_info": {
   "codemirror_mode": {
    "name": "ipython",
    "version": 3
   },
   "file_extension": ".py",
   "mimetype": "text/x-python",
   "name": "python",
   "nbconvert_exporter": "python",
   "pygments_lexer": "ipython3",
   "version": "3.7.3"
  }
 },
 "nbformat": 4,
 "nbformat_minor": 4
}
